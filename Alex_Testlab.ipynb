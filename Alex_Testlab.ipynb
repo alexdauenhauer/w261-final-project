{
 "cells": [
  {
   "cell_type": "markdown",
   "metadata": {},
   "source": [
    "# setup"
   ]
  },
  {
   "cell_type": "code",
   "execution_count": 1,
   "metadata": {},
   "outputs": [],
   "source": [
    "import re\n",
    "import ast\n",
    "import time\n",
    "import numpy as np\n",
    "import pandas as pd\n",
    "import matplotlib.pyplot as plt\n",
    "import pyspark.sql.functions as F\n",
    "from pyspark.sql import types, Row, Column\n",
    "from pyspark.ml.feature import OneHotEncoderEstimator, StringIndexer"
   ]
  },
  {
   "cell_type": "code",
   "execution_count": 2,
   "metadata": {},
   "outputs": [],
   "source": [
    "# start Spark Session\n",
    "from pyspark.sql import SparkSession\n",
    "app_name = \"finalProject\"\n",
    "master = \"local[*]\"\n",
    "spark = SparkSession\\\n",
    "        .builder\\\n",
    "        .appName(app_name)\\\n",
    "        .master(master)\\\n",
    "        .getOrCreate()\n",
    "sc = spark.sparkContext"
   ]
  },
  {
   "cell_type": "markdown",
   "metadata": {},
   "source": [
    "# check file size"
   ]
  },
  {
   "cell_type": "code",
   "execution_count": 3,
   "metadata": {},
   "outputs": [
    {
     "name": "stdout",
     "output_type": "stream",
     "text": [
      "45840617 data/train.txt\n"
     ]
    }
   ],
   "source": [
    "!wc -l data/train.txt"
   ]
  },
  {
   "cell_type": "code",
   "execution_count": 4,
   "metadata": {},
   "outputs": [
    {
     "name": "stdout",
     "output_type": "stream",
     "text": [
      "6042135 data/test.txt\n"
     ]
    }
   ],
   "source": [
    "!wc -l data/test.txt"
   ]
  },
  {
   "cell_type": "markdown",
   "metadata": {},
   "source": [
    "# experimenting and some EDA with DFs"
   ]
  },
  {
   "cell_type": "code",
   "execution_count": 5,
   "metadata": {},
   "outputs": [],
   "source": [
    "train = spark.read.option('header', 'false').csv('data/train.txt', sep='\\t')"
   ]
  },
  {
   "cell_type": "code",
   "execution_count": 6,
   "metadata": {},
   "outputs": [],
   "source": [
    "train.write.format('parquet').save('data/train.parquet')\n",
    "train_parquet = spark.read.parquet('data/train.parquet')"
   ]
  },
  {
   "cell_type": "code",
   "execution_count": 9,
   "metadata": {},
   "outputs": [
    {
     "name": "stdout",
     "output_type": "stream",
     "text": [
      "10885924\tdata/train.txt\n",
      "2895045\tdata/train.parquet\n"
     ]
    }
   ],
   "source": [
    "!du data/train.txt\n",
    "!du data/train.parquet"
   ]
  },
  {
   "cell_type": "code",
   "execution_count": 7,
   "metadata": {},
   "outputs": [
    {
     "name": "stdout",
     "output_type": "stream",
     "text": [
      "CPU times: user 20 ms, sys: 60 ms, total: 80 ms\n",
      "Wall time: 2min 47s\n"
     ]
    },
    {
     "data": {
      "text/plain": [
       "45840617"
      ]
     },
     "execution_count": 7,
     "metadata": {},
     "output_type": "execute_result"
    }
   ],
   "source": [
    "%%time\n",
    "train.count()"
   ]
  },
  {
   "cell_type": "code",
   "execution_count": 8,
   "metadata": {},
   "outputs": [
    {
     "name": "stdout",
     "output_type": "stream",
     "text": [
      "CPU times: user 0 ns, sys: 10 ms, total: 10 ms\n",
      "Wall time: 2.85 s\n"
     ]
    },
    {
     "data": {
      "text/plain": [
       "45840617"
      ]
     },
     "execution_count": 8,
     "metadata": {},
     "output_type": "execute_result"
    }
   ],
   "source": [
    "%%time\n",
    "train_parquet.count()"
   ]
  },
  {
   "cell_type": "code",
   "execution_count": 15,
   "metadata": {},
   "outputs": [],
   "source": [
    "test = spark.read.option('header','false').csv('data/test.txt', sep='\\t')\n",
    "test.write.format('parquet').save('data/test.parquet')\n",
    "del test\n",
    "# test_parquet = spark.read.parquet('data/test.parquet')"
   ]
  },
  {
   "cell_type": "code",
   "execution_count": 12,
   "metadata": {},
   "outputs": [
    {
     "name": "stdout",
     "output_type": "stream",
     "text": [
      "CPU times: user 0 ns, sys: 0 ns, total: 0 ns\n",
      "Wall time: 327 ms\n"
     ]
    },
    {
     "data": {
      "text/plain": [
       "6042135"
      ]
     },
     "execution_count": 12,
     "metadata": {},
     "output_type": "execute_result"
    }
   ],
   "source": [
    "# %%time\n",
    "# test_parquet.count()"
   ]
  },
  {
   "cell_type": "code",
   "execution_count": 3,
   "metadata": {},
   "outputs": [],
   "source": [
    "train = spark.read.parquet('data/train.parquet')\n",
    "# s = train.sample(False, 0.001)"
   ]
  },
  {
   "cell_type": "code",
   "execution_count": 11,
   "metadata": {},
   "outputs": [],
   "source": [
    "# test = spark.read.parquet('data/test.parquet')"
   ]
  },
  {
   "cell_type": "code",
   "execution_count": 4,
   "metadata": {},
   "outputs": [],
   "source": [
    "# df = spark.read.option('header', 'false').csv('data/toy_train.txt', sep='\\t')\n",
    "# df.head()"
   ]
  },
  {
   "cell_type": "code",
   "execution_count": 5,
   "metadata": {},
   "outputs": [],
   "source": [
    "# %%time\n",
    "# df.count()"
   ]
  },
  {
   "cell_type": "code",
   "execution_count": 6,
   "metadata": {},
   "outputs": [],
   "source": [
    "# df.select(df.columns[2]).show(5)"
   ]
  },
  {
   "cell_type": "code",
   "execution_count": 7,
   "metadata": {},
   "outputs": [],
   "source": [
    "# # df.write.format('parquet').save('data/toy_train.parquet')\n",
    "# df = spark.read.parquet('data/toy_train.parquet')\n",
    "# df.printSchema()"
   ]
  },
  {
   "cell_type": "code",
   "execution_count": 9,
   "metadata": {},
   "outputs": [],
   "source": [
    "# for c in df.columns:\n",
    "#     df = df.withColumnRenamed(c, c.strip('_'))\n",
    "# df.columns[:5]"
   ]
  },
  {
   "cell_type": "code",
   "execution_count": 8,
   "metadata": {},
   "outputs": [],
   "source": [
    "# for c in df.columns[:14]:\n",
    "#     df = df.withColumn(c, df[c].cast('float'))\n",
    "# df.printSchema()"
   ]
  },
  {
   "cell_type": "code",
   "execution_count": 6,
   "metadata": {},
   "outputs": [
    {
     "data": {
      "text/plain": [
       "['c0', 'c1', 'c2', 'c3', 'c4']"
      ]
     },
     "execution_count": 6,
     "metadata": {},
     "output_type": "execute_result"
    }
   ],
   "source": [
    "# full training set\n",
    "for c in train.columns:\n",
    "    train = train.withColumnRenamed(c, c.strip('_'))\n",
    "train.columns[:5]"
   ]
  },
  {
   "cell_type": "code",
   "execution_count": 7,
   "metadata": {},
   "outputs": [
    {
     "name": "stdout",
     "output_type": "stream",
     "text": [
      "root\n",
      " |-- c0: float (nullable = true)\n",
      " |-- c1: float (nullable = true)\n",
      " |-- c2: float (nullable = true)\n",
      " |-- c3: float (nullable = true)\n",
      " |-- c4: float (nullable = true)\n",
      " |-- c5: float (nullable = true)\n",
      " |-- c6: float (nullable = true)\n",
      " |-- c7: float (nullable = true)\n",
      " |-- c8: float (nullable = true)\n",
      " |-- c9: float (nullable = true)\n",
      " |-- c10: float (nullable = true)\n",
      " |-- c11: float (nullable = true)\n",
      " |-- c12: float (nullable = true)\n",
      " |-- c13: float (nullable = true)\n",
      " |-- c14: string (nullable = true)\n",
      " |-- c15: string (nullable = true)\n",
      " |-- c16: string (nullable = true)\n",
      " |-- c17: string (nullable = true)\n",
      " |-- c18: string (nullable = true)\n",
      " |-- c19: string (nullable = true)\n",
      " |-- c20: string (nullable = true)\n",
      " |-- c21: string (nullable = true)\n",
      " |-- c22: string (nullable = true)\n",
      " |-- c23: string (nullable = true)\n",
      " |-- c24: string (nullable = true)\n",
      " |-- c25: string (nullable = true)\n",
      " |-- c26: string (nullable = true)\n",
      " |-- c27: string (nullable = true)\n",
      " |-- c28: string (nullable = true)\n",
      " |-- c29: string (nullable = true)\n",
      " |-- c30: string (nullable = true)\n",
      " |-- c31: string (nullable = true)\n",
      " |-- c32: string (nullable = true)\n",
      " |-- c33: string (nullable = true)\n",
      " |-- c34: string (nullable = true)\n",
      " |-- c35: string (nullable = true)\n",
      " |-- c36: string (nullable = true)\n",
      " |-- c37: string (nullable = true)\n",
      " |-- c38: string (nullable = true)\n",
      " |-- c39: string (nullable = true)\n",
      "\n"
     ]
    }
   ],
   "source": [
    "# full training set\n",
    "for c in train.columns[:14]:\n",
    "    train = train.withColumn(c, train[c].cast('float'))\n",
    "train.printSchema()"
   ]
  },
  {
   "cell_type": "markdown",
   "metadata": {},
   "source": [
    "# Train/Test split"
   ]
  },
  {
   "cell_type": "code",
   "execution_count": null,
   "metadata": {},
   "outputs": [],
   "source": []
  },
  {
   "cell_type": "code",
   "execution_count": 98,
   "metadata": {},
   "outputs": [
    {
     "name": "stdout",
     "output_type": "stream",
     "text": [
      "CPU times: user 70 ms, sys: 30 ms, total: 100 ms\n",
      "Wall time: 1min 59s\n"
     ]
    }
   ],
   "source": [
    "%%time\n",
    "# full training set\n",
    "stats = train[train.columns[1:14]].describe()\n",
    "means = np.array(stats[stats['summary'] == 'mean'].collect())[0][1:]\n",
    "stdevs = np.array(stats[stats['summary'] == 'stddev'].collect())[0][1:]"
   ]
  },
  {
   "cell_type": "code",
   "execution_count": 1,
   "metadata": {},
   "outputs": [
    {
     "ename": "NameError",
     "evalue": "name 's' is not defined",
     "output_type": "error",
     "traceback": [
      "\u001b[0;31m\u001b[0m",
      "\u001b[0;31mNameError\u001b[0mTraceback (most recent call last)",
      "\u001b[0;32m<timed exec>\u001b[0m in \u001b[0;36m<module>\u001b[0;34m()\u001b[0m\n",
      "\u001b[0;31mNameError\u001b[0m: name 's' is not defined"
     ]
    }
   ],
   "source": [
    "%%time\n",
    "# sample\n",
    "stats = s[s.columns[1:14]].describe()\n",
    "means = np.array(stats[stats['summary'] == 'mean'].collect())[0][1:]\n",
    "stdevs = np.array(stats[stats['summary'] == 'stddev'].collect())[0][1:]"
   ]
  },
  {
   "cell_type": "code",
   "execution_count": null,
   "metadata": {},
   "outputs": [],
   "source": []
  },
  {
   "cell_type": "code",
   "execution_count": 99,
   "metadata": {},
   "outputs": [
    {
     "name": "stdout",
     "output_type": "stream",
     "text": [
      "-RECORD 0---------------------\n",
      " summary | count              \n",
      " c1      | 25047061           \n",
      " c2      | 45840617           \n",
      " c3      | 36001170           \n",
      " c4      | 35903248           \n",
      " c5      | 44657500           \n",
      " c6      | 35588289           \n",
      " c7      | 43857751           \n",
      " c8      | 45817844           \n",
      " c9      | 43857751           \n",
      " c10     | 25047061           \n",
      " c11     | 43857751           \n",
      " c12     | 10768965           \n",
      " c13     | 35903248           \n",
      "-RECORD 1---------------------\n",
      " summary | mean               \n",
      " c1      | 3.5024133170754044 \n",
      " c2      | 105.84841979766546 \n",
      " c3      | 26.913041020611274 \n",
      " c4      | 7.322680248873305  \n",
      " c5      | 18538.991664871523 \n",
      " c6      | 116.06185085211598 \n",
      " c7      | 16.333130032135028 \n",
      " c8      | 12.517042137556713 \n",
      " c9      | 106.1098234380509  \n",
      " c10     | 0.6175294977722137 \n",
      " c11     | 2.7328343170173044 \n",
      " c12     | 0.9910356287721244 \n",
      " c13     | 8.217461161174054  \n",
      "-RECORD 2---------------------\n",
      " summary | stddev             \n",
      " c1      | 9.429076407105091  \n",
      " c2      | 391.4578226870699  \n",
      " c3      | 397.9725830227334  \n",
      " c4      | 8.79323071264576   \n",
      " c5      | 69394.60184622322  \n",
      " c6      | 382.5664493712398  \n",
      " c7      | 66.04975524511696  \n",
      " c8      | 16.688884567787493 \n",
      " c9      | 220.28309398648054 \n",
      " c10     | 0.6840505553977008 \n",
      " c11     | 5.199070884811365  \n",
      " c12     | 5.597723872237185  \n",
      " c13     | 16.211932558173654 \n",
      "-RECORD 3---------------------\n",
      " summary | min                \n",
      " c1      | 0.0                \n",
      " c2      | -3.0               \n",
      " c3      | 0.0                \n",
      " c4      | 0.0                \n",
      " c5      | 0.0                \n",
      " c6      | 0.0                \n",
      " c7      | 0.0                \n",
      " c8      | 0.0                \n",
      " c9      | 0.0                \n",
      " c10     | 0.0                \n",
      " c11     | 0.0                \n",
      " c12     | 0.0                \n",
      " c13     | 0.0                \n",
      "-RECORD 4---------------------\n",
      " summary | max                \n",
      " c1      | 5775.0             \n",
      " c2      | 257675.0           \n",
      " c3      | 65535.0            \n",
      " c4      | 969.0              \n",
      " c5      | 2.3159456E7        \n",
      " c6      | 431037.0           \n",
      " c7      | 56311.0            \n",
      " c8      | 6047.0             \n",
      " c9      | 29019.0            \n",
      " c10     | 11.0               \n",
      " c11     | 231.0              \n",
      " c12     | 4008.0             \n",
      " c13     | 7393.0             \n",
      "\n"
     ]
    }
   ],
   "source": [
    "stats.show(vertical=True)"
   ]
  },
  {
   "cell_type": "code",
   "execution_count": 6,
   "metadata": {},
   "outputs": [],
   "source": [
    "stats2 = train[train.columns[1:]].summary('count')"
   ]
  },
  {
   "cell_type": "code",
   "execution_count": 7,
   "metadata": {},
   "outputs": [
    {
     "name": "stdout",
     "output_type": "stream",
     "text": [
      "-RECORD 0-----------\n",
      " summary | count    \n",
      " c1      | 25047061 \n",
      " c2      | 45840617 \n",
      " c3      | 36001170 \n",
      " c4      | 35903248 \n",
      " c5      | 44657500 \n",
      " c6      | 35588289 \n",
      " c7      | 43857751 \n",
      " c8      | 45817844 \n",
      " c9      | 43857751 \n",
      " c10     | 25047061 \n",
      " c11     | 43857751 \n",
      " c12     | 10768965 \n",
      " c13     | 35903248 \n",
      " c14     | 45840617 \n",
      " c15     | 45840617 \n",
      " c16     | 44281144 \n",
      " c17     | 44281144 \n",
      " c18     | 45840617 \n",
      " c19     | 40299992 \n",
      " c20     | 45840617 \n",
      " c21     | 45840617 \n",
      " c22     | 45840617 \n",
      " c23     | 45840617 \n",
      " c24     | 45840617 \n",
      " c25     | 44281144 \n",
      " c26     | 45840617 \n",
      " c27     | 45840617 \n",
      " c28     | 45840617 \n",
      " c29     | 44281144 \n",
      " c30     | 45840617 \n",
      " c31     | 45840617 \n",
      " c32     | 25667759 \n",
      " c33     | 25667759 \n",
      " c34     | 44281144 \n",
      " c35     | 10885544 \n",
      " c36     | 45840617 \n",
      " c37     | 44281144 \n",
      " c38     | 25667759 \n",
      " c39     | 25667759 \n",
      "\n"
     ]
    }
   ],
   "source": [
    "stats2.show(vertical=True)"
   ]
  },
  {
   "cell_type": "code",
   "execution_count": 9,
   "metadata": {},
   "outputs": [
    {
     "data": {
      "text/plain": [
       "45840617"
      ]
     },
     "execution_count": 9,
     "metadata": {},
     "output_type": "execute_result"
    }
   ],
   "source": [
    "N = train.count()\n",
    "N"
   ]
  },
  {
   "cell_type": "code",
   "execution_count": 10,
   "metadata": {},
   "outputs": [
    {
     "data": {
      "text/plain": [
       "{'c1': 20793556,\n",
       " 'c2': 0,\n",
       " 'c3': 9839447,\n",
       " 'c4': 9937369,\n",
       " 'c5': 1183117,\n",
       " 'c6': 10252328,\n",
       " 'c7': 1982866,\n",
       " 'c8': 22773,\n",
       " 'c9': 1982866,\n",
       " 'c10': 20793556,\n",
       " 'c11': 1982866,\n",
       " 'c12': 35071652,\n",
       " 'c13': 9937369,\n",
       " 'c14': 0,\n",
       " 'c15': 0,\n",
       " 'c16': 1559473,\n",
       " 'c17': 1559473,\n",
       " 'c18': 0,\n",
       " 'c19': 5540625,\n",
       " 'c20': 0,\n",
       " 'c21': 0,\n",
       " 'c22': 0,\n",
       " 'c23': 0,\n",
       " 'c24': 0,\n",
       " 'c25': 1559473,\n",
       " 'c26': 0,\n",
       " 'c27': 0,\n",
       " 'c28': 0,\n",
       " 'c29': 1559473,\n",
       " 'c30': 0,\n",
       " 'c31': 0,\n",
       " 'c32': 20172858,\n",
       " 'c33': 20172858,\n",
       " 'c34': 1559473,\n",
       " 'c35': 34955073,\n",
       " 'c36': 0,\n",
       " 'c37': 1559473,\n",
       " 'c38': 20172858,\n",
       " 'c39': 20172858}"
      ]
     },
     "execution_count": 10,
     "metadata": {},
     "output_type": "execute_result"
    }
   ],
   "source": [
    "nans = {}\n",
    "for c in stats2.columns[1:]:\n",
    "    nans[c] = N - int(stats2.select(c).collect()[0][0])\n",
    "nans"
   ]
  },
  {
   "cell_type": "code",
   "execution_count": null,
   "metadata": {},
   "outputs": [],
   "source": []
  },
  {
   "cell_type": "code",
   "execution_count": null,
   "metadata": {},
   "outputs": [],
   "source": []
  },
  {
   "cell_type": "code",
   "execution_count": null,
   "metadata": {},
   "outputs": [],
   "source": []
  },
  {
   "cell_type": "code",
   "execution_count": null,
   "metadata": {},
   "outputs": [],
   "source": []
  },
  {
   "cell_type": "code",
   "execution_count": null,
   "metadata": {},
   "outputs": [],
   "source": []
  },
  {
   "cell_type": "code",
   "execution_count": null,
   "metadata": {},
   "outputs": [],
   "source": []
  },
  {
   "cell_type": "markdown",
   "metadata": {},
   "source": [
    "# Pre-processing"
   ]
  },
  {
   "cell_type": "code",
   "execution_count": 11,
   "metadata": {},
   "outputs": [
    {
     "name": "stdout",
     "output_type": "stream",
     "text": [
      "{'c14': 1460, 'c15': 583, 'c16': 10131226, 'c17': 2202607, 'c18': 305, 'c19': 23, 'c20': 12517, 'c21': 633, 'c22': 3, 'c23': 93145, 'c24': 5683, 'c25': 8351592, 'c26': 3194, 'c27': 27, 'c28': 14992, 'c29': 5461305, 'c30': 10, 'c31': 5652, 'c32': 2172, 'c33': 3, 'c34': 7046546, 'c35': 17, 'c36': 15, 'c37': 286180, 'c38': 104, 'c39': 142571}\n",
      "CPU times: user 270 ms, sys: 180 ms, total: 450 ms\n",
      "Wall time: 3min 52s\n"
     ]
    }
   ],
   "source": [
    "%%time\n",
    "# get unique counts of categorical variables\n",
    "uniqueCounts = {}\n",
    "for c in train.columns[14:]:\n",
    "    count = train.agg(F.countDistinct(c).alias('c')).collect()[0]['c']\n",
    "    uniqueCounts[c] = count"
   ]
  },
  {
   "cell_type": "code",
   "execution_count": 13,
   "metadata": {},
   "outputs": [
    {
     "data": {
      "text/plain": [
       "{'c14': 1460,\n",
       " 'c15': 583,\n",
       " 'c16': 10131226,\n",
       " 'c17': 2202607,\n",
       " 'c18': 305,\n",
       " 'c19': 23,\n",
       " 'c20': 12517,\n",
       " 'c21': 633,\n",
       " 'c22': 3,\n",
       " 'c23': 93145,\n",
       " 'c24': 5683,\n",
       " 'c25': 8351592,\n",
       " 'c26': 3194,\n",
       " 'c27': 27,\n",
       " 'c28': 14992,\n",
       " 'c29': 5461305,\n",
       " 'c30': 10,\n",
       " 'c31': 5652,\n",
       " 'c32': 2172,\n",
       " 'c33': 3,\n",
       " 'c34': 7046546,\n",
       " 'c35': 17,\n",
       " 'c36': 15,\n",
       " 'c37': 286180,\n",
       " 'c38': 104,\n",
       " 'c39': 142571}"
      ]
     },
     "execution_count": 13,
     "metadata": {},
     "output_type": "execute_result"
    }
   ],
   "source": [
    "uniqueCounts"
   ]
  },
  {
   "cell_type": "code",
   "execution_count": 8,
   "metadata": {},
   "outputs": [
    {
     "data": {
      "text/plain": [
       "45877"
      ]
     },
     "execution_count": 8,
     "metadata": {},
     "output_type": "execute_result"
    }
   ],
   "source": [
    "# grab a small-ish sample\n",
    "# s = train.select('c0','c2','c3','c22','c33').sample(False, 0.001)\n",
    "s = train.sample(False, 0.001)\n",
    "s.count()"
   ]
  },
  {
   "cell_type": "code",
   "execution_count": 9,
   "metadata": {},
   "outputs": [
    {
     "data": {
      "text/plain": [
       "[Row(c0=1.0, c1=3.0, c2=108.0, c3=12.0, c4=8.0, c5=18.0, c6=12.0, c7=3.0, c8=9.0, c9=8.0, c10=1.0, c11=1.0, c12=2.0, c13=8.0, c14='68fd1e64', c15='38a947a1', c16='0d595c43', c17='3952a0a2', c18='43b19349', c19='fe6b92e5', c20='b67de336', c21='0b153874', c22='a73ee510', c23='3b08e48b', c24='873e6871', c25='be326377', c26='4cc724bd', c27='b28479f6', c28='a897defd', c29='fadb1467', c30='27c07bd6', c31='fe182c3d', c32=None, c33=None, c34='c009e522', c35=None, c36='32c7478e', c37='cc159b1c', c38=None, c39=None),\n",
       " Row(c0=0.0, c1=None, c2=0.0, c3=1.0, c4=1.0, c5=10153.0, c6=66.0, c7=2.0, c8=2.0, c9=47.0, c10=None, c11=2.0, c12=None, c13=1.0, c14='8cf07265', c15='78ccd99e', c16='f715d8cc', c17='7c15fa92', c18='4cf72387', c19='7e0ccccf', c20='6af7dea8', c21='5b392875', c22='a73ee510', c23='7953ffe6', c24='1acca553', c25='b9bee1c2', c26='3691e3e3', c27='07d13a8f', c28='162f3329', c29='498519e1', c30='07c540c4', c31='e7e991cb', c32='04de9d96', c33='5840adea', c34='71b9f31a', c35=None, c36='423fab69', c37='cf9f8644', c38='2bf691b1', c39='00cd7c8a'),\n",
       " Row(c0=0.0, c1=0.0, c2=0.0, c3=9.0, c4=11.0, c5=34.0, c6=271.0, c7=2.0, c8=15.0, c9=29.0, c10=0.0, c11=2.0, c12=None, c13=11.0, c14='05db9164', c15='80e26c9b', c16='20c77f34', c17='7607ebdc', c18='4cf72387', c19='7e0ccccf', c20='f1ff45d6', c21='0b153874', c22='a73ee510', c23='9a1250bd', c24='a33816cf', c25='8951d255', c26='9bbdb8bd', c27='cfef1c29', c28='e857f574', c29='3ba4d8ba', c30='07c540c4', c31='f54016b9', c32='21ddcdc9', c33='a458ea53', c34='74258669', c35=None, c36='3a171ecb', c37='1793a828', c38='e8b83407', c39='da9fe092'),\n",
       " Row(c0=0.0, c1=None, c2=39.0, c3=23.0, c4=12.0, c5=5840.0, c6=169.0, c7=35.0, c8=21.0, c9=103.0, c10=None, c11=2.0, c12=0.0, c13=14.0, c14='05db9164', c15='dd8c896e', c16='3e00361d', c17='13508380', c18='25c83c98', c19='7e0ccccf', c20='274b6720', c21='0b153874', c22='a73ee510', c23='34ae4e8c', c24='2872a4bd', c25='b3ed9d3a', c26='f8320f48', c27='07d13a8f', c28='95275a51', c29='3432e1a1', c30='e5ba7672', c31='3182300e', c32='55dd3565', c33='b1252a9d', c34='ba0319c1', c35=None, c36='c7dc6720', c37='45ab94c8', c38='010f6491', c39='c84c4aec'),\n",
       " Row(c0=0.0, c1=5.0, c2=36.0, c3=None, c4=None, c5=519.0, c6=1.0, c7=8.0, c8=4.0, c9=92.0, c10=2.0, c11=3.0, c12=3.0, c13=None, c14='87552397', c15='287130e0', c16='c26181e1', c17='b3e2674e', c18='25c83c98', c19='fbad5c96', c20='627cb56d', c21='1f89b562', c22='a73ee510', c23='24ff6dd9', c24='f6e05074', c25='4e88cade', c26='f59826bf', c27='1adce6ef', c28='d959e25d', c29='a3c82e83', c30='27c07bd6', c31='53515e19', c32='790d09cc', c33='b1252a9d', c34='76265656', c35=None, c36='423fab69', c37='a994f5a2', c38='ea9a246c', c39='5036f81d')]"
      ]
     },
     "execution_count": 9,
     "metadata": {},
     "output_type": "execute_result"
    }
   ],
   "source": [
    "s.head(5)"
   ]
  },
  {
   "cell_type": "code",
   "execution_count": 10,
   "metadata": {},
   "outputs": [
    {
     "name": "stdout",
     "output_type": "stream",
     "text": [
      "CPU times: user 30 ms, sys: 50 ms, total: 80 ms\n",
      "Wall time: 27.8 s\n"
     ]
    }
   ],
   "source": [
    "%%time\n",
    "# grab some stats for standardizing the numerical columns\n",
    "stats4 = s[s.columns[1:14]].describe()\n",
    "means = np.array(stats4[stats4['summary'] == 'mean'].collect())[0][1:]\n",
    "stdevs = np.array(stats4[stats4['summary'] == 'stddev'].collect())[0][1:]"
   ]
  },
  {
   "cell_type": "code",
   "execution_count": 11,
   "metadata": {},
   "outputs": [],
   "source": [
    "# standardize the numerical columns\n",
    "for i,c in enumerate(s.columns[1:14]):\n",
    "    s = s.withColumn(c, (s[c] - means[i]) / stdevs[i])"
   ]
  },
  {
   "cell_type": "code",
   "execution_count": 19,
   "metadata": {},
   "outputs": [
    {
     "name": "stdout",
     "output_type": "stream",
     "text": [
      "-RECORD 0-------------------\n",
      " c1  | -0.06104319928899... \n",
      " c2  | 0.009567439505994422 \n",
      " c3  | -0.04067442450909083 \n",
      " c4  | 0.08572355279011215  \n",
      " c5  | -0.26554282181769306 \n",
      " c6  | -0.22548584412649042 \n",
      " c7  | -0.21048066958486944 \n",
      " c8  | -0.22799719207658325 \n",
      " c9  | -0.45478881667449267 \n",
      " c10 | 0.5628429015639078   \n",
      " c11 | -0.3276097260071061  \n",
      " c12 | 0.15213296349014394  \n",
      " c13 | -0.01001306443818... \n",
      "-RECORD 1-------------------\n",
      " c1  | null                 \n",
      " c2  | -0.27572008471363835 \n",
      " c3  | -0.07370318523326326 \n",
      " c4  | -0.7267175939998046  \n",
      " c5  | -0.12109496051919905 \n",
      " c6  | -0.11011283442338143 \n",
      " c7  | -0.22594950340596895 \n",
      " c8  | -0.687796615232404   \n",
      " c9  | -0.27145215522454785 \n",
      " c10 | null                 \n",
      " c11 | -0.14069476574725504 \n",
      " c12 | null                 \n",
      " c13 | -0.5318162882239682  \n",
      "-RECORD 2-------------------\n",
      " c1  | -0.40454315773474303 \n",
      " c2  | -0.27572008471363835 \n",
      " c3  | -0.04968226834295604 \n",
      " c4  | 0.4339126157000765   \n",
      " c5  | -0.26531478375348233 \n",
      " c6  | 0.3278772950050879   \n",
      " c7  | -0.22594950340596895 \n",
      " c8  | 0.16611659919983454  \n",
      " c9  | -0.35606907589375314 \n",
      " c10 | -0.9040733634711643  \n",
      " c11 | -0.14069476574725504 \n",
      " c12 | null                 \n",
      " c13 | 0.21361688861286654  \n",
      "-RECORD 3-------------------\n",
      " c1  | null                 \n",
      " c2  | -0.17269958985654874 \n",
      " c3  | -0.00764566378491... \n",
      " c4  | 0.5499756366700645   \n",
      " c5  | -0.1825654712030081  \n",
      " c6  | 0.10995049889921535  \n",
      " c7  | 0.2845220126903153   \n",
      " c8  | 0.5602303904762523   \n",
      " c9  | -0.00819951314257... \n",
      " c10 | null                 \n",
      " c11 | -0.14069476574725504 \n",
      " c12 | -0.18717679641315127 \n",
      " c13 | 0.4372468416639169   \n",
      "-RECORD 4-------------------\n",
      " c1  | 0.16795677300816259  \n",
      " c2  | -0.1806242433070941  \n",
      " c3  | null                 \n",
      " c4  | null                 \n",
      " c5  | -0.25840237993209414 \n",
      " c6  | -0.24898775351045707 \n",
      " c7  | -0.1331365004793718  \n",
      " c8  | -0.5564253514735981  \n",
      " c9  | -0.05990985355153... \n",
      " c10 | 2.02975916659898     \n",
      " c11 | 0.04622019451259598  \n",
      " c12 | 0.3217878434417915   \n",
      " c13 | null                 \n",
      "-RECORD 5-------------------\n",
      " c1  | null                 \n",
      " c2  | -0.25987077781254764 \n",
      " c3  | null                 \n",
      " c4  | -0.8427806149697927  \n",
      " c5  | -0.20029543069539354 \n",
      " c6  | null                 \n",
      " c7  | -0.256887171048168   \n",
      " c8  | -0.42505408771479214 \n",
      " c9  | -0.4641906967488488  \n",
      " c10 | null                 \n",
      " c11 | -0.5145246862669571  \n",
      " c12 | null                 \n",
      " c13 | -0.5318162882239682  \n",
      "-RECORD 6-------------------\n",
      " c1  | null                 \n",
      " c2  | 0.17334361081726507  \n",
      " c3  | null                 \n",
      " c4  | -0.8427806149697927  \n",
      " c5  | -0.265785112260917   \n",
      " c6  | null                 \n",
      " c7  | -0.256887171048168   \n",
      " c8  | -0.8191678789912099  \n",
      " c9  | -0.4923963369719172  \n",
      " c10 | null                 \n",
      " c11 | -0.5145246862669571  \n",
      " c12 | null                 \n",
      " c13 | -0.6063596059076516  \n",
      "-RECORD 7-------------------\n",
      " c1  | null                 \n",
      " c2  | -0.27572008471363835 \n",
      " c3  | -0.07370318523326326 \n",
      " c4  | null                 \n",
      " c5  | -0.22134619449784798 \n",
      " c6  | -0.19984739752579952 \n",
      " c7  | -0.24141833722706849 \n",
      " c8  | -0.8191678789912099  \n",
      " c9  | -0.25264839507583553 \n",
      " c10 | null                 \n",
      " c11 | -0.3276097260071061  \n",
      " c12 | null                 \n",
      " c13 | null                 \n",
      "-RECORD 8-------------------\n",
      " c1  | null                 \n",
      " c2  | -0.2651538801129112  \n",
      " c3  | -0.06469534139939805 \n",
      " c4  | -0.2624655101198522  \n",
      " c5  | -0.24288153918675026 \n",
      " c6  | -0.2297589185599389  \n",
      " c7  | -0.22594950340596895 \n",
      " c8  | -0.4907397195941951  \n",
      " c9  | -0.46889163678602686 \n",
      " c10 | null                 \n",
      " c11 | -0.3276097260071061  \n",
      " c12 | null                 \n",
      " c13 | -0.2336430174892343  \n",
      "-RECORD 9-------------------\n",
      " c1  | -0.29004317158616194 \n",
      " c2  | -0.2730785335634565  \n",
      " c3  | null                 \n",
      " c4  | null                 \n",
      " c5  | -0.26140963190387334 \n",
      " c6  | -0.2511242907271813  \n",
      " c7  | 0.26905317886921576  \n",
      " c8  | 1.1514010773908792   \n",
      " c9  | 1.1717364361891203   \n",
      " c10 | 0.5628429015639078   \n",
      " c11 | 1.915369797111106    \n",
      " c12 | -0.18717679641315127 \n",
      " c13 | null                 \n",
      "-RECORD 10------------------\n",
      " c1  | 0.16795677300816259  \n",
      " c2  | -0.27572008471363835 \n",
      " c3  | 0.049404013829561236 \n",
      " c4  | -0.8427806149697927  \n",
      " c5  | -0.2655855789547326  \n",
      " c6  | -0.2511242907271813  \n",
      " c7  | -0.1795430019426704  \n",
      " c8  | 0.2974878629586405   \n",
      " c9  | -0.4923963369719172  \n",
      " c10 | 0.5628429015639078   \n",
      " c11 | -0.3276097260071061  \n",
      " c12 | null                 \n",
      " c13 | -0.6063596059076516  \n",
      "-RECORD 11------------------\n",
      " c1  | null                 \n",
      " c2  | -0.2783616358638201  \n",
      " c3  | null                 \n",
      " c4  | null                 \n",
      " c5  | -0.21558823337652666 \n",
      " c6  | -0.2340319929933874  \n",
      " c7  | -0.22594950340596895 \n",
      " c8  | -0.8191678789912099  \n",
      " c9  | -0.4453869366001365  \n",
      " c10 | null                 \n",
      " c11 | -0.3276097260071061  \n",
      " c12 | null                 \n",
      " c13 | null                 \n",
      "-RECORD 12------------------\n",
      " c1  | 1.3129566344939738   \n",
      " c2  | 0.9420349955201645   \n",
      " c3  | -0.05268488295424444 \n",
      " c4  | 1.4784798044299696   \n",
      " c5  | -0.2636900125459808  \n",
      " c6  | -0.16993587649166017 \n",
      " c7  | -0.02485466373167516 \n",
      " c8  | 1.0200298136320731   \n",
      " c9  | -0.32316249563350663 \n",
      " c10 | 0.5628429015639078   \n",
      " c11 | -0.3276097260071061  \n",
      " c12 | -0.01752191646150... \n",
      " c13 | 0.8845067477660178   \n",
      "-RECORD 13------------------\n",
      " c1  | null                 \n",
      " c2  | -0.2730785335634565  \n",
      " c3  | -0.07070057062197485 \n",
      " c4  | null                 \n",
      " c5  | -0.20206272569302683 \n",
      " c6  | -0.2340319929933874  \n",
      " c7  | -0.24141833722706849 \n",
      " c8  | -0.8191678789912099  \n",
      " c9  | -0.47359257682320494 \n",
      " c10 | null                 \n",
      " c11 | -0.3276097260071061  \n",
      " c12 | null                 \n",
      " c13 | null                 \n",
      "-RECORD 14------------------\n",
      " c1  | null                 \n",
      " c2  | 8.438757159736069    \n",
      " c3  | -0.06169272678810965 \n",
      " c4  | -0.4945915520598284  \n",
      " c5  | -0.05510644568821... \n",
      " c6  | null                 \n",
      " c7  | -0.256887171048168   \n",
      " c8  | -0.22799719207658325 \n",
      " c9  | -0.346667195819397   \n",
      " c10 | null                 \n",
      " c11 | -0.5145246862669571  \n",
      " c12 | null                 \n",
      " c13 | -0.30818633517291777 \n",
      "-RECORD 15------------------\n",
      " c1  | null                 \n",
      " c2  | -0.27572008471363835 \n",
      " c3  | null                 \n",
      " c4  | null                 \n",
      " c5  | -0.21449080019251246 \n",
      " c6  | -0.2511242907271813  \n",
      " c7  | -0.24141833722706849 \n",
      " c8  | -0.8191678789912099  \n",
      " c9  | -0.4923963369719172  \n",
      " c10 | null                 \n",
      " c11 | -0.3276097260071061  \n",
      " c12 | null                 \n",
      " c13 | null                 \n",
      "-RECORD 16------------------\n",
      " c1  | 2.1144565375340414   \n",
      " c2  | -0.2651538801129112  \n",
      " c3  | -0.07370318523326326 \n",
      " c4  | 0.3178495947300884   \n",
      " c5  | -0.24899580978340088 \n",
      " c6  | -0.13788781824079654 \n",
      " c7  | 4.739546153166978    \n",
      " c8  | 0.4288591267174464   \n",
      " c9  | 2.6948410082348158   \n",
      " c10 | 0.5628429015639078   \n",
      " c11 | 3.2237745189300635   \n",
      " c12 | -0.18717679641315127 \n",
      " c13 | 0.13907357092918307  \n",
      "-RECORD 17------------------\n",
      " c1  | -0.06104319928899... \n",
      " c2  | -0.2730785335634565  \n",
      " c3  | 0.04339878460698443  \n",
      " c4  | 2.6391100141298507   \n",
      " c5  | -0.2649869790361794  \n",
      " c6  | -0.1571166531913147  \n",
      " c7  | -0.1795430019426704  \n",
      " c8  | 1.5455148686672968   \n",
      " c9  | 0.06701552745227338  \n",
      " c10 | 0.5628429015639078   \n",
      " c11 | -0.14069476574725504 \n",
      " c12 | null                 \n",
      " c13 | 1.704483242286536    \n",
      "-RECORD 18------------------\n",
      " c1  | null                 \n",
      " c2  | -0.2783616358638201  \n",
      " c3  | null                 \n",
      " c4  | null                 \n",
      " c5  | -0.13778449634362297 \n",
      " c6  | -0.212666620826145   \n",
      " c7  | -0.21048066958486944 \n",
      " c8  | -0.8191678789912099  \n",
      " c9  | -0.4923963369719172  \n",
      " c10 | null                 \n",
      " c11 | -0.3276097260071061  \n",
      " c12 | null                 \n",
      " c13 | null                 \n",
      "-RECORD 19------------------\n",
      " c1  | -0.1755431854375808  \n",
      " c2  | -0.14628407835473087 \n",
      " c3  | -0.05268488295424444 \n",
      " c4  | 0.7821016786100408   \n",
      " c5  | -0.2646591743188765  \n",
      " c6  | -0.21480315804286923 \n",
      " c7  | -0.22594950340596895 \n",
      " c8  | 0.4945447585968494   \n",
      " c9  | -0.03170421332846... \n",
      " c10 | 0.5628429015639078   \n",
      " c11 | -0.3276097260071061  \n",
      " c12 | null                 \n",
      " c13 | 0.5863334770312839   \n",
      "only showing top 20 rows\n",
      "\n"
     ]
    }
   ],
   "source": [
    "s.select(s.columns[1:14]).show(vertical=True)"
   ]
  },
  {
   "cell_type": "code",
   "execution_count": 13,
   "metadata": {},
   "outputs": [
    {
     "data": {
      "text/plain": [
       "['c0',\n",
       " 'c1',\n",
       " 'c2',\n",
       " 'c3',\n",
       " 'c4',\n",
       " 'c5',\n",
       " 'c6',\n",
       " 'c7',\n",
       " 'c8',\n",
       " 'c9',\n",
       " 'c10',\n",
       " 'c11',\n",
       " 'c12',\n",
       " 'c13',\n",
       " 'c14',\n",
       " 'c15',\n",
       " 'c16',\n",
       " 'c17',\n",
       " 'c18',\n",
       " 'c19',\n",
       " 'c20',\n",
       " 'c21',\n",
       " 'c22',\n",
       " 'c23',\n",
       " 'c24',\n",
       " 'c25',\n",
       " 'c26',\n",
       " 'c27',\n",
       " 'c28',\n",
       " 'c29',\n",
       " 'c30',\n",
       " 'c31',\n",
       " 'c32',\n",
       " 'c33',\n",
       " 'c34',\n",
       " 'c35',\n",
       " 'c36',\n",
       " 'c37',\n",
       " 'c38',\n",
       " 'c39']"
      ]
     },
     "execution_count": 13,
     "metadata": {},
     "output_type": "execute_result"
    }
   ],
   "source": [
    "s.columns"
   ]
  },
  {
   "cell_type": "code",
   "execution_count": 15,
   "metadata": {},
   "outputs": [
    {
     "name": "stdout",
     "output_type": "stream",
     "text": [
      "-RECORD 0-------------------\n",
      " c0  | 1.0                  \n",
      " c1  | -0.06104319928899... \n",
      " c2  | 0.009567439505994422 \n",
      " c3  | -0.04067442450909083 \n",
      " c4  | 0.08572355279011215  \n",
      " c5  | -0.26554282181769306 \n",
      " c6  | -0.22548584412649042 \n",
      " c7  | -0.21048066958486944 \n",
      " c8  | -0.22799719207658325 \n",
      " c9  | -0.45478881667449267 \n",
      " c10 | 0.5628429015639078   \n",
      " c11 | -0.3276097260071061  \n",
      " c12 | 0.15213296349014394  \n",
      " c13 | -0.01001306443818... \n",
      " c14 | 68fd1e64             \n",
      " c15 | 38a947a1             \n",
      " c16 | 0d595c43             \n",
      " c17 | 3952a0a2             \n",
      " c18 | 43b19349             \n",
      " c19 | fe6b92e5             \n",
      " c20 | b67de336             \n",
      " c21 | 0b153874             \n",
      " c22 | a73ee510             \n",
      " c23 | 3b08e48b             \n",
      " c24 | 873e6871             \n",
      " c25 | be326377             \n",
      " c26 | 4cc724bd             \n",
      " c27 | b28479f6             \n",
      " c28 | a897defd             \n",
      " c29 | fadb1467             \n",
      " c30 | 27c07bd6             \n",
      " c31 | fe182c3d             \n",
      " c32 | null                 \n",
      " c33 | null                 \n",
      " c34 | c009e522             \n",
      " c35 | null                 \n",
      " c36 | 32c7478e             \n",
      " c37 | cc159b1c             \n",
      " c38 | null                 \n",
      " c39 | null                 \n",
      "-RECORD 1-------------------\n",
      " c0  | 0.0                  \n",
      " c1  | null                 \n",
      " c2  | -0.27572008471363835 \n",
      " c3  | -0.07370318523326326 \n",
      " c4  | -0.7267175939998046  \n",
      " c5  | -0.12109496051919905 \n",
      " c6  | -0.11011283442338143 \n",
      " c7  | -0.22594950340596895 \n",
      " c8  | -0.687796615232404   \n",
      " c9  | -0.27145215522454785 \n",
      " c10 | null                 \n",
      " c11 | -0.14069476574725504 \n",
      " c12 | null                 \n",
      " c13 | -0.5318162882239682  \n",
      " c14 | 8cf07265             \n",
      " c15 | 78ccd99e             \n",
      " c16 | f715d8cc             \n",
      " c17 | 7c15fa92             \n",
      " c18 | 4cf72387             \n",
      " c19 | 7e0ccccf             \n",
      " c20 | 6af7dea8             \n",
      " c21 | 5b392875             \n",
      " c22 | a73ee510             \n",
      " c23 | 7953ffe6             \n",
      " c24 | 1acca553             \n",
      " c25 | b9bee1c2             \n",
      " c26 | 3691e3e3             \n",
      " c27 | 07d13a8f             \n",
      " c28 | 162f3329             \n",
      " c29 | 498519e1             \n",
      " c30 | 07c540c4             \n",
      " c31 | e7e991cb             \n",
      " c32 | 04de9d96             \n",
      " c33 | 5840adea             \n",
      " c34 | 71b9f31a             \n",
      " c35 | null                 \n",
      " c36 | 423fab69             \n",
      " c37 | cf9f8644             \n",
      " c38 | 2bf691b1             \n",
      " c39 | 00cd7c8a             \n",
      "-RECORD 2-------------------\n",
      " c0  | 0.0                  \n",
      " c1  | -0.40454315773474303 \n",
      " c2  | -0.27572008471363835 \n",
      " c3  | -0.04968226834295604 \n",
      " c4  | 0.4339126157000765   \n",
      " c5  | -0.26531478375348233 \n",
      " c6  | 0.3278772950050879   \n",
      " c7  | -0.22594950340596895 \n",
      " c8  | 0.16611659919983454  \n",
      " c9  | -0.35606907589375314 \n",
      " c10 | -0.9040733634711643  \n",
      " c11 | -0.14069476574725504 \n",
      " c12 | null                 \n",
      " c13 | 0.21361688861286654  \n",
      " c14 | 05db9164             \n",
      " c15 | 80e26c9b             \n",
      " c16 | 20c77f34             \n",
      " c17 | 7607ebdc             \n",
      " c18 | 4cf72387             \n",
      " c19 | 7e0ccccf             \n",
      " c20 | f1ff45d6             \n",
      " c21 | 0b153874             \n",
      " c22 | a73ee510             \n",
      " c23 | 9a1250bd             \n",
      " c24 | a33816cf             \n",
      " c25 | 8951d255             \n",
      " c26 | 9bbdb8bd             \n",
      " c27 | cfef1c29             \n",
      " c28 | e857f574             \n",
      " c29 | 3ba4d8ba             \n",
      " c30 | 07c540c4             \n",
      " c31 | f54016b9             \n",
      " c32 | 21ddcdc9             \n",
      " c33 | a458ea53             \n",
      " c34 | 74258669             \n",
      " c35 | null                 \n",
      " c36 | 3a171ecb             \n",
      " c37 | 1793a828             \n",
      " c38 | e8b83407             \n",
      " c39 | da9fe092             \n",
      "-RECORD 3-------------------\n",
      " c0  | 0.0                  \n",
      " c1  | null                 \n",
      " c2  | -0.17269958985654874 \n",
      " c3  | -0.00764566378491... \n",
      " c4  | 0.5499756366700645   \n",
      " c5  | -0.1825654712030081  \n",
      " c6  | 0.10995049889921535  \n",
      " c7  | 0.2845220126903153   \n",
      " c8  | 0.5602303904762523   \n",
      " c9  | -0.00819951314257... \n",
      " c10 | null                 \n",
      " c11 | -0.14069476574725504 \n",
      " c12 | -0.18717679641315127 \n",
      " c13 | 0.4372468416639169   \n",
      " c14 | 05db9164             \n",
      " c15 | dd8c896e             \n",
      " c16 | 3e00361d             \n",
      " c17 | 13508380             \n",
      " c18 | 25c83c98             \n",
      " c19 | 7e0ccccf             \n",
      " c20 | 274b6720             \n",
      " c21 | 0b153874             \n",
      " c22 | a73ee510             \n",
      " c23 | 34ae4e8c             \n",
      " c24 | 2872a4bd             \n",
      " c25 | b3ed9d3a             \n",
      " c26 | f8320f48             \n",
      " c27 | 07d13a8f             \n",
      " c28 | 95275a51             \n",
      " c29 | 3432e1a1             \n",
      " c30 | e5ba7672             \n",
      " c31 | 3182300e             \n",
      " c32 | 55dd3565             \n",
      " c33 | b1252a9d             \n",
      " c34 | ba0319c1             \n",
      " c35 | null                 \n",
      " c36 | c7dc6720             \n",
      " c37 | 45ab94c8             \n",
      " c38 | 010f6491             \n",
      " c39 | c84c4aec             \n",
      "-RECORD 4-------------------\n",
      " c0  | 0.0                  \n",
      " c1  | 0.16795677300816259  \n",
      " c2  | -0.1806242433070941  \n",
      " c3  | null                 \n",
      " c4  | null                 \n",
      " c5  | -0.25840237993209414 \n",
      " c6  | -0.24898775351045707 \n",
      " c7  | -0.1331365004793718  \n",
      " c8  | -0.5564253514735981  \n",
      " c9  | -0.05990985355153... \n",
      " c10 | 2.02975916659898     \n",
      " c11 | 0.04622019451259598  \n",
      " c12 | 0.3217878434417915   \n",
      " c13 | null                 \n",
      " c14 | 87552397             \n",
      " c15 | 287130e0             \n",
      " c16 | c26181e1             \n",
      " c17 | b3e2674e             \n",
      " c18 | 25c83c98             \n",
      " c19 | fbad5c96             \n",
      " c20 | 627cb56d             \n",
      " c21 | 1f89b562             \n",
      " c22 | a73ee510             \n",
      " c23 | 24ff6dd9             \n",
      " c24 | f6e05074             \n",
      " c25 | 4e88cade             \n",
      " c26 | f59826bf             \n",
      " c27 | 1adce6ef             \n",
      " c28 | d959e25d             \n",
      " c29 | a3c82e83             \n",
      " c30 | 27c07bd6             \n",
      " c31 | 53515e19             \n",
      " c32 | 790d09cc             \n",
      " c33 | b1252a9d             \n",
      " c34 | 76265656             \n",
      " c35 | null                 \n",
      " c36 | 423fab69             \n",
      " c37 | a994f5a2             \n",
      " c38 | ea9a246c             \n",
      " c39 | 5036f81d             \n",
      "-RECORD 5-------------------\n",
      " c0  | 0.0                  \n",
      " c1  | null                 \n",
      " c2  | -0.25987077781254764 \n",
      " c3  | null                 \n",
      " c4  | -0.8427806149697927  \n",
      " c5  | -0.20029543069539354 \n",
      " c6  | null                 \n",
      " c7  | -0.256887171048168   \n",
      " c8  | -0.42505408771479214 \n",
      " c9  | -0.4641906967488488  \n",
      " c10 | null                 \n",
      " c11 | -0.5145246862669571  \n",
      " c12 | null                 \n",
      " c13 | -0.5318162882239682  \n",
      " c14 | 05db9164             \n",
      " c15 | 3df44d94             \n",
      " c16 | 02cf9876             \n",
      " c17 | c18be181             \n",
      " c18 | 25c83c98             \n",
      " c19 | 7e0ccccf             \n",
      " c20 | 81bb0302             \n",
      " c21 | 0b153874             \n",
      " c22 | a73ee510             \n",
      " c23 | f918493f             \n",
      " c24 | b7094596             \n",
      " c25 | 8fe001f4             \n",
      " c26 | 1f9d2c38             \n",
      " c27 | b28479f6             \n",
      " c28 | b96e7224             \n",
      " c29 | 36103458             \n",
      " c30 | 1e88c74f             \n",
      " c31 | 79a92e0a             \n",
      " c32 | null                 \n",
      " c33 | null                 \n",
      " c34 | e587c466             \n",
      " c35 | null                 \n",
      " c36 | 32c7478e             \n",
      " c37 | 3b183c5c             \n",
      " c38 | null                 \n",
      " c39 | null                 \n",
      "-RECORD 6-------------------\n",
      " c0  | 1.0                  \n",
      " c1  | null                 \n",
      " c2  | 0.17334361081726507  \n",
      " c3  | null                 \n",
      " c4  | -0.8427806149697927  \n",
      " c5  | -0.265785112260917   \n",
      " c6  | null                 \n",
      " c7  | -0.256887171048168   \n",
      " c8  | -0.8191678789912099  \n",
      " c9  | -0.4923963369719172  \n",
      " c10 | null                 \n",
      " c11 | -0.5145246862669571  \n",
      " c12 | null                 \n",
      " c13 | -0.6063596059076516  \n",
      " c14 | 68fd1e64             \n",
      " c15 | 2c8c5f5d             \n",
      " c16 | 13cd0697             \n",
      " c17 | 352cefe6             \n",
      " c18 | 43b19349             \n",
      " c19 | fe6b92e5             \n",
      " c20 | 869243b9             \n",
      " c21 | 0b153874             \n",
      " c22 | a73ee510             \n",
      " c23 | 3b08e48b             \n",
      " c24 | c2cea603             \n",
      " c25 | c3cdaf85             \n",
      " c26 | e0230d57             \n",
      " c27 | 1adce6ef             \n",
      " c28 | 5edc1a28             \n",
      " c29 | 08514295             \n",
      " c30 | 1e88c74f             \n",
      " c31 | f5f4ae5b             \n",
      " c32 | null                 \n",
      " c33 | null                 \n",
      " c34 | 6387fda4             \n",
      " c35 | null                 \n",
      " c36 | 3a171ecb             \n",
      " c37 | d36c7dbf             \n",
      " c38 | null                 \n",
      " c39 | null                 \n",
      "-RECORD 7-------------------\n",
      " c0  | 0.0                  \n",
      " c1  | null                 \n",
      " c2  | -0.27572008471363835 \n",
      " c3  | -0.07370318523326326 \n",
      " c4  | null                 \n",
      " c5  | -0.22134619449784798 \n",
      " c6  | -0.19984739752579952 \n",
      " c7  | -0.24141833722706849 \n",
      " c8  | -0.8191678789912099  \n",
      " c9  | -0.25264839507583553 \n",
      " c10 | null                 \n",
      " c11 | -0.3276097260071061  \n",
      " c12 | null                 \n",
      " c13 | null                 \n",
      " c14 | 9a89b36c             \n",
      " c15 | 38d50e09             \n",
      " c16 | 3c368043             \n",
      " c17 | 0fe3165a             \n",
      " c18 | 4cf72387             \n",
      " c19 | null                 \n",
      " c20 | d5f2e4bd             \n",
      " c21 | 1f89b562             \n",
      " c22 | a73ee510             \n",
      " c23 | de668ebd             \n",
      " c24 | 2dbe1596             \n",
      " c25 | a2722ce4             \n",
      " c26 | 54c30969             \n",
      " c27 | 07d13a8f             \n",
      " c28 | ee569ce2             \n",
      " c29 | 43a7c9a1             \n",
      " c30 | d4bb7bd8             \n",
      " c31 | 582152eb             \n",
      " c32 | 21ddcdc9             \n",
      " c33 | 5840adea             \n",
      " c34 | 0628293c             \n",
      " c35 | null                 \n",
      " c36 | 32c7478e             \n",
      " c37 | e798ac81             \n",
      " c38 | 001f3601             \n",
      " c39 | 826dc169             \n",
      "-RECORD 8-------------------\n",
      " c0  | 0.0                  \n",
      " c1  | null                 \n",
      " c2  | -0.2651538801129112  \n",
      " c3  | -0.06469534139939805 \n",
      " c4  | -0.2624655101198522  \n",
      " c5  | -0.24288153918675026 \n",
      " c6  | -0.2297589185599389  \n",
      " c7  | -0.22594950340596895 \n",
      " c8  | -0.4907397195941951  \n",
      " c9  | -0.46889163678602686 \n",
      " c10 | null                 \n",
      " c11 | -0.3276097260071061  \n",
      " c12 | null                 \n",
      " c13 | -0.2336430174892343  \n",
      " c14 | 05db9164             \n",
      " c15 | b961056b             \n",
      " c16 | 12dff172             \n",
      " c17 | 25dc7829             \n",
      " c18 | 25c83c98             \n",
      " c19 | null                 \n",
      " c20 | c4cf3750             \n",
      " c21 | 0b153874             \n",
      " c22 | a73ee510             \n",
      " c23 | 6ad0eb30             \n",
      " c24 | 9d7e66c3             \n",
      " c25 | 8ec4c7a6             \n",
      " c26 | df957573             \n",
      " c27 | b28479f6             \n",
      " c28 | 70a601bc             \n",
      " c29 | eb3dd5b8             \n",
      " c30 | e5ba7672             \n",
      " c31 | 43de85d3             \n",
      " c32 | null                 \n",
      " c33 | null                 \n",
      " c34 | a906f752             \n",
      " c35 | null                 \n",
      " c36 | 32c7478e             \n",
      " c37 | 60a197ae             \n",
      " c38 | null                 \n",
      " c39 | null                 \n",
      "-RECORD 9-------------------\n",
      " c0  | 0.0                  \n",
      " c1  | -0.29004317158616194 \n",
      " c2  | -0.2730785335634565  \n",
      " c3  | null                 \n",
      " c4  | null                 \n",
      " c5  | -0.26140963190387334 \n",
      " c6  | -0.2511242907271813  \n",
      " c7  | 0.26905317886921576  \n",
      " c8  | 1.1514010773908792   \n",
      " c9  | 1.1717364361891203   \n",
      " c10 | 0.5628429015639078   \n",
      " c11 | 1.915369797111106    \n",
      " c12 | -0.18717679641315127 \n",
      " c13 | null                 \n",
      " c14 | 5a9ed9b0             \n",
      " c15 | 4f25e98b             \n",
      " c16 | c0f7dfb7             \n",
      " c17 | 2611addb             \n",
      " c18 | 25c83c98             \n",
      " c19 | 7e0ccccf             \n",
      " c20 | 0038e65c             \n",
      " c21 | 0b153874             \n",
      " c22 | a73ee510             \n",
      " c23 | 3b08e48b             \n",
      " c24 | 6dbe9cfd             \n",
      " c25 | a5f8014b             \n",
      " c26 | 1ddad6aa             \n",
      " c27 | 07d13a8f             \n",
      " c28 | dfab705f             \n",
      " c29 | adcfc195             \n",
      " c30 | 27c07bd6             \n",
      " c31 | 7ef5affa             \n",
      " c32 | 21ddcdc9             \n",
      " c33 | a458ea53             \n",
      " c34 | 518e116e             \n",
      " c35 | null                 \n",
      " c36 | 423fab69             \n",
      " c37 | 3fdb382b             \n",
      " c38 | 001f3601             \n",
      " c39 | 49d68486             \n",
      "-RECORD 10------------------\n",
      " c0  | 0.0                  \n",
      " c1  | 0.16795677300816259  \n",
      " c2  | -0.27572008471363835 \n",
      " c3  | 0.049404013829561236 \n",
      " c4  | -0.8427806149697927  \n",
      " c5  | -0.2655855789547326  \n",
      " c6  | -0.2511242907271813  \n",
      " c7  | -0.1795430019426704  \n",
      " c8  | 0.2974878629586405   \n",
      " c9  | -0.4923963369719172  \n",
      " c10 | 0.5628429015639078   \n",
      " c11 | -0.3276097260071061  \n",
      " c12 | null                 \n",
      " c13 | -0.6063596059076516  \n",
      " c14 | 68fd1e64             \n",
      " c15 | 942f9a8d             \n",
      " c16 | bd93aca2             \n",
      " c17 | 32760406             \n",
      " c18 | 25c83c98             \n",
      " c19 | fbad5c96             \n",
      " c20 | 49b74ebc             \n",
      " c21 | 0b153874             \n",
      " c22 | a73ee510             \n",
      " c23 | 0e9ead52             \n",
      " c24 | c4adf918             \n",
      " c25 | 8996e030             \n",
      " c26 | 85dbe138             \n",
      " c27 | b28479f6             \n",
      " c28 | ac182643             \n",
      " c29 | e22c31f1             \n",
      " c30 | 07c540c4             \n",
      " c31 | 1f868fdd             \n",
      " c32 | c5cd97b1             \n",
      " c33 | a458ea53             \n",
      " c34 | c85c9c25             \n",
      " c35 | ad3062eb             \n",
      " c36 | 32c7478e             \n",
      " c37 | b627a3bd             \n",
      " c38 | e8b83407             \n",
      " c39 | 6337bb28             \n",
      "-RECORD 11------------------\n",
      " c0  | 1.0                  \n",
      " c1  | null                 \n",
      " c2  | -0.2783616358638201  \n",
      " c3  | null                 \n",
      " c4  | null                 \n",
      " c5  | -0.21558823337652666 \n",
      " c6  | -0.2340319929933874  \n",
      " c7  | -0.22594950340596895 \n",
      " c8  | -0.8191678789912099  \n",
      " c9  | -0.4453869366001365  \n",
      " c10 | null                 \n",
      " c11 | -0.3276097260071061  \n",
      " c12 | null                 \n",
      " c13 | null                 \n",
      " c14 | 05db9164             \n",
      " c15 | 38a947a1             \n",
      " c16 | 1ef76781             \n",
      " c17 | 40ed41e5             \n",
      " c18 | 25c83c98             \n",
      " c19 | 7e0ccccf             \n",
      " c20 | f33e4fa1             \n",
      " c21 | 37e4aa92             \n",
      " c22 | a73ee510             \n",
      " c23 | 02516dfc             \n",
      " c24 | 7b5deffb             \n",
      " c25 | f9de2371             \n",
      " c26 | 269889be             \n",
      " c27 | b28479f6             \n",
      " c28 | 79266ab2             \n",
      " c29 | 56bfb1f9             \n",
      " c30 | e5ba7672             \n",
      " c31 | e96a7df2             \n",
      " c32 | null                 \n",
      " c33 | null                 \n",
      " c34 | d8e97ca0             \n",
      " c35 | null                 \n",
      " c36 | 32c7478e             \n",
      " c37 | a415643d             \n",
      " c38 | null                 \n",
      " c39 | null                 \n",
      "-RECORD 12------------------\n",
      " c0  | 0.0                  \n",
      " c1  | 1.3129566344939738   \n",
      " c2  | 0.9420349955201645   \n",
      " c3  | -0.05268488295424444 \n",
      " c4  | 1.4784798044299696   \n",
      " c5  | -0.2636900125459808  \n",
      " c6  | -0.16993587649166017 \n",
      " c7  | -0.02485466373167516 \n",
      " c8  | 1.0200298136320731   \n",
      " c9  | -0.32316249563350663 \n",
      " c10 | 0.5628429015639078   \n",
      " c11 | -0.3276097260071061  \n",
      " c12 | -0.01752191646150... \n",
      " c13 | 0.8845067477660178   \n",
      " c14 | 05db9164             \n",
      " c15 | ad4527a2             \n",
      " c16 | ebe4edfa             \n",
      " c17 | ebc42d91             \n",
      " c18 | 43b19349             \n",
      " c19 | 7e0ccccf             \n",
      " c20 | 11c75000             \n",
      " c21 | 5b392875             \n",
      " c22 | a73ee510             \n",
      " c23 | 1e5283f1             \n",
      " c24 | b7301ecc             \n",
      " c25 | e8c9d3fa             \n",
      " c26 | aa3f2e5b             \n",
      " c27 | 07d13a8f             \n",
      " c28 | 3e5b3f6e             \n",
      " c29 | 2c52502a             \n",
      " c30 | 3486227d             \n",
      " c31 | a2c1374b             \n",
      " c32 | null                 \n",
      " c33 | null                 \n",
      " c34 | f8c88eda             \n",
      " c35 | null                 \n",
      " c36 | 32c7478e             \n",
      " c37 | 1b256e61             \n",
      " c38 | null                 \n",
      " c39 | null                 \n",
      "-RECORD 13------------------\n",
      " c0  | 0.0                  \n",
      " c1  | null                 \n",
      " c2  | -0.2730785335634565  \n",
      " c3  | -0.07070057062197485 \n",
      " c4  | null                 \n",
      " c5  | -0.20206272569302683 \n",
      " c6  | -0.2340319929933874  \n",
      " c7  | -0.24141833722706849 \n",
      " c8  | -0.8191678789912099  \n",
      " c9  | -0.47359257682320494 \n",
      " c10 | null                 \n",
      " c11 | -0.3276097260071061  \n",
      " c12 | null                 \n",
      " c13 | null                 \n",
      " c14 | 68fd1e64             \n",
      " c15 | 4f25e98b             \n",
      " c16 | 61203b83             \n",
      " c17 | 1e5955fa             \n",
      " c18 | 25c83c98             \n",
      " c19 | 6f6d9be8             \n",
      " c20 | 5e64ce5f             \n",
      " c21 | 0b153874             \n",
      " c22 | a73ee510             \n",
      " c23 | d4a82fb9             \n",
      " c24 | 8b94178b             \n",
      " c25 | e1c9b0ed             \n",
      " c26 | 025225f2             \n",
      " c27 | f7c1b33f             \n",
      " c28 | 286d9690             \n",
      " c29 | 0e212a5b             \n",
      " c30 | d4bb7bd8             \n",
      " c31 | 7ef5affa             \n",
      " c32 | 2f4b9dd2             \n",
      " c33 | a458ea53             \n",
      " c34 | d36902e1             \n",
      " c35 | null                 \n",
      " c36 | 32c7478e             \n",
      " c37 | a152d986             \n",
      " c38 | 001f3601             \n",
      " c39 | 1e8fd0fc             \n",
      "-RECORD 14------------------\n",
      " c0  | 1.0                  \n",
      " c1  | null                 \n",
      " c2  | 8.438757159736069    \n",
      " c3  | -0.06169272678810965 \n",
      " c4  | -0.4945915520598284  \n",
      " c5  | -0.05510644568821... \n",
      " c6  | null                 \n",
      " c7  | -0.256887171048168   \n",
      " c8  | -0.22799719207658325 \n",
      " c9  | -0.346667195819397   \n",
      " c10 | null                 \n",
      " c11 | -0.5145246862669571  \n",
      " c12 | null                 \n",
      " c13 | -0.30818633517291777 \n",
      " c14 | 8cf07265             \n",
      " c15 | 38a947a1             \n",
      " c16 | 43ab2af4             \n",
      " c17 | c7f0037d             \n",
      " c18 | 25c83c98             \n",
      " c19 | null                 \n",
      " c20 | 0b507e32             \n",
      " c21 | 0b153874             \n",
      " c22 | a73ee510             \n",
      " c23 | 2e834f9a             \n",
      " c24 | 1d351a39             \n",
      " c25 | 55716cb8             \n",
      " c26 | 90a568bc             \n",
      " c27 | 1adce6ef             \n",
      " c28 | 9ab67c34             \n",
      " c29 | 943355ec             \n",
      " c30 | 1e88c74f             \n",
      " c31 | 3e573dd5             \n",
      " c32 | null                 \n",
      " c33 | null                 \n",
      " c34 | 35bf6d32             \n",
      " c35 | null                 \n",
      " c36 | 32c7478e             \n",
      " c37 | 92d45137             \n",
      " c38 | null                 \n",
      " c39 | null                 \n",
      "-RECORD 15------------------\n",
      " c0  | 0.0                  \n",
      " c1  | null                 \n",
      " c2  | -0.27572008471363835 \n",
      " c3  | null                 \n",
      " c4  | null                 \n",
      " c5  | -0.21449080019251246 \n",
      " c6  | -0.2511242907271813  \n",
      " c7  | -0.24141833722706849 \n",
      " c8  | -0.8191678789912099  \n",
      " c9  | -0.4923963369719172  \n",
      " c10 | null                 \n",
      " c11 | -0.3276097260071061  \n",
      " c12 | null                 \n",
      " c13 | null                 \n",
      " c14 | f473b8dc             \n",
      " c15 | 09e68b86             \n",
      " c16 | b915db9f             \n",
      " c17 | f158407d             \n",
      " c18 | 25c83c98             \n",
      " c19 | null                 \n",
      " c20 | 0dbf2675             \n",
      " c21 | 0b153874             \n",
      " c22 | a73ee510             \n",
      " c23 | 42459662             \n",
      " c24 | 88196a93             \n",
      " c25 | f23432d5             \n",
      " c26 | 1211c647             \n",
      " c27 | b28479f6             \n",
      " c28 | 52baadf5             \n",
      " c29 | e568843d             \n",
      " c30 | e5ba7672             \n",
      " c31 | 5aed7436             \n",
      " c32 | 21ddcdc9             \n",
      " c33 | a458ea53             \n",
      " c34 | 8c60fff8             \n",
      " c35 | null                 \n",
      " c36 | 32c7478e             \n",
      " c37 | 3fdb382b             \n",
      " c38 | e8b83407             \n",
      " c39 | 49d68486             \n",
      "-RECORD 16------------------\n",
      " c0  | 1.0                  \n",
      " c1  | 2.1144565375340414   \n",
      " c2  | -0.2651538801129112  \n",
      " c3  | -0.07370318523326326 \n",
      " c4  | 0.3178495947300884   \n",
      " c5  | -0.24899580978340088 \n",
      " c6  | -0.13788781824079654 \n",
      " c7  | 4.739546153166978    \n",
      " c8  | 0.4288591267174464   \n",
      " c9  | 2.6948410082348158   \n",
      " c10 | 0.5628429015639078   \n",
      " c11 | 3.2237745189300635   \n",
      " c12 | -0.18717679641315127 \n",
      " c13 | 0.13907357092918307  \n",
      " c14 | 05db9164             \n",
      " c15 | 8084ee93             \n",
      " c16 | 02cf9876             \n",
      " c17 | c18be181             \n",
      " c18 | 4cf72387             \n",
      " c19 | fbad5c96             \n",
      " c20 | 7c59aadb             \n",
      " c21 | 0b153874             \n",
      " c22 | a73ee510             \n",
      " c23 | a6a88c2a             \n",
      " c24 | ff78732c             \n",
      " c25 | 8fe001f4             \n",
      " c26 | 9b656adc             \n",
      " c27 | 1adce6ef             \n",
      " c28 | 5d922427             \n",
      " c29 | 36103458             \n",
      " c30 | 27c07bd6             \n",
      " c31 | 003d4f4f             \n",
      " c32 | null                 \n",
      " c33 | null                 \n",
      " c34 | e587c466             \n",
      " c35 | null                 \n",
      " c36 | 423fab69             \n",
      " c37 | 3b183c5c             \n",
      " c38 | null                 \n",
      " c39 | null                 \n",
      "-RECORD 17------------------\n",
      " c0  | 0.0                  \n",
      " c1  | -0.06104319928899... \n",
      " c2  | -0.2730785335634565  \n",
      " c3  | 0.04339878460698443  \n",
      " c4  | 2.6391100141298507   \n",
      " c5  | -0.2649869790361794  \n",
      " c6  | -0.1571166531913147  \n",
      " c7  | -0.1795430019426704  \n",
      " c8  | 1.5455148686672968   \n",
      " c9  | 0.06701552745227338  \n",
      " c10 | 0.5628429015639078   \n",
      " c11 | -0.14069476574725504 \n",
      " c12 | null                 \n",
      " c13 | 1.704483242286536    \n",
      " c14 | 05db9164             \n",
      " c15 | 207b2d81             \n",
      " c16 | 10934eea             \n",
      " c17 | 54eeda33             \n",
      " c18 | 25c83c98             \n",
      " c19 | fe6b92e5             \n",
      " c20 | 5e64ce5f             \n",
      " c21 | 0b153874             \n",
      " c22 | a73ee510             \n",
      " c23 | e06ef796             \n",
      " c24 | 8b94178b             \n",
      " c25 | a0cf5647             \n",
      " c26 | 025225f2             \n",
      " c27 | b28479f6             \n",
      " c28 | 3c767806             \n",
      " c29 | 974c6edc             \n",
      " c30 | e5ba7672             \n",
      " c31 | 395856b0             \n",
      " c32 | 21ddcdc9             \n",
      " c33 | a458ea53             \n",
      " c34 | f5148ea7             \n",
      " c35 | null                 \n",
      " c36 | 32c7478e             \n",
      " c37 | 4e8956e8             \n",
      " c38 | 001f3601             \n",
      " c39 | 209d8e32             \n",
      "-RECORD 18------------------\n",
      " c0  | 0.0                  \n",
      " c1  | null                 \n",
      " c2  | -0.2783616358638201  \n",
      " c3  | null                 \n",
      " c4  | null                 \n",
      " c5  | -0.13778449634362297 \n",
      " c6  | -0.212666620826145   \n",
      " c7  | -0.21048066958486944 \n",
      " c8  | -0.8191678789912099  \n",
      " c9  | -0.4923963369719172  \n",
      " c10 | null                 \n",
      " c11 | -0.3276097260071061  \n",
      " c12 | null                 \n",
      " c13 | null                 \n",
      " c14 | 05db9164             \n",
      " c15 | 38a947a1             \n",
      " c16 | 8512d54d             \n",
      " c17 | 7031bb66             \n",
      " c18 | 25c83c98             \n",
      " c19 | 7e0ccccf             \n",
      " c20 | e817a3d4             \n",
      " c21 | 0b153874             \n",
      " c22 | a73ee510             \n",
      " c23 | 64145819             \n",
      " c24 | 810357b8             \n",
      " c25 | e2163351             \n",
      " c26 | 000e3a30             \n",
      " c27 | b28479f6             \n",
      " c28 | c26b5dd4             \n",
      " c29 | beef16d6             \n",
      " c30 | 07c540c4             \n",
      " c31 | b21492d9             \n",
      " c32 | null                 \n",
      " c33 | null                 \n",
      " c34 | 4645d72c             \n",
      " c35 | null                 \n",
      " c36 | 32c7478e             \n",
      " c37 | b258af68             \n",
      " c38 | null                 \n",
      " c39 | null                 \n",
      "-RECORD 19------------------\n",
      " c0  | 0.0                  \n",
      " c1  | -0.1755431854375808  \n",
      " c2  | -0.14628407835473087 \n",
      " c3  | -0.05268488295424444 \n",
      " c4  | 0.7821016786100408   \n",
      " c5  | -0.2646591743188765  \n",
      " c6  | -0.21480315804286923 \n",
      " c7  | -0.22594950340596895 \n",
      " c8  | 0.4945447585968494   \n",
      " c9  | -0.03170421332846... \n",
      " c10 | 0.5628429015639078   \n",
      " c11 | -0.3276097260071061  \n",
      " c12 | null                 \n",
      " c13 | 0.5863334770312839   \n",
      " c14 | 68fd1e64             \n",
      " c15 | dd8c896e             \n",
      " c16 | 1ba5d426             \n",
      " c17 | 13508380             \n",
      " c18 | 25c83c98             \n",
      " c19 | 7e0ccccf             \n",
      " c20 | d03756ed             \n",
      " c21 | 0b153874             \n",
      " c22 | a73ee510             \n",
      " c23 | 886c48e9             \n",
      " c24 | 3c264af5             \n",
      " c25 | bba5d2ab             \n",
      " c26 | 6c24bc52             \n",
      " c27 | 07d13a8f             \n",
      " c28 | 95275a51             \n",
      " c29 | 66593430             \n",
      " c30 | e5ba7672             \n",
      " c31 | 3182300e             \n",
      " c32 | 55dd3565             \n",
      " c33 | b1252a9d             \n",
      " c34 | da6bcdc3             \n",
      " c35 | null                 \n",
      " c36 | 3a171ecb             \n",
      " c37 | 45ab94c8             \n",
      " c38 | 010f6491             \n",
      " c39 | c84c4aec             \n",
      "only showing top 20 rows\n",
      "\n"
     ]
    }
   ],
   "source": [
    "s.show(vertical=True)"
   ]
  },
  {
   "cell_type": "code",
   "execution_count": 16,
   "metadata": {},
   "outputs": [],
   "source": [
    "# convert the categorical variables to indices\n",
    "indexer = StringIndexer(inputCol='c22', outputCol='c22_idx', handleInvalid='keep')\n",
    "s = indexer.fit(s).transform(s)"
   ]
  },
  {
   "cell_type": "code",
   "execution_count": 17,
   "metadata": {},
   "outputs": [
    {
     "name": "stdout",
     "output_type": "stream",
     "text": [
      "+--------+-------+\n",
      "|     c22|c22_idx|\n",
      "+--------+-------+\n",
      "|a73ee510|    0.0|\n",
      "|a73ee510|    0.0|\n",
      "|a73ee510|    0.0|\n",
      "|a73ee510|    0.0|\n",
      "|a73ee510|    0.0|\n",
      "|a73ee510|    0.0|\n",
      "|a73ee510|    0.0|\n",
      "|a73ee510|    0.0|\n",
      "|a73ee510|    0.0|\n",
      "|a73ee510|    0.0|\n",
      "|a73ee510|    0.0|\n",
      "|a73ee510|    0.0|\n",
      "|a73ee510|    0.0|\n",
      "|a73ee510|    0.0|\n",
      "|a73ee510|    0.0|\n",
      "|a73ee510|    0.0|\n",
      "|a73ee510|    0.0|\n",
      "|a73ee510|    0.0|\n",
      "|a73ee510|    0.0|\n",
      "|a73ee510|    0.0|\n",
      "+--------+-------+\n",
      "only showing top 20 rows\n",
      "\n"
     ]
    }
   ],
   "source": [
    "indexer = StringIndexer(inputCol='c33', outputCol='c33_idx', handleInvalid='keep')\n",
    "s = indexer.fit(s).transform(s)\n",
    "s.select('c22','c22_idx').show()"
   ]
  },
  {
   "cell_type": "code",
   "execution_count": 18,
   "metadata": {},
   "outputs": [
    {
     "data": {
      "text/plain": [
       "45877"
      ]
     },
     "execution_count": 18,
     "metadata": {},
     "output_type": "execute_result"
    }
   ],
   "source": [
    "# make sure it kept the null values\n",
    "s.count()"
   ]
  },
  {
   "cell_type": "code",
   "execution_count": 28,
   "metadata": {},
   "outputs": [],
   "source": [
    "# encode one-hot vectors\n",
    "encoder = OneHotEncoderEstimator(inputCols=['c22_idx','c33_idx'], outputCols=['c22_OHE', 'c33_OHE'])\n",
    "s = encoder.fit(s).transform(s)"
   ]
  },
  {
   "cell_type": "code",
   "execution_count": 29,
   "metadata": {},
   "outputs": [
    {
     "name": "stdout",
     "output_type": "stream",
     "text": [
      "+---+--------------------+--------------------+--------+--------+-------+-------+-------------+-------------+\n",
      "| c0|                  c2|                  c3|     c22|     c33|c22_idx|c33_idx|      c22_OHE|      c33_OHE|\n",
      "+---+--------------------+--------------------+--------+--------+-------+-------+-------------+-------------+\n",
      "|0.0| -0.2734937899654927|-0.04722750963646816|a73ee510|    null|    0.0|    3.0|(3,[0],[1.0])|    (3,[],[])|\n",
      "|0.0| -0.2734937899654927|-0.03838908232395208|a73ee510|    null|    0.0|    3.0|(3,[0],[1.0])|    (3,[],[])|\n",
      "|0.0| -0.2655903267941605| 0.08358121458876974|a73ee510|b1252a9d|    0.0|    0.0|(3,[0],[1.0])|(3,[0],[1.0])|\n",
      "|0.0| -0.2629558390703831| -0.0525305660239778|a73ee510|    null|    0.0|    3.0|(3,[0],[1.0])|    (3,[],[])|\n",
      "|0.0| -0.2708593022417153|-0.04369213871146173|a73ee510|a458ea53|    0.0|    2.0|(3,[0],[1.0])|(3,[2],[1.0])|\n",
      "|1.0| -0.2708593022417153| 0.04999519080120866|a73ee510|a458ea53|    0.0|    2.0|(3,[0],[1.0])|(3,[2],[1.0])|\n",
      "|0.0| -0.2629558390703831|0.039389078026189364|a73ee510|    null|    0.0|    3.0|(3,[0],[1.0])|    (3,[],[])|\n",
      "|1.0|0.018934347373797816|                null|a73ee510|5840adea|    0.0|    1.0|(3,[0],[1.0])|(3,[1],[1.0])|\n",
      "|1.0|-0.09961760019618482|-0.04369213871146173|a73ee510|5840adea|    0.0|    1.0|(3,[0],[1.0])|(3,[1],[1.0])|\n",
      "|0.0| -0.2734937899654927| 0.42474450885189013|7cc72ec2|b1252a9d|    1.0|    0.0|(3,[1],[1.0])|(3,[0],[1.0])|\n",
      "|0.0|-0.10225208791996221|-0.02071222769891...|a73ee510|    null|    0.0|    3.0|(3,[0],[1.0])|    (3,[],[])|\n",
      "|0.0|-0.14703837922417787|                null|a73ee510|    null|    0.0|    3.0|(3,[0],[1.0])|    (3,[],[])|\n",
      "|0.0|-0.27612827768927006|-0.04722750963646816|a73ee510|    null|    0.0|    3.0|(3,[0],[1.0])|    (3,[],[])|\n",
      "|0.0|-0.27612827768927006| -0.0525305660239778|a73ee510|a458ea53|    0.0|    2.0|(3,[0],[1.0])|(3,[2],[1.0])|\n",
      "|1.0|   4.961233317180185|-0.03662139686144...|a73ee510|a458ea53|    0.0|    2.0|(3,[0],[1.0])|(3,[2],[1.0])|\n",
      "|0.0|  0.4378178954544031|0.019944537938654004|a73ee510|b1252a9d|    0.0|    0.0|(3,[0],[1.0])|(3,[0],[1.0])|\n",
      "|0.0|-0.21816954776616745|-0.04015676778645529|a73ee510|    null|    0.0|    3.0|(3,[0],[1.0])|    (3,[],[])|\n",
      "|0.0|0.029472298268907383|-0.04192445324895...|a73ee510|    null|    0.0|    3.0|(3,[0],[1.0])|    (3,[],[])|\n",
      "|1.0| -0.2734937899654927| -0.0525305660239778|a73ee510|5840adea|    0.0|    1.0|(3,[0],[1.0])|(3,[1],[1.0])|\n",
      "|0.0|   4.689881081631113|                null|7cc72ec2|5840adea|    1.0|    1.0|(3,[1],[1.0])|(3,[1],[1.0])|\n",
      "+---+--------------------+--------------------+--------+--------+-------+-------+-------------+-------------+\n",
      "only showing top 20 rows\n",
      "\n"
     ]
    }
   ],
   "source": [
    "s.show()"
   ]
  },
  {
   "cell_type": "code",
   "execution_count": 33,
   "metadata": {},
   "outputs": [],
   "source": [
    "# grab a column to see what it is like\n",
    "c = s.select('c22_OHE').collect()[0][0]"
   ]
  },
  {
   "cell_type": "code",
   "execution_count": 34,
   "metadata": {},
   "outputs": [
    {
     "data": {
      "text/plain": [
       "pyspark.ml.linalg.SparseVector"
      ]
     },
     "execution_count": 34,
     "metadata": {},
     "output_type": "execute_result"
    }
   ],
   "source": [
    "type(c)"
   ]
  },
  {
   "cell_type": "code",
   "execution_count": 35,
   "metadata": {},
   "outputs": [
    {
     "data": {
      "text/plain": [
       "1"
      ]
     },
     "execution_count": 35,
     "metadata": {},
     "output_type": "execute_result"
    }
   ],
   "source": [
    "c.numNonzeros()"
   ]
  },
  {
   "cell_type": "code",
   "execution_count": 37,
   "metadata": {},
   "outputs": [
    {
     "data": {
      "text/plain": [
       "3"
      ]
     },
     "execution_count": 37,
     "metadata": {},
     "output_type": "execute_result"
    }
   ],
   "source": [
    "c.size"
   ]
  },
  {
   "cell_type": "code",
   "execution_count": 38,
   "metadata": {},
   "outputs": [
    {
     "data": {
      "text/plain": [
       "array([1., 0., 0.])"
      ]
     },
     "execution_count": 38,
     "metadata": {},
     "output_type": "execute_result"
    }
   ],
   "source": [
    "c.toArray()"
   ]
  },
  {
   "cell_type": "code",
   "execution_count": 40,
   "metadata": {},
   "outputs": [
    {
     "data": {
      "text/plain": [
       "numpy.ndarray"
      ]
     },
     "execution_count": 40,
     "metadata": {},
     "output_type": "execute_result"
    }
   ],
   "source": [
    "# can convert to numpy array easily\n",
    "type(c.toArray())"
   ]
  },
  {
   "cell_type": "code",
   "execution_count": 43,
   "metadata": {},
   "outputs": [],
   "source": [
    "s = s.drop('c22_idx', 'c33_idx')"
   ]
  },
  {
   "cell_type": "code",
   "execution_count": 44,
   "metadata": {},
   "outputs": [
    {
     "name": "stdout",
     "output_type": "stream",
     "text": [
      "+---+--------------------+--------------------+--------+--------+-------------+-------------+\n",
      "| c0|                  c2|                  c3|     c22|     c33|      c22_OHE|      c33_OHE|\n",
      "+---+--------------------+--------------------+--------+--------+-------------+-------------+\n",
      "|0.0| -0.2734937899654927|-0.04722750963646816|a73ee510|    null|(3,[0],[1.0])|    (3,[],[])|\n",
      "|0.0| -0.2734937899654927|-0.03838908232395208|a73ee510|    null|(3,[0],[1.0])|    (3,[],[])|\n",
      "|0.0| -0.2655903267941605| 0.08358121458876974|a73ee510|b1252a9d|(3,[0],[1.0])|(3,[0],[1.0])|\n",
      "|0.0| -0.2629558390703831| -0.0525305660239778|a73ee510|    null|(3,[0],[1.0])|    (3,[],[])|\n",
      "|0.0| -0.2708593022417153|-0.04369213871146173|a73ee510|a458ea53|(3,[0],[1.0])|(3,[2],[1.0])|\n",
      "|1.0| -0.2708593022417153| 0.04999519080120866|a73ee510|a458ea53|(3,[0],[1.0])|(3,[2],[1.0])|\n",
      "|0.0| -0.2629558390703831|0.039389078026189364|a73ee510|    null|(3,[0],[1.0])|    (3,[],[])|\n",
      "|1.0|0.018934347373797816|                null|a73ee510|5840adea|(3,[0],[1.0])|(3,[1],[1.0])|\n",
      "|1.0|-0.09961760019618482|-0.04369213871146173|a73ee510|5840adea|(3,[0],[1.0])|(3,[1],[1.0])|\n",
      "|0.0| -0.2734937899654927| 0.42474450885189013|7cc72ec2|b1252a9d|(3,[1],[1.0])|(3,[0],[1.0])|\n",
      "|0.0|-0.10225208791996221|-0.02071222769891...|a73ee510|    null|(3,[0],[1.0])|    (3,[],[])|\n",
      "|0.0|-0.14703837922417787|                null|a73ee510|    null|(3,[0],[1.0])|    (3,[],[])|\n",
      "|0.0|-0.27612827768927006|-0.04722750963646816|a73ee510|    null|(3,[0],[1.0])|    (3,[],[])|\n",
      "|0.0|-0.27612827768927006| -0.0525305660239778|a73ee510|a458ea53|(3,[0],[1.0])|(3,[2],[1.0])|\n",
      "|1.0|   4.961233317180185|-0.03662139686144...|a73ee510|a458ea53|(3,[0],[1.0])|(3,[2],[1.0])|\n",
      "|0.0|  0.4378178954544031|0.019944537938654004|a73ee510|b1252a9d|(3,[0],[1.0])|(3,[0],[1.0])|\n",
      "|0.0|-0.21816954776616745|-0.04015676778645529|a73ee510|    null|(3,[0],[1.0])|    (3,[],[])|\n",
      "|0.0|0.029472298268907383|-0.04192445324895...|a73ee510|    null|(3,[0],[1.0])|    (3,[],[])|\n",
      "|1.0| -0.2734937899654927| -0.0525305660239778|a73ee510|5840adea|(3,[0],[1.0])|(3,[1],[1.0])|\n",
      "|0.0|   4.689881081631113|                null|7cc72ec2|5840adea|(3,[1],[1.0])|(3,[1],[1.0])|\n",
      "+---+--------------------+--------------------+--------+--------+-------------+-------------+\n",
      "only showing top 20 rows\n",
      "\n"
     ]
    }
   ],
   "source": [
    "s.show()"
   ]
  },
  {
   "cell_type": "code",
   "execution_count": 45,
   "metadata": {},
   "outputs": [],
   "source": [
    "s.write.format('parquet').save('data/sample.parquet')"
   ]
  },
  {
   "cell_type": "code",
   "execution_count": null,
   "metadata": {},
   "outputs": [],
   "source": []
  },
  {
   "cell_type": "code",
   "execution_count": null,
   "metadata": {},
   "outputs": [],
   "source": []
  },
  {
   "cell_type": "code",
   "execution_count": null,
   "metadata": {},
   "outputs": [],
   "source": []
  },
  {
   "cell_type": "code",
   "execution_count": null,
   "metadata": {},
   "outputs": [],
   "source": []
  },
  {
   "cell_type": "code",
   "execution_count": null,
   "metadata": {},
   "outputs": [],
   "source": []
  },
  {
   "cell_type": "code",
   "execution_count": null,
   "metadata": {},
   "outputs": [],
   "source": []
  },
  {
   "cell_type": "code",
   "execution_count": null,
   "metadata": {},
   "outputs": [],
   "source": []
  },
  {
   "cell_type": "code",
   "execution_count": 9,
   "metadata": {},
   "outputs": [],
   "source": [
    "for i,c in enumerate(train.columns[1:14]):\n",
    "    train = train.withColumn(c, (train[c] - means[i]) / stdevs[i])"
   ]
  },
  {
   "cell_type": "code",
   "execution_count": 10,
   "metadata": {},
   "outputs": [
    {
     "name": "stdout",
     "output_type": "stream",
     "text": [
      "-RECORD 0-----------------------\n",
      " summary | count                \n",
      " c1      | 5851479              \n",
      " c2      | 10517430             \n",
      " c3      | 8259890              \n",
      " c4      | 8205798              \n",
      " c5      | 10229986             \n",
      " c6      | 8113327              \n",
      " c7      | 10051997             \n",
      " c8      | 10511722             \n",
      " c9      | 10051997             \n",
      " c10     | 5851479              \n",
      " c11     | 10051997             \n",
      " c12     | 2421098              \n",
      " c13     | 8205798              \n",
      "-RECORD 1-----------------------\n",
      " summary | mean                 \n",
      " c1      | -7.97593112269365... \n",
      " c2      | 5.828207091676494... \n",
      " c3      | 3.909513938232698... \n",
      " c4      | -3.74083514832785... \n",
      " c5      | 9.537483029736827... \n",
      " c6      | 3.244443654866041... \n",
      " c7      | 9.026366645182133... \n",
      " c8      | -4.24857390976072... \n",
      " c9      | 6.576557065533054... \n",
      " c10     | 1.379353179119628... \n",
      " c11     | 4.190010407219867... \n",
      " c12     | -1.01941175954099... \n",
      " c13     | -4.75671009901150... \n",
      "-RECORD 2-----------------------\n",
      " summary | stddev               \n",
      " c1      | 0.9999999999999969   \n",
      " c2      | 1.0000000000000164   \n",
      " c3      | 0.9999999999999779   \n",
      " c4      | 0.9999999999999994   \n",
      " c5      | 1.0000000000000075   \n",
      " c6      | 1.0000000000000009   \n",
      " c7      | 0.9999999999999978   \n",
      " c8      | 0.9999999999999855   \n",
      " c9      | 0.9999999999999993   \n",
      " c10     | 1.0000000000000007   \n",
      " c11     | 1.0000000000000075   \n",
      " c12     | 1.0000000000000022   \n",
      " c13     | 1.0000000000000049   \n",
      "-RECORD 3-----------------------\n",
      " summary | min                  \n",
      " c1      | -0.36891055160707337 \n",
      " c2      | -0.2820324909699221  \n",
      " c3      | -0.07592824292977139 \n",
      " c4      | -0.8271540191151258  \n",
      " c5      | -0.27041829990568117 \n",
      " c6      | -0.3146831514622227  \n",
      " c7      | -0.2447394672503701  \n",
      " c8      | -0.6018534315999873  \n",
      " c9      | -0.47786751278510764 \n",
      " c10     | -0.8887367263995362  \n",
      " c11     | -0.5169522083967435  \n",
      " c12     | -0.1812355302417592  \n",
      " c13     | -0.3852497421858652  \n",
      "-RECORD 4-----------------------\n",
      " summary | max                  \n",
      " c1      | 170.18020917235432   \n",
      " c2      | 56.899014633365866   \n",
      " c3      | 214.57571459275673   \n",
      " c4      | 63.04578518855257    \n",
      " c5      | 37.81306833169531    \n",
      " c6      | 624.4110854721666    \n",
      " c7      | 419.29667037867233   \n",
      " c8      | 242.52910328231508   \n",
      " c9      | 111.16153379885901   \n",
      " c10     | 12.353310875868031   \n",
      " c11     | 35.73992012405158    \n",
      " c12     | 345.53883096070143   \n",
      " c13     | 324.28977975049537   \n",
      "\n"
     ]
    }
   ],
   "source": [
    "stats3 = train[train.columns[1:14]].describe()\n",
    "stats3.show(vertical=True)"
   ]
  },
  {
   "cell_type": "code",
   "execution_count": null,
   "metadata": {},
   "outputs": [],
   "source": []
  },
  {
   "cell_type": "code",
   "execution_count": null,
   "metadata": {},
   "outputs": [],
   "source": []
  },
  {
   "cell_type": "code",
   "execution_count": null,
   "metadata": {},
   "outputs": [],
   "source": []
  },
  {
   "cell_type": "code",
   "execution_count": null,
   "metadata": {},
   "outputs": [],
   "source": []
  },
  {
   "cell_type": "markdown",
   "metadata": {},
   "source": [
    "# Experimenting with RDDs"
   ]
  },
  {
   "cell_type": "code",
   "execution_count": 16,
   "metadata": {},
   "outputs": [],
   "source": [
    "toyTrainRDD = sc.textFile('data/toy_train.txt')"
   ]
  },
  {
   "cell_type": "code",
   "execution_count": 17,
   "metadata": {},
   "outputs": [
    {
     "data": {
      "text/plain": [
       "'0\\t\\t1\\t12\\t1\\t62526\\t\\t\\t3\\t\\t\\t\\t\\t3\\t05db9164\\t08d6d899\\t9143c832\\tf56b7dd5\\t25c83c98\\t7e0ccccf\\t89a13b6b\\t0b153874\\t7cc72ec2\\tc5fe5cb9\\tfa365cf9\\tae1bb660\\td2420e4c\\tb28479f6\\tbffbd637\\tbad5ee18\\t07c540c4\\tbbf70d82\\t\\t\\t0429f84b\\t\\t32c7478e\\tc0d61a5c\\t\\t'"
      ]
     },
     "execution_count": 17,
     "metadata": {},
     "output_type": "execute_result"
    }
   ],
   "source": [
    "toyTrainRDD.collect()[0]"
   ]
  },
  {
   "cell_type": "code",
   "execution_count": 21,
   "metadata": {},
   "outputs": [
    {
     "data": {
      "text/plain": [
       "'0\\t\\t1\\t12\\t1\\t62526\\t\\t\\t3\\t\\t\\t\\t\\t3\\t05db9164\\t08d6d899\\t9143c832\\tf56b7dd5\\t25c83c98\\t7e0ccccf\\t89a13b6b\\t0b153874\\t7cc72ec2\\tc5fe5cb9\\tfa365cf9\\tae1bb660\\td2420e4c\\tb28479f6\\tbffbd637\\tbad5ee18\\t07c540c4\\tbbf70d82\\t\\t\\t0429f84b\\t\\t32c7478e\\tc0d61a5c\\t\\t'"
      ]
     },
     "execution_count": 21,
     "metadata": {},
     "output_type": "execute_result"
    }
   ],
   "source": [
    "line = toyTrainRDD.collect()[0]\n",
    "line"
   ]
  },
  {
   "cell_type": "code",
   "execution_count": 22,
   "metadata": {},
   "outputs": [
    {
     "data": {
      "text/plain": [
       "['0',\n",
       " '',\n",
       " '1',\n",
       " '12',\n",
       " '1',\n",
       " '62526',\n",
       " '',\n",
       " '',\n",
       " '3',\n",
       " '',\n",
       " '',\n",
       " '',\n",
       " '',\n",
       " '3',\n",
       " '05db9164',\n",
       " '08d6d899',\n",
       " '9143c832',\n",
       " 'f56b7dd5',\n",
       " '25c83c98',\n",
       " '7e0ccccf',\n",
       " '89a13b6b',\n",
       " '0b153874',\n",
       " '7cc72ec2',\n",
       " 'c5fe5cb9',\n",
       " 'fa365cf9',\n",
       " 'ae1bb660',\n",
       " 'd2420e4c',\n",
       " 'b28479f6',\n",
       " 'bffbd637',\n",
       " 'bad5ee18',\n",
       " '07c540c4',\n",
       " 'bbf70d82',\n",
       " '',\n",
       " '',\n",
       " '0429f84b',\n",
       " '',\n",
       " '32c7478e',\n",
       " 'c0d61a5c',\n",
       " '',\n",
       " '']"
      ]
     },
     "execution_count": 22,
     "metadata": {},
     "output_type": "execute_result"
    }
   ],
   "source": [
    "line = line.split('\\t')\n",
    "line"
   ]
  },
  {
   "cell_type": "code",
   "execution_count": 12,
   "metadata": {},
   "outputs": [],
   "source": [
    "def parse(line):\n",
    "    line = line.split('\\t')\n",
    "    key = line[0]\n",
    "    values = line[1:]\n",
    "    for i,v in enumerate(values[:13]):\n",
    "        v = \n",
    "    \n",
    "    return key, values"
   ]
  },
  {
   "cell_type": "code",
   "execution_count": 14,
   "metadata": {},
   "outputs": [
    {
     "data": {
      "text/plain": [
       "('0',\n",
       " ('',\n",
       "  '1',\n",
       "  '12',\n",
       "  '1',\n",
       "  '62526',\n",
       "  '',\n",
       "  '',\n",
       "  '3',\n",
       "  '',\n",
       "  '',\n",
       "  '',\n",
       "  '',\n",
       "  '3',\n",
       "  '05db9164',\n",
       "  '08d6d899',\n",
       "  '9143c832',\n",
       "  'f56b7dd5',\n",
       "  '25c83c98',\n",
       "  '7e0ccccf',\n",
       "  '89a13b6b',\n",
       "  '0b153874',\n",
       "  '7cc72ec2',\n",
       "  'c5fe5cb9',\n",
       "  'fa365cf9',\n",
       "  'ae1bb660',\n",
       "  'd2420e4c',\n",
       "  'b28479f6',\n",
       "  'bffbd637',\n",
       "  'bad5ee18',\n",
       "  '07c540c4',\n",
       "  'bbf70d82',\n",
       "  '',\n",
       "  '',\n",
       "  '0429f84b',\n",
       "  '',\n",
       "  '32c7478e',\n",
       "  'c0d61a5c',\n",
       "  '',\n",
       "  ''))"
      ]
     },
     "execution_count": 14,
     "metadata": {},
     "output_type": "execute_result"
    }
   ],
   "source": [
    "toyTrainRDD = toyTrainRDD.map(parse)\n",
    "\n",
    "toyTrainRDD.collect()[0]"
   ]
  },
  {
   "cell_type": "code",
   "execution_count": null,
   "metadata": {},
   "outputs": [],
   "source": []
  }
 ],
 "metadata": {
  "kernelspec": {
   "display_name": "Python 3",
   "language": "python",
   "name": "python3"
  },
  "language_info": {
   "codemirror_mode": {
    "name": "ipython",
    "version": 3
   },
   "file_extension": ".py",
   "mimetype": "text/x-python",
   "name": "python",
   "nbconvert_exporter": "python",
   "pygments_lexer": "ipython3",
   "version": "3.6.6"
  }
 },
 "nbformat": 4,
 "nbformat_minor": 2
}
