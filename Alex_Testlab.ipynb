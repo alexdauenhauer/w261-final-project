{
 "cells": [
  {
   "cell_type": "markdown",
   "metadata": {},
   "source": [
    "# setup"
   ]
  },
  {
   "cell_type": "code",
   "execution_count": 1,
   "metadata": {},
   "outputs": [],
   "source": [
    "import re\n",
    "import ast\n",
    "import time\n",
    "import numpy as np\n",
    "import pandas as pd\n",
    "import matplotlib.pyplot as plt\n",
    "import pyspark.sql.functions as F\n",
    "from pyspark.sql import types"
   ]
  },
  {
   "cell_type": "code",
   "execution_count": 2,
   "metadata": {},
   "outputs": [],
   "source": [
    "# start Spark Session\n",
    "from pyspark.sql import SparkSession\n",
    "app_name = \"finalProject\"\n",
    "master = \"local[*]\"\n",
    "spark = SparkSession\\\n",
    "        .builder\\\n",
    "        .appName(app_name)\\\n",
    "        .master(master)\\\n",
    "        .getOrCreate()\n",
    "sc = spark.sparkContext"
   ]
  },
  {
   "cell_type": "markdown",
   "metadata": {},
   "source": [
    "# check file size"
   ]
  },
  {
   "cell_type": "code",
   "execution_count": 2,
   "metadata": {},
   "outputs": [
    {
     "name": "stdout",
     "output_type": "stream",
     "text": [
      "10517429 data/train.txt\n"
     ]
    }
   ],
   "source": [
    "!wc -l data/train.txt"
   ]
  },
  {
   "cell_type": "code",
   "execution_count": 3,
   "metadata": {},
   "outputs": [
    {
     "name": "stdout",
     "output_type": "stream",
     "text": [
      "6042135 data/test.txt\n"
     ]
    }
   ],
   "source": [
    "!wc -l data/test.txt"
   ]
  },
  {
   "cell_type": "markdown",
   "metadata": {},
   "source": [
    "# experimenting with DFs"
   ]
  },
  {
   "cell_type": "code",
   "execution_count": 3,
   "metadata": {},
   "outputs": [],
   "source": [
    "# train = spark.read.option('header', 'false').csv('data/train.txt', sep='\\t')"
   ]
  },
  {
   "cell_type": "code",
   "execution_count": 12,
   "metadata": {},
   "outputs": [],
   "source": [
    "# train.write.format('parquet').save('data/train.parquet')\n",
    "# train_parquet = spark.read.parquet('data/train.parquet')"
   ]
  },
  {
   "cell_type": "code",
   "execution_count": 13,
   "metadata": {},
   "outputs": [
    {
     "name": "stdout",
     "output_type": "stream",
     "text": [
      "2497316\tdata/train.txt\n",
      "662221\tdata/train.parquet\n"
     ]
    }
   ],
   "source": [
    "# !du data/train.txt\n",
    "# !du data/train.parquet"
   ]
  },
  {
   "cell_type": "code",
   "execution_count": 7,
   "metadata": {},
   "outputs": [
    {
     "name": "stdout",
     "output_type": "stream",
     "text": [
      "CPU times: user 0 ns, sys: 30 ms, total: 30 ms\n",
      "Wall time: 34 s\n"
     ]
    },
    {
     "data": {
      "text/plain": [
       "10517430"
      ]
     },
     "execution_count": 7,
     "metadata": {},
     "output_type": "execute_result"
    }
   ],
   "source": [
    "# %%time\n",
    "# train.count()"
   ]
  },
  {
   "cell_type": "code",
   "execution_count": 6,
   "metadata": {},
   "outputs": [
    {
     "name": "stdout",
     "output_type": "stream",
     "text": [
      "CPU times: user 10 ms, sys: 0 ns, total: 10 ms\n",
      "Wall time: 1.36 s\n"
     ]
    },
    {
     "data": {
      "text/plain": [
       "10517430"
      ]
     },
     "execution_count": 6,
     "metadata": {},
     "output_type": "execute_result"
    }
   ],
   "source": [
    "# %%time\n",
    "# train_parquet.count()"
   ]
  },
  {
   "cell_type": "code",
   "execution_count": 10,
   "metadata": {},
   "outputs": [],
   "source": [
    "# test = spark.read.option('header','false').csv('data/test.txt', sep='\\t')\n",
    "# test.write.format('parquet').save('data/test.parquet')\n",
    "# test_parquet = spark.read.parquet('data/test.parquet')"
   ]
  },
  {
   "cell_type": "code",
   "execution_count": 12,
   "metadata": {},
   "outputs": [
    {
     "name": "stdout",
     "output_type": "stream",
     "text": [
      "CPU times: user 0 ns, sys: 0 ns, total: 0 ns\n",
      "Wall time: 327 ms\n"
     ]
    },
    {
     "data": {
      "text/plain": [
       "6042135"
      ]
     },
     "execution_count": 12,
     "metadata": {},
     "output_type": "execute_result"
    }
   ],
   "source": [
    "# %%time\n",
    "# test_parquet.count()"
   ]
  },
  {
   "cell_type": "code",
   "execution_count": 3,
   "metadata": {},
   "outputs": [],
   "source": [
    "train = spark.read.parquet('data/train.parquet')"
   ]
  },
  {
   "cell_type": "code",
   "execution_count": 11,
   "metadata": {},
   "outputs": [],
   "source": [
    "# test = spark.read.parquet('data/test.parquet')"
   ]
  },
  {
   "cell_type": "code",
   "execution_count": null,
   "metadata": {},
   "outputs": [],
   "source": [
    "train.summary()"
   ]
  },
  {
   "cell_type": "code",
   "execution_count": null,
   "metadata": {},
   "outputs": [],
   "source": [
    "train.show()"
   ]
  },
  {
   "cell_type": "code",
   "execution_count": 4,
   "metadata": {},
   "outputs": [
    {
     "name": "stdout",
     "output_type": "stream",
     "text": [
      "root\n",
      " |-- _c0: string (nullable = true)\n",
      " |-- _c1: string (nullable = true)\n",
      " |-- _c2: string (nullable = true)\n",
      " |-- _c3: string (nullable = true)\n",
      " |-- _c4: string (nullable = true)\n",
      " |-- _c5: string (nullable = true)\n",
      " |-- _c6: string (nullable = true)\n",
      " |-- _c7: string (nullable = true)\n",
      " |-- _c8: string (nullable = true)\n",
      " |-- _c9: string (nullable = true)\n",
      " |-- _c10: string (nullable = true)\n",
      " |-- _c11: string (nullable = true)\n",
      " |-- _c12: string (nullable = true)\n",
      " |-- _c13: string (nullable = true)\n",
      " |-- _c14: string (nullable = true)\n",
      " |-- _c15: string (nullable = true)\n",
      " |-- _c16: string (nullable = true)\n",
      " |-- _c17: string (nullable = true)\n",
      " |-- _c18: string (nullable = true)\n",
      " |-- _c19: string (nullable = true)\n",
      " |-- _c20: string (nullable = true)\n",
      " |-- _c21: string (nullable = true)\n",
      " |-- _c22: string (nullable = true)\n",
      " |-- _c23: string (nullable = true)\n",
      " |-- _c24: string (nullable = true)\n",
      " |-- _c25: string (nullable = true)\n",
      " |-- _c26: string (nullable = true)\n",
      " |-- _c27: string (nullable = true)\n",
      " |-- _c28: string (nullable = true)\n",
      " |-- _c29: string (nullable = true)\n",
      " |-- _c30: string (nullable = true)\n",
      " |-- _c31: string (nullable = true)\n",
      " |-- _c32: string (nullable = true)\n",
      " |-- _c33: string (nullable = true)\n",
      " |-- _c34: string (nullable = true)\n",
      " |-- _c35: string (nullable = true)\n",
      " |-- _c36: string (nullable = true)\n",
      " |-- _c37: string (nullable = true)\n",
      " |-- _c38: string (nullable = true)\n",
      " |-- _c39: string (nullable = true)\n",
      "\n"
     ]
    }
   ],
   "source": [
    "train.printSchema()"
   ]
  },
  {
   "cell_type": "code",
   "execution_count": 4,
   "metadata": {},
   "outputs": [],
   "source": [
    "# df = spark.read.option('header', 'false').csv('data/toy_train.txt', sep='\\t')\n",
    "# df.head()"
   ]
  },
  {
   "cell_type": "code",
   "execution_count": 5,
   "metadata": {},
   "outputs": [],
   "source": [
    "# %%time\n",
    "# df.count()"
   ]
  },
  {
   "cell_type": "code",
   "execution_count": 6,
   "metadata": {},
   "outputs": [],
   "source": [
    "# df.select(df.columns[2]).show(5)"
   ]
  },
  {
   "cell_type": "code",
   "execution_count": 7,
   "metadata": {},
   "outputs": [],
   "source": [
    "# # df.write.format('parquet').save('data/toy_train.parquet')\n",
    "# df = spark.read.parquet('data/toy_train.parquet')\n",
    "# df.printSchema()"
   ]
  },
  {
   "cell_type": "code",
   "execution_count": 9,
   "metadata": {},
   "outputs": [],
   "source": [
    "# for c in df.columns:\n",
    "#     df = df.withColumnRenamed(c, c.strip('_'))\n",
    "# df.columns[:5]"
   ]
  },
  {
   "cell_type": "code",
   "execution_count": 8,
   "metadata": {},
   "outputs": [],
   "source": [
    "# for c in df.columns[:14]:\n",
    "#     df = df.withColumn(c, df[c].cast('float'))\n",
    "# df.printSchema()"
   ]
  },
  {
   "cell_type": "code",
   "execution_count": 10,
   "metadata": {},
   "outputs": [
    {
     "data": {
      "text/plain": [
       "['c0', 'c1', 'c2', 'c3', 'c4']"
      ]
     },
     "execution_count": 10,
     "metadata": {},
     "output_type": "execute_result"
    }
   ],
   "source": [
    "for c in train.columns:\n",
    "    train = train.withColumnRenamed(c, c.strip('_'))\n",
    "train.columns[:5]"
   ]
  },
  {
   "cell_type": "code",
   "execution_count": 11,
   "metadata": {},
   "outputs": [
    {
     "name": "stdout",
     "output_type": "stream",
     "text": [
      "root\n",
      " |-- c0: float (nullable = true)\n",
      " |-- c1: float (nullable = true)\n",
      " |-- c2: float (nullable = true)\n",
      " |-- c3: float (nullable = true)\n",
      " |-- c4: float (nullable = true)\n",
      " |-- c5: float (nullable = true)\n",
      " |-- c6: float (nullable = true)\n",
      " |-- c7: float (nullable = true)\n",
      " |-- c8: float (nullable = true)\n",
      " |-- c9: float (nullable = true)\n",
      " |-- c10: float (nullable = true)\n",
      " |-- c11: float (nullable = true)\n",
      " |-- c12: float (nullable = true)\n",
      " |-- c13: float (nullable = true)\n",
      " |-- c14: string (nullable = true)\n",
      " |-- c15: string (nullable = true)\n",
      " |-- c16: string (nullable = true)\n",
      " |-- c17: string (nullable = true)\n",
      " |-- c18: string (nullable = true)\n",
      " |-- c19: string (nullable = true)\n",
      " |-- c20: string (nullable = true)\n",
      " |-- c21: string (nullable = true)\n",
      " |-- c22: string (nullable = true)\n",
      " |-- c23: string (nullable = true)\n",
      " |-- c24: string (nullable = true)\n",
      " |-- c25: string (nullable = true)\n",
      " |-- c26: string (nullable = true)\n",
      " |-- c27: string (nullable = true)\n",
      " |-- c28: string (nullable = true)\n",
      " |-- c29: string (nullable = true)\n",
      " |-- c30: string (nullable = true)\n",
      " |-- c31: string (nullable = true)\n",
      " |-- c32: string (nullable = true)\n",
      " |-- c33: string (nullable = true)\n",
      " |-- c34: string (nullable = true)\n",
      " |-- c35: string (nullable = true)\n",
      " |-- c36: string (nullable = true)\n",
      " |-- c37: string (nullable = true)\n",
      " |-- c38: string (nullable = true)\n",
      " |-- c39: string (nullable = true)\n",
      "\n",
      "CPU times: user 20 ms, sys: 20 ms, total: 40 ms\n",
      "Wall time: 467 ms\n"
     ]
    }
   ],
   "source": [
    "%%time\n",
    "for c in train.columns[:14]:\n",
    "    train = train.withColumn(c, train[c].cast('float'))\n",
    "train.printSchema()"
   ]
  },
  {
   "cell_type": "code",
   "execution_count": 12,
   "metadata": {},
   "outputs": [
    {
     "name": "stdout",
     "output_type": "stream",
     "text": [
      "CPU times: user 10 ms, sys: 30 ms, total: 40 ms\n",
      "Wall time: 28.8 s\n"
     ]
    }
   ],
   "source": [
    "%%time\n",
    "stats = train[train.columns[1:14]].describe()\n",
    "means = np.array(stats[stats['summary'] == 'mean'].collect())[0][1:]"
   ]
  },
  {
   "cell_type": "code",
   "execution_count": 22,
   "metadata": {},
   "outputs": [
    {
     "name": "stdout",
     "output_type": "stream",
     "text": [
      "-RECORD 0---------------------\n",
      " summary | count              \n",
      " c1      | 5851479            \n",
      " c2      | 10517430           \n",
      " c3      | 8259890            \n",
      " c4      | 8205798            \n",
      " c5      | 10229986           \n",
      " c6      | 8113327            \n",
      " c7      | 10051997           \n",
      " c8      | 10511722           \n",
      " c9      | 10051997           \n",
      " c10     | 5851479            \n",
      " c11     | 10051997           \n",
      " c12     | 2421098            \n",
      " c13     | 8205798            \n",
      "-RECORD 1---------------------\n",
      " summary | mean               \n",
      " c1      | 3.328972555485545  \n",
      " c2      | 105.8503159041705  \n",
      " c3      | 23.18154818042371  \n",
      " c4      | 7.264945225315076  \n",
      " c5      | 18855.035923998334 \n",
      " c6      | 117.62881774640663 \n",
      " c7      | 15.340354060989075 \n",
      " c8      | 12.639540695615809 \n",
      " c9      | 104.34038838252738 \n",
      " c10     | 0.6040327582137781 \n",
      " c11     | 2.580706599892539  \n",
      " c12     | 0.9472768140736145 \n",
      " c13     | 8.162416988573202  \n",
      "-RECORD 2---------------------\n",
      " summary | stddev             \n",
      " c1      | 9.023793277214889  \n",
      " c2      | 385.94956038515096 \n",
      " c3      | 305.3086346521295  \n",
      " c4      | 8.783062231973414  \n",
      " c5      | 69725.44362040126  \n",
      " c6      | 373.8008126581502  \n",
      " c7      | 62.68034425888404  \n",
      " c8      | 21.00102787819026  \n",
      " c9      | 218.34585024290664 \n",
      " c10     | 0.6796531979283054 \n",
      " c11     | 4.992157027235161  \n",
      " c12     | 5.226772105944096  \n",
      " c13     | 21.187339262735218 \n",
      "-RECORD 3---------------------\n",
      " summary | min                \n",
      " c1      | 0.0                \n",
      " c2      | -3.0               \n",
      " c3      | 0.0                \n",
      " c4      | 0.0                \n",
      " c5      | 0.0                \n",
      " c6      | 0.0                \n",
      " c7      | 0.0                \n",
      " c8      | 0.0                \n",
      " c9      | 0.0                \n",
      " c10     | 0.0                \n",
      " c11     | 0.0                \n",
      " c12     | 0.0                \n",
      " c13     | 0.0                \n",
      "-RECORD 4---------------------\n",
      " summary | max                \n",
      " c1      | 1539.0             \n",
      " c2      | 22066.0            \n",
      " c3      | 65535.0            \n",
      " c4      | 561.0              \n",
      " c5      | 2655388.0          \n",
      " c6      | 233523.0           \n",
      " c7      | 26297.0            \n",
      " c8      | 5106.0             \n",
      " c9      | 24376.0            \n",
      " c10     | 9.0                \n",
      " c11     | 181.0              \n",
      " c12     | 1807.0             \n",
      " c13     | 6879.0             \n",
      "\n"
     ]
    }
   ],
   "source": [
    "stats = train[train.columns[1:14]].describe()\n",
    "stats.show(vertical=True)"
   ]
  },
  {
   "cell_type": "code",
   "execution_count": 23,
   "metadata": {},
   "outputs": [
    {
     "name": "stdout",
     "output_type": "stream",
     "text": [
      "[   1396     554 2715463  726532     290      22   12059     608       3\n",
      "   65969    5319 2288894    3128      26   12805 1607063      11    5017\n",
      "    2119       3 1990457      17      15  139105      94   85796]\n",
      "CPU times: user 120 ms, sys: 150 ms, total: 270 ms\n",
      "Wall time: 50.3 s\n"
     ]
    }
   ],
   "source": [
    "%%time\n",
    "counts = []\n",
    "for c in train.columns[14:]:\n",
    "    count = train.agg(F.countDistinct(c).alias('c')).collect()[0]['c']\n",
    "    counts.append(count)\n",
    "counts = np.array(counts)\n",
    "# number of unique hash  values\n",
    "print(counts)"
   ]
  },
  {
   "cell_type": "markdown",
   "metadata": {},
   "source": [
    "# Experimenting with RDDs"
   ]
  },
  {
   "cell_type": "code",
   "execution_count": 16,
   "metadata": {},
   "outputs": [],
   "source": [
    "toyTrainRDD = sc.textFile('data/toy_train.txt')"
   ]
  },
  {
   "cell_type": "code",
   "execution_count": 17,
   "metadata": {},
   "outputs": [
    {
     "data": {
      "text/plain": [
       "'0\\t\\t1\\t12\\t1\\t62526\\t\\t\\t3\\t\\t\\t\\t\\t3\\t05db9164\\t08d6d899\\t9143c832\\tf56b7dd5\\t25c83c98\\t7e0ccccf\\t89a13b6b\\t0b153874\\t7cc72ec2\\tc5fe5cb9\\tfa365cf9\\tae1bb660\\td2420e4c\\tb28479f6\\tbffbd637\\tbad5ee18\\t07c540c4\\tbbf70d82\\t\\t\\t0429f84b\\t\\t32c7478e\\tc0d61a5c\\t\\t'"
      ]
     },
     "execution_count": 17,
     "metadata": {},
     "output_type": "execute_result"
    }
   ],
   "source": [
    "toyTrainRDD.collect()[0]"
   ]
  },
  {
   "cell_type": "code",
   "execution_count": 21,
   "metadata": {},
   "outputs": [
    {
     "data": {
      "text/plain": [
       "'0\\t\\t1\\t12\\t1\\t62526\\t\\t\\t3\\t\\t\\t\\t\\t3\\t05db9164\\t08d6d899\\t9143c832\\tf56b7dd5\\t25c83c98\\t7e0ccccf\\t89a13b6b\\t0b153874\\t7cc72ec2\\tc5fe5cb9\\tfa365cf9\\tae1bb660\\td2420e4c\\tb28479f6\\tbffbd637\\tbad5ee18\\t07c540c4\\tbbf70d82\\t\\t\\t0429f84b\\t\\t32c7478e\\tc0d61a5c\\t\\t'"
      ]
     },
     "execution_count": 21,
     "metadata": {},
     "output_type": "execute_result"
    }
   ],
   "source": [
    "line = toyTrainRDD.collect()[0]\n",
    "line"
   ]
  },
  {
   "cell_type": "code",
   "execution_count": 22,
   "metadata": {},
   "outputs": [
    {
     "data": {
      "text/plain": [
       "['0',\n",
       " '',\n",
       " '1',\n",
       " '12',\n",
       " '1',\n",
       " '62526',\n",
       " '',\n",
       " '',\n",
       " '3',\n",
       " '',\n",
       " '',\n",
       " '',\n",
       " '',\n",
       " '3',\n",
       " '05db9164',\n",
       " '08d6d899',\n",
       " '9143c832',\n",
       " 'f56b7dd5',\n",
       " '25c83c98',\n",
       " '7e0ccccf',\n",
       " '89a13b6b',\n",
       " '0b153874',\n",
       " '7cc72ec2',\n",
       " 'c5fe5cb9',\n",
       " 'fa365cf9',\n",
       " 'ae1bb660',\n",
       " 'd2420e4c',\n",
       " 'b28479f6',\n",
       " 'bffbd637',\n",
       " 'bad5ee18',\n",
       " '07c540c4',\n",
       " 'bbf70d82',\n",
       " '',\n",
       " '',\n",
       " '0429f84b',\n",
       " '',\n",
       " '32c7478e',\n",
       " 'c0d61a5c',\n",
       " '',\n",
       " '']"
      ]
     },
     "execution_count": 22,
     "metadata": {},
     "output_type": "execute_result"
    }
   ],
   "source": [
    "line = line.split('\\t')\n",
    "line"
   ]
  },
  {
   "cell_type": "code",
   "execution_count": 12,
   "metadata": {},
   "outputs": [],
   "source": [
    "def parse(line):\n",
    "    line = line.split('\\t')\n",
    "    key = line[0]\n",
    "    values = line[1:]\n",
    "    for i,v in enumerate(values[:13]):\n",
    "        v = \n",
    "    \n",
    "    return key, values"
   ]
  },
  {
   "cell_type": "code",
   "execution_count": 14,
   "metadata": {},
   "outputs": [
    {
     "data": {
      "text/plain": [
       "('0',\n",
       " ('',\n",
       "  '1',\n",
       "  '12',\n",
       "  '1',\n",
       "  '62526',\n",
       "  '',\n",
       "  '',\n",
       "  '3',\n",
       "  '',\n",
       "  '',\n",
       "  '',\n",
       "  '',\n",
       "  '3',\n",
       "  '05db9164',\n",
       "  '08d6d899',\n",
       "  '9143c832',\n",
       "  'f56b7dd5',\n",
       "  '25c83c98',\n",
       "  '7e0ccccf',\n",
       "  '89a13b6b',\n",
       "  '0b153874',\n",
       "  '7cc72ec2',\n",
       "  'c5fe5cb9',\n",
       "  'fa365cf9',\n",
       "  'ae1bb660',\n",
       "  'd2420e4c',\n",
       "  'b28479f6',\n",
       "  'bffbd637',\n",
       "  'bad5ee18',\n",
       "  '07c540c4',\n",
       "  'bbf70d82',\n",
       "  '',\n",
       "  '',\n",
       "  '0429f84b',\n",
       "  '',\n",
       "  '32c7478e',\n",
       "  'c0d61a5c',\n",
       "  '',\n",
       "  ''))"
      ]
     },
     "execution_count": 14,
     "metadata": {},
     "output_type": "execute_result"
    }
   ],
   "source": [
    "toyTrainRDD = toyTrainRDD.map(parse)\n",
    "\n",
    "toyTrainRDD.collect()[0]"
   ]
  },
  {
   "cell_type": "code",
   "execution_count": null,
   "metadata": {},
   "outputs": [],
   "source": []
  }
 ],
 "metadata": {
  "kernelspec": {
   "display_name": "Python 3",
   "language": "python",
   "name": "python3"
  },
  "language_info": {
   "codemirror_mode": {
    "name": "ipython",
    "version": 3
   },
   "file_extension": ".py",
   "mimetype": "text/x-python",
   "name": "python",
   "nbconvert_exporter": "python",
   "pygments_lexer": "ipython3",
   "version": "3.6.6"
  }
 },
 "nbformat": 4,
 "nbformat_minor": 2
}
