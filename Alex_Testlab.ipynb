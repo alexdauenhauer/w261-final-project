{
 "cells": [
  {
   "cell_type": "markdown",
   "metadata": {},
   "source": [
    "# setup"
   ]
  },
  {
   "cell_type": "code",
   "execution_count": 1,
   "metadata": {},
   "outputs": [],
   "source": [
    "import re\n",
    "import ast\n",
    "import time\n",
    "import numpy as np\n",
    "import pandas as pd\n",
    "import matplotlib.pyplot as plt\n",
    "import pyspark.sql.functions as F\n",
    "from pyspark.sql import types"
   ]
  },
  {
   "cell_type": "code",
   "execution_count": 2,
   "metadata": {},
   "outputs": [],
   "source": [
    "# start Spark Session\n",
    "from pyspark.sql import SparkSession\n",
    "app_name = \"finalProject\"\n",
    "master = \"local[*]\"\n",
    "spark = SparkSession\\\n",
    "        .builder\\\n",
    "        .appName(app_name)\\\n",
    "        .master(master)\\\n",
    "        .getOrCreate()\n",
    "sc = spark.sparkContext"
   ]
  },
  {
   "cell_type": "markdown",
   "metadata": {},
   "source": [
    "# check file size"
   ]
  },
  {
   "cell_type": "code",
   "execution_count": 3,
   "metadata": {},
   "outputs": [
    {
     "name": "stdout",
     "output_type": "stream",
     "text": [
      "45840617 data/train.txt\n"
     ]
    }
   ],
   "source": [
    "!wc -l data/train.txt"
   ]
  },
  {
   "cell_type": "code",
   "execution_count": 4,
   "metadata": {},
   "outputs": [
    {
     "name": "stdout",
     "output_type": "stream",
     "text": [
      "6042135 data/test.txt\n"
     ]
    }
   ],
   "source": [
    "!wc -l data/test.txt"
   ]
  },
  {
   "cell_type": "markdown",
   "metadata": {},
   "source": [
    "# experimenting and some EDA with DFs"
   ]
  },
  {
   "cell_type": "code",
   "execution_count": 5,
   "metadata": {},
   "outputs": [],
   "source": [
    "train = spark.read.option('header', 'false').csv('data/train.txt', sep='\\t')"
   ]
  },
  {
   "cell_type": "code",
   "execution_count": 6,
   "metadata": {},
   "outputs": [],
   "source": [
    "train.write.format('parquet').save('data/train.parquet')\n",
    "train_parquet = spark.read.parquet('data/train.parquet')"
   ]
  },
  {
   "cell_type": "code",
   "execution_count": 9,
   "metadata": {},
   "outputs": [
    {
     "name": "stdout",
     "output_type": "stream",
     "text": [
      "10885924\tdata/train.txt\n",
      "2895045\tdata/train.parquet\n"
     ]
    }
   ],
   "source": [
    "!du data/train.txt\n",
    "!du data/train.parquet"
   ]
  },
  {
   "cell_type": "code",
   "execution_count": 7,
   "metadata": {},
   "outputs": [
    {
     "name": "stdout",
     "output_type": "stream",
     "text": [
      "CPU times: user 20 ms, sys: 60 ms, total: 80 ms\n",
      "Wall time: 2min 47s\n"
     ]
    },
    {
     "data": {
      "text/plain": [
       "45840617"
      ]
     },
     "execution_count": 7,
     "metadata": {},
     "output_type": "execute_result"
    }
   ],
   "source": [
    "%%time\n",
    "train.count()"
   ]
  },
  {
   "cell_type": "code",
   "execution_count": 8,
   "metadata": {},
   "outputs": [
    {
     "name": "stdout",
     "output_type": "stream",
     "text": [
      "CPU times: user 0 ns, sys: 10 ms, total: 10 ms\n",
      "Wall time: 2.85 s\n"
     ]
    },
    {
     "data": {
      "text/plain": [
       "45840617"
      ]
     },
     "execution_count": 8,
     "metadata": {},
     "output_type": "execute_result"
    }
   ],
   "source": [
    "%%time\n",
    "train_parquet.count()"
   ]
  },
  {
   "cell_type": "code",
   "execution_count": 15,
   "metadata": {},
   "outputs": [],
   "source": [
    "test = spark.read.option('header','false').csv('data/test.txt', sep='\\t')\n",
    "test.write.format('parquet').save('data/test.parquet')\n",
    "del test\n",
    "# test_parquet = spark.read.parquet('data/test.parquet')"
   ]
  },
  {
   "cell_type": "code",
   "execution_count": 12,
   "metadata": {},
   "outputs": [
    {
     "name": "stdout",
     "output_type": "stream",
     "text": [
      "CPU times: user 0 ns, sys: 0 ns, total: 0 ns\n",
      "Wall time: 327 ms\n"
     ]
    },
    {
     "data": {
      "text/plain": [
       "6042135"
      ]
     },
     "execution_count": 12,
     "metadata": {},
     "output_type": "execute_result"
    }
   ],
   "source": [
    "# %%time\n",
    "# test_parquet.count()"
   ]
  },
  {
   "cell_type": "code",
   "execution_count": 16,
   "metadata": {},
   "outputs": [],
   "source": [
    "train = spark.read.parquet('data/train.parquet')\n",
    "s = train.sample(False, 0.05)"
   ]
  },
  {
   "cell_type": "code",
   "execution_count": 11,
   "metadata": {},
   "outputs": [],
   "source": [
    "# test = spark.read.parquet('data/test.parquet')"
   ]
  },
  {
   "cell_type": "code",
   "execution_count": 17,
   "metadata": {},
   "outputs": [
    {
     "name": "stdout",
     "output_type": "stream",
     "text": [
      "root\n",
      " |-- _c0: string (nullable = true)\n",
      " |-- _c1: string (nullable = true)\n",
      " |-- _c2: string (nullable = true)\n",
      " |-- _c3: string (nullable = true)\n",
      " |-- _c4: string (nullable = true)\n",
      " |-- _c5: string (nullable = true)\n",
      " |-- _c6: string (nullable = true)\n",
      " |-- _c7: string (nullable = true)\n",
      " |-- _c8: string (nullable = true)\n",
      " |-- _c9: string (nullable = true)\n",
      " |-- _c10: string (nullable = true)\n",
      " |-- _c11: string (nullable = true)\n",
      " |-- _c12: string (nullable = true)\n",
      " |-- _c13: string (nullable = true)\n",
      " |-- _c14: string (nullable = true)\n",
      " |-- _c15: string (nullable = true)\n",
      " |-- _c16: string (nullable = true)\n",
      " |-- _c17: string (nullable = true)\n",
      " |-- _c18: string (nullable = true)\n",
      " |-- _c19: string (nullable = true)\n",
      " |-- _c20: string (nullable = true)\n",
      " |-- _c21: string (nullable = true)\n",
      " |-- _c22: string (nullable = true)\n",
      " |-- _c23: string (nullable = true)\n",
      " |-- _c24: string (nullable = true)\n",
      " |-- _c25: string (nullable = true)\n",
      " |-- _c26: string (nullable = true)\n",
      " |-- _c27: string (nullable = true)\n",
      " |-- _c28: string (nullable = true)\n",
      " |-- _c29: string (nullable = true)\n",
      " |-- _c30: string (nullable = true)\n",
      " |-- _c31: string (nullable = true)\n",
      " |-- _c32: string (nullable = true)\n",
      " |-- _c33: string (nullable = true)\n",
      " |-- _c34: string (nullable = true)\n",
      " |-- _c35: string (nullable = true)\n",
      " |-- _c36: string (nullable = true)\n",
      " |-- _c37: string (nullable = true)\n",
      " |-- _c38: string (nullable = true)\n",
      " |-- _c39: string (nullable = true)\n",
      "\n"
     ]
    }
   ],
   "source": [
    "s.printSchema()"
   ]
  },
  {
   "cell_type": "code",
   "execution_count": 4,
   "metadata": {},
   "outputs": [],
   "source": [
    "# df = spark.read.option('header', 'false').csv('data/toy_train.txt', sep='\\t')\n",
    "# df.head()"
   ]
  },
  {
   "cell_type": "code",
   "execution_count": 5,
   "metadata": {},
   "outputs": [],
   "source": [
    "# %%time\n",
    "# df.count()"
   ]
  },
  {
   "cell_type": "code",
   "execution_count": 6,
   "metadata": {},
   "outputs": [],
   "source": [
    "# df.select(df.columns[2]).show(5)"
   ]
  },
  {
   "cell_type": "code",
   "execution_count": 7,
   "metadata": {},
   "outputs": [],
   "source": [
    "# # df.write.format('parquet').save('data/toy_train.parquet')\n",
    "# df = spark.read.parquet('data/toy_train.parquet')\n",
    "# df.printSchema()"
   ]
  },
  {
   "cell_type": "code",
   "execution_count": 9,
   "metadata": {},
   "outputs": [],
   "source": [
    "# for c in df.columns:\n",
    "#     df = df.withColumnRenamed(c, c.strip('_'))\n",
    "# df.columns[:5]"
   ]
  },
  {
   "cell_type": "code",
   "execution_count": 8,
   "metadata": {},
   "outputs": [],
   "source": [
    "# for c in df.columns[:14]:\n",
    "#     df = df.withColumn(c, df[c].cast('float'))\n",
    "# df.printSchema()"
   ]
  },
  {
   "cell_type": "code",
   "execution_count": 21,
   "metadata": {},
   "outputs": [
    {
     "data": {
      "text/plain": [
       "['c0', 'c1', 'c2', 'c3', 'c4']"
      ]
     },
     "execution_count": 21,
     "metadata": {},
     "output_type": "execute_result"
    }
   ],
   "source": [
    "for c in train.columns:\n",
    "    train = train.withColumnRenamed(c, c.strip('_'))\n",
    "train.columns[:5]\n",
    "\n",
    "# for c in s.columns:\n",
    "#     s = s.withColumnRenamed(c, c.strip('_'))\n",
    "# s.columns[:5]"
   ]
  },
  {
   "cell_type": "code",
   "execution_count": 22,
   "metadata": {},
   "outputs": [
    {
     "name": "stdout",
     "output_type": "stream",
     "text": [
      "root\n",
      " |-- c0: float (nullable = true)\n",
      " |-- c1: float (nullable = true)\n",
      " |-- c2: float (nullable = true)\n",
      " |-- c3: float (nullable = true)\n",
      " |-- c4: float (nullable = true)\n",
      " |-- c5: float (nullable = true)\n",
      " |-- c6: float (nullable = true)\n",
      " |-- c7: float (nullable = true)\n",
      " |-- c8: float (nullable = true)\n",
      " |-- c9: float (nullable = true)\n",
      " |-- c10: float (nullable = true)\n",
      " |-- c11: float (nullable = true)\n",
      " |-- c12: float (nullable = true)\n",
      " |-- c13: float (nullable = true)\n",
      " |-- c14: string (nullable = true)\n",
      " |-- c15: string (nullable = true)\n",
      " |-- c16: string (nullable = true)\n",
      " |-- c17: string (nullable = true)\n",
      " |-- c18: string (nullable = true)\n",
      " |-- c19: string (nullable = true)\n",
      " |-- c20: string (nullable = true)\n",
      " |-- c21: string (nullable = true)\n",
      " |-- c22: string (nullable = true)\n",
      " |-- c23: string (nullable = true)\n",
      " |-- c24: string (nullable = true)\n",
      " |-- c25: string (nullable = true)\n",
      " |-- c26: string (nullable = true)\n",
      " |-- c27: string (nullable = true)\n",
      " |-- c28: string (nullable = true)\n",
      " |-- c29: string (nullable = true)\n",
      " |-- c30: string (nullable = true)\n",
      " |-- c31: string (nullable = true)\n",
      " |-- c32: string (nullable = true)\n",
      " |-- c33: string (nullable = true)\n",
      " |-- c34: string (nullable = true)\n",
      " |-- c35: string (nullable = true)\n",
      " |-- c36: string (nullable = true)\n",
      " |-- c37: string (nullable = true)\n",
      " |-- c38: string (nullable = true)\n",
      " |-- c39: string (nullable = true)\n",
      "\n",
      "CPU times: user 20 ms, sys: 20 ms, total: 40 ms\n",
      "Wall time: 172 ms\n"
     ]
    }
   ],
   "source": [
    "%%time\n",
    "for c in train.columns[:14]:\n",
    "    train = train.withColumn(c, train[c].cast('float'))\n",
    "train.printSchema()\n",
    "\n",
    "# for c in s.columns[:14]:\n",
    "#     s = s.withColumn(c, s[c].cast('float'))\n",
    "# s.printSchema()"
   ]
  },
  {
   "cell_type": "code",
   "execution_count": 20,
   "metadata": {},
   "outputs": [
    {
     "name": "stdout",
     "output_type": "stream",
     "text": [
      "CPU times: user 40 ms, sys: 10 ms, total: 50 ms\n",
      "Wall time: 20.9 s\n"
     ]
    }
   ],
   "source": [
    "%%time\n",
    "# stats = train[train.columns[1:14]].describe()\n",
    "# means = np.array(stats[stats['summary'] == 'mean'].collect())[0][1:]\n",
    "# stdevs = np.array(stats[stats['summary'] == 'stddev'].collect())[0][1:]\n",
    "\n",
    "stats = s[s.columns[1:14]].describe()\n",
    "means = np.array(stats[stats['summary'] == 'mean'].collect())[0][1:]\n",
    "stdevs = np.array(stats[stats['summary'] == 'stddev'].collect())[0][1:]"
   ]
  },
  {
   "cell_type": "code",
   "execution_count": 23,
   "metadata": {},
   "outputs": [
    {
     "name": "stdout",
     "output_type": "stream",
     "text": [
      "-RECORD 0---------------------\n",
      " summary | count              \n",
      " c1      | 25047061           \n",
      " c2      | 45840617           \n",
      " c3      | 36001170           \n",
      " c4      | 35903248           \n",
      " c5      | 44657500           \n",
      " c6      | 35588289           \n",
      " c7      | 43857751           \n",
      " c8      | 45817844           \n",
      " c9      | 43857751           \n",
      " c10     | 25047061           \n",
      " c11     | 43857751           \n",
      " c12     | 10768965           \n",
      " c13     | 35903248           \n",
      "-RECORD 1---------------------\n",
      " summary | mean               \n",
      " c1      | 3.5024133170754044 \n",
      " c2      | 105.84841979766546 \n",
      " c3      | 26.913041020611274 \n",
      " c4      | 7.322680248873305  \n",
      " c5      | 18538.991664871523 \n",
      " c6      | 116.06185085211598 \n",
      " c7      | 16.333130032135028 \n",
      " c8      | 12.517042137556713 \n",
      " c9      | 106.1098234380509  \n",
      " c10     | 0.6175294977722137 \n",
      " c11     | 2.7328343170173044 \n",
      " c12     | 0.9910356287721244 \n",
      " c13     | 8.217461161174054  \n",
      "-RECORD 2---------------------\n",
      " summary | stddev             \n",
      " c1      | 9.429076407105091  \n",
      " c2      | 391.4578226870699  \n",
      " c3      | 397.9725830227334  \n",
      " c4      | 8.79323071264576   \n",
      " c5      | 69394.60184622322  \n",
      " c6      | 382.5664493712398  \n",
      " c7      | 66.04975524511696  \n",
      " c8      | 16.688884567787493 \n",
      " c9      | 220.28309398648054 \n",
      " c10     | 0.6840505553977008 \n",
      " c11     | 5.199070884811365  \n",
      " c12     | 5.597723872237185  \n",
      " c13     | 16.211932558173654 \n",
      "-RECORD 3---------------------\n",
      " summary | min                \n",
      " c1      | 0.0                \n",
      " c2      | -3.0               \n",
      " c3      | 0.0                \n",
      " c4      | 0.0                \n",
      " c5      | 0.0                \n",
      " c6      | 0.0                \n",
      " c7      | 0.0                \n",
      " c8      | 0.0                \n",
      " c9      | 0.0                \n",
      " c10     | 0.0                \n",
      " c11     | 0.0                \n",
      " c12     | 0.0                \n",
      " c13     | 0.0                \n",
      "-RECORD 4---------------------\n",
      " summary | max                \n",
      " c1      | 5775.0             \n",
      " c2      | 257675.0           \n",
      " c3      | 65535.0            \n",
      " c4      | 969.0              \n",
      " c5      | 2.3159456E7        \n",
      " c6      | 431037.0           \n",
      " c7      | 56311.0            \n",
      " c8      | 6047.0             \n",
      " c9      | 29019.0            \n",
      " c10     | 11.0               \n",
      " c11     | 231.0              \n",
      " c12     | 4008.0             \n",
      " c13     | 7393.0             \n",
      "\n"
     ]
    }
   ],
   "source": [
    "stats = train[train.columns[1:14]].describe()\n",
    "stats.show(vertical=True)"
   ]
  },
  {
   "cell_type": "code",
   "execution_count": 24,
   "metadata": {},
   "outputs": [
    {
     "name": "stdout",
     "output_type": "stream",
     "text": [
      "[    1460      583 10131226  2202607      305       23    12517      633\n",
      "        3    93145     5683  8351592     3194       27    14992  5461305\n",
      "       10     5652     2172        3  7046546       17       15   286180\n",
      "      104   142571]\n",
      "CPU times: user 220 ms, sys: 180 ms, total: 400 ms\n",
      "Wall time: 3min\n"
     ]
    }
   ],
   "source": [
    "%%time\n",
    "counts = []\n",
    "for c in train.columns[14:]:\n",
    "    count = train.agg(F.countDistinct(c).alias('c')).collect()[0]['c']\n",
    "    counts.append(count)\n",
    "counts = np.array(counts)\n",
    "# number of unique hash  values\n",
    "print(counts)\n",
    "\n",
    "# counts = []\n",
    "# for c in s.columns[14:]:\n",
    "#     count = s.agg(F.countDistinct(c).alias('c')).collect()[0]['c']\n",
    "#     counts.append(count)\n",
    "# counts = np.array(counts)\n",
    "# # number of unique hash  values\n",
    "# print(counts)"
   ]
  },
  {
   "cell_type": "code",
   "execution_count": 15,
   "metadata": {},
   "outputs": [
    {
     "data": {
      "text/plain": [
       "list"
      ]
     },
     "execution_count": 15,
     "metadata": {},
     "output_type": "execute_result"
    }
   ],
   "source": [
    "c2 = s.select('c2').collect()\n",
    "type(c2)"
   ]
  },
  {
   "cell_type": "code",
   "execution_count": null,
   "metadata": {},
   "outputs": [],
   "source": [
    "plt.hist(c2)"
   ]
  },
  {
   "cell_type": "code",
   "execution_count": null,
   "metadata": {},
   "outputs": [],
   "source": [
    "def plotter(data, labels):\n",
    "    '''\n",
    "    data must be a numpy.ndarray of shape (X, 96, 96, 1)\n",
    "    labels must be a numpy.ndarray (X, 30)\n",
    "    X must be any square number\n",
    "    labels = true labels\n",
    "    labesl2 = predicted labels (optional)\n",
    "    '''\n",
    "    \n",
    "    dim = np.sqrt()\n",
    "    fig = plt.figure(figsize=(10,10))\n",
    "    fig.subplots_adjust(left=0, right=1, bottom=0, top=1, hspace=0.05, wspace=0.05)\n",
    "    for i in range(len(labels)):\n",
    "        img = data[i].reshape(96,96)\n",
    "        ax = fig.add_subplot(dim, dim, i + 1, xticks=[], yticks=[])\n",
    "        ax.imshow(data[i].reshape(96,96), cmap='gray')\n",
    "        ax.scatter(labels[i][0::2] * 48 + 48, labels[i][1::2] * 48 + 48, c='r')\n",
    "        if not labels2 is None:\n",
    "            ax.scatter(labels2[i][0::2] * 48 + 48, labels2[i][1::2] * 48 + 48, c='b')\n",
    "\n"
   ]
  },
  {
   "cell_type": "markdown",
   "metadata": {},
   "source": [
    "# Data maniplulation"
   ]
  },
  {
   "cell_type": "code",
   "execution_count": 9,
   "metadata": {},
   "outputs": [],
   "source": [
    "for i,c in enumerate(train.columns[1:14]):\n",
    "    train = train.withColumn(c, (train[c] - means[i]) / stdevs[i])"
   ]
  },
  {
   "cell_type": "code",
   "execution_count": 10,
   "metadata": {},
   "outputs": [
    {
     "name": "stdout",
     "output_type": "stream",
     "text": [
      "-RECORD 0-----------------------\n",
      " summary | count                \n",
      " c1      | 5851479              \n",
      " c2      | 10517430             \n",
      " c3      | 8259890              \n",
      " c4      | 8205798              \n",
      " c5      | 10229986             \n",
      " c6      | 8113327              \n",
      " c7      | 10051997             \n",
      " c8      | 10511722             \n",
      " c9      | 10051997             \n",
      " c10     | 5851479              \n",
      " c11     | 10051997             \n",
      " c12     | 2421098              \n",
      " c13     | 8205798              \n",
      "-RECORD 1-----------------------\n",
      " summary | mean                 \n",
      " c1      | -7.97593112269365... \n",
      " c2      | 5.828207091676494... \n",
      " c3      | 3.909513938232698... \n",
      " c4      | -3.74083514832785... \n",
      " c5      | 9.537483029736827... \n",
      " c6      | 3.244443654866041... \n",
      " c7      | 9.026366645182133... \n",
      " c8      | -4.24857390976072... \n",
      " c9      | 6.576557065533054... \n",
      " c10     | 1.379353179119628... \n",
      " c11     | 4.190010407219867... \n",
      " c12     | -1.01941175954099... \n",
      " c13     | -4.75671009901150... \n",
      "-RECORD 2-----------------------\n",
      " summary | stddev               \n",
      " c1      | 0.9999999999999969   \n",
      " c2      | 1.0000000000000164   \n",
      " c3      | 0.9999999999999779   \n",
      " c4      | 0.9999999999999994   \n",
      " c5      | 1.0000000000000075   \n",
      " c6      | 1.0000000000000009   \n",
      " c7      | 0.9999999999999978   \n",
      " c8      | 0.9999999999999855   \n",
      " c9      | 0.9999999999999993   \n",
      " c10     | 1.0000000000000007   \n",
      " c11     | 1.0000000000000075   \n",
      " c12     | 1.0000000000000022   \n",
      " c13     | 1.0000000000000049   \n",
      "-RECORD 3-----------------------\n",
      " summary | min                  \n",
      " c1      | -0.36891055160707337 \n",
      " c2      | -0.2820324909699221  \n",
      " c3      | -0.07592824292977139 \n",
      " c4      | -0.8271540191151258  \n",
      " c5      | -0.27041829990568117 \n",
      " c6      | -0.3146831514622227  \n",
      " c7      | -0.2447394672503701  \n",
      " c8      | -0.6018534315999873  \n",
      " c9      | -0.47786751278510764 \n",
      " c10     | -0.8887367263995362  \n",
      " c11     | -0.5169522083967435  \n",
      " c12     | -0.1812355302417592  \n",
      " c13     | -0.3852497421858652  \n",
      "-RECORD 4-----------------------\n",
      " summary | max                  \n",
      " c1      | 170.18020917235432   \n",
      " c2      | 56.899014633365866   \n",
      " c3      | 214.57571459275673   \n",
      " c4      | 63.04578518855257    \n",
      " c5      | 37.81306833169531    \n",
      " c6      | 624.4110854721666    \n",
      " c7      | 419.29667037867233   \n",
      " c8      | 242.52910328231508   \n",
      " c9      | 111.16153379885901   \n",
      " c10     | 12.353310875868031   \n",
      " c11     | 35.73992012405158    \n",
      " c12     | 345.53883096070143   \n",
      " c13     | 324.28977975049537   \n",
      "\n"
     ]
    }
   ],
   "source": [
    "stats2 = train[train.columns[1:14]].describe()\n",
    "stats2.show(vertical=True)"
   ]
  },
  {
   "cell_type": "markdown",
   "metadata": {},
   "source": [
    "# Experimenting with RDDs"
   ]
  },
  {
   "cell_type": "code",
   "execution_count": 16,
   "metadata": {},
   "outputs": [],
   "source": [
    "toyTrainRDD = sc.textFile('data/toy_train.txt')"
   ]
  },
  {
   "cell_type": "code",
   "execution_count": 17,
   "metadata": {},
   "outputs": [
    {
     "data": {
      "text/plain": [
       "'0\\t\\t1\\t12\\t1\\t62526\\t\\t\\t3\\t\\t\\t\\t\\t3\\t05db9164\\t08d6d899\\t9143c832\\tf56b7dd5\\t25c83c98\\t7e0ccccf\\t89a13b6b\\t0b153874\\t7cc72ec2\\tc5fe5cb9\\tfa365cf9\\tae1bb660\\td2420e4c\\tb28479f6\\tbffbd637\\tbad5ee18\\t07c540c4\\tbbf70d82\\t\\t\\t0429f84b\\t\\t32c7478e\\tc0d61a5c\\t\\t'"
      ]
     },
     "execution_count": 17,
     "metadata": {},
     "output_type": "execute_result"
    }
   ],
   "source": [
    "toyTrainRDD.collect()[0]"
   ]
  },
  {
   "cell_type": "code",
   "execution_count": 21,
   "metadata": {},
   "outputs": [
    {
     "data": {
      "text/plain": [
       "'0\\t\\t1\\t12\\t1\\t62526\\t\\t\\t3\\t\\t\\t\\t\\t3\\t05db9164\\t08d6d899\\t9143c832\\tf56b7dd5\\t25c83c98\\t7e0ccccf\\t89a13b6b\\t0b153874\\t7cc72ec2\\tc5fe5cb9\\tfa365cf9\\tae1bb660\\td2420e4c\\tb28479f6\\tbffbd637\\tbad5ee18\\t07c540c4\\tbbf70d82\\t\\t\\t0429f84b\\t\\t32c7478e\\tc0d61a5c\\t\\t'"
      ]
     },
     "execution_count": 21,
     "metadata": {},
     "output_type": "execute_result"
    }
   ],
   "source": [
    "line = toyTrainRDD.collect()[0]\n",
    "line"
   ]
  },
  {
   "cell_type": "code",
   "execution_count": 22,
   "metadata": {},
   "outputs": [
    {
     "data": {
      "text/plain": [
       "['0',\n",
       " '',\n",
       " '1',\n",
       " '12',\n",
       " '1',\n",
       " '62526',\n",
       " '',\n",
       " '',\n",
       " '3',\n",
       " '',\n",
       " '',\n",
       " '',\n",
       " '',\n",
       " '3',\n",
       " '05db9164',\n",
       " '08d6d899',\n",
       " '9143c832',\n",
       " 'f56b7dd5',\n",
       " '25c83c98',\n",
       " '7e0ccccf',\n",
       " '89a13b6b',\n",
       " '0b153874',\n",
       " '7cc72ec2',\n",
       " 'c5fe5cb9',\n",
       " 'fa365cf9',\n",
       " 'ae1bb660',\n",
       " 'd2420e4c',\n",
       " 'b28479f6',\n",
       " 'bffbd637',\n",
       " 'bad5ee18',\n",
       " '07c540c4',\n",
       " 'bbf70d82',\n",
       " '',\n",
       " '',\n",
       " '0429f84b',\n",
       " '',\n",
       " '32c7478e',\n",
       " 'c0d61a5c',\n",
       " '',\n",
       " '']"
      ]
     },
     "execution_count": 22,
     "metadata": {},
     "output_type": "execute_result"
    }
   ],
   "source": [
    "line = line.split('\\t')\n",
    "line"
   ]
  },
  {
   "cell_type": "code",
   "execution_count": 12,
   "metadata": {},
   "outputs": [],
   "source": [
    "def parse(line):\n",
    "    line = line.split('\\t')\n",
    "    key = line[0]\n",
    "    values = line[1:]\n",
    "    for i,v in enumerate(values[:13]):\n",
    "        v = \n",
    "    \n",
    "    return key, values"
   ]
  },
  {
   "cell_type": "code",
   "execution_count": 14,
   "metadata": {},
   "outputs": [
    {
     "data": {
      "text/plain": [
       "('0',\n",
       " ('',\n",
       "  '1',\n",
       "  '12',\n",
       "  '1',\n",
       "  '62526',\n",
       "  '',\n",
       "  '',\n",
       "  '3',\n",
       "  '',\n",
       "  '',\n",
       "  '',\n",
       "  '',\n",
       "  '3',\n",
       "  '05db9164',\n",
       "  '08d6d899',\n",
       "  '9143c832',\n",
       "  'f56b7dd5',\n",
       "  '25c83c98',\n",
       "  '7e0ccccf',\n",
       "  '89a13b6b',\n",
       "  '0b153874',\n",
       "  '7cc72ec2',\n",
       "  'c5fe5cb9',\n",
       "  'fa365cf9',\n",
       "  'ae1bb660',\n",
       "  'd2420e4c',\n",
       "  'b28479f6',\n",
       "  'bffbd637',\n",
       "  'bad5ee18',\n",
       "  '07c540c4',\n",
       "  'bbf70d82',\n",
       "  '',\n",
       "  '',\n",
       "  '0429f84b',\n",
       "  '',\n",
       "  '32c7478e',\n",
       "  'c0d61a5c',\n",
       "  '',\n",
       "  ''))"
      ]
     },
     "execution_count": 14,
     "metadata": {},
     "output_type": "execute_result"
    }
   ],
   "source": [
    "toyTrainRDD = toyTrainRDD.map(parse)\n",
    "\n",
    "toyTrainRDD.collect()[0]"
   ]
  },
  {
   "cell_type": "code",
   "execution_count": null,
   "metadata": {},
   "outputs": [],
   "source": []
  }
 ],
 "metadata": {
  "kernelspec": {
   "display_name": "Python 3",
   "language": "python",
   "name": "python3"
  },
  "language_info": {
   "codemirror_mode": {
    "name": "ipython",
    "version": 3
   },
   "file_extension": ".py",
   "mimetype": "text/x-python",
   "name": "python",
   "nbconvert_exporter": "python",
   "pygments_lexer": "ipython3",
   "version": "3.6.6"
  }
 },
 "nbformat": 4,
 "nbformat_minor": 2
}
