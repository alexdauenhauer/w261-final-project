{
 "cells": [
  {
   "cell_type": "markdown",
   "metadata": {},
   "source": [
    "# setup"
   ]
  },
  {
   "cell_type": "code",
   "execution_count": 1,
   "metadata": {},
   "outputs": [],
   "source": [
    "import re\n",
    "import ast\n",
    "import time\n",
    "import numpy as np\n",
    "import pandas as pd\n",
    "import matplotlib.pyplot as plt\n",
    "import pyspark.sql.functions as F\n",
    "from pyspark.sql import types, Row, Column\n",
    "from pyspark.ml.feature import OneHotEncoderEstimator, StringIndexer"
   ]
  },
  {
   "cell_type": "code",
   "execution_count": 2,
   "metadata": {},
   "outputs": [],
   "source": [
    "# start Spark Session\n",
    "from pyspark.sql import SparkSession\n",
    "app_name = \"finalProject\"\n",
    "master = \"local[*]\"\n",
    "spark = SparkSession\\\n",
    "        .builder\\\n",
    "        .appName(app_name)\\\n",
    "        .master(master)\\\n",
    "        .getOrCreate()\n",
    "sc = spark.sparkContext"
   ]
  },
  {
   "cell_type": "markdown",
   "metadata": {},
   "source": [
    "# check file size"
   ]
  },
  {
   "cell_type": "code",
   "execution_count": 3,
   "metadata": {},
   "outputs": [
    {
     "name": "stdout",
     "output_type": "stream",
     "text": [
      "45840617 data/train.txt\n"
     ]
    }
   ],
   "source": [
    "!wc -l data/train.txt"
   ]
  },
  {
   "cell_type": "code",
   "execution_count": 4,
   "metadata": {},
   "outputs": [
    {
     "name": "stdout",
     "output_type": "stream",
     "text": [
      "6042135 data/test.txt\n"
     ]
    }
   ],
   "source": [
    "!wc -l data/test.txt"
   ]
  },
  {
   "cell_type": "markdown",
   "metadata": {},
   "source": [
    "# experimenting and some EDA with DFs"
   ]
  },
  {
   "cell_type": "code",
   "execution_count": 5,
   "metadata": {},
   "outputs": [],
   "source": [
    "train = spark.read.option('header', 'false').csv('data/train.txt', sep='\\t')"
   ]
  },
  {
   "cell_type": "code",
   "execution_count": 6,
   "metadata": {},
   "outputs": [],
   "source": [
    "train.write.format('parquet').save('data/train.parquet')\n",
    "train_parquet = spark.read.parquet('data/train.parquet')"
   ]
  },
  {
   "cell_type": "code",
   "execution_count": 9,
   "metadata": {},
   "outputs": [
    {
     "name": "stdout",
     "output_type": "stream",
     "text": [
      "10885924\tdata/train.txt\n",
      "2895045\tdata/train.parquet\n"
     ]
    }
   ],
   "source": [
    "!du data/train.txt\n",
    "!du data/train.parquet"
   ]
  },
  {
   "cell_type": "code",
   "execution_count": 7,
   "metadata": {},
   "outputs": [
    {
     "name": "stdout",
     "output_type": "stream",
     "text": [
      "CPU times: user 20 ms, sys: 60 ms, total: 80 ms\n",
      "Wall time: 2min 47s\n"
     ]
    },
    {
     "data": {
      "text/plain": [
       "45840617"
      ]
     },
     "execution_count": 7,
     "metadata": {},
     "output_type": "execute_result"
    }
   ],
   "source": [
    "%%time\n",
    "train.count()"
   ]
  },
  {
   "cell_type": "code",
   "execution_count": 8,
   "metadata": {},
   "outputs": [
    {
     "name": "stdout",
     "output_type": "stream",
     "text": [
      "CPU times: user 0 ns, sys: 10 ms, total: 10 ms\n",
      "Wall time: 2.85 s\n"
     ]
    },
    {
     "data": {
      "text/plain": [
       "45840617"
      ]
     },
     "execution_count": 8,
     "metadata": {},
     "output_type": "execute_result"
    }
   ],
   "source": [
    "%%time\n",
    "train_parquet.count()"
   ]
  },
  {
   "cell_type": "code",
   "execution_count": 15,
   "metadata": {},
   "outputs": [],
   "source": [
    "test = spark.read.option('header','false').csv('data/test.txt', sep='\\t')\n",
    "test.write.format('parquet').save('data/test.parquet')\n",
    "del test\n",
    "# test_parquet = spark.read.parquet('data/test.parquet')"
   ]
  },
  {
   "cell_type": "code",
   "execution_count": 12,
   "metadata": {},
   "outputs": [
    {
     "name": "stdout",
     "output_type": "stream",
     "text": [
      "CPU times: user 0 ns, sys: 0 ns, total: 0 ns\n",
      "Wall time: 327 ms\n"
     ]
    },
    {
     "data": {
      "text/plain": [
       "6042135"
      ]
     },
     "execution_count": 12,
     "metadata": {},
     "output_type": "execute_result"
    }
   ],
   "source": [
    "# %%time\n",
    "# test_parquet.count()"
   ]
  },
  {
   "cell_type": "code",
   "execution_count": 3,
   "metadata": {},
   "outputs": [],
   "source": [
    "train = spark.read.parquet('data/train.parquet')\n",
    "# s = train.sample(False, 0.05)"
   ]
  },
  {
   "cell_type": "code",
   "execution_count": 11,
   "metadata": {},
   "outputs": [],
   "source": [
    "# test = spark.read.parquet('data/test.parquet')"
   ]
  },
  {
   "cell_type": "code",
   "execution_count": null,
   "metadata": {},
   "outputs": [],
   "source": [
    "s.printSchema()"
   ]
  },
  {
   "cell_type": "code",
   "execution_count": 4,
   "metadata": {},
   "outputs": [],
   "source": [
    "# df = spark.read.option('header', 'false').csv('data/toy_train.txt', sep='\\t')\n",
    "# df.head()"
   ]
  },
  {
   "cell_type": "code",
   "execution_count": 5,
   "metadata": {},
   "outputs": [],
   "source": [
    "# %%time\n",
    "# df.count()"
   ]
  },
  {
   "cell_type": "code",
   "execution_count": 6,
   "metadata": {},
   "outputs": [],
   "source": [
    "# df.select(df.columns[2]).show(5)"
   ]
  },
  {
   "cell_type": "code",
   "execution_count": 7,
   "metadata": {},
   "outputs": [],
   "source": [
    "# # df.write.format('parquet').save('data/toy_train.parquet')\n",
    "# df = spark.read.parquet('data/toy_train.parquet')\n",
    "# df.printSchema()"
   ]
  },
  {
   "cell_type": "code",
   "execution_count": 9,
   "metadata": {},
   "outputs": [],
   "source": [
    "# for c in df.columns:\n",
    "#     df = df.withColumnRenamed(c, c.strip('_'))\n",
    "# df.columns[:5]"
   ]
  },
  {
   "cell_type": "code",
   "execution_count": 8,
   "metadata": {},
   "outputs": [],
   "source": [
    "# for c in df.columns[:14]:\n",
    "#     df = df.withColumn(c, df[c].cast('float'))\n",
    "# df.printSchema()"
   ]
  },
  {
   "cell_type": "code",
   "execution_count": 4,
   "metadata": {},
   "outputs": [
    {
     "data": {
      "text/plain": [
       "['c0', 'c1', 'c2', 'c3', 'c4']"
      ]
     },
     "execution_count": 4,
     "metadata": {},
     "output_type": "execute_result"
    }
   ],
   "source": [
    "# full training set\n",
    "for c in train.columns:\n",
    "    train = train.withColumnRenamed(c, c.strip('_'))\n",
    "train.columns[:5]"
   ]
  },
  {
   "cell_type": "code",
   "execution_count": 4,
   "metadata": {},
   "outputs": [],
   "source": [
    "# sample\n",
    "for c in s.columns:\n",
    "    s = s.withColumnRenamed(c, c.strip('_'))\n",
    "# s.columns[:5]"
   ]
  },
  {
   "cell_type": "code",
   "execution_count": 5,
   "metadata": {},
   "outputs": [
    {
     "name": "stdout",
     "output_type": "stream",
     "text": [
      "root\n",
      " |-- c0: float (nullable = true)\n",
      " |-- c1: float (nullable = true)\n",
      " |-- c2: float (nullable = true)\n",
      " |-- c3: float (nullable = true)\n",
      " |-- c4: float (nullable = true)\n",
      " |-- c5: float (nullable = true)\n",
      " |-- c6: float (nullable = true)\n",
      " |-- c7: float (nullable = true)\n",
      " |-- c8: float (nullable = true)\n",
      " |-- c9: float (nullable = true)\n",
      " |-- c10: float (nullable = true)\n",
      " |-- c11: float (nullable = true)\n",
      " |-- c12: float (nullable = true)\n",
      " |-- c13: float (nullable = true)\n",
      " |-- c14: string (nullable = true)\n",
      " |-- c15: string (nullable = true)\n",
      " |-- c16: string (nullable = true)\n",
      " |-- c17: string (nullable = true)\n",
      " |-- c18: string (nullable = true)\n",
      " |-- c19: string (nullable = true)\n",
      " |-- c20: string (nullable = true)\n",
      " |-- c21: string (nullable = true)\n",
      " |-- c22: string (nullable = true)\n",
      " |-- c23: string (nullable = true)\n",
      " |-- c24: string (nullable = true)\n",
      " |-- c25: string (nullable = true)\n",
      " |-- c26: string (nullable = true)\n",
      " |-- c27: string (nullable = true)\n",
      " |-- c28: string (nullable = true)\n",
      " |-- c29: string (nullable = true)\n",
      " |-- c30: string (nullable = true)\n",
      " |-- c31: string (nullable = true)\n",
      " |-- c32: string (nullable = true)\n",
      " |-- c33: string (nullable = true)\n",
      " |-- c34: string (nullable = true)\n",
      " |-- c35: string (nullable = true)\n",
      " |-- c36: string (nullable = true)\n",
      " |-- c37: string (nullable = true)\n",
      " |-- c38: string (nullable = true)\n",
      " |-- c39: string (nullable = true)\n",
      "\n"
     ]
    }
   ],
   "source": [
    "# full training set\n",
    "for c in train.columns[:14]:\n",
    "    train = train.withColumn(c, train[c].cast('float'))\n",
    "train.printSchema()"
   ]
  },
  {
   "cell_type": "code",
   "execution_count": 5,
   "metadata": {},
   "outputs": [],
   "source": [
    "# sample\n",
    "for c in s.columns[:14]:\n",
    "    s = s.withColumn(c, s[c].cast('float'))\n",
    "# s.printSchema()"
   ]
  },
  {
   "cell_type": "code",
   "execution_count": 98,
   "metadata": {},
   "outputs": [
    {
     "name": "stdout",
     "output_type": "stream",
     "text": [
      "CPU times: user 70 ms, sys: 30 ms, total: 100 ms\n",
      "Wall time: 1min 59s\n"
     ]
    }
   ],
   "source": [
    "%%time\n",
    "# full training set\n",
    "stats = train[train.columns[1:14]].describe()\n",
    "means = np.array(stats[stats['summary'] == 'mean'].collect())[0][1:]\n",
    "stdevs = np.array(stats[stats['summary'] == 'stddev'].collect())[0][1:]"
   ]
  },
  {
   "cell_type": "code",
   "execution_count": 12,
   "metadata": {},
   "outputs": [
    {
     "name": "stdout",
     "output_type": "stream",
     "text": [
      "CPU times: user 20 ms, sys: 60 ms, total: 80 ms\n",
      "Wall time: 25 s\n"
     ]
    }
   ],
   "source": [
    "%%time\n",
    "# sample\n",
    "stats = s[s.columns[1:14]].describe()\n",
    "means = np.array(stats[stats['summary'] == 'mean'].collect())[0][1:]\n",
    "stdevs = np.array(stats[stats['summary'] == 'stddev'].collect())[0][1:]"
   ]
  },
  {
   "cell_type": "code",
   "execution_count": 99,
   "metadata": {},
   "outputs": [
    {
     "name": "stdout",
     "output_type": "stream",
     "text": [
      "-RECORD 0---------------------\n",
      " summary | count              \n",
      " c1      | 25047061           \n",
      " c2      | 45840617           \n",
      " c3      | 36001170           \n",
      " c4      | 35903248           \n",
      " c5      | 44657500           \n",
      " c6      | 35588289           \n",
      " c7      | 43857751           \n",
      " c8      | 45817844           \n",
      " c9      | 43857751           \n",
      " c10     | 25047061           \n",
      " c11     | 43857751           \n",
      " c12     | 10768965           \n",
      " c13     | 35903248           \n",
      "-RECORD 1---------------------\n",
      " summary | mean               \n",
      " c1      | 3.5024133170754044 \n",
      " c2      | 105.84841979766546 \n",
      " c3      | 26.913041020611274 \n",
      " c4      | 7.322680248873305  \n",
      " c5      | 18538.991664871523 \n",
      " c6      | 116.06185085211598 \n",
      " c7      | 16.333130032135028 \n",
      " c8      | 12.517042137556713 \n",
      " c9      | 106.1098234380509  \n",
      " c10     | 0.6175294977722137 \n",
      " c11     | 2.7328343170173044 \n",
      " c12     | 0.9910356287721244 \n",
      " c13     | 8.217461161174054  \n",
      "-RECORD 2---------------------\n",
      " summary | stddev             \n",
      " c1      | 9.429076407105091  \n",
      " c2      | 391.4578226870699  \n",
      " c3      | 397.9725830227334  \n",
      " c4      | 8.79323071264576   \n",
      " c5      | 69394.60184622322  \n",
      " c6      | 382.5664493712398  \n",
      " c7      | 66.04975524511696  \n",
      " c8      | 16.688884567787493 \n",
      " c9      | 220.28309398648054 \n",
      " c10     | 0.6840505553977008 \n",
      " c11     | 5.199070884811365  \n",
      " c12     | 5.597723872237185  \n",
      " c13     | 16.211932558173654 \n",
      "-RECORD 3---------------------\n",
      " summary | min                \n",
      " c1      | 0.0                \n",
      " c2      | -3.0               \n",
      " c3      | 0.0                \n",
      " c4      | 0.0                \n",
      " c5      | 0.0                \n",
      " c6      | 0.0                \n",
      " c7      | 0.0                \n",
      " c8      | 0.0                \n",
      " c9      | 0.0                \n",
      " c10     | 0.0                \n",
      " c11     | 0.0                \n",
      " c12     | 0.0                \n",
      " c13     | 0.0                \n",
      "-RECORD 4---------------------\n",
      " summary | max                \n",
      " c1      | 5775.0             \n",
      " c2      | 257675.0           \n",
      " c3      | 65535.0            \n",
      " c4      | 969.0              \n",
      " c5      | 2.3159456E7        \n",
      " c6      | 431037.0           \n",
      " c7      | 56311.0            \n",
      " c8      | 6047.0             \n",
      " c9      | 29019.0            \n",
      " c10     | 11.0               \n",
      " c11     | 231.0              \n",
      " c12     | 4008.0             \n",
      " c13     | 7393.0             \n",
      "\n"
     ]
    }
   ],
   "source": [
    "stats.show(vertical=True)"
   ]
  },
  {
   "cell_type": "code",
   "execution_count": 6,
   "metadata": {},
   "outputs": [],
   "source": [
    "stats2 = train[train.columns[1:]].summary('count')"
   ]
  },
  {
   "cell_type": "code",
   "execution_count": 7,
   "metadata": {},
   "outputs": [
    {
     "name": "stdout",
     "output_type": "stream",
     "text": [
      "-RECORD 0-----------\n",
      " summary | count    \n",
      " c1      | 25047061 \n",
      " c2      | 45840617 \n",
      " c3      | 36001170 \n",
      " c4      | 35903248 \n",
      " c5      | 44657500 \n",
      " c6      | 35588289 \n",
      " c7      | 43857751 \n",
      " c8      | 45817844 \n",
      " c9      | 43857751 \n",
      " c10     | 25047061 \n",
      " c11     | 43857751 \n",
      " c12     | 10768965 \n",
      " c13     | 35903248 \n",
      " c14     | 45840617 \n",
      " c15     | 45840617 \n",
      " c16     | 44281144 \n",
      " c17     | 44281144 \n",
      " c18     | 45840617 \n",
      " c19     | 40299992 \n",
      " c20     | 45840617 \n",
      " c21     | 45840617 \n",
      " c22     | 45840617 \n",
      " c23     | 45840617 \n",
      " c24     | 45840617 \n",
      " c25     | 44281144 \n",
      " c26     | 45840617 \n",
      " c27     | 45840617 \n",
      " c28     | 45840617 \n",
      " c29     | 44281144 \n",
      " c30     | 45840617 \n",
      " c31     | 45840617 \n",
      " c32     | 25667759 \n",
      " c33     | 25667759 \n",
      " c34     | 44281144 \n",
      " c35     | 10885544 \n",
      " c36     | 45840617 \n",
      " c37     | 44281144 \n",
      " c38     | 25667759 \n",
      " c39     | 25667759 \n",
      "\n"
     ]
    }
   ],
   "source": [
    "stats2.show(vertical=True)"
   ]
  },
  {
   "cell_type": "code",
   "execution_count": 9,
   "metadata": {},
   "outputs": [
    {
     "data": {
      "text/plain": [
       "45840617"
      ]
     },
     "execution_count": 9,
     "metadata": {},
     "output_type": "execute_result"
    }
   ],
   "source": [
    "N = train.count()\n",
    "N"
   ]
  },
  {
   "cell_type": "code",
   "execution_count": 10,
   "metadata": {},
   "outputs": [
    {
     "data": {
      "text/plain": [
       "{'c1': 20793556,\n",
       " 'c2': 0,\n",
       " 'c3': 9839447,\n",
       " 'c4': 9937369,\n",
       " 'c5': 1183117,\n",
       " 'c6': 10252328,\n",
       " 'c7': 1982866,\n",
       " 'c8': 22773,\n",
       " 'c9': 1982866,\n",
       " 'c10': 20793556,\n",
       " 'c11': 1982866,\n",
       " 'c12': 35071652,\n",
       " 'c13': 9937369,\n",
       " 'c14': 0,\n",
       " 'c15': 0,\n",
       " 'c16': 1559473,\n",
       " 'c17': 1559473,\n",
       " 'c18': 0,\n",
       " 'c19': 5540625,\n",
       " 'c20': 0,\n",
       " 'c21': 0,\n",
       " 'c22': 0,\n",
       " 'c23': 0,\n",
       " 'c24': 0,\n",
       " 'c25': 1559473,\n",
       " 'c26': 0,\n",
       " 'c27': 0,\n",
       " 'c28': 0,\n",
       " 'c29': 1559473,\n",
       " 'c30': 0,\n",
       " 'c31': 0,\n",
       " 'c32': 20172858,\n",
       " 'c33': 20172858,\n",
       " 'c34': 1559473,\n",
       " 'c35': 34955073,\n",
       " 'c36': 0,\n",
       " 'c37': 1559473,\n",
       " 'c38': 20172858,\n",
       " 'c39': 20172858}"
      ]
     },
     "execution_count": 10,
     "metadata": {},
     "output_type": "execute_result"
    }
   ],
   "source": [
    "nans = {}\n",
    "for c in stats2.columns[1:]:\n",
    "    nans[c] = N - int(stats2.select(c).collect()[0][0])\n",
    "nans"
   ]
  },
  {
   "cell_type": "code",
   "execution_count": null,
   "metadata": {},
   "outputs": [],
   "source": []
  },
  {
   "cell_type": "code",
   "execution_count": null,
   "metadata": {},
   "outputs": [],
   "source": []
  },
  {
   "cell_type": "code",
   "execution_count": null,
   "metadata": {},
   "outputs": [],
   "source": []
  },
  {
   "cell_type": "code",
   "execution_count": null,
   "metadata": {},
   "outputs": [],
   "source": []
  },
  {
   "cell_type": "code",
   "execution_count": null,
   "metadata": {},
   "outputs": [],
   "source": []
  },
  {
   "cell_type": "code",
   "execution_count": null,
   "metadata": {},
   "outputs": [],
   "source": []
  },
  {
   "cell_type": "markdown",
   "metadata": {},
   "source": [
    "# Pre-processing"
   ]
  },
  {
   "cell_type": "code",
   "execution_count": 11,
   "metadata": {},
   "outputs": [
    {
     "name": "stdout",
     "output_type": "stream",
     "text": [
      "{'c14': 1460, 'c15': 583, 'c16': 10131226, 'c17': 2202607, 'c18': 305, 'c19': 23, 'c20': 12517, 'c21': 633, 'c22': 3, 'c23': 93145, 'c24': 5683, 'c25': 8351592, 'c26': 3194, 'c27': 27, 'c28': 14992, 'c29': 5461305, 'c30': 10, 'c31': 5652, 'c32': 2172, 'c33': 3, 'c34': 7046546, 'c35': 17, 'c36': 15, 'c37': 286180, 'c38': 104, 'c39': 142571}\n",
      "CPU times: user 270 ms, sys: 180 ms, total: 450 ms\n",
      "Wall time: 3min 52s\n"
     ]
    }
   ],
   "source": [
    "%%time\n",
    "# get unique counts of categorical variables\n",
    "uniqueCounts = {}\n",
    "for c in train.columns[14:]:\n",
    "    count = train.agg(F.countDistinct(c).alias('c')).collect()[0]['c']\n",
    "    uniqueCounts[c] = count"
   ]
  },
  {
   "cell_type": "code",
   "execution_count": 13,
   "metadata": {},
   "outputs": [
    {
     "data": {
      "text/plain": [
       "{'c14': 1460,\n",
       " 'c15': 583,\n",
       " 'c16': 10131226,\n",
       " 'c17': 2202607,\n",
       " 'c18': 305,\n",
       " 'c19': 23,\n",
       " 'c20': 12517,\n",
       " 'c21': 633,\n",
       " 'c22': 3,\n",
       " 'c23': 93145,\n",
       " 'c24': 5683,\n",
       " 'c25': 8351592,\n",
       " 'c26': 3194,\n",
       " 'c27': 27,\n",
       " 'c28': 14992,\n",
       " 'c29': 5461305,\n",
       " 'c30': 10,\n",
       " 'c31': 5652,\n",
       " 'c32': 2172,\n",
       " 'c33': 3,\n",
       " 'c34': 7046546,\n",
       " 'c35': 17,\n",
       " 'c36': 15,\n",
       " 'c37': 286180,\n",
       " 'c38': 104,\n",
       " 'c39': 142571}"
      ]
     },
     "execution_count": 13,
     "metadata": {},
     "output_type": "execute_result"
    }
   ],
   "source": [
    "uniqueCounts"
   ]
  },
  {
   "cell_type": "code",
   "execution_count": 18,
   "metadata": {},
   "outputs": [
    {
     "data": {
      "text/plain": [
       "46059"
      ]
     },
     "execution_count": 18,
     "metadata": {},
     "output_type": "execute_result"
    }
   ],
   "source": [
    "# grab a small-ish sample\n",
    "s = train.select('c0','c2','c3','c22','c33').sample(False, 0.001)\n",
    "s.count()"
   ]
  },
  {
   "cell_type": "code",
   "execution_count": 19,
   "metadata": {},
   "outputs": [
    {
     "data": {
      "text/plain": [
       "[Row(c0=0.0, c2=1.0, c3=4.0, c22='a73ee510', c33=None),\n",
       " Row(c0=0.0, c2=1.0, c3=9.0, c22='a73ee510', c33=None),\n",
       " Row(c0=0.0, c2=4.0, c3=78.0, c22='a73ee510', c33='b1252a9d'),\n",
       " Row(c0=0.0, c2=5.0, c3=1.0, c22='a73ee510', c33=None),\n",
       " Row(c0=0.0, c2=2.0, c3=6.0, c22='a73ee510', c33='a458ea53')]"
      ]
     },
     "execution_count": 19,
     "metadata": {},
     "output_type": "execute_result"
    }
   ],
   "source": [
    "s.head(5)"
   ]
  },
  {
   "cell_type": "code",
   "execution_count": 20,
   "metadata": {},
   "outputs": [
    {
     "name": "stdout",
     "output_type": "stream",
     "text": [
      "CPU times: user 10 ms, sys: 10 ms, total: 20 ms\n",
      "Wall time: 4.83 s\n"
     ]
    }
   ],
   "source": [
    "%%time\n",
    "# grab some stats for standardizing the numerical columns\n",
    "stats4 = s[s.columns[1:3]].describe()\n",
    "means = np.array(stats4[stats4['summary'] == 'mean'].collect())[0][1:]\n",
    "stdevs = np.array(stats4[stats4['summary'] == 'stddev'].collect())[0][1:]"
   ]
  },
  {
   "cell_type": "code",
   "execution_count": 21,
   "metadata": {},
   "outputs": [],
   "source": [
    "# standardize the numerical columns\n",
    "for i,c in enumerate(s.columns[1:3]):\n",
    "    s = s.withColumn(c, (s[c] - means[i]) / stdevs[i])"
   ]
  },
  {
   "cell_type": "code",
   "execution_count": 22,
   "metadata": {},
   "outputs": [
    {
     "data": {
      "text/plain": [
       "[Row(c0=0.0, c2=-0.2734937899654927, c3=-0.04722750963646816, c22='a73ee510', c33=None),\n",
       " Row(c0=0.0, c2=-0.2734937899654927, c3=-0.03838908232395208, c22='a73ee510', c33=None),\n",
       " Row(c0=0.0, c2=-0.2655903267941605, c3=0.08358121458876974, c22='a73ee510', c33='b1252a9d'),\n",
       " Row(c0=0.0, c2=-0.2629558390703831, c3=-0.0525305660239778, c22='a73ee510', c33=None),\n",
       " Row(c0=0.0, c2=-0.2708593022417153, c3=-0.04369213871146173, c22='a73ee510', c33='a458ea53')]"
      ]
     },
     "execution_count": 22,
     "metadata": {},
     "output_type": "execute_result"
    }
   ],
   "source": [
    "s.head(5)"
   ]
  },
  {
   "cell_type": "code",
   "execution_count": 23,
   "metadata": {},
   "outputs": [
    {
     "data": {
      "text/plain": [
       "['c0', 'c2', 'c3', 'c22', 'c33']"
      ]
     },
     "execution_count": 23,
     "metadata": {},
     "output_type": "execute_result"
    }
   ],
   "source": [
    "s.columns"
   ]
  },
  {
   "cell_type": "code",
   "execution_count": 24,
   "metadata": {},
   "outputs": [
    {
     "name": "stdout",
     "output_type": "stream",
     "text": [
      "+---+--------------------+--------------------+--------+--------+\n",
      "| c0|                  c2|                  c3|     c22|     c33|\n",
      "+---+--------------------+--------------------+--------+--------+\n",
      "|0.0| -0.2734937899654927|-0.04722750963646816|a73ee510|    null|\n",
      "|0.0| -0.2734937899654927|-0.03838908232395208|a73ee510|    null|\n",
      "|0.0| -0.2655903267941605| 0.08358121458876974|a73ee510|b1252a9d|\n",
      "|0.0| -0.2629558390703831| -0.0525305660239778|a73ee510|    null|\n",
      "|0.0| -0.2708593022417153|-0.04369213871146173|a73ee510|a458ea53|\n",
      "|1.0| -0.2708593022417153| 0.04999519080120866|a73ee510|a458ea53|\n",
      "|0.0| -0.2629558390703831|0.039389078026189364|a73ee510|    null|\n",
      "|1.0|0.018934347373797816|                null|a73ee510|5840adea|\n",
      "|1.0|-0.09961760019618482|-0.04369213871146173|a73ee510|5840adea|\n",
      "|0.0| -0.2734937899654927| 0.42474450885189013|7cc72ec2|b1252a9d|\n",
      "|0.0|-0.10225208791996221|-0.02071222769891...|a73ee510|    null|\n",
      "|0.0|-0.14703837922417787|                null|a73ee510|    null|\n",
      "|0.0|-0.27612827768927006|-0.04722750963646816|a73ee510|    null|\n",
      "|0.0|-0.27612827768927006| -0.0525305660239778|a73ee510|a458ea53|\n",
      "|1.0|   4.961233317180185|-0.03662139686144...|a73ee510|a458ea53|\n",
      "|0.0|  0.4378178954544031|0.019944537938654004|a73ee510|b1252a9d|\n",
      "|0.0|-0.21816954776616745|-0.04015676778645529|a73ee510|    null|\n",
      "|0.0|0.029472298268907383|-0.04192445324895...|a73ee510|    null|\n",
      "|1.0| -0.2734937899654927| -0.0525305660239778|a73ee510|5840adea|\n",
      "|0.0|   4.689881081631113|                null|7cc72ec2|5840adea|\n",
      "+---+--------------------+--------------------+--------+--------+\n",
      "only showing top 20 rows\n",
      "\n"
     ]
    }
   ],
   "source": [
    "s.show()"
   ]
  },
  {
   "cell_type": "code",
   "execution_count": 25,
   "metadata": {},
   "outputs": [],
   "source": [
    "# convert the categorical variables to indices\n",
    "indexer = StringIndexer(inputCol='c22', outputCol='c22_idx', handleInvalid='keep')\n",
    "s = indexer.fit(s).transform(s)"
   ]
  },
  {
   "cell_type": "code",
   "execution_count": 26,
   "metadata": {},
   "outputs": [
    {
     "name": "stdout",
     "output_type": "stream",
     "text": [
      "+---+--------------------+--------------------+--------+--------+-------+-------+\n",
      "| c0|                  c2|                  c3|     c22|     c33|c22_idx|c33_idx|\n",
      "+---+--------------------+--------------------+--------+--------+-------+-------+\n",
      "|0.0| -0.2734937899654927|-0.04722750963646816|a73ee510|    null|    0.0|    3.0|\n",
      "|0.0| -0.2734937899654927|-0.03838908232395208|a73ee510|    null|    0.0|    3.0|\n",
      "|0.0| -0.2655903267941605| 0.08358121458876974|a73ee510|b1252a9d|    0.0|    0.0|\n",
      "|0.0| -0.2629558390703831| -0.0525305660239778|a73ee510|    null|    0.0|    3.0|\n",
      "|0.0| -0.2708593022417153|-0.04369213871146173|a73ee510|a458ea53|    0.0|    2.0|\n",
      "|1.0| -0.2708593022417153| 0.04999519080120866|a73ee510|a458ea53|    0.0|    2.0|\n",
      "|0.0| -0.2629558390703831|0.039389078026189364|a73ee510|    null|    0.0|    3.0|\n",
      "|1.0|0.018934347373797816|                null|a73ee510|5840adea|    0.0|    1.0|\n",
      "|1.0|-0.09961760019618482|-0.04369213871146173|a73ee510|5840adea|    0.0|    1.0|\n",
      "|0.0| -0.2734937899654927| 0.42474450885189013|7cc72ec2|b1252a9d|    1.0|    0.0|\n",
      "|0.0|-0.10225208791996221|-0.02071222769891...|a73ee510|    null|    0.0|    3.0|\n",
      "|0.0|-0.14703837922417787|                null|a73ee510|    null|    0.0|    3.0|\n",
      "|0.0|-0.27612827768927006|-0.04722750963646816|a73ee510|    null|    0.0|    3.0|\n",
      "|0.0|-0.27612827768927006| -0.0525305660239778|a73ee510|a458ea53|    0.0|    2.0|\n",
      "|1.0|   4.961233317180185|-0.03662139686144...|a73ee510|a458ea53|    0.0|    2.0|\n",
      "|0.0|  0.4378178954544031|0.019944537938654004|a73ee510|b1252a9d|    0.0|    0.0|\n",
      "|0.0|-0.21816954776616745|-0.04015676778645529|a73ee510|    null|    0.0|    3.0|\n",
      "|0.0|0.029472298268907383|-0.04192445324895...|a73ee510|    null|    0.0|    3.0|\n",
      "|1.0| -0.2734937899654927| -0.0525305660239778|a73ee510|5840adea|    0.0|    1.0|\n",
      "|0.0|   4.689881081631113|                null|7cc72ec2|5840adea|    1.0|    1.0|\n",
      "+---+--------------------+--------------------+--------+--------+-------+-------+\n",
      "only showing top 20 rows\n",
      "\n"
     ]
    }
   ],
   "source": [
    "indexer = StringIndexer(inputCol='c33', outputCol='c33_idx', handleInvalid='keep')\n",
    "s = indexer.fit(s).transform(s)\n",
    "s.show()"
   ]
  },
  {
   "cell_type": "code",
   "execution_count": 27,
   "metadata": {},
   "outputs": [
    {
     "data": {
      "text/plain": [
       "46059"
      ]
     },
     "execution_count": 27,
     "metadata": {},
     "output_type": "execute_result"
    }
   ],
   "source": [
    "# make sure it kept the null values\n",
    "s.count()"
   ]
  },
  {
   "cell_type": "code",
   "execution_count": 28,
   "metadata": {},
   "outputs": [],
   "source": [
    "# encode one-hot vectors\n",
    "encoder = OneHotEncoderEstimator(inputCols=['c22_idx','c33_idx'], outputCols=['c22_OHE', 'c33_OHE'])\n",
    "s = encoder.fit(s).transform(s)"
   ]
  },
  {
   "cell_type": "code",
   "execution_count": 29,
   "metadata": {},
   "outputs": [
    {
     "name": "stdout",
     "output_type": "stream",
     "text": [
      "+---+--------------------+--------------------+--------+--------+-------+-------+-------------+-------------+\n",
      "| c0|                  c2|                  c3|     c22|     c33|c22_idx|c33_idx|      c22_OHE|      c33_OHE|\n",
      "+---+--------------------+--------------------+--------+--------+-------+-------+-------------+-------------+\n",
      "|0.0| -0.2734937899654927|-0.04722750963646816|a73ee510|    null|    0.0|    3.0|(3,[0],[1.0])|    (3,[],[])|\n",
      "|0.0| -0.2734937899654927|-0.03838908232395208|a73ee510|    null|    0.0|    3.0|(3,[0],[1.0])|    (3,[],[])|\n",
      "|0.0| -0.2655903267941605| 0.08358121458876974|a73ee510|b1252a9d|    0.0|    0.0|(3,[0],[1.0])|(3,[0],[1.0])|\n",
      "|0.0| -0.2629558390703831| -0.0525305660239778|a73ee510|    null|    0.0|    3.0|(3,[0],[1.0])|    (3,[],[])|\n",
      "|0.0| -0.2708593022417153|-0.04369213871146173|a73ee510|a458ea53|    0.0|    2.0|(3,[0],[1.0])|(3,[2],[1.0])|\n",
      "|1.0| -0.2708593022417153| 0.04999519080120866|a73ee510|a458ea53|    0.0|    2.0|(3,[0],[1.0])|(3,[2],[1.0])|\n",
      "|0.0| -0.2629558390703831|0.039389078026189364|a73ee510|    null|    0.0|    3.0|(3,[0],[1.0])|    (3,[],[])|\n",
      "|1.0|0.018934347373797816|                null|a73ee510|5840adea|    0.0|    1.0|(3,[0],[1.0])|(3,[1],[1.0])|\n",
      "|1.0|-0.09961760019618482|-0.04369213871146173|a73ee510|5840adea|    0.0|    1.0|(3,[0],[1.0])|(3,[1],[1.0])|\n",
      "|0.0| -0.2734937899654927| 0.42474450885189013|7cc72ec2|b1252a9d|    1.0|    0.0|(3,[1],[1.0])|(3,[0],[1.0])|\n",
      "|0.0|-0.10225208791996221|-0.02071222769891...|a73ee510|    null|    0.0|    3.0|(3,[0],[1.0])|    (3,[],[])|\n",
      "|0.0|-0.14703837922417787|                null|a73ee510|    null|    0.0|    3.0|(3,[0],[1.0])|    (3,[],[])|\n",
      "|0.0|-0.27612827768927006|-0.04722750963646816|a73ee510|    null|    0.0|    3.0|(3,[0],[1.0])|    (3,[],[])|\n",
      "|0.0|-0.27612827768927006| -0.0525305660239778|a73ee510|a458ea53|    0.0|    2.0|(3,[0],[1.0])|(3,[2],[1.0])|\n",
      "|1.0|   4.961233317180185|-0.03662139686144...|a73ee510|a458ea53|    0.0|    2.0|(3,[0],[1.0])|(3,[2],[1.0])|\n",
      "|0.0|  0.4378178954544031|0.019944537938654004|a73ee510|b1252a9d|    0.0|    0.0|(3,[0],[1.0])|(3,[0],[1.0])|\n",
      "|0.0|-0.21816954776616745|-0.04015676778645529|a73ee510|    null|    0.0|    3.0|(3,[0],[1.0])|    (3,[],[])|\n",
      "|0.0|0.029472298268907383|-0.04192445324895...|a73ee510|    null|    0.0|    3.0|(3,[0],[1.0])|    (3,[],[])|\n",
      "|1.0| -0.2734937899654927| -0.0525305660239778|a73ee510|5840adea|    0.0|    1.0|(3,[0],[1.0])|(3,[1],[1.0])|\n",
      "|0.0|   4.689881081631113|                null|7cc72ec2|5840adea|    1.0|    1.0|(3,[1],[1.0])|(3,[1],[1.0])|\n",
      "+---+--------------------+--------------------+--------+--------+-------+-------+-------------+-------------+\n",
      "only showing top 20 rows\n",
      "\n"
     ]
    }
   ],
   "source": [
    "s.show()"
   ]
  },
  {
   "cell_type": "code",
   "execution_count": 33,
   "metadata": {},
   "outputs": [],
   "source": [
    "# grab a column to see what it is like\n",
    "c = s.select('c22_OHE').collect()[0][0]"
   ]
  },
  {
   "cell_type": "code",
   "execution_count": 34,
   "metadata": {},
   "outputs": [
    {
     "data": {
      "text/plain": [
       "pyspark.ml.linalg.SparseVector"
      ]
     },
     "execution_count": 34,
     "metadata": {},
     "output_type": "execute_result"
    }
   ],
   "source": [
    "type(c)"
   ]
  },
  {
   "cell_type": "code",
   "execution_count": 35,
   "metadata": {},
   "outputs": [
    {
     "data": {
      "text/plain": [
       "1"
      ]
     },
     "execution_count": 35,
     "metadata": {},
     "output_type": "execute_result"
    }
   ],
   "source": [
    "c.numNonzeros()"
   ]
  },
  {
   "cell_type": "code",
   "execution_count": 37,
   "metadata": {},
   "outputs": [
    {
     "data": {
      "text/plain": [
       "3"
      ]
     },
     "execution_count": 37,
     "metadata": {},
     "output_type": "execute_result"
    }
   ],
   "source": [
    "c.size"
   ]
  },
  {
   "cell_type": "code",
   "execution_count": 38,
   "metadata": {},
   "outputs": [
    {
     "data": {
      "text/plain": [
       "array([1., 0., 0.])"
      ]
     },
     "execution_count": 38,
     "metadata": {},
     "output_type": "execute_result"
    }
   ],
   "source": [
    "c.toArray()"
   ]
  },
  {
   "cell_type": "code",
   "execution_count": 40,
   "metadata": {},
   "outputs": [
    {
     "data": {
      "text/plain": [
       "numpy.ndarray"
      ]
     },
     "execution_count": 40,
     "metadata": {},
     "output_type": "execute_result"
    }
   ],
   "source": [
    "# can convert to numpy array easily\n",
    "type(c.toArray())"
   ]
  },
  {
   "cell_type": "code",
   "execution_count": 43,
   "metadata": {},
   "outputs": [],
   "source": [
    "s = s.drop('c22_idx', 'c33_idx')"
   ]
  },
  {
   "cell_type": "code",
   "execution_count": 44,
   "metadata": {},
   "outputs": [
    {
     "name": "stdout",
     "output_type": "stream",
     "text": [
      "+---+--------------------+--------------------+--------+--------+-------------+-------------+\n",
      "| c0|                  c2|                  c3|     c22|     c33|      c22_OHE|      c33_OHE|\n",
      "+---+--------------------+--------------------+--------+--------+-------------+-------------+\n",
      "|0.0| -0.2734937899654927|-0.04722750963646816|a73ee510|    null|(3,[0],[1.0])|    (3,[],[])|\n",
      "|0.0| -0.2734937899654927|-0.03838908232395208|a73ee510|    null|(3,[0],[1.0])|    (3,[],[])|\n",
      "|0.0| -0.2655903267941605| 0.08358121458876974|a73ee510|b1252a9d|(3,[0],[1.0])|(3,[0],[1.0])|\n",
      "|0.0| -0.2629558390703831| -0.0525305660239778|a73ee510|    null|(3,[0],[1.0])|    (3,[],[])|\n",
      "|0.0| -0.2708593022417153|-0.04369213871146173|a73ee510|a458ea53|(3,[0],[1.0])|(3,[2],[1.0])|\n",
      "|1.0| -0.2708593022417153| 0.04999519080120866|a73ee510|a458ea53|(3,[0],[1.0])|(3,[2],[1.0])|\n",
      "|0.0| -0.2629558390703831|0.039389078026189364|a73ee510|    null|(3,[0],[1.0])|    (3,[],[])|\n",
      "|1.0|0.018934347373797816|                null|a73ee510|5840adea|(3,[0],[1.0])|(3,[1],[1.0])|\n",
      "|1.0|-0.09961760019618482|-0.04369213871146173|a73ee510|5840adea|(3,[0],[1.0])|(3,[1],[1.0])|\n",
      "|0.0| -0.2734937899654927| 0.42474450885189013|7cc72ec2|b1252a9d|(3,[1],[1.0])|(3,[0],[1.0])|\n",
      "|0.0|-0.10225208791996221|-0.02071222769891...|a73ee510|    null|(3,[0],[1.0])|    (3,[],[])|\n",
      "|0.0|-0.14703837922417787|                null|a73ee510|    null|(3,[0],[1.0])|    (3,[],[])|\n",
      "|0.0|-0.27612827768927006|-0.04722750963646816|a73ee510|    null|(3,[0],[1.0])|    (3,[],[])|\n",
      "|0.0|-0.27612827768927006| -0.0525305660239778|a73ee510|a458ea53|(3,[0],[1.0])|(3,[2],[1.0])|\n",
      "|1.0|   4.961233317180185|-0.03662139686144...|a73ee510|a458ea53|(3,[0],[1.0])|(3,[2],[1.0])|\n",
      "|0.0|  0.4378178954544031|0.019944537938654004|a73ee510|b1252a9d|(3,[0],[1.0])|(3,[0],[1.0])|\n",
      "|0.0|-0.21816954776616745|-0.04015676778645529|a73ee510|    null|(3,[0],[1.0])|    (3,[],[])|\n",
      "|0.0|0.029472298268907383|-0.04192445324895...|a73ee510|    null|(3,[0],[1.0])|    (3,[],[])|\n",
      "|1.0| -0.2734937899654927| -0.0525305660239778|a73ee510|5840adea|(3,[0],[1.0])|(3,[1],[1.0])|\n",
      "|0.0|   4.689881081631113|                null|7cc72ec2|5840adea|(3,[1],[1.0])|(3,[1],[1.0])|\n",
      "+---+--------------------+--------------------+--------+--------+-------------+-------------+\n",
      "only showing top 20 rows\n",
      "\n"
     ]
    }
   ],
   "source": [
    "s.show()"
   ]
  },
  {
   "cell_type": "code",
   "execution_count": 45,
   "metadata": {},
   "outputs": [],
   "source": [
    "s.write.format('parquet').save('data/sample.parquet')"
   ]
  },
  {
   "cell_type": "code",
   "execution_count": null,
   "metadata": {},
   "outputs": [],
   "source": []
  },
  {
   "cell_type": "code",
   "execution_count": null,
   "metadata": {},
   "outputs": [],
   "source": []
  },
  {
   "cell_type": "code",
   "execution_count": null,
   "metadata": {},
   "outputs": [],
   "source": []
  },
  {
   "cell_type": "code",
   "execution_count": null,
   "metadata": {},
   "outputs": [],
   "source": []
  },
  {
   "cell_type": "code",
   "execution_count": null,
   "metadata": {},
   "outputs": [],
   "source": []
  },
  {
   "cell_type": "code",
   "execution_count": null,
   "metadata": {},
   "outputs": [],
   "source": []
  },
  {
   "cell_type": "code",
   "execution_count": null,
   "metadata": {},
   "outputs": [],
   "source": []
  },
  {
   "cell_type": "code",
   "execution_count": 9,
   "metadata": {},
   "outputs": [],
   "source": [
    "for i,c in enumerate(train.columns[1:14]):\n",
    "    train = train.withColumn(c, (train[c] - means[i]) / stdevs[i])"
   ]
  },
  {
   "cell_type": "code",
   "execution_count": 10,
   "metadata": {},
   "outputs": [
    {
     "name": "stdout",
     "output_type": "stream",
     "text": [
      "-RECORD 0-----------------------\n",
      " summary | count                \n",
      " c1      | 5851479              \n",
      " c2      | 10517430             \n",
      " c3      | 8259890              \n",
      " c4      | 8205798              \n",
      " c5      | 10229986             \n",
      " c6      | 8113327              \n",
      " c7      | 10051997             \n",
      " c8      | 10511722             \n",
      " c9      | 10051997             \n",
      " c10     | 5851479              \n",
      " c11     | 10051997             \n",
      " c12     | 2421098              \n",
      " c13     | 8205798              \n",
      "-RECORD 1-----------------------\n",
      " summary | mean                 \n",
      " c1      | -7.97593112269365... \n",
      " c2      | 5.828207091676494... \n",
      " c3      | 3.909513938232698... \n",
      " c4      | -3.74083514832785... \n",
      " c5      | 9.537483029736827... \n",
      " c6      | 3.244443654866041... \n",
      " c7      | 9.026366645182133... \n",
      " c8      | -4.24857390976072... \n",
      " c9      | 6.576557065533054... \n",
      " c10     | 1.379353179119628... \n",
      " c11     | 4.190010407219867... \n",
      " c12     | -1.01941175954099... \n",
      " c13     | -4.75671009901150... \n",
      "-RECORD 2-----------------------\n",
      " summary | stddev               \n",
      " c1      | 0.9999999999999969   \n",
      " c2      | 1.0000000000000164   \n",
      " c3      | 0.9999999999999779   \n",
      " c4      | 0.9999999999999994   \n",
      " c5      | 1.0000000000000075   \n",
      " c6      | 1.0000000000000009   \n",
      " c7      | 0.9999999999999978   \n",
      " c8      | 0.9999999999999855   \n",
      " c9      | 0.9999999999999993   \n",
      " c10     | 1.0000000000000007   \n",
      " c11     | 1.0000000000000075   \n",
      " c12     | 1.0000000000000022   \n",
      " c13     | 1.0000000000000049   \n",
      "-RECORD 3-----------------------\n",
      " summary | min                  \n",
      " c1      | -0.36891055160707337 \n",
      " c2      | -0.2820324909699221  \n",
      " c3      | -0.07592824292977139 \n",
      " c4      | -0.8271540191151258  \n",
      " c5      | -0.27041829990568117 \n",
      " c6      | -0.3146831514622227  \n",
      " c7      | -0.2447394672503701  \n",
      " c8      | -0.6018534315999873  \n",
      " c9      | -0.47786751278510764 \n",
      " c10     | -0.8887367263995362  \n",
      " c11     | -0.5169522083967435  \n",
      " c12     | -0.1812355302417592  \n",
      " c13     | -0.3852497421858652  \n",
      "-RECORD 4-----------------------\n",
      " summary | max                  \n",
      " c1      | 170.18020917235432   \n",
      " c2      | 56.899014633365866   \n",
      " c3      | 214.57571459275673   \n",
      " c4      | 63.04578518855257    \n",
      " c5      | 37.81306833169531    \n",
      " c6      | 624.4110854721666    \n",
      " c7      | 419.29667037867233   \n",
      " c8      | 242.52910328231508   \n",
      " c9      | 111.16153379885901   \n",
      " c10     | 12.353310875868031   \n",
      " c11     | 35.73992012405158    \n",
      " c12     | 345.53883096070143   \n",
      " c13     | 324.28977975049537   \n",
      "\n"
     ]
    }
   ],
   "source": [
    "stats3 = train[train.columns[1:14]].describe()\n",
    "stats3.show(vertical=True)"
   ]
  },
  {
   "cell_type": "code",
   "execution_count": null,
   "metadata": {},
   "outputs": [],
   "source": []
  },
  {
   "cell_type": "code",
   "execution_count": null,
   "metadata": {},
   "outputs": [],
   "source": []
  },
  {
   "cell_type": "code",
   "execution_count": null,
   "metadata": {},
   "outputs": [],
   "source": []
  },
  {
   "cell_type": "code",
   "execution_count": null,
   "metadata": {},
   "outputs": [],
   "source": []
  },
  {
   "cell_type": "markdown",
   "metadata": {},
   "source": [
    "# Experimenting with RDDs"
   ]
  },
  {
   "cell_type": "code",
   "execution_count": 16,
   "metadata": {},
   "outputs": [],
   "source": [
    "toyTrainRDD = sc.textFile('data/toy_train.txt')"
   ]
  },
  {
   "cell_type": "code",
   "execution_count": 17,
   "metadata": {},
   "outputs": [
    {
     "data": {
      "text/plain": [
       "'0\\t\\t1\\t12\\t1\\t62526\\t\\t\\t3\\t\\t\\t\\t\\t3\\t05db9164\\t08d6d899\\t9143c832\\tf56b7dd5\\t25c83c98\\t7e0ccccf\\t89a13b6b\\t0b153874\\t7cc72ec2\\tc5fe5cb9\\tfa365cf9\\tae1bb660\\td2420e4c\\tb28479f6\\tbffbd637\\tbad5ee18\\t07c540c4\\tbbf70d82\\t\\t\\t0429f84b\\t\\t32c7478e\\tc0d61a5c\\t\\t'"
      ]
     },
     "execution_count": 17,
     "metadata": {},
     "output_type": "execute_result"
    }
   ],
   "source": [
    "toyTrainRDD.collect()[0]"
   ]
  },
  {
   "cell_type": "code",
   "execution_count": 21,
   "metadata": {},
   "outputs": [
    {
     "data": {
      "text/plain": [
       "'0\\t\\t1\\t12\\t1\\t62526\\t\\t\\t3\\t\\t\\t\\t\\t3\\t05db9164\\t08d6d899\\t9143c832\\tf56b7dd5\\t25c83c98\\t7e0ccccf\\t89a13b6b\\t0b153874\\t7cc72ec2\\tc5fe5cb9\\tfa365cf9\\tae1bb660\\td2420e4c\\tb28479f6\\tbffbd637\\tbad5ee18\\t07c540c4\\tbbf70d82\\t\\t\\t0429f84b\\t\\t32c7478e\\tc0d61a5c\\t\\t'"
      ]
     },
     "execution_count": 21,
     "metadata": {},
     "output_type": "execute_result"
    }
   ],
   "source": [
    "line = toyTrainRDD.collect()[0]\n",
    "line"
   ]
  },
  {
   "cell_type": "code",
   "execution_count": 22,
   "metadata": {},
   "outputs": [
    {
     "data": {
      "text/plain": [
       "['0',\n",
       " '',\n",
       " '1',\n",
       " '12',\n",
       " '1',\n",
       " '62526',\n",
       " '',\n",
       " '',\n",
       " '3',\n",
       " '',\n",
       " '',\n",
       " '',\n",
       " '',\n",
       " '3',\n",
       " '05db9164',\n",
       " '08d6d899',\n",
       " '9143c832',\n",
       " 'f56b7dd5',\n",
       " '25c83c98',\n",
       " '7e0ccccf',\n",
       " '89a13b6b',\n",
       " '0b153874',\n",
       " '7cc72ec2',\n",
       " 'c5fe5cb9',\n",
       " 'fa365cf9',\n",
       " 'ae1bb660',\n",
       " 'd2420e4c',\n",
       " 'b28479f6',\n",
       " 'bffbd637',\n",
       " 'bad5ee18',\n",
       " '07c540c4',\n",
       " 'bbf70d82',\n",
       " '',\n",
       " '',\n",
       " '0429f84b',\n",
       " '',\n",
       " '32c7478e',\n",
       " 'c0d61a5c',\n",
       " '',\n",
       " '']"
      ]
     },
     "execution_count": 22,
     "metadata": {},
     "output_type": "execute_result"
    }
   ],
   "source": [
    "line = line.split('\\t')\n",
    "line"
   ]
  },
  {
   "cell_type": "code",
   "execution_count": 12,
   "metadata": {},
   "outputs": [],
   "source": [
    "def parse(line):\n",
    "    line = line.split('\\t')\n",
    "    key = line[0]\n",
    "    values = line[1:]\n",
    "    for i,v in enumerate(values[:13]):\n",
    "        v = \n",
    "    \n",
    "    return key, values"
   ]
  },
  {
   "cell_type": "code",
   "execution_count": 14,
   "metadata": {},
   "outputs": [
    {
     "data": {
      "text/plain": [
       "('0',\n",
       " ('',\n",
       "  '1',\n",
       "  '12',\n",
       "  '1',\n",
       "  '62526',\n",
       "  '',\n",
       "  '',\n",
       "  '3',\n",
       "  '',\n",
       "  '',\n",
       "  '',\n",
       "  '',\n",
       "  '3',\n",
       "  '05db9164',\n",
       "  '08d6d899',\n",
       "  '9143c832',\n",
       "  'f56b7dd5',\n",
       "  '25c83c98',\n",
       "  '7e0ccccf',\n",
       "  '89a13b6b',\n",
       "  '0b153874',\n",
       "  '7cc72ec2',\n",
       "  'c5fe5cb9',\n",
       "  'fa365cf9',\n",
       "  'ae1bb660',\n",
       "  'd2420e4c',\n",
       "  'b28479f6',\n",
       "  'bffbd637',\n",
       "  'bad5ee18',\n",
       "  '07c540c4',\n",
       "  'bbf70d82',\n",
       "  '',\n",
       "  '',\n",
       "  '0429f84b',\n",
       "  '',\n",
       "  '32c7478e',\n",
       "  'c0d61a5c',\n",
       "  '',\n",
       "  ''))"
      ]
     },
     "execution_count": 14,
     "metadata": {},
     "output_type": "execute_result"
    }
   ],
   "source": [
    "toyTrainRDD = toyTrainRDD.map(parse)\n",
    "\n",
    "toyTrainRDD.collect()[0]"
   ]
  },
  {
   "cell_type": "code",
   "execution_count": null,
   "metadata": {},
   "outputs": [],
   "source": []
  }
 ],
 "metadata": {
  "kernelspec": {
   "display_name": "Python 3",
   "language": "python",
   "name": "python3"
  },
  "language_info": {
   "codemirror_mode": {
    "name": "ipython",
    "version": 3
   },
   "file_extension": ".py",
   "mimetype": "text/x-python",
   "name": "python",
   "nbconvert_exporter": "python",
   "pygments_lexer": "ipython3",
   "version": "3.6.6"
  }
 },
 "nbformat": 4,
 "nbformat_minor": 2
}
