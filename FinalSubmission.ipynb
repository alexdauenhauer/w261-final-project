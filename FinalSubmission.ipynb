{
 "cells": [
  {
   "cell_type": "markdown",
   "metadata": {},
   "source": [
    "# 1. Question Formulation  "
   ]
  },
  {
   "cell_type": "markdown",
   "metadata": {},
   "source": [
    "`Introduce the goal of your analysis. What questions will you seek to answer, why do people perform this kind of analysis on this kind of data? Preview what level of performance your model would need to achieve to be practically useful.`"
   ]
  },
  {
   "cell_type": "markdown",
   "metadata": {},
   "source": [
    "The ultimate goal of this analysis is to predict click-through rates for online advertising for Criteo by generating individual click-through predictions for different user/ad/context combinations. Criteo is an advertising technology company that offers a variety of solutions for helping e-commerce companies understand and serve targeted ads to their customers. \n",
    "\n",
    "The formula for click-through rate is (Total Clicks on Ad) / (Total Times Users Saw the Add). Click through rates are useful to companies in several ways:\n",
    "1. E-commerce sites or advertising companies could compare the click rate of one ad to another to determine which one is doing better, and use that information to make adjustments to what ads they are serving. \n",
    "2. E-commerce sites could use click-through rates as part of their projections for web traffic and sales.\n",
    "3. Platforms that serve ads, like Google, have a vested interest in serving users ads that are relevant to them, so they will offer discounts to advertisers on ads that have a high click through rate, as well as other desirable qualities.\n",
    "\n",
    "Criteo formulated the question this way for the Kaggle competition using this data set: \"Given a user and the page he is visiting, what is the probability that he will click on a given ad?\"  `By predicting probability of click for particular user/ad/context combinations, we aren't directly predicting click through rate, but rather predicting the elements we will use to calculate click through rate.` By making predictions on the test set, and taking the N prediction rows that correspond to a particular prediction, and the C positive examples where our model predicts that the user would click, we can say, \"if we showed users this ad N times, we predict that the click through rate would be C/N.\"\n",
    "\n",
    "The train and test data sets for this problem have 40 columns:\n",
    "- a label column, with a 1 or 0 indicating that the user did or did not click through the ad, respectively\n",
    "- 13 columns with numerical data\n",
    "- 26 columns with categorical data, where all categorical values are hexified for confidentiality\n",
    "Since we have no column labels and no insight into the categories in the categorical feature columns, we are limited in the number of questions we can answer. We can't calculate and compare the click-through rates of different ads or different ad contexts, or compare the click-through rates for different users, without knowing which columns refer to users, ads, or different elements of context. \n",
    "\n",
    "As a result, the only click-through rate we can calculate is one for the entire data set. We can make a prediction for each individual row of data (representing a user, ad, and context), and then we can calculate a click-through rate for the entire set of predictions. Without knowing anything about the data (is it all for one advertiser? for one advertising campaign? for ads displayed on a single website?), it's hard to know what question the click through rate will help us answer. We could answer \"what is the baseline click-through rate for this set of data,\" or perhaps, if we explore feature importance in our final model, \"which features are most useful for predicting click-through rate on this data\"?\n",
    "\n",
    "TODO: clarify what question we're answering above, and introduce what algorithm we will use"
   ]
  },
  {
   "cell_type": "markdown",
   "metadata": {},
   "source": [
    "# 2. Algorithm Explanation "
   ]
  },
  {
   "cell_type": "markdown",
   "metadata": {},
   "source": [
    "`Create your own toy example that matches the dataset provided and use this toy example to explain the math behind the algorithm that you will perform.`"
   ]
  },
  {
   "cell_type": "code",
   "execution_count": null,
   "metadata": {
    "collapsed": true
   },
   "outputs": [],
   "source": [
    "# answer #2 in this section\n",
    "# STEVE"
   ]
  },
  {
   "cell_type": "markdown",
   "metadata": {},
   "source": [
    "For this project, we have built a Factorization Machine algorithm `from the ground up` *(from first principles?)*, and applied it to a small sample dataset.  For the full dataset, we have implemented a Logistic Regression algorithm utilizing the Spark ML library.\n",
    "\n",
    "The Factorization Machine algorithm that we built was based on two papers by Steffen Rendle:\n",
    "1. Factorization Machines (Data Mining (ICDM), 2010 IEEE 10th International Conference on. (2010) 995–1000,  \n",
    "https://www.csie.ntu.edu.tw/~b97053/paper/Rendle2010FM.pdf), and  \n",
    "2. Factorization Machines with libFM (ACM Transactions on Intelligent Systems and Technology, Vol. 3, No. 3, Article 57, Publication date: May 2012., https://www.csie.ntu.edu.tw/~b97053/paper/Factorization%20Machines%20with%20libFM.pdf).  \n",
    "The second Rendle paper was particularly helpful for algorithm explanation, and to guide implementation of the FM algorithm.\n",
    "\n",
    "Equation 1 shows the basic relationship between the predicted target variable $\\hat{y}$ and the independent variables in the second-order Factorization Machine model. \n",
    "\n",
    "\n",
    "\\begin{equation} \\tag{1}\n",
    "\\hat{y}(\\boldsymbol{x}) = w_0 + \\sum_{j=1}^{p}w_j x_j + \\sum_{j=1}^{p} \\sum_{j'=j+1}^{p}x_j x_j' \\sum_{f=1}^{k}v_{j,f} v_{j',f}  \n",
    "\\end{equation}\n",
    "\n",
    "where $\\boldsymbol{x} \\in \\mathbb{R} ^{p}$ is a feature vector with $p$ real-valued variables.  Here $k$ is the dimensionality of the factorization, also known as the number of latent factors, and the model parameters are \n",
    "\n",
    "\\begin{equation} \\tag{2}\n",
    "w_0 \\in \\mathbb{R}, \\space\\space\\space  \\boldsymbol{w} \\in \\mathbb{R}^p,  \\space\\space\\space  V \\in \\mathbb{R}^{p \\times k} \n",
    "\\end{equation}\n",
    "\n"
   ]
  },
  {
   "cell_type": "markdown",
   "metadata": {},
   "source": [
    "The total number of parameters in the FM model is $|\\Theta| =  1 + p + p \\times k$, with $k \\ll p$.  The first part of the FM model in eq. 1 is the same as a standard regression model, in that we have the bias $w_0$ and the linear terms $w_j x_j$.  The second part of the FM equation captures the second-order (pair-wise) interactions between the independent variables, $x_j x_{j'}$.  An important distinction here is that, in contrast to standard polynomial regression, the coefficients for the interaction terms are not independent parameters $w_j$, but rather a factorized parameterization of $w_{j,j} \\approx \\sum_{f=1}^{k}v_{j,f} v_{j',f}$, which is shown in the last summation in eq. 1.  This reflects the assumption that $w_{j,j}$ can be approximated by low-rank matrices.  This allows FMs to estimate the interaction parameters reliabily, even in the presence of highly sparse data where standard models fail."
   ]
  },
  {
   "cell_type": "markdown",
   "metadata": {},
   "source": [
    "Our approach in the home-grown algorithm is to include all these terms in the model.  In contrast, standard Alternating Least Squares (ALS) algorithm uses only the interaction terms, without the linear terms.  Also, standard regression models often omit interaction terms.  The more ideal approach is to retain the linear terms and the interaction terms, as we have implemented for a small sample from our dataset.  "
   ]
  },
  {
   "cell_type": "markdown",
   "metadata": {},
   "source": [
    "Our training task is to find that optimal model parameters $\\Theta$ such that we minimize the sum of the losses over the observed data $S$, given the appropriate loss function $L$.  This takes the general form:\n",
    "\n",
    "\\begin{equation} \\tag{3}\n",
    "OptReg(S,\\lambda) = argmin_{\\theta} \\bigg( \\sum_{(\\boldsymbol{x},y)\\in S}L(\\hat{y}(\\boldsymbol{x}|\\Theta,y) + Reg_{\\lambda_{\\theta}} \\bigg) \n",
    "\\end{equation}\n",
    "\n",
    "where $Reg$ contains the regularization penalty.  \n",
    "\n",
    "For the Spark ML Logistic Regression model, we use both $L_2$ regularization:\n",
    "\n",
    "\\begin{equation} \\tag{4}\n",
    "Reg_{L_2} = \\sum_{\\theta \\in \\Theta} \\lambda_{\\theta} \\theta^2  \n",
    "\\end{equation}\n",
    "\n",
    "and ElasticNet Regularization (https://spark.apache.org/docs/1.5.2/ml-linear-methods.html), which is a combination of $L_1$ and $L_2$ regularization:\n",
    "\n",
    "\\begin{equation} \\tag{5}\n",
    "Reg_{EN} = \\alpha \\big( \\lambda \\| \\boldsymbol{w} \\|_1 \\big) + (1 - \\alpha) \\space \\big( \\frac{\\lambda}{2} \\| \\boldsymbol{w} \\|_{2}^{2} \\big)  \n",
    "\\end{equation}\n",
    "\n",
    "where $\\alpha \\in [0,1]$ and $ \\lambda \\geq 0$.  \n",
    "\n",
    "For the home-grown model in this project, we do not include regularization terms.  "
   ]
  },
  {
   "cell_type": "markdown",
   "metadata": {},
   "source": [
    "With this binary classification problem, with $y \\in$ {0,1}, we leverage Andrew Ng's treatment (https://www.youtube.com/watch?v=TTdcc21Ko9A&feature=youtu.be) of the log loss function, $L$:\n",
    "\n",
    "\\begin{equation} \\tag{6}\n",
    "L(\\theta) = - \\frac{1}{m} \\sum_{i=1}^{m} \\bigg( y^{(i)} log \\space h_{\\theta}(x^{(i)}) + (1-y^{(i)}) log \\big( 1-h_{\\theta}(x^{(i)}) \\big)  \\bigg) \n",
    "\\end{equation}\n",
    "\n",
    "where $m$ is the number of training examples, and $h_{\\theta}(x)$ is the sigmoid function when using logistic regression,\n",
    "\n",
    "\\begin{equation} \\tag{7}\n",
    "h_{\\theta}(x) = \\frac{1}{1 + \\exp({-\\theta^{T} x})} \n",
    "\\end{equation}"
   ]
  },
  {
   "cell_type": "markdown",
   "metadata": {},
   "source": [
    "For the home-grown model, we use full-batch Gradient Descent applied to the convex loss function $L$ to converge on the global minimum in model parameter space.  The gradient is computed:\n",
    "\n",
    "\\begin{equation} \\tag{8}\n",
    "\\frac{\\partial}{\\partial \\theta_j} L(\\theta) = - \\frac{1}{m} \\sum_{i=1}^{m} \\big( h_{\\theta}(x^{(i)}) - y^{(i)} \\big) \\frac{\\partial \\hat{y}(x)}{\\partial \\theta}\n",
    "\\end{equation}\n",
    "\n",
    "where  \n",
    "\n",
    "\\begin{equation} \\tag{9}\n",
    " \\frac {\\partial \\hat{y}(\\boldsymbol{x})} {\\partial \\theta} = \n",
    "  \\begin{cases} \n",
    "   1,      & \\text{if } \\theta \\text{ is } w_0 \\\\\n",
    "   x_l,      & \\text{if } \\theta \\text{ is } w_l \\\\\n",
    "   x_l\\sum_{j\\neq l} v_{j,f}x_j,  & \\text{if } \\theta \\text{ is } v_{l,f} \n",
    "  \\end{cases}\n",
    "\\end{equation}\n"
   ]
  },
  {
   "cell_type": "markdown",
   "metadata": {},
   "source": [
    "We the repeat the gradient descent updates until the stopping condition is met:\n",
    "\n",
    "\\begin{equation} \\tag{10}\n",
    "\\theta_{j} \\longleftarrow \\theta_j - \\eta \\frac{\\partial}{\\partial \\theta_j} L(\\theta)\n",
    "\\end{equation}\n",
    "\n",
    "where $\\eta$ is the learning rate.  \n",
    "\n",
    "For the home-grown model, we use $\\eta = 0.01$ and 10 latent factors ($k=10$).  We initialize the model parameters $w_0$ and $\\boldsymbol{w}$ to 0.0, and $V$ to a random normal distribution with mean = 0 and std = 0.01.   We iterate for a specified number of training iterations (default = 10). "
   ]
  },
  {
   "cell_type": "markdown",
   "metadata": {},
   "source": [
    "References for binary classification:....  \n",
    "https://www.youtube.com/watch?v=TTdcc21Ko9A&feature=youtu.be  \n",
    "https://ml-cheatsheet.readthedocs.io/en/latest/logistic_regression.html  \n",
    "https://spark.apache.org/docs/1.5.2/ml-linear-methods.html  "
   ]
  },
  {
   "cell_type": "markdown",
   "metadata": {},
   "source": [
    "# 3. EDA & Discussion of Challenges  "
   ]
  },
  {
   "cell_type": "markdown",
   "metadata": {},
   "source": [
    "Determine 2-3 relevant EDA tasks that will help you make decisions about how you implement the algorithm to be scalable. Discuss any challenges that you anticipate based on the EDA you perform."
   ]
  },
  {
   "cell_type": "code",
   "execution_count": 1,
   "metadata": {
    "collapsed": true
   },
   "outputs": [],
   "source": [
    "# answer #3 in this section\n",
    "# Alex\n",
    "#   - explore log transforming a selected set of features (Saturday)"
   ]
  },
  {
   "cell_type": "markdown",
   "metadata": {},
   "source": [
    "## Setup"
   ]
  },
  {
   "cell_type": "code",
   "execution_count": 1,
   "metadata": {},
   "outputs": [],
   "source": [
    "import time\n",
    "import operator\n",
    "import numpy as np\n",
    "import pandas as pd\n",
    "import seaborn as sns\n",
    "import matplotlib.pyplot as plt\n",
    "import pyspark.sql.functions as F\n",
    "from pprint import pprint\n",
    "from pyspark.sql import types, Row, Column\n",
    "from pyspark.ml.feature import OneHotEncoderEstimator, StringIndexer, VectorAssembler, VectorIndexer\n",
    "from pyspark.ml.classification import LogisticRegression, LogisticRegressionModel, RandomForestClassifier, RandomForestClassificationModel\n",
    "from pyspark.ml.evaluation import BinaryClassificationEvaluator\n",
    "# from pyspark.ml import Pipeline\n",
    "# import ast\n",
    "# import re\n"
   ]
  },
  {
   "cell_type": "code",
   "execution_count": 2,
   "metadata": {},
   "outputs": [],
   "source": [
    "# start Spark Session\n",
    "from pyspark.sql import SparkSession\n",
    "app_name = \"finalProject\"\n",
    "master = \"local[*]\"\n",
    "spark = SparkSession\\\n",
    "        .builder\\\n",
    "        .appName(app_name)\\\n",
    "        .master(master)\\\n",
    "        .getOrCreate()\n",
    "sc = spark.sparkContext"
   ]
  },
  {
   "cell_type": "markdown",
   "metadata": {},
   "source": [
    "quick check on the size of our dataset"
   ]
  },
  {
   "cell_type": "code",
   "execution_count": 3,
   "metadata": {},
   "outputs": [
    {
     "name": "stdout",
     "output_type": "stream",
     "text": [
      "45840617 data/train.txt\n",
      "6042135 data/test.txt\n"
     ]
    }
   ],
   "source": [
    "!wc -l data/train.txt\n",
    "!wc -l data/test.txt"
   ]
  },
  {
   "cell_type": "markdown",
   "metadata": {},
   "source": [
    "## EDA"
   ]
  },
  {
   "cell_type": "markdown",
   "metadata": {},
   "source": [
    "First we will read in our dataset and check the structure"
   ]
  },
  {
   "cell_type": "code",
   "execution_count": 3,
   "metadata": {},
   "outputs": [],
   "source": [
    "train = spark.read.parquet('data/train.parquet')"
   ]
  },
  {
   "cell_type": "markdown",
   "metadata": {},
   "source": [
    "**REMOVE THIS PRIOR TO SUBMISSION**"
   ]
  },
  {
   "cell_type": "code",
   "execution_count": 4,
   "metadata": {},
   "outputs": [],
   "source": [
    "train = train.sample(False, 0.0001)"
   ]
  },
  {
   "cell_type": "code",
   "execution_count": 6,
   "metadata": {},
   "outputs": [
    {
     "data": {
      "text/plain": [
       "45815"
      ]
     },
     "execution_count": 6,
     "metadata": {},
     "output_type": "execute_result"
    }
   ],
   "source": [
    "trainRdd = train.rdd\n",
    "trainRdd.count()"
   ]
  },
  {
   "cell_type": "code",
   "execution_count": 9,
   "metadata": {},
   "outputs": [
    {
     "data": {
      "text/plain": [
       "45805"
      ]
     },
     "execution_count": 9,
     "metadata": {},
     "output_type": "execute_result"
    }
   ],
   "source": [
    "N = train.count()\n",
    "N"
   ]
  },
  {
   "cell_type": "code",
   "execution_count": 10,
   "metadata": {},
   "outputs": [
    {
     "name": "stdout",
     "output_type": "stream",
     "text": [
      "root\n",
      " |-- _c0: string (nullable = true)\n",
      " |-- _c1: string (nullable = true)\n",
      " |-- _c2: string (nullable = true)\n",
      " |-- _c3: string (nullable = true)\n",
      " |-- _c4: string (nullable = true)\n",
      " |-- _c5: string (nullable = true)\n",
      " |-- _c6: string (nullable = true)\n",
      " |-- _c7: string (nullable = true)\n",
      " |-- _c8: string (nullable = true)\n",
      " |-- _c9: string (nullable = true)\n",
      " |-- _c10: string (nullable = true)\n",
      " |-- _c11: string (nullable = true)\n",
      " |-- _c12: string (nullable = true)\n",
      " |-- _c13: string (nullable = true)\n",
      " |-- _c14: string (nullable = true)\n",
      " |-- _c15: string (nullable = true)\n",
      " |-- _c16: string (nullable = true)\n",
      " |-- _c17: string (nullable = true)\n",
      " |-- _c18: string (nullable = true)\n",
      " |-- _c19: string (nullable = true)\n",
      " |-- _c20: string (nullable = true)\n",
      " |-- _c21: string (nullable = true)\n",
      " |-- _c22: string (nullable = true)\n",
      " |-- _c23: string (nullable = true)\n",
      " |-- _c24: string (nullable = true)\n",
      " |-- _c25: string (nullable = true)\n",
      " |-- _c26: string (nullable = true)\n",
      " |-- _c27: string (nullable = true)\n",
      " |-- _c28: string (nullable = true)\n",
      " |-- _c29: string (nullable = true)\n",
      " |-- _c30: string (nullable = true)\n",
      " |-- _c31: string (nullable = true)\n",
      " |-- _c32: string (nullable = true)\n",
      " |-- _c33: string (nullable = true)\n",
      " |-- _c34: string (nullable = true)\n",
      " |-- _c35: string (nullable = true)\n",
      " |-- _c36: string (nullable = true)\n",
      " |-- _c37: string (nullable = true)\n",
      " |-- _c38: string (nullable = true)\n",
      " |-- _c39: string (nullable = true)\n",
      "\n"
     ]
    }
   ],
   "source": [
    "train.printSchema()"
   ]
  },
  {
   "cell_type": "markdown",
   "metadata": {},
   "source": [
    "From the `README` we know that the first column is the label, columns 2-13 are numerical columns and columns 14-39 are categorical. We will rename these columns so that we can distinguish between label, numerical data, and categorical data"
   ]
  },
  {
   "cell_type": "code",
   "execution_count": 5,
   "metadata": {},
   "outputs": [],
   "source": [
    "def renameCols(df, trainingSet=True):\n",
    "    \n",
    "    # rename label column\n",
    "    df = df.withColumnRenamed('_c0', 'label')\n",
    "    numericalCols = [c for c in df.columns[1:14]]\n",
    "    categoricalCols = [c for c in df.columns[14:]]\n",
    "\n",
    "    # rename numerical columns\n",
    "    for i,c in enumerate(numericalCols):\n",
    "        newName = 'n' + str(i)\n",
    "        df = df.withColumnRenamed(c, newName)\n",
    "    \n",
    "    # rename categorical columns\n",
    "    for i,c in enumerate(categoricalCols):\n",
    "        newName = 'c' + str(i)\n",
    "        df = df.withColumnRenamed(c, newName)\n",
    "        \n",
    "    return df"
   ]
  },
  {
   "cell_type": "code",
   "execution_count": 6,
   "metadata": {},
   "outputs": [],
   "source": [
    "train = renameCols(train)"
   ]
  },
  {
   "cell_type": "code",
   "execution_count": 7,
   "metadata": {},
   "outputs": [
    {
     "name": "stdout",
     "output_type": "stream",
     "text": [
      "['label', 'n0', 'n1', 'n2', 'n3', 'n4', 'n5', 'n6', 'n7', 'n8', 'n9', 'n10', 'n11', 'n12', 'c0', 'c1', 'c2', 'c3', 'c4', 'c5', 'c6', 'c7', 'c8', 'c9', 'c10', 'c11', 'c12', 'c13', 'c14', 'c15', 'c16', 'c17', 'c18', 'c19', 'c20', 'c21', 'c22', 'c23', 'c24', 'c25']\n"
     ]
    }
   ],
   "source": [
    "print(train.columns)"
   ]
  },
  {
   "cell_type": "markdown",
   "metadata": {},
   "source": [
    "The numerical columns are currently strings and will be easier to work with for mathematical manipulation if they are cast as type `float`"
   ]
  },
  {
   "cell_type": "code",
   "execution_count": 8,
   "metadata": {},
   "outputs": [],
   "source": [
    "def castNumericalAsFloat(df):\n",
    "    numericalCols = [c for c in df.columns if 'n' in c or 'label' in c]\n",
    "    for c in numericalCols:\n",
    "        df = df.withColumn(c, df[c].cast('float'))\n",
    "        \n",
    "    return df"
   ]
  },
  {
   "cell_type": "code",
   "execution_count": 9,
   "metadata": {},
   "outputs": [],
   "source": [
    "train = castNumericalAsFloat(train)"
   ]
  },
  {
   "cell_type": "code",
   "execution_count": 10,
   "metadata": {},
   "outputs": [
    {
     "name": "stdout",
     "output_type": "stream",
     "text": [
      "root\n",
      " |-- label: float (nullable = true)\n",
      " |-- n0: float (nullable = true)\n",
      " |-- n1: float (nullable = true)\n",
      " |-- n2: float (nullable = true)\n",
      " |-- n3: float (nullable = true)\n",
      " |-- n4: float (nullable = true)\n",
      " |-- n5: float (nullable = true)\n",
      " |-- n6: float (nullable = true)\n",
      " |-- n7: float (nullable = true)\n",
      " |-- n8: float (nullable = true)\n",
      " |-- n9: float (nullable = true)\n",
      " |-- n10: float (nullable = true)\n",
      " |-- n11: float (nullable = true)\n",
      " |-- n12: float (nullable = true)\n",
      " |-- c0: string (nullable = true)\n",
      " |-- c1: string (nullable = true)\n",
      " |-- c2: string (nullable = true)\n",
      " |-- c3: string (nullable = true)\n",
      " |-- c4: string (nullable = true)\n",
      " |-- c5: string (nullable = true)\n",
      " |-- c6: string (nullable = true)\n",
      " |-- c7: string (nullable = true)\n",
      " |-- c8: string (nullable = true)\n",
      " |-- c9: string (nullable = true)\n",
      " |-- c10: string (nullable = true)\n",
      " |-- c11: string (nullable = true)\n",
      " |-- c12: string (nullable = true)\n",
      " |-- c13: string (nullable = true)\n",
      " |-- c14: string (nullable = true)\n",
      " |-- c15: string (nullable = true)\n",
      " |-- c16: string (nullable = true)\n",
      " |-- c17: string (nullable = true)\n",
      " |-- c18: string (nullable = true)\n",
      " |-- c19: string (nullable = true)\n",
      " |-- c20: string (nullable = true)\n",
      " |-- c21: string (nullable = true)\n",
      " |-- c22: string (nullable = true)\n",
      " |-- c23: string (nullable = true)\n",
      " |-- c24: string (nullable = true)\n",
      " |-- c25: string (nullable = true)\n",
      "\n"
     ]
    }
   ],
   "source": [
    "train.printSchema()"
   ]
  },
  {
   "cell_type": "markdown",
   "metadata": {},
   "source": [
    "Let's examine the distribution of labels so that we account for any label bias in our model"
   ]
  },
  {
   "cell_type": "code",
   "execution_count": 13,
   "metadata": {},
   "outputs": [],
   "source": [
    "labelCounts = train.groupBy('label').count().collect()"
   ]
  },
  {
   "cell_type": "code",
   "execution_count": 14,
   "metadata": {},
   "outputs": [
    {
     "name": "stdout",
     "output_type": "stream",
     "text": [
      "number of clicks:  1179\n",
      "number of non-clicks:  3310\n",
      "26.26% clicks, 73.74% non-clicks\n"
     ]
    }
   ],
   "source": [
    "print('number of clicks: ', labelCounts[0]['count'])\n",
    "print('number of non-clicks: ', labelCounts[1]['count'])\n",
    "print(\"{:.2f}% clicks, {:.2f}% non-clicks\".format((labelCounts[0]['count'] / N) * 100, (labelCounts[1]['count'] / N) * 100))"
   ]
  },
  {
   "cell_type": "markdown",
   "metadata": {},
   "source": [
    "## Examining numerical data"
   ]
  },
  {
   "cell_type": "markdown",
   "metadata": {},
   "source": [
    "We want to start by examining some basic statistics on the numerical data. This allows us to understand the number of missing values we are working with and get a sense of the distribution of each variable (which we will explore further later on in this section)"
   ]
  },
  {
   "cell_type": "code",
   "execution_count": 15,
   "metadata": {},
   "outputs": [
    {
     "name": "stdout",
     "output_type": "stream",
     "text": [
      "runtime (min):  0.31729697783788047\n"
     ]
    }
   ],
   "source": [
    "# full training set\n",
    "start = time.time()\n",
    "stats = train[train.columns[1:14]].describe()\n",
    "means = np.array(stats[stats['summary'] == 'mean'].collect())[0][1:]\n",
    "stdevs = np.array(stats[stats['summary'] == 'stddev'].collect())[0][1:]\n",
    "print('runtime (min): ', (time.time() - start) / 60)"
   ]
  },
  {
   "cell_type": "code",
   "execution_count": 16,
   "metadata": {},
   "outputs": [
    {
     "name": "stdout",
     "output_type": "stream",
     "text": [
      "-RECORD 0---------------------\n",
      " summary | count              \n",
      " n0      | 2498               \n",
      " n1      | 4489               \n",
      " n2      | 3555               \n",
      " n3      | 3538               \n",
      " n4      | 4382               \n",
      " n5      | 3529               \n",
      " n6      | 4301               \n",
      " n7      | 4488               \n",
      " n8      | 4301               \n",
      " n9      | 2498               \n",
      " n10     | 4301               \n",
      " n11     | 1074               \n",
      " n12     | 3538               \n",
      "-RECORD 1---------------------\n",
      " summary | mean               \n",
      " n0      | 3.379503602882306  \n",
      " n1      | 102.88505235018935 \n",
      " n2      | 24.09226441631505  \n",
      " n3      | 7.46184284906727   \n",
      " n4      | 17021.091510725695 \n",
      " n5      | 115.81127798243128 \n",
      " n6      | 15.580097651708904 \n",
      " n7      | 12.663101604278076 \n",
      " n8      | 100.17484305975354 \n",
      " n9      | 0.6253002401921537 \n",
      " n10     | 2.713322483143455  \n",
      " n11     | 1.0707635009310987 \n",
      " n12     | 8.241944601469758  \n",
      "-RECORD 2---------------------\n",
      " summary | stddev             \n",
      " n0      | 7.228138586018494  \n",
      " n1      | 372.7219728536384  \n",
      " n2      | 178.68978987773187 \n",
      " n3      | 8.795534194437217  \n",
      " n4      | 61665.1402527054   \n",
      " n5      | 317.4105004960485  \n",
      " n6      | 58.75190972919665  \n",
      " n7      | 13.341435290674662 \n",
      " n8      | 191.44876448490112 \n",
      " n9      | 0.6754701487365251 \n",
      " n10     | 4.8707366956692075 \n",
      " n11     | 5.1509028854058965 \n",
      " n12     | 11.060873221962513 \n",
      "-RECORD 3---------------------\n",
      " summary | min                \n",
      " n0      | 0.0                \n",
      " n1      | -2.0               \n",
      " n2      | 0.0                \n",
      " n3      | 0.0                \n",
      " n4      | 0.0                \n",
      " n5      | 0.0                \n",
      " n6      | 0.0                \n",
      " n7      | 0.0                \n",
      " n8      | 0.0                \n",
      " n9      | 0.0                \n",
      " n10     | 0.0                \n",
      " n11     | 0.0                \n",
      " n12     | 0.0                \n",
      "-RECORD 4---------------------\n",
      " summary | max                \n",
      " n0      | 102.0              \n",
      " n1      | 6119.0             \n",
      " n2      | 8347.0             \n",
      " n3      | 118.0              \n",
      " n4      | 838506.0           \n",
      " n5      | 6864.0             \n",
      " n6      | 1907.0             \n",
      " n7      | 111.0              \n",
      " n8      | 2969.0             \n",
      " n9      | 4.0                \n",
      " n10     | 74.0               \n",
      " n11     | 81.0               \n",
      " n12     | 177.0              \n",
      "\n"
     ]
    }
   ],
   "source": [
    "stats.show(vertical=True)"
   ]
  },
  {
   "cell_type": "markdown",
   "metadata": {},
   "source": [
    "With such a large dataset, it is also importatnt to check the sparsity of the dataset (how many missing values are we working with). This will inform our decisions of how to handle missing data during our feature engineering. We can infer this answer from the `count` data above, but for clarity we will calculate it explicitly."
   ]
  },
  {
   "cell_type": "code",
   "execution_count": 17,
   "metadata": {},
   "outputs": [
    {
     "name": "stdout",
     "output_type": "stream",
     "text": [
      "missing numeric values\n",
      "\n",
      "{'n0': 1991,\n",
      " 'n1': 0,\n",
      " 'n10': 188,\n",
      " 'n11': 3415,\n",
      " 'n12': 951,\n",
      " 'n2': 934,\n",
      " 'n3': 951,\n",
      " 'n4': 107,\n",
      " 'n5': 960,\n",
      " 'n6': 188,\n",
      " 'n7': 1,\n",
      " 'n8': 188,\n",
      " 'n9': 1991}\n"
     ]
    }
   ],
   "source": [
    "numericNans = {}\n",
    "for c in stats.columns[1:]:\n",
    "    numericNans[c] = N - int(stats.select(c).collect()[0][0])\n",
    "print('missing numeric values\\n')\n",
    "pprint(numericNans)"
   ]
  },
  {
   "cell_type": "markdown",
   "metadata": {},
   "source": [
    "We see we have a wide range of values in the numerical data. Column `n4` ranges from 0-2e7 whereas column `n9` ranges from 0-11.  this indicates that the numerical data will need normalization during our feature engineering steps. "
   ]
  },
  {
   "cell_type": "markdown",
   "metadata": {},
   "source": [
    "We can also see we have a large amount of missing values and the number each column is missing varies. Column `n1` is not missing any values, but column `n0` and `n9` are missing nearly half the data and column `n11` is missing over 75% of the total rows. Our model choice of **ENTER MODEL NAME HERE** influences how we handle these missing values. Our model of Logistic Regression and Factorization Machine receives the features in a single numerical vector format, so during the feature engineering, the missing numerical values will need to be converted to numerical values, likely 0's. "
   ]
  },
  {
   "cell_type": "markdown",
   "metadata": {},
   "source": [
    "Before we move on to examining the categorical data, we first want to dig into the numerical data a bit further. We will take a small sample to examine the data further."
   ]
  },
  {
   "cell_type": "code",
   "execution_count": 15,
   "metadata": {},
   "outputs": [
    {
     "data": {
      "text/plain": [
       "45802"
      ]
     },
     "execution_count": 15,
     "metadata": {},
     "output_type": "execute_result"
    }
   ],
   "source": [
    "s = train.sample(False, 0.001)\n",
    "s.count()"
   ]
  },
  {
   "cell_type": "code",
   "execution_count": 16,
   "metadata": {},
   "outputs": [],
   "source": [
    "df = s.toPandas()"
   ]
  },
  {
   "cell_type": "code",
   "execution_count": 17,
   "metadata": {},
   "outputs": [
    {
     "data": {
      "text/html": [
       "<div>\n",
       "<style scoped>\n",
       "    .dataframe tbody tr th:only-of-type {\n",
       "        vertical-align: middle;\n",
       "    }\n",
       "\n",
       "    .dataframe tbody tr th {\n",
       "        vertical-align: top;\n",
       "    }\n",
       "\n",
       "    .dataframe thead th {\n",
       "        text-align: right;\n",
       "    }\n",
       "</style>\n",
       "<table border=\"1\" class=\"dataframe\">\n",
       "  <thead>\n",
       "    <tr style=\"text-align: right;\">\n",
       "      <th></th>\n",
       "      <th>n0</th>\n",
       "      <th>n1</th>\n",
       "      <th>n2</th>\n",
       "      <th>n3</th>\n",
       "      <th>n4</th>\n",
       "      <th>n5</th>\n",
       "      <th>n6</th>\n",
       "      <th>n7</th>\n",
       "      <th>n8</th>\n",
       "      <th>n9</th>\n",
       "      <th>n10</th>\n",
       "      <th>n11</th>\n",
       "      <th>n12</th>\n",
       "    </tr>\n",
       "  </thead>\n",
       "  <tbody>\n",
       "    <tr>\n",
       "      <th>0</th>\n",
       "      <td>NaN</td>\n",
       "      <td>1.0</td>\n",
       "      <td>4.0</td>\n",
       "      <td>1.0</td>\n",
       "      <td>25090.0</td>\n",
       "      <td>349.0</td>\n",
       "      <td>1.0</td>\n",
       "      <td>1.0</td>\n",
       "      <td>13.0</td>\n",
       "      <td>NaN</td>\n",
       "      <td>1.0</td>\n",
       "      <td>0.0</td>\n",
       "      <td>1.0</td>\n",
       "    </tr>\n",
       "    <tr>\n",
       "      <th>1</th>\n",
       "      <td>NaN</td>\n",
       "      <td>-1.0</td>\n",
       "      <td>NaN</td>\n",
       "      <td>NaN</td>\n",
       "      <td>21684.0</td>\n",
       "      <td>NaN</td>\n",
       "      <td>0.0</td>\n",
       "      <td>0.0</td>\n",
       "      <td>41.0</td>\n",
       "      <td>NaN</td>\n",
       "      <td>0.0</td>\n",
       "      <td>NaN</td>\n",
       "      <td>NaN</td>\n",
       "    </tr>\n",
       "    <tr>\n",
       "      <th>2</th>\n",
       "      <td>6.0</td>\n",
       "      <td>6.0</td>\n",
       "      <td>5.0</td>\n",
       "      <td>NaN</td>\n",
       "      <td>803.0</td>\n",
       "      <td>5.0</td>\n",
       "      <td>7.0</td>\n",
       "      <td>4.0</td>\n",
       "      <td>4.0</td>\n",
       "      <td>1.0</td>\n",
       "      <td>2.0</td>\n",
       "      <td>NaN</td>\n",
       "      <td>NaN</td>\n",
       "    </tr>\n",
       "    <tr>\n",
       "      <th>3</th>\n",
       "      <td>NaN</td>\n",
       "      <td>-1.0</td>\n",
       "      <td>NaN</td>\n",
       "      <td>NaN</td>\n",
       "      <td>23546.0</td>\n",
       "      <td>NaN</td>\n",
       "      <td>NaN</td>\n",
       "      <td>0.0</td>\n",
       "      <td>NaN</td>\n",
       "      <td>NaN</td>\n",
       "      <td>NaN</td>\n",
       "      <td>NaN</td>\n",
       "      <td>NaN</td>\n",
       "    </tr>\n",
       "    <tr>\n",
       "      <th>4</th>\n",
       "      <td>1.0</td>\n",
       "      <td>48.0</td>\n",
       "      <td>21.0</td>\n",
       "      <td>7.0</td>\n",
       "      <td>8.0</td>\n",
       "      <td>6.0</td>\n",
       "      <td>1.0</td>\n",
       "      <td>7.0</td>\n",
       "      <td>7.0</td>\n",
       "      <td>1.0</td>\n",
       "      <td>1.0</td>\n",
       "      <td>NaN</td>\n",
       "      <td>4.0</td>\n",
       "    </tr>\n",
       "  </tbody>\n",
       "</table>\n",
       "</div>"
      ],
      "text/plain": [
       "    n0    n1    n2   n3       n4     n5   n6   n7    n8   n9  n10  n11  n12\n",
       "0  NaN   1.0   4.0  1.0  25090.0  349.0  1.0  1.0  13.0  NaN  1.0  0.0  1.0\n",
       "1  NaN  -1.0   NaN  NaN  21684.0    NaN  0.0  0.0  41.0  NaN  0.0  NaN  NaN\n",
       "2  6.0   6.0   5.0  NaN    803.0    5.0  7.0  4.0   4.0  1.0  2.0  NaN  NaN\n",
       "3  NaN  -1.0   NaN  NaN  23546.0    NaN  NaN  0.0   NaN  NaN  NaN  NaN  NaN\n",
       "4  1.0  48.0  21.0  7.0      8.0    6.0  1.0  7.0   7.0  1.0  1.0  NaN  4.0"
      ]
     },
     "execution_count": 17,
     "metadata": {},
     "output_type": "execute_result"
    }
   ],
   "source": [
    "df.iloc[:,1:14].head()"
   ]
  },
  {
   "cell_type": "markdown",
   "metadata": {},
   "source": [
    "We first want to examine if any of our variables already appear to be strong indicators of clicks. If we see certain columns that more often correspond to clicks, we may need to apply some variable weighting in our model. We can look at the total number of counts per clicks for each numerical variable"
   ]
  },
  {
   "cell_type": "code",
   "execution_count": 18,
   "metadata": {},
   "outputs": [
    {
     "data": {
      "text/plain": [
       "Text(0.5,1,'Total Counts per Label')"
      ]
     },
     "execution_count": 18,
     "metadata": {},
     "output_type": "execute_result"
    },
    {
     "data": {
      "image/png": "[encoded data removed]",
      "text/plain": [
       "<Figure size 720x720 with 1 Axes>"
      ]
     },
     "metadata": {},
     "output_type": "display_data"
    }
   ],
   "source": [
    "countByLabel = df.groupby(df.columns[0]).count()\n",
    "countByLabel.iloc[:,:13].transpose().plot(kind='bar', figsize=(10,10))\n",
    "plt.title('Total Counts per Label')"
   ]
  },
  {
   "cell_type": "markdown",
   "metadata": {},
   "source": [
    "So there doesn't seem to be much of a trend with any particular column. Most columns show roughly 65-75% of non-clicks for our sample which is right in line with the population distribution."
   ]
  },
  {
   "cell_type": "markdown",
   "metadata": {},
   "source": [
    "Since we have such a large feature space already, we want to determine if we can reduce the number of numerical columns. If certain numerical variables are correlated with each other, we might be able to combine these columns or simply drop one or the other. We will examine a correlation matrix to make this determination"
   ]
  },
  {
   "cell_type": "code",
   "execution_count": 28,
   "metadata": {},
   "outputs": [
    {
     "data": {
      "text/plain": [
       "<matplotlib.axes._subplots.AxesSubplot at 0x7f86a5526390>"
      ]
     },
     "execution_count": 28,
     "metadata": {},
     "output_type": "execute_result"
    },
    {
     "data": {
      "image/png": "[encoded data removed]",
      "text/plain": [
       "<Figure size 1440x720 with 2 Axes>"
      ]
     },
     "metadata": {},
     "output_type": "display_data"
    }
   ],
   "source": [
    "corr = df.iloc[:,1:14].corr()\n",
    "mask = np.zeros_like(corr, dtype=np.bool)\n",
    "mask[np.triu_indices_from(mask)] = True\n",
    "f, ax = plt.subplots(figsize=(20, 10))\n",
    "cmap = sns.diverging_palette(220, 10, as_cmap=True)\n",
    "sns.heatmap(corr, mask=mask, cmap=cmap, square=True)"
   ]
  },
  {
   "cell_type": "markdown",
   "metadata": {},
   "source": [
    "We see that we have little to no correlation in our numeric variables. It appears that `n6` and `n10` are the most strongly positively correlated, but they only have a correlation coefficient of ~0.6. If we were going to be using this data for inference (as we might if we were designing the ad that we were trying to get clicks on) then we may consider keeping only one of these variables so as to avoid multicollinearity in our model. Since we only care about predictive power, we will leave these variables as they are in our model. "
   ]
  },
  {
   "cell_type": "markdown",
   "metadata": {},
   "source": [
    "The last thing we want to look at in our numerical columns is the distribution of values. We saw we had a wide range of values in the basic statistics and this indicates that we might have considerable skew in our variables. We will examine the histograms each numerical variable"
   ]
  },
  {
   "cell_type": "code",
   "execution_count": 41,
   "metadata": {},
   "outputs": [],
   "source": [
    "def plotHistograms(df):\n",
    "    # set up the subplot figure\n",
    "    dim = np.ceil(np.sqrt(len(df.columns[1:14])))\n",
    "    fig = plt.figure(figsize=(6,4))\n",
    "    fig.subplots_adjust(left=0, right=2, bottom=0, top=2.5)\n",
    "    for i,c in enumerate(df.columns[1:14]):\n",
    "        # for each numerical variable, plot a histogram of non-missing values\n",
    "        ax = fig.add_subplot(dim, dim, i + 1)\n",
    "        ax.hist(df[c].dropna(), bins=50)\n",
    "        ax.set_title(df.columns[i + 1])"
   ]
  },
  {
   "cell_type": "code",
   "execution_count": 42,
   "metadata": {},
   "outputs": [
    {
     "data": {
      "image/png": "[encoded data removed]",
      "text/plain": [
       "<Figure size 432x288 with 13 Axes>"
      ]
     },
     "metadata": {},
     "output_type": "display_data"
    }
   ],
   "source": [
    "plotHistograms(df)"
   ]
  },
  {
   "cell_type": "markdown",
   "metadata": {},
   "source": [
    "We see from the histogram that we have pretty extreme skew in all our numeric variables. This indicates we may want to consider applying a log transform to help these distributions appear more normal."
   ]
  },
  {
   "cell_type": "code",
   "execution_count": 43,
   "metadata": {},
   "outputs": [],
   "source": [
    "def plotHistogramsWithLogTransformation(df):\n",
    "    # set up the subplots figure\n",
    "    dim = np.ceil(np.sqrt(len(df.columns[1:14])))\n",
    "    fig = plt.figure(figsize=(6,4))\n",
    "    fig.subplots_adjust(left=0, right=2, bottom=0, top=2.5)\n",
    "    for i, col in enumerate(df.columns[1:14]):\n",
    "        # add the subplot\n",
    "        ax = fig.add_subplot(dim, dim, i + 1)\n",
    "        \n",
    "        # replace the missing values with 0\n",
    "        c = df[col].copy()\n",
    "        c.fillna(0, inplace=True)\n",
    "        \n",
    "        # take natural log of nonzero values (to avoid -inf)\n",
    "        c[c != 0] = c[c != 0].apply(np.log)\n",
    "        \n",
    "        # plot histogram\n",
    "        ax.hist(c.dropna(), bins=50)\n",
    "        ax.set_title(df.columns[i + 1])"
   ]
  },
  {
   "cell_type": "code",
   "execution_count": 44,
   "metadata": {},
   "outputs": [
    {
     "data": {
      "image/png": "[encoded data removed]",
      "text/plain": [
       "<Figure size 432x288 with 13 Axes>"
      ]
     },
     "metadata": {},
     "output_type": "display_data"
    }
   ],
   "source": [
    "plotHistogramsWithLogTransformation(df)"
   ]
  },
  {
   "cell_type": "markdown",
   "metadata": {},
   "source": [
    "The log transformation clearly improves many of the distributions, giving more meaning to each unique value in those columns. We will want to apply a log transformation during our feature engineering phase"
   ]
  },
  {
   "cell_type": "markdown",
   "metadata": {},
   "source": [
    "## Examine Categorical variables"
   ]
  },
  {
   "cell_type": "markdown",
   "metadata": {},
   "source": [
    "We can now start to examine the categorical data. In order to understand the size of our feature space, we need to understand the number of unique features (classes) in each categorical variable. Let's look at the total counts, the number of missing values, and the number of the unique classes from each category"
   ]
  },
  {
   "cell_type": "code",
   "execution_count": 45,
   "metadata": {},
   "outputs": [],
   "source": [
    "categoricalCounts = train[train.columns[14:]].summary('count')"
   ]
  },
  {
   "cell_type": "code",
   "execution_count": 46,
   "metadata": {},
   "outputs": [
    {
     "name": "stdout",
     "output_type": "stream",
     "text": [
      "-RECORD 0-----------\n",
      " summary | count    \n",
      " c0      | 45840617 \n",
      " c1      | 45840617 \n",
      " c2      | 44281144 \n",
      " c3      | 44281144 \n",
      " c4      | 45840617 \n",
      " c5      | 40299992 \n",
      " c6      | 45840617 \n",
      " c7      | 45840617 \n",
      " c8      | 45840617 \n",
      " c9      | 45840617 \n",
      " c10     | 45840617 \n",
      " c11     | 44281144 \n",
      " c12     | 45840617 \n",
      " c13     | 45840617 \n",
      " c14     | 45840617 \n",
      " c15     | 44281144 \n",
      " c16     | 45840617 \n",
      " c17     | 45840617 \n",
      " c18     | 25667759 \n",
      " c19     | 25667759 \n",
      " c20     | 44281144 \n",
      " c21     | 10885544 \n",
      " c22     | 45840617 \n",
      " c23     | 44281144 \n",
      " c24     | 25667759 \n",
      " c25     | 25667759 \n",
      "\n"
     ]
    }
   ],
   "source": [
    "categoricalCounts.show(vertical=True)"
   ]
  },
  {
   "cell_type": "code",
   "execution_count": 47,
   "metadata": {},
   "outputs": [
    {
     "name": "stdout",
     "output_type": "stream",
     "text": [
      "missing categorical values\n",
      "\n",
      "{'c0': 0,\n",
      " 'c1': 0,\n",
      " 'c10': 0,\n",
      " 'c11': 1559473,\n",
      " 'c12': 0,\n",
      " 'c13': 0,\n",
      " 'c14': 0,\n",
      " 'c15': 1559473,\n",
      " 'c16': 0,\n",
      " 'c17': 0,\n",
      " 'c18': 20172858,\n",
      " 'c19': 20172858,\n",
      " 'c2': 1559473,\n",
      " 'c20': 1559473,\n",
      " 'c21': 34955073,\n",
      " 'c22': 0,\n",
      " 'c23': 1559473,\n",
      " 'c24': 20172858,\n",
      " 'c25': 20172858,\n",
      " 'c3': 1559473,\n",
      " 'c4': 0,\n",
      " 'c5': 5540625,\n",
      " 'c6': 0,\n",
      " 'c7': 0,\n",
      " 'c8': 0,\n",
      " 'c9': 0}\n"
     ]
    }
   ],
   "source": [
    "categoricalNulls = {}\n",
    "for c in categoricalCounts.columns[1:]:\n",
    "    categoricalNulls[c] = N - int(categoricalCounts.select(c).collect()[0][0])\n",
    "print('missing categorical values\\n')\n",
    "pprint(categoricalNulls)"
   ]
  },
  {
   "cell_type": "markdown",
   "metadata": {},
   "source": [
    "So many of our categorical columns are not missing any data, but some are missing huge amounts of data. This could be a problem for our feature space. We will need to decide if `null` should be considered a unique class or not for each category. Now we want to examine the total number of unique classes in each category and our dataset as a whole"
   ]
  },
  {
   "cell_type": "code",
   "execution_count": 48,
   "metadata": {},
   "outputs": [],
   "source": [
    "uniqueCounts = {}\n",
    "for c in train.columns[14:]:\n",
    "    count = train.agg(F.countDistinct(c).alias('c')).collect()[0]['c']\n",
    "    uniqueCounts[c] = count"
   ]
  },
  {
   "cell_type": "code",
   "execution_count": 49,
   "metadata": {},
   "outputs": [
    {
     "data": {
      "text/plain": [
       "{'c0': 1460,\n",
       " 'c1': 583,\n",
       " 'c2': 10131226,\n",
       " 'c3': 2202607,\n",
       " 'c4': 305,\n",
       " 'c5': 23,\n",
       " 'c6': 12517,\n",
       " 'c7': 633,\n",
       " 'c8': 3,\n",
       " 'c9': 93145,\n",
       " 'c10': 5683,\n",
       " 'c11': 8351592,\n",
       " 'c12': 3194,\n",
       " 'c13': 27,\n",
       " 'c14': 14992,\n",
       " 'c15': 5461305,\n",
       " 'c16': 10,\n",
       " 'c17': 5652,\n",
       " 'c18': 2172,\n",
       " 'c19': 3,\n",
       " 'c20': 7046546,\n",
       " 'c21': 17,\n",
       " 'c22': 15,\n",
       " 'c23': 286180,\n",
       " 'c24': 104,\n",
       " 'c25': 142571}"
      ]
     },
     "execution_count": 49,
     "metadata": {},
     "output_type": "execute_result"
    }
   ],
   "source": [
    "uniqueCounts"
   ]
  },
  {
   "cell_type": "code",
   "execution_count": 54,
   "metadata": {},
   "outputs": [
    {
     "name": "stdout",
     "output_type": "stream",
     "text": [
      "Total Size of Feature Space:  33762565\n"
     ]
    }
   ],
   "source": [
    "print('Total Size of Feature Space: ', np.sum(list(uniqueCounts.values())))"
   ]
  },
  {
   "cell_type": "markdown",
   "metadata": {},
   "source": [
    "Obviously it would be crazy to try to build any model with a feature space of 33762565. This is nearly the same size as the dataset itself. Clearly we will need to perform some dimensionality reduction. It will also benefit us to represent these variables in an \"adjacency-list-like\" format so as not to end up with long vectors of mostly zeros. We will take advantage of spark SQL's `SparseVector` representation."
   ]
  },
  {
   "cell_type": "markdown",
   "metadata": {},
   "source": [
    "The important takeaways from this EDA are as follows:\n",
    " - We have a massive feature space that we need to reduce\n",
    " - We want to apply a log transformation to the numerical columns to reduce bias in those variables\n",
    " - We need to apply a normalization to the numerical columns so that each variable exists in the same scale\n",
    " - We will need to represent our feature space in an \"adjacency-list-like\" format to reduce memory consumption\n",
    "\n",
    "We are now ready to apply these concepts during our feature engineering phase and then implement our transformed dataset in our algorithm"
   ]
  },
  {
   "cell_type": "markdown",
   "metadata": {},
   "source": [
    "# 4. Algorithm Implementation  "
   ]
  },
  {
   "cell_type": "markdown",
   "metadata": {},
   "source": [
    "Develop a ‘homegrown’ implementation of the algorithm, apply it to the training dataset and evaluate your results on the test set."
   ]
  },
  {
   "cell_type": "code",
   "execution_count": null,
   "metadata": {
    "collapsed": true
   },
   "outputs": [],
   "source": [
    "# answer #4 in this section\n",
    "\n",
    "# 4a Feature Engineering\n",
    "# Emily\n",
    "#   - Run Random Forest for enhanced feature selection; may lead to new \"final pre-processed\" dataset (complete by Saturday night)\n",
    "# Alex\n",
    "#   - Try weighted LR (due to imbalanced label distribution)\n",
    "\n",
    "# 4b Homegrown Factorization Machine and Logistic Regression\n",
    "# Divya --> homegrown algorithms, explaining which parts are logistic vs FM \n",
    "\n",
    "# 4c Logistic Regression Implementation in Spark ML\n",
    "# Steve/Alex --> actually running logistic regression ML, enhancements: feature importance, loss plots [Alex to run on the cluster]\n",
    "#   - Complete hyperparameter tuning with sample data on \"final pre-processed\" dataset (Saturday/Sunday)\n",
    "#   - Using tuned hyperameters, run LR with full \"final pre-processed\" dataset (Saturday/Sunday)"
   ]
  },
  {
   "cell_type": "markdown",
   "metadata": {},
   "source": [
    "## 4a. Feature Engineering"
   ]
  },
  {
   "cell_type": "markdown",
   "metadata": {},
   "source": [
    "The main feature engineering challenge with this dataset is how to reduce the number of features from the number that would result if we naively one-hot encoded each categorical variable. We experimented with two distinct solutions to this problem:\n",
    "- Modulo-based hashing function: We drew inspiration from the writeup of one of the kaggle competition winners, who used a hashing function to reduce the number of categorial variables. For this implementation, we kept all 26 of the initial categorical features, but dropped the infrequent values (any that occurred fewer than 10 times) and then took the variables that still had very large numbers of categories remaining and hashed them to a smaller size (effectively randomly binning multiple values for that feature into a single dummy feature). This methodology is explained in more detail below.\n",
    "- Random forest feature selection: Our desire to experiment with interaction terms in our model led us to the need to reduce our features much more significantly. We decided to try using feature importances from a Random Forest model in order to completely eliminate some of the categorical variables from the final training set. This also gave us a good excuse to learn how to use another model in the Spark ML package. "
   ]
  },
  {
   "cell_type": "markdown",
   "metadata": {},
   "source": [
    "### Random Forest Feature Selection"
   ]
  },
  {
   "cell_type": "code",
   "execution_count": 6,
   "metadata": {},
   "outputs": [],
   "source": [
    "fit_rf_reloaded = RandomForestClassificationModel.load('gs://w261_desa2/notebooks/models/emBaselineRf1PercentSample')"
   ]
  },
  {
   "cell_type": "code",
   "execution_count": 7,
   "metadata": {
    "scrolled": true
   },
   "outputs": [
    {
     "data": {
      "text/plain": [
       "[('c14', 0.19907881880780448),\n",
       " ('c6', 0.15751437242674862),\n",
       " ('c9', 0.1357478879520268),\n",
       " ('c3', 0.10742715518734963),\n",
       " ('c10', 0.10244774379898097),\n",
       " ('c23', 0.08768920566111794),\n",
       " ('n4', 0.0492124586591864),\n",
       " ('n10', 0.023623075654938232),\n",
       " ('n9', 0.021481456242037327),\n",
       " ('c12', 0.020693703227816756),\n",
       " ('n0', 0.015549646880233477),\n",
       " ('n6', 0.011792778785977063),\n",
       " ('n5', 0.010190231543023892),\n",
       " ('c17', 0.009296336852622735),\n",
       " ('c1', 0.008442916012429847),\n",
       " ('c11', 0.008290388127290995),\n",
       " ('c15', 0.00778983002558567),\n",
       " ('c2', 0.006781886152806532),\n",
       " ('n2', 0.006775141624275111),\n",
       " ('n12', 0.005674909341722393),\n",
       " ('c22', 0.0016688853211281054),\n",
       " ('n7', 0.0012078767176650791),\n",
       " ('c25', 0.001098422714183327),\n",
       " ('c18', 0.000524872283048423),\n",
       " ('n1', 0.0),\n",
       " ('n3', 0.0),\n",
       " ('n8', 0.0),\n",
       " ('n11', 0.0),\n",
       " ('c0', 0.0),\n",
       " ('c4', 0.0),\n",
       " ('c5', 0.0),\n",
       " ('c7', 0.0),\n",
       " ('c8', 0.0),\n",
       " ('c13', 0.0),\n",
       " ('c16', 0.0),\n",
       " ('c19', 0.0),\n",
       " ('c20', 0.0),\n",
       " ('c21', 0.0),\n",
       " ('c24', 0.0)]"
      ]
     },
     "execution_count": 7,
     "metadata": {},
     "output_type": "execute_result"
    }
   ],
   "source": [
    "featureImportanceArray = fit_rf_reloaded.featureImportances.toArray()\n",
    "feature_importance_dict = {}\n",
    "for idx, val in enumerate(featureImportanceArray):\n",
    "    feature_importance_dict[[c for c in train.columns if c != \"label\"][idx]] = val\n",
    "sorted(feature_importance_dict.items(), key=operator.itemgetter(1), reverse=True)"
   ]
  },
  {
   "cell_type": "code",
   "execution_count": 8,
   "metadata": {},
   "outputs": [],
   "source": [
    "cols_to_use = [col.replace(\"_indexed\", \"\") for col in feature_importance_dict if feature_importance_dict[col] > .01]"
   ]
  },
  {
   "cell_type": "code",
   "execution_count": 9,
   "metadata": {
    "scrolled": true
   },
   "outputs": [
    {
     "name": "stdout",
     "output_type": "stream",
     "text": [
      "['n0', 'n4', 'n5', 'n6', 'n9', 'n10', 'c3', 'c6', 'c9', 'c10', 'c12', 'c14', 'c23']\n"
     ]
    }
   ],
   "source": [
    "print(cols_to_use)"
   ]
  },
  {
   "cell_type": "markdown",
   "metadata": {},
   "source": [
    "### Train/Test Split"
   ]
  },
  {
   "cell_type": "markdown",
   "metadata": {},
   "source": [
    "Since our dataset is so large, we chose to split our training and test set with a 90/10 split"
   ]
  },
  {
   "cell_type": "code",
   "execution_count": 11,
   "metadata": {},
   "outputs": [],
   "source": [
    "train, test = train.randomSplit([9.0, 1.0])"
   ]
  },
  {
   "cell_type": "code",
   "execution_count": 12,
   "metadata": {},
   "outputs": [
    {
     "name": "stdout",
     "output_type": "stream",
     "text": [
      "4111 427\n",
      "runtime (min):  1.8485023379325867\n"
     ]
    }
   ],
   "source": [
    "start = time.time()\n",
    "print(train.count(), test.count())\n",
    "print('runtime (min): ', (time.time() - start) / 60)"
   ]
  },
  {
   "cell_type": "markdown",
   "metadata": {},
   "source": [
    "### Log transform numerical data"
   ]
  },
  {
   "cell_type": "markdown",
   "metadata": {},
   "source": [
    "From the EDA, we see that a log transform will likely be beneficial. In general, machine learning algorithms have a difficult time dealing with a wide range of values (high variance). To reduce variability in the numerical variables and improve the learning rate of our models, we apply a natural log transform to the numerical columns here."
   ]
  },
  {
   "cell_type": "code",
   "execution_count": 13,
   "metadata": {},
   "outputs": [],
   "source": [
    "def logTransformNumeric(df):\n",
    "    # apply log transformation to each numerical column\n",
    "    numericalCols = [c for c in df.columns if 'n' in c]\n",
    "    for i,c in enumerate(numericalCols):\n",
    "        df = df.withColumn(c, F.log(c))\n",
    "    \n",
    "    # fill NA values with 0's\n",
    "    df = df.na.fill(0, subset=df.columns[1:14])\n",
    "    \n",
    "    # cache the dataframe\n",
    "    df.cache()\n",
    "    \n",
    "    return df"
   ]
  },
  {
   "cell_type": "code",
   "execution_count": 14,
   "metadata": {},
   "outputs": [],
   "source": [
    "train = logTransformNumeric(train)\n",
    "test = logTransformNumeric(test)"
   ]
  },
  {
   "cell_type": "markdown",
   "metadata": {},
   "source": [
    "### Normalize numerical data (feature scaling)"
   ]
  },
  {
   "cell_type": "markdown",
   "metadata": {},
   "source": [
    "While feature scaling isn't strictly necessary for logistic regression, our homegrown function uses gradient descent where feature scaling is important. When we do not perform feature scaling in gradient descent, the contour of our cost function because steep and narrow which can cause divergence in the gradient descent, or requires a very small learning rate causing for lengthy training times. By applying feature scaling, the contours of the cost function are now more uniform and therefore we can increase our learning rate and arrive at the global minimum of the cost function much more quickly."
   ]
  },
  {
   "cell_type": "code",
   "execution_count": 15,
   "metadata": {},
   "outputs": [],
   "source": [
    "def normalizeNumeric(trainDf, testDf):\n",
    "    \n",
    "    # collect max and min values for variable normalization\n",
    "    numericalCols = [c for c in trainDf.columns if 'n' in c]\n",
    "    stats = trainDf[numericalCols].describe()\n",
    "    maxes = np.array(stats[stats['summary'] == 'max'].collect())[0][1:]\n",
    "    mins = np.array(stats[stats['summary'] == 'min'].collect())[0][1:]\n",
    "    maxes = [float(m) for m in maxes]\n",
    "    mins = [float(m) for m in mins]\n",
    "    \n",
    "    # normalize each numerical variable to within the range of 0-1\n",
    "    for i,c in enumerate(numericalCols):\n",
    "        trainDf = trainDf.withColumn(c, (trainDf[c] - mins[i]) / (maxes[i] - mins[i]))\n",
    "        testDf = testDf.withColumn(c, (testDf[c] - mins[i]) / (maxes[i] - mins[i]))\n",
    "    \n",
    "    # cache the dataframes\n",
    "    trainDf.cache()\n",
    "    testDf.cache()\n",
    "    \n",
    "    return trainDf, testDf"
   ]
  },
  {
   "cell_type": "code",
   "execution_count": 16,
   "metadata": {
    "scrolled": true
   },
   "outputs": [],
   "source": [
    "train, test = normalizeNumeric(train, test)"
   ]
  },
  {
   "cell_type": "markdown",
   "metadata": {},
   "source": [
    "### Categorical Feature Manipulation"
   ]
  },
  {
   "cell_type": "code",
   "execution_count": 17,
   "metadata": {},
   "outputs": [],
   "source": [
    "def createFeatureVector(trainDf, testDf, n=10, modulo=10000):\n",
    "    '''Reduce the categorical feature space and generate a single \n",
    "    SparseVector representation of all features, numerical and categorical\n",
    "    '''\n",
    "    \n",
    "    # find the infrequent values\n",
    "    def findInfrequentValues(c):\n",
    "        '''collect all values in column c with frequency less than n'''\n",
    "        counts = trainDf.groupBy(c).count()\n",
    "        infrequentValues = counts.filter(counts['count'] <= n)\n",
    "        s = infrequentValues.agg(F.collect_set(c)).collect()[0][0]\n",
    "        return s\n",
    "\n",
    "    # replace the infrequent values\n",
    "    def replaceInfrequentValues(row_value):\n",
    "        '''group all infrequent values under universal label \"infreq\"'''\n",
    "        if row_value in infreq_values:\n",
    "            return \"infreq\"\n",
    "        else:\n",
    "            return row_value\n",
    "    \n",
    "    # create the udf object to replace the infrequent values\n",
    "    replace_infreq_udf = F.udf(replaceInfrequentValues)\n",
    "\n",
    "    # create hash function for binning categorical variables\n",
    "    def hashValues(row):\n",
    "        if row == \"infreq\":\n",
    "            return str(row)\n",
    "        elif row != None:\n",
    "            # return integer value of hex label, apply modulo (e.g. modulo 10000 keeps only the last 4 digits)\n",
    "            return str(int('0x' + row, 16) % modulo)\n",
    "        else:\n",
    "            return str(row)\n",
    "\n",
    "    # create udf object for hashing categorical features \n",
    "    hash_udf = F.udf(hashValues)\n",
    "\n",
    "    # hash all hex strings in both train and test\n",
    "    for c in trainDf.columns[14:]:\n",
    "        print(\"eliminating infreqs/hashing column {}\".format(c))\n",
    "        infreq_values = findInfrequentValues(trainDf[c])\n",
    "        trainDf = trainDf.withColumn(c, replace_infreq_udf(trainDf[c]))\n",
    "        testDf = testDf.withColumn(c, replace_infreq_udf(testDf[c]))\n",
    "        unique_values = trainDf.agg(F.countDistinct(trainDf[c])).collect()[0][0]\n",
    "        if unique_values > modulo:\n",
    "            trainDf = trainDf.withColumn(c, hash_udf(trainDf[c]))\n",
    "            testDf = testDf.withColumn(c, hash_udf(testDf[c]))\n",
    "  \n",
    "    # index the hash values into numerical indices\n",
    "    for c in trainDf.columns[14:]:\n",
    "        newCol = c + '_idx'\n",
    "        indexer = StringIndexer(inputCol=c, outputCol=newCol, handleInvalid='keep')\n",
    "        f = indexer.fit(trainDf)\n",
    "        trainDf = f.transform(trainDf)\n",
    "        testDf = f.transform(testDf)\n",
    "        \n",
    "    # One-hot encode the numerical indices\n",
    "    inputCols = trainDf.columns[40:]\n",
    "    outputCols = [c.strip('_idx') + '_OHE' for c in inputCols]\n",
    "    encoder = OneHotEncoderEstimator(inputCols=inputCols, outputCols=outputCols)\n",
    "    e = encoder.fit(trainDf)\n",
    "    trainDf = e.transform(trainDf)\n",
    "    testDf = e.transform(testDf)\n",
    "\n",
    "    # assemble all features into single SparseVector column\n",
    "    cols = [c for c in trainDf.columns if 'n' in c or 'OHE' in c]\n",
    "    v = VectorAssembler(inputCols=cols, outputCol=\"features\")\n",
    "    trainDf = v.transform(trainDf)\n",
    "    testDf = v.transform(testDf)\n",
    "    \n",
    "    # cache the dataframes\n",
    "    trainDf.cache()\n",
    "    testDf.cache()\n",
    "    \n",
    "    return trainDf, testDf"
   ]
  },
  {
   "cell_type": "code",
   "execution_count": 18,
   "metadata": {
    "scrolled": false
   },
   "outputs": [
    {
     "name": "stdout",
     "output_type": "stream",
     "text": [
      "eliminating infreqs/hashing column c0\n",
      "eliminating infreqs/hashing column c1\n",
      "eliminating infreqs/hashing column c2\n",
      "eliminating infreqs/hashing column c3\n",
      "eliminating infreqs/hashing column c4\n",
      "eliminating infreqs/hashing column c5\n",
      "eliminating infreqs/hashing column c6\n",
      "eliminating infreqs/hashing column c7\n",
      "eliminating infreqs/hashing column c8\n",
      "eliminating infreqs/hashing column c9\n",
      "eliminating infreqs/hashing column c10\n",
      "eliminating infreqs/hashing column c11\n",
      "eliminating infreqs/hashing column c12\n",
      "eliminating infreqs/hashing column c13\n",
      "eliminating infreqs/hashing column c14\n",
      "eliminating infreqs/hashing column c15\n",
      "eliminating infreqs/hashing column c16\n",
      "eliminating infreqs/hashing column c17\n",
      "eliminating infreqs/hashing column c18\n",
      "eliminating infreqs/hashing column c19\n",
      "eliminating infreqs/hashing column c20\n",
      "eliminating infreqs/hashing column c21\n",
      "eliminating infreqs/hashing column c22\n",
      "eliminating infreqs/hashing column c23\n",
      "eliminating infreqs/hashing column c24\n",
      "eliminating infreqs/hashing column c25\n",
      "runtime (min):  2.055545441309611\n"
     ]
    }
   ],
   "source": [
    "start = time.time()\n",
    "# create feature vector using modulo 100k\n",
    "train, test = createFeatureVector(train, test, modulo=100000)\n",
    "print('runtime (min): ', (time.time() - start) / 60)"
   ]
  },
  {
   "cell_type": "markdown",
   "metadata": {},
   "source": [
    "### Weight Balancing"
   ]
  },
  {
   "cell_type": "code",
   "execution_count": 19,
   "metadata": {},
   "outputs": [],
   "source": [
    "def balancesLabelWeights(df):\n",
    "    '''Create weight column to reduce label bias'''\n",
    "    \n",
    "    # determine the weight ratio\n",
    "    numNegatives = df.filter(df[\"label\"] == 0).count()\n",
    "    totalSetSize = df.count()\n",
    "    balancingRatio = (totalSetSize - numNegatives) / totalSetSize\n",
    "    \n",
    "    # assign weights to labels\n",
    "    df = df.withColumn(\"weightCol\", df[\"label\"])\n",
    "    df = df.replace(0, balancingRatio, subset=['weightCol'])\n",
    "    df = df.replace(1, 1-balancingRatio, subset=['weightCol'])\n",
    "    \n",
    "    # cache the dataframe\n",
    "    df = df.cache()\n",
    "    \n",
    "    return df"
   ]
  },
  {
   "cell_type": "code",
   "execution_count": 20,
   "metadata": {},
   "outputs": [],
   "source": [
    "trainProcessed = train.select('label','features')\n",
    "testProcessed = test.select('label','features')"
   ]
  },
  {
   "cell_type": "code",
   "execution_count": 21,
   "metadata": {},
   "outputs": [
    {
     "data": {
      "text/plain": [
       "(['label', 'features'], ['label', 'features'])"
      ]
     },
     "execution_count": 21,
     "metadata": {},
     "output_type": "execute_result"
    }
   ],
   "source": [
    "trainProcessed.columns, testProcessed.columns"
   ]
  },
  {
   "cell_type": "code",
   "execution_count": 22,
   "metadata": {},
   "outputs": [],
   "source": [
    "trainProcessed = balancesLabelWeights(trainProcessed)"
   ]
  },
  {
   "cell_type": "code",
   "execution_count": 23,
   "metadata": {},
   "outputs": [
    {
     "data": {
      "text/plain": [
       "['label', 'features', 'weightCol']"
      ]
     },
     "execution_count": 23,
     "metadata": {},
     "output_type": "execute_result"
    }
   ],
   "source": [
    "trainProcessed.columns"
   ]
  },
  {
   "cell_type": "code",
   "execution_count": 24,
   "metadata": {},
   "outputs": [
    {
     "data": {
      "text/plain": [
       "Row(label=0.0, features=SparseVector(24086, {4: 0.6568, 5: 0.4887, 6: 0.1578, 7: 0.223, 8: 0.4907, 10: 0.1601, 613: 1.0, 2021: 1.0, 2168: 1.0, 3692: 1.0, 4932: 1.0, 7283: 1.0, 7475: 1.0, 9618: 1.0, 9724: 1.0, 12086: 1.0, 14707: 1.0, 14710: 1.0, 14723: 1.0, 14896: 1.0, 15144: 1.0, 17828: 1.0, 18767: 1.0, 18853: 1.0, 20172: 1.0, 21974: 1.0, 22148: 1.0}), weightCol=0.2607637941837311)"
      ]
     },
     "execution_count": 24,
     "metadata": {},
     "output_type": "execute_result"
    }
   ],
   "source": [
    "trainProcessed.head()"
   ]
  },
  {
   "cell_type": "code",
   "execution_count": 25,
   "metadata": {},
   "outputs": [
    {
     "name": "stdout",
     "output_type": "stream",
     "text": [
      "root\n",
      " |-- label: float (nullable = true)\n",
      " |-- features: vector (nullable = true)\n",
      " |-- weightCol: float (nullable = true)\n",
      "\n"
     ]
    }
   ],
   "source": [
    "trainProcessed.printSchema()"
   ]
  },
  {
   "cell_type": "code",
   "execution_count": 26,
   "metadata": {},
   "outputs": [
    {
     "name": "stdout",
     "output_type": "stream",
     "text": [
      "4111\n",
      "0.16830761432647706\n"
     ]
    }
   ],
   "source": [
    "start = time.time()\n",
    "trainRdd = trainProcessed.rdd\n",
    "print(trainRdd.count())\n",
    "print((time.time() - start) / 60)"
   ]
  },
  {
   "cell_type": "code",
   "execution_count": 27,
   "metadata": {},
   "outputs": [
    {
     "data": {
      "text/plain": [
       "pyspark.sql.dataframe.DataFrame"
      ]
     },
     "execution_count": 27,
     "metadata": {},
     "output_type": "execute_result"
    }
   ],
   "source": [
    "type(trainProcessed)"
   ]
  },
  {
   "cell_type": "code",
   "execution_count": 28,
   "metadata": {},
   "outputs": [],
   "source": [
    "trainProcessed.write.format('parquet').save('data/toySampleTrain.parquet')"
   ]
  },
  {
   "cell_type": "code",
   "execution_count": 29,
   "metadata": {},
   "outputs": [],
   "source": [
    "testProcessed.write.format('parquet').save('toySampleTest.parquet')"
   ]
  },
  {
   "cell_type": "code",
   "execution_count": null,
   "metadata": {},
   "outputs": [],
   "source": []
  },
  {
   "cell_type": "code",
   "execution_count": null,
   "metadata": {},
   "outputs": [],
   "source": []
  },
  {
   "cell_type": "markdown",
   "metadata": {},
   "source": [
    "# 5. Application of Course Concepts "
   ]
  },
  {
   "cell_type": "markdown",
   "metadata": {},
   "source": [
    "Pick 3-5 key course concepts and discuss how your work on this assignment illustrates an understanding of these concepts."
   ]
  },
  {
   "cell_type": "code",
   "execution_count": null,
   "metadata": {
    "collapsed": true
   },
   "outputs": [],
   "source": [
    "# answer #5 in this section\n",
    "# Emily "
   ]
  },
  {
   "cell_type": "markdown",
   "metadata": {},
   "source": [
    "**Bias/variance tradeoff**  \n",
    "While our group built our collective understanding of factorization machines, we discussed the selection of k, the number of latent features that the model will learn per data feature. We determined that we could use the bias/variance tradeoff in our process of understanding and selecting a value for K. A smaller value of K increases our model’s bias and decreases its’ variance; it means less ability to model complex patterns in the data, and with that, a greater likelihood of errors due to the model not capturing the relationships that are present in the data. A larger K means a much more flexible model that can learn more nuanced patterns, but also greater sensitivity to the specific data we train on. As a result, a model with a larger K will be sensitive to the particular distribution of data we train on, and will be more likely to make errors from overfitting to patterns in the training set that don’t generalize to the problem in general. A larger K means adding more parameters to the model, similar to what would happen if we added more interaction terms or additional features, and a lot of the same intuition applies. (TODO add a sentence referring to the number we set K to)\n",
    "\n",
    "**Sparse representation**  \n",
    "Spark’s SparseVector data type is an extremely helpful feature that helps us represent feature-rich data sets in a compact way. When we use one-hot encoding to turn our categorical features into a set of dummy features, we end up with a vector that is as long as the number of separate categorical values we have. In this case, depending what kind of preprocessing we do, that means a vector that is anywhere from hundreds of thousands to millions of indices long. However, since only 26 of the new features should have a 1 value in them, these new feature vectors are extremely sparse, with the vast majority of their entries being 0s. The SparseVector data type takes advantage of this sparsity; instead of storing the full vector of hundreds of thousands of 0s, it only stores the overall vector size and the indices of the non-zero vectors. It’s a similar idea to the adjacency lists vs matrices we looked at for representing graphs earlier in the term; the sparse vector, like the adjacency list, only stores the data that has non-zero values, which allows for a compressed data representation that nonetheless conveys all the information needed for downstream operations. Spark’s OneHotEncoderEstimator method returns a SparseVector, and the LogisticRegression estimator we used was able to take in the SparseVector as input features; if we had had to use a denser representation of these features, the size of the data would have been far larger when we wrote it to parquet, and it would also take up more memory when running the logistic regression estimator on it.\n",
    "\n",
    "**Batch vs stochastic:**  \n",
    "All the models we used in this project were trained using gradient descent, where the model makes a series of updates to the parameter values, each time determining the size and direction of update to make by using the partial derivative of the cost function (in combination with the learning rate). Batch and stochastic gradient descent are two different methods for determining when to make the updates in the algorithm, and the choice comes with different tradeoffs. Stochastic gradient descent is generally preferred to batch since it usually converges faster. When updating the gradient based on just one example at a time, instead of waiting to get through all training examples to start updating, the model will converge faster, since it can start making updates and getting in the right neighborhood very quickly. The fluctuating nature of SGD might prevent it from getting to the true minimum as well as batch GD would, but it can get an approximation of the minimum much faster, and often that is good enough. From a scalability perspective, it is good that SGD converges faster, but also, it can’t be parallelized, since the training the model on row 2 requires that we have already run the model and performed the gradient update from row 1. Our homegrown implementation of logistic regression used batch gradient descent in order to take full advantage of the parallelization built into spark. Spark’s LogisticRegression implementation in the ML package uses a mini-batch gradient descent approach, which represents a happy medium between batch GD and SGD in terms of convergence and parallelizability. For each mini-batch, the model can parallelize the step of getting the predictions on each row in the batch, since that step is independent for each row. Then, once all of those predictions have been computed, the algorithm can compute the gradient and do the weight update on the model, before doing the same process on the next batch. This mini-batch update is the best of both worlds - we get frequent updates that don’t require a full pass through the training data to start seeing model improvements, but we also get the ability to parallelize the computations."
   ]
  },
  {
   "cell_type": "markdown",
   "metadata": {},
   "source": [
    "# 6. Appedix"
   ]
  },
  {
   "cell_type": "markdown",
   "metadata": {},
   "source": [
    "## Random Forest Feature Selector"
   ]
  },
  {
   "cell_type": "code",
   "execution_count": null,
   "metadata": {},
   "outputs": [],
   "source": [
    "# vector assembler won't work if any values are null\n",
    "train = train.na.fill(0, subset=train.columns[1:14])\n",
    "test = test.na.fill(0, subset=test.columns[1:14])"
   ]
  },
  {
   "cell_type": "code",
   "execution_count": null,
   "metadata": {},
   "outputs": [],
   "source": [
    "categorical_cols = [c for c in train.columns if 'c' in c or 'label' in c]\n",
    "indexed_cols = []\n",
    "for col in categorical_cols:\n",
    "    new_col_name = \"{}_indexed\".format(col)\n",
    "    vec_indexer = StringIndexer(inputCol=col, outputCol=new_col_name, handleInvalid='keep').fit(train)\n",
    "    train = vec_indexer.transform(train)\n",
    "    test = vec_indexer.transform(test)\n",
    "    indexed_cols.append(new_col_name)"
   ]
  },
  {
   "cell_type": "code",
   "execution_count": null,
   "metadata": {},
   "outputs": [],
   "source": [
    "train.head()"
   ]
  },
  {
   "cell_type": "code",
   "execution_count": null,
   "metadata": {},
   "outputs": [],
   "source": [
    "cols_for_features = [c for c in train.columns if 'n' in c and c!=\"label_indexed\"]\n",
    "print(cols_for_features)\n",
    "assembler = VectorAssembler(inputCols=cols_for_features, outputCol=\"features\")\n",
    "newTrain = assembler.transform(train)\n",
    "newTest = assembler.transform(test)"
   ]
  },
  {
   "cell_type": "code",
   "execution_count": null,
   "metadata": {},
   "outputs": [],
   "source": [
    "newTrain.head()"
   ]
  },
  {
   "cell_type": "code",
   "execution_count": null,
   "metadata": {},
   "outputs": [],
   "source": [
    "# Train a RandomForest model.\n",
    "start_time = time.time()\n",
    "rf = RandomForestClassifier(labelCol=\"label_indexed\", featuresCol=\"features\", numTrees=5, maxBins=1300000)\n",
    "fit_rf = rf.fit(newTrain)\n",
    "end_time = time.time()\n",
    "print(\"Total time taken = {}\".format(end_time - start_time))"
   ]
  },
  {
   "cell_type": "code",
   "execution_count": null,
   "metadata": {},
   "outputs": [],
   "source": [
    "predictions = fit_rf.transform(newTest)"
   ]
  },
  {
   "cell_type": "code",
   "execution_count": null,
   "metadata": {},
   "outputs": [],
   "source": [
    "### probably need to write a function to get accuracy "
   ]
  },
  {
   "cell_type": "code",
   "execution_count": null,
   "metadata": {},
   "outputs": [],
   "source": [
    "evaluator = BinaryClassificationEvaluator(rawPredictionCol=\"rawPrediction\")\n",
    "evaluator.evaluate(predictions)"
   ]
  },
  {
   "cell_type": "code",
   "execution_count": null,
   "metadata": {},
   "outputs": [],
   "source": [
    "evaluator.getMetricName()"
   ]
  },
  {
   "cell_type": "code",
   "execution_count": null,
   "metadata": {},
   "outputs": [],
   "source": [
    "predictions.filter(predictions[\"prediction\"]==1).head(100)"
   ]
  },
  {
   "cell_type": "code",
   "execution_count": null,
   "metadata": {},
   "outputs": [],
   "source": [
    "# Convert indexed labels back to original labels.\n",
    "labelConverter = IndexToString(inputCol=\"prediction\", outputCol=\"predictedLabel\",\n",
    "                               labels=labelIndexer.labels)"
   ]
  },
  {
   "cell_type": "code",
   "execution_count": null,
   "metadata": {},
   "outputs": [],
   "source": [
    "fit_rf.save('gs://w261_desa2/notebooks/models/emBaselineRf1PercentSample')"
   ]
  },
  {
   "cell_type": "code",
   "execution_count": null,
   "metadata": {},
   "outputs": [],
   "source": [
    "fit_rf.featureImportances"
   ]
  }
 ],
 "metadata": {
  "kernelspec": {
   "display_name": "Python 3",
   "language": "python",
   "name": "python3"
  },
  "language_info": {
   "codemirror_mode": {
    "name": "ipython",
    "version": 3
   },
   "file_extension": ".py",
   "mimetype": "text/x-python",
   "name": "python",
   "nbconvert_exporter": "python",
   "pygments_lexer": "ipython3",
   "version": "3.6.6"
  }
 },
 "nbformat": 4,
 "nbformat_minor": 2
}
