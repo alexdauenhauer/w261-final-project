{
 "cells": [
  {
   "cell_type": "markdown",
   "metadata": {},
   "source": [
    "# Final Project - Click Through Rate Prediction"
   ]
  },
  {
   "cell_type": "markdown",
   "metadata": {},
   "source": [
    "### Alex Dauenhauer, Divya Gorantla, Emily Rapport, Steve Sanders\n",
    "\n",
    "#### MIDS w261: Machine Learning at Scale | UC Berkeley School of Information | Spring 2019"
   ]
  },
  {
   "cell_type": "markdown",
   "metadata": {},
   "source": [
    "# 1. Question Formulation  "
   ]
  },
  {
   "cell_type": "markdown",
   "metadata": {},
   "source": [
    "In this project, we aim to build a model that we can use to predict the likelihood that an individual will click on an advertisement. This question was posed to us by Criteo, an advertising technology company that offers a variety of solutions for helping e-commerce companies understand their customers in order to serve them targeted ads. \n",
    "\n",
    "Our model aims to make predictions for this question (as posed by Criteo for the Kaggle competition here: https://www.kaggle.com/c/criteo-display-ad-challenge/overview ): \"Given a user and the page he is visiting, what is the probability that he will click on a given ad?\" If we put ourselves in the shoes of Criteo's customers, we care about the answer to this question because we want to show customers ads that they are likely to click on. We could use these predictions in several ways:\n",
    "1. If we believe that a customer will click on an ad, then we will be willing to spend money on that advertising space because there is a likely payoff. If we believe that a customer will not click on an ad, we might divert resources elsewhere, or try to reach that customer in another way. \n",
    "2. We could make a set of predictions for a given customer about their likelihood to click on a variety of ads, and use the predictions to discriminate between the different ads we could show. \n",
    "3. We could make many predictions in order to predict our aggregate click-through rate for a particular strategy or ad campaign. The formula for click-through rate is (Total Clicks on Ad) / (Total Times Users were Served the Ad). By making predictions on the test set, and taking the N prediction rows that correspond to a particular prediction, and the C positive examples where our model predicts that the user would click, we can say, \"if we showed users this ad N times, we predict that the click-through rate would be C/N.\" By predicting individual clicks at a large scale, we could predict what click-through rate we would get if we targeted particular demographics or ran a particular strategy. \n",
    "\n",
    "The training data set for this problem has 40 columns:\n",
    "- a label column, with a 1 or 0 indicating that the user did or did not click through the ad, respectively\n",
    "- 13 columns with numerical data\n",
    "- 26 columns with categorical data, where all categorical values are hexified for confidentiality\n",
    "\n",
    "Since we have no column labels and no insight into the categories in the categorical feature columns, we are limited in the number of questions we can answer. We can't calculate and compare the click-through rates of different ads or different ad contexts, or compare the click-through rates for different users, without knowing which columns refer to users, ads, web pages, or other context. We can, however, determine how well a particular model and preprocessing method fits the problem at hand, and attempt different strategies to optimize our model's ability to predict click likelihood for a given user and context. \n",
    "\n",
    "To create a model that will be capable of making these predictions, we have experimented with both homegrown and Spark implementations of logistic regression, and with a homegrown implementation of a factorization machine. We have also experimented with various methods for preprocessing the input data to make it meet the requirements of these types of models. "
   ]
  },
  {
   "cell_type": "markdown",
   "metadata": {},
   "source": [
    "# 2. Algorithm Explanation "
   ]
  },
  {
   "cell_type": "markdown",
   "metadata": {},
   "source": [
    "For this project, we have built a factorization machine algorithm from the ground up, and applied it to a small sample dataset.  For the full dataset, we have implemented a logistic regression algorithm utilizing Spark ML methods.\n",
    "\n",
    "The factorization machine algorithm that we built was based on two papers by Steffen Rendle:  \n",
    "1. Factorization Machines (Data Mining (ICDM), 2010 IEEE 10th International Conference on. (2010) 995–1000,  \n",
    "https://www.csie.ntu.edu.tw/~b97053/paper/Rendle2010FM.pdf), and  \n",
    "2. Factorization Machines with libFM (ACM Transactions on Intelligent Systems and Technology, Vol. 3, No. 3, Article 57, Publication date: May 2012., https://www.csie.ntu.edu.tw/~b97053/paper/Factorization%20Machines%20with%20libFM.pdf).  \n",
    "\n",
    "The second Rendle paper was particularly helpful for algorithm explanation, and we used \"Algorithm 1\" in that paper for intuition to guide implementation of our homegrown FM algorithm using batch gradient descent.\n",
    "\n",
    "Equation 1 shows the basic relationship between the predicted target variable $\\hat{y}$ and the independent variables in the second-order factorization machine model. \n",
    "\n",
    "\n",
    "\\begin{equation} \\tag{1}\n",
    "\\hat{y}(\\boldsymbol{x}) = w_0 + \\sum_{j=1}^{p}w_j x_j + \\sum_{j=1}^{p} \\sum_{j'=j+1}^{p}x_j x_j' \\sum_{f=1}^{k}v_{j,f} v_{j',f}  \n",
    "\\end{equation}\n",
    "\n",
    "where $\\boldsymbol{x} \\in \\mathbb{R} ^{p}$ is a feature vector with $p$ real-valued variables.  Here $k$ is the dimensionality of the factorization, also known as the number of latent factors, and the model parameters are \n",
    "\n",
    "\\begin{equation} \\tag{2}\n",
    "w_0 \\in \\mathbb{R}, \\space\\space\\space  \\boldsymbol{w} \\in \\mathbb{R}^p,  \\space\\space\\space  V \\in \\mathbb{R}^{p \\times k} \n",
    "\\end{equation}\n",
    "\n"
   ]
  },
  {
   "cell_type": "markdown",
   "metadata": {},
   "source": [
    "The first part of the FM model in eq. 1 is the same as a standard regression model, in that we have the bias $w_0$ and the linear terms $w_j x_j$.  The second part of the FM equation captures the second-order (pair-wise) interactions between the independent variables, $x_j x_{j'}$.  An important distinction here is that, in contrast to standard polynomial regression, the coefficients for the interaction terms are not independent parameters $w_{j,j'}$, but rather a factorized parameterization of $w_{j,j'} \\approx \\sum_{f=1}^{k}v_{j,f} v_{j',f}$, which is shown in the last summation summation in eq. 1.  This reflects the assumption that $w_{j,j'}$ can be approximated by low-rank matrices, where $k \\ll p$.  This allows FMs to estimate the interaction parameters reliabily, even in the presence of highly sparse data where standard models fail."
   ]
  },
  {
   "cell_type": "markdown",
   "metadata": {},
   "source": [
    "Our approach in the homegrown algorithm is to include all these terms in the model and to implement using batch gradient descent.  Standard regression models often omit interaction terms.  The more ideal approach is to retain the linear terms and the interaction terms, as we have implemented for a small sample from our dataset.  Our current FM implementation has $O(p^2k)$ time complexity; a future enhancement could be undertaken to achieve a $O(pk)$ time complexity, as described in Rendle(2010).   "
   ]
  },
  {
   "cell_type": "markdown",
   "metadata": {},
   "source": [
    "Our training task is to find the optimal model parameters $\\Theta$ such that we minimize the sum of the losses over the observed data $S$, given the appropriate loss function $L$.  This takes the general form:\n",
    "\n",
    "\\begin{equation} \\tag{3}\n",
    "OptReg(S,\\lambda) = argmin_{\\theta} \\bigg( \\sum_{(\\boldsymbol{x},y)\\in S}L(\\hat{y}(\\boldsymbol{x}|\\Theta,y) + Reg_{\\lambda_{\\theta}} \\bigg) \n",
    "\\end{equation}\n",
    "\n",
    "where $Reg$ contains the regularization penalty.  \n",
    "\n",
    "In the homegrown algorithm, we use $L_2$ regularization (where $\\lambda_{\\theta}$ is the regularization strength):\n",
    "\n",
    "\\begin{equation} \\tag{4}\n",
    "Reg_{L_2} = \\sum_{\\theta \\in \\Theta} \\lambda_{\\theta} \\theta^2   \n",
    "\\end{equation}\n"
   ]
  },
  {
   "cell_type": "markdown",
   "metadata": {},
   "source": [
    "With this binary classification problem, with $y \\in$ {0,1}, we leverage Andrew Ng's treatment (https://www.youtube.com/watch?v=TTdcc21Ko9A&feature=youtu.be) of the log loss function, $L$:\n",
    "\n",
    "\\begin{equation} \\tag{5}\n",
    "L(\\theta) = - \\frac{1}{m} \\sum_{i=1}^{m} \\bigg( y^{(i)} log \\space h_{\\theta}(x^{(i)}) + (1-y^{(i)}) log \\big( 1-h_{\\theta}(x^{(i)}) \\big)  \\bigg), \n",
    "\\end{equation}\n",
    "\n",
    "(which is algebrically simplified in the algorithm for $y^{(i)}=0$ and $y^{(i)}=1$) where $m$ is the number of training examples, and $h_{\\theta}(x)$ is the sigmoid function when using logistic regression,\n",
    "\n",
    "\\begin{equation} \\tag{6}\n",
    "h_{\\theta}(x) = \\frac{1}{1 + \\exp({-\\theta^{T} x})} \n",
    "\\end{equation}"
   ]
  },
  {
   "cell_type": "markdown",
   "metadata": {},
   "source": [
    "For the homegrown model, we use full-batch gradient descent applied to the convex loss function $L$ to converge on the global minimum in model parameter space.  The gradient is computed as:\n",
    "\n",
    "\\begin{equation} \\tag{7}\n",
    "\\frac{\\partial}{\\partial \\theta_j} L(\\theta) = - \\frac{1}{m} \\sum_{i=1}^{m} \\big( h_{\\theta}(x^{(i)}) - y^{(i)} \\big) \\frac{\\partial \\hat{y}(x)}{\\partial \\theta}\n",
    "\\end{equation}\n",
    "\n",
    "where  \n",
    "\n",
    "\\begin{equation} \\tag{8}\n",
    " \\frac {\\partial \\hat{y}(\\boldsymbol{x})} {\\partial \\theta} = \n",
    "  \\begin{cases} \n",
    "   1,      & \\text{if } \\theta \\text{ is } w_0 \\\\\n",
    "   x_l,      & \\text{if } \\theta \\text{ is } w_l \\\\\n",
    "   x_l\\sum_{j\\neq l} v_{j,f}x_j,  & \\text{if } \\theta \\text{ is } v_{l,f} \n",
    "  \\end{cases}\n",
    "\\end{equation}\n"
   ]
  },
  {
   "cell_type": "markdown",
   "metadata": {},
   "source": [
    "We then repeat the gradient descent updates until the stopping condition is met:\n",
    "\n",
    "\\begin{equation} \\tag{9}\n",
    "\\theta_{j} \\longleftarrow \\theta_j - \\eta \\bigg( \\frac{\\partial}{\\partial \\theta_j} L(\\theta) + 2 \\lambda_{\\theta} \\theta \\bigg)\n",
    "\\end{equation}\n",
    "\n",
    "where $\\eta$ is the learning rate.  \n",
    "\n",
    "For the homegrown model, we use $\\eta = 0.01$ and 100 latent factors ($k=100$).  We initialize the model parameters $w_0$ and $\\boldsymbol{w}$ to 0.0, and $V$ to a random normal distribution with mean = 0 and std = 0.01.   We iterate for a specified number of training iterations (default = 10). "
   ]
  },
  {
   "cell_type": "markdown",
   "metadata": {},
   "source": [
    "For the Spark ML LogisticRegression model, ElasticNet Regularization (https://spark.apache.org/docs/1.5.2/ml-linear-methods.html) was used, which is a combination of $L_1$ and $L_2$ regularization:\n",
    "\n",
    "\\begin{equation} \\tag{10}\n",
    "Reg_{EN} = \\alpha \\big( \\lambda \\| \\boldsymbol{w} \\|_1 \\big) + (1 - \\alpha) \\space \\big( \\frac{\\lambda}{2} \\| \\boldsymbol{w} \\|_{2}^{2} \\big)  \n",
    "\\end{equation}\n",
    "\n",
    "where $\\alpha \\in [0,1]$ and $ \\lambda \\geq 0$.  \n",
    " \n",
    "For the Spark ML logistic regression, we use the LogisticRegression() method for the model, and tune the regularization strength $\\lambda$ and ElasticNet parameter $\\alpha$ hyperparameters using the CrossValidator() method.  We use Accuracy as the binary classification performance metric in the tuning. We tuned using a sample of the training data, then apply the optimal hyperparameters to the full dataset.    \n"
   ]
  },
  {
   "cell_type": "markdown",
   "metadata": {},
   "source": [
    "References for binary classification:  \n",
    "https://www.youtube.com/watch?v=TTdcc21Ko9A&feature=youtu.be  \n",
    "https://spark.apache.org/docs/1.5.2/ml-linear-methods.html  "
   ]
  },
  {
   "cell_type": "markdown",
   "metadata": {},
   "source": [
    "### Manual implemetation of homegrown Algorithm"
   ]
  },
  {
   "cell_type": "markdown",
   "metadata": {},
   "source": [
    "Using equations described above for the homegrown model to manually calculate and update w0, W and V for one iteration.\n",
    "\n",
    "*Sample toy set used for manual calculations*"
   ]
  },
  {
   "cell_type": "markdown",
   "metadata": {},
   "source": [
    "\n",
    "| label | feature1 | feature2 | feature3 | feature4(categorical) |\n",
    "| --- | --- | --- |--- |--- |\n",
    "| 0 | 1 | 1 | 5 | 0 |\n",
    "| 1 | 2 | 3 | 4 | 1 |\n",
    "| 0 | 4 | 10 | 11 | 1 |\n",
    "| 1 | 1 | 1 | 5 | 0 |"
   ]
  },
  {
   "cell_type": "code",
   "execution_count": 4,
   "metadata": {},
   "outputs": [],
   "source": [
    "learning_rate = 0.01\n",
    "num_latent_factors = 2\n",
    "mean = 0\n",
    "std = 0.01\n",
    "reg_bias = 0.01\n",
    "reg_independent = 0.01\n",
    "reg_interaction = np.full(num_latent_factors, 0.01)"
   ]
  },
  {
   "cell_type": "code",
   "execution_count": 5,
   "metadata": {},
   "outputs": [],
   "source": [
    "w0 = 0.0\n",
    "W = np.zeros(4)\n",
    "V = np.random.normal(mean, std, (4,2))"
   ]
  },
  {
   "cell_type": "code",
   "execution_count": null,
   "metadata": {},
   "outputs": [],
   "source": [
    "# since w0=0.0 and W=[0.0,0.0,0.0,0.0] the bias and the single independent variable terms will be zero\n",
    "x1 = 0.0 + 0.0 + np.dot(V[0],V[1])*1*1 + np.dot(V[0],V[2])*1*5 + np.dot(V[0],V[3])*1*0 + np.dot(V[1],V[2])*1*5 + np.dot(V[1],V[3])*1*0 + np.dot(V[2],V[3])*5*0\n",
    "x2 = 0.0 + 0.0 + np.dot(V[0],V[1])*2*3 + np.dot(V[0],V[2])*2*4 + np.dot(V[0],V[3])*2*1 + np.dot(V[1],V[2])*4*3 + np.dot(V[1],V[3])*3*1 + np.dot(V[2],V[3])*4*1\n",
    "x3 = 0.0 + 0.0 + np.dot(V[0],V[1])*4*10 + np.dot(V[0],V[2])*4*11 + np.dot(V[0],V[3])*4*1 + np.dot(V[1],V[2])*10*11 + np.dot(V[1],V[3])*10*1 + np.dot(V[2],V[3])*1*11\n",
    "x4 = 0.0 + 0.0 + np.dot(V[0],V[1])*1*1 + np.dot(V[0],V[2])*1*5 + np.dot(V[0],V[3])*1*0 + np.dot(V[1],V[2])*1*5 + np.dot(V[1],V[3])*1*0 + np.dot(V[2],V[3])*5*0"
   ]
  },
  {
   "cell_type": "markdown",
   "metadata": {},
   "source": [
    "**First part of gradient equation**"
   ]
  },
  {
   "cell_type": "code",
   "execution_count": 7,
   "metadata": {},
   "outputs": [],
   "source": [
    "gradient_part_1= (1.0/(1.0+math.exp(-0*x1))) - 0\n",
    "gradient_part_2= (1.0/(1.0+math.exp(-1*x2))) - 1\n",
    "gradient_part_3= (1.0/(1.0+math.exp(-0*x3))) - 0\n",
    "gradient_part_4= (1.0/(1.0+math.exp(-1*x4))) - 1"
   ]
  },
  {
   "cell_type": "markdown",
   "metadata": {},
   "source": [
    "**w0 gradient**\n",
    "\n",
    "This captures the gradient for the bias term in the model."
   ]
  },
  {
   "cell_type": "code",
   "execution_count": 10,
   "metadata": {},
   "outputs": [
    {
     "data": {
      "text/plain": [
       "-6.663834502987354e-05"
      ]
     },
     "execution_count": 10,
     "metadata": {},
     "output_type": "execute_result"
    }
   ],
   "source": [
    "w0_gradient = sum([gradient_part_1,gradient_part_2,gradient_part_3,gradient_part_4])/4\n",
    "w0_gradient"
   ]
  },
  {
   "cell_type": "markdown",
   "metadata": {},
   "source": [
    "**W gradient**\n",
    "\n",
    "This captures the gradients for the coefficient terms on the individual features."
   ]
  },
  {
   "cell_type": "code",
   "execution_count": 11,
   "metadata": {},
   "outputs": [],
   "source": [
    "gradient1w= gradient_part_1*np.array([1,1,5,0])\n",
    "gradient2w= gradient_part_2*np.array([2,3,4,1])\n",
    "gradient3w= gradient_part_3*np.array([4,10,11,1])\n",
    "gradient4w= gradient_part_4*np.array([1,1,5,0])"
   ]
  },
  {
   "cell_type": "code",
   "execution_count": 12,
   "metadata": {},
   "outputs": [
    {
     "data": {
      "text/plain": [
       "array([ 2.49880857e-01,  8.74828353e-01,  8.74719313e-01, -5.25043691e-05])"
      ]
     },
     "execution_count": 12,
     "metadata": {},
     "output_type": "execute_result"
    }
   ],
   "source": [
    "W_gradient = sum([gradient1w,gradient2w,gradient3w,gradient4w])/4\n",
    "W_gradient "
   ]
  },
  {
   "cell_type": "markdown",
   "metadata": {},
   "source": [
    "**V gradient**\n",
    "\n",
    "This captures the gradient for the factorized parameters. "
   ]
  },
  {
   "cell_type": "code",
   "execution_count": 13,
   "metadata": {},
   "outputs": [],
   "source": [
    "grad_part_11 = 1 * (np.multiply(V[1],1) + np.multiply(V[2],5) + np.multiply(V[3],0))\n",
    "grad_part_12 = 1 * (np.multiply(V[0],1) + np.multiply(V[2],5) + np.multiply(V[3],0))\n",
    "grad_part_13 = 5 * (np.multiply(V[1],1) + np.multiply(V[0],1) + np.multiply(V[3],0))\n",
    "grad_part_14 = 0 * (np.multiply(V[1],1) + np.multiply(V[2],5) + np.multiply(V[0],1))"
   ]
  },
  {
   "cell_type": "code",
   "execution_count": 14,
   "metadata": {},
   "outputs": [],
   "source": [
    "gradient1V= gradient_part_1*np.array([grad_part_11,grad_part_12,grad_part_13,grad_part_14])"
   ]
  },
  {
   "cell_type": "code",
   "execution_count": 15,
   "metadata": {},
   "outputs": [],
   "source": [
    "grad_part_21 = 2 * (np.multiply(V[1],3) + np.multiply(V[2],4) + np.multiply(V[3],1))\n",
    "grad_part_22 = 3 * (np.multiply(V[0],2) + np.multiply(V[2],4) + np.multiply(V[3],1))\n",
    "grad_part_23 = 4 * (np.multiply(V[1],3) + np.multiply(V[0],2) + np.multiply(V[3],1))\n",
    "grad_part_24 = 1 * (np.multiply(V[1],3) + np.multiply(V[2],4) + np.multiply(V[0],2))"
   ]
  },
  {
   "cell_type": "code",
   "execution_count": 16,
   "metadata": {},
   "outputs": [],
   "source": [
    "gradient2V= gradient_part_2*np.array([grad_part_21,grad_part_22,grad_part_23,grad_part_24])"
   ]
  },
  {
   "cell_type": "code",
   "execution_count": 17,
   "metadata": {},
   "outputs": [],
   "source": [
    "grad_part_31 = 4 * (np.multiply(V[1],10) + np.multiply(V[2],11) + np.multiply(V[3],1))\n",
    "grad_part_32 = 10 * (np.multiply(V[0],4) + np.multiply(V[2],11) + np.multiply(V[3],1))\n",
    "grad_part_33 = 11 * (np.multiply(V[1],10) + np.multiply(V[0],4) + np.multiply(V[3],1))\n",
    "grad_part_34 = 1 * (np.multiply(V[1],10) + np.multiply(V[2],11) + np.multiply(V[0],4))"
   ]
  },
  {
   "cell_type": "code",
   "execution_count": 18,
   "metadata": {},
   "outputs": [],
   "source": [
    "gradient3V= gradient_part_3*np.array([grad_part_31,grad_part_32,grad_part_33,grad_part_34])"
   ]
  },
  {
   "cell_type": "code",
   "execution_count": 19,
   "metadata": {},
   "outputs": [],
   "source": [
    "grad_part_41 = 1 * (np.multiply(V[1],1) + np.multiply(V[2],5) + np.multiply(V[3],0))\n",
    "grad_part_42 = 1 * (np.multiply(V[0],1) + np.multiply(V[2],5) + np.multiply(V[3],0))\n",
    "grad_part_43 = 5 * (np.multiply(V[1],1) + np.multiply(V[0],1) + np.multiply(V[3],0))\n",
    "grad_part_44 = 0 * (np.multiply(V[1],1) + np.multiply(V[2],5) + np.multiply(V[0],1))"
   ]
  },
  {
   "cell_type": "code",
   "execution_count": 20,
   "metadata": {},
   "outputs": [],
   "source": [
    "gradient4V= gradient_part_4*np.array([grad_part_41,grad_part_42,grad_part_43,grad_part_44])"
   ]
  },
  {
   "cell_type": "code",
   "execution_count": 24,
   "metadata": {},
   "outputs": [
    {
     "data": {
      "text/plain": [
       "array([[ 0.01323777, -0.03360293],\n",
       "       [-0.14321238, -0.06859905],\n",
       "       [ 0.12363136, -0.16737963],\n",
       "       [ 0.0022569 , -0.01137254]])"
      ]
     },
     "execution_count": 24,
     "metadata": {},
     "output_type": "execute_result"
    }
   ],
   "source": [
    "V_gradient = sum([gradient1V,gradient2V,gradient3V,gradient4V])/4\n",
    "V_gradient"
   ]
  },
  {
   "cell_type": "markdown",
   "metadata": {},
   "source": [
    "**Parameter updates**\n",
    "\n",
    "We use the gradients calculated above to update each component of the model, using its gradient, the learning rate, and a regularization term. "
   ]
  },
  {
   "cell_type": "code",
   "execution_count": 25,
   "metadata": {},
   "outputs": [
    {
     "data": {
      "text/plain": [
       "6.663834502987354e-07"
      ]
     },
     "execution_count": 25,
     "metadata": {},
     "output_type": "execute_result"
    }
   ],
   "source": [
    "w0 = w0 - learning_rate * (w0_gradient + 2 * reg_bias * w0)\n",
    "w0"
   ]
  },
  {
   "cell_type": "code",
   "execution_count": 26,
   "metadata": {},
   "outputs": [
    {
     "data": {
      "text/plain": [
       "array([-2.49880857e-03, -8.74828353e-03, -8.74719313e-03,  5.25043691e-07])"
      ]
     },
     "execution_count": 26,
     "metadata": {},
     "output_type": "execute_result"
    }
   ],
   "source": [
    "W = W - learning_rate * (W_gradient + 2 * reg_independent * W)\n",
    "W"
   ]
  },
  {
   "cell_type": "code",
   "execution_count": 27,
   "metadata": {},
   "outputs": [
    {
     "data": {
      "text/plain": [
       "array([[-0.006133  , -0.01629556],\n",
       "       [ 0.01452971, -0.00729877],\n",
       "       [-0.01004112,  0.00141236],\n",
       "       [-0.01125931,  0.00616726]])"
      ]
     },
     "execution_count": 27,
     "metadata": {},
     "output_type": "execute_result"
    }
   ],
   "source": [
    "V = V - learning_rate * (V_gradient + 2 * np.multiply(reg_interaction, V))\n",
    "V"
   ]
  },
  {
   "cell_type": "markdown",
   "metadata": {},
   "source": [
    "# 3. EDA & Discussion of Challenges  "
   ]
  },
  {
   "cell_type": "markdown",
   "metadata": {},
   "source": [
    "The logistic regression and factorization machine algorithms, as explained above, require that every feature input into the model is a number. That means we will have to transform our categorical features into a set of indicator variables, where each categorical value becomes a column, and the value for that column is 1 if the row had that value, and 0 if it didn't. It is clear that a big focus for us will be controlling the size of our feature space, as we can deduce that the number of feature values in the data is large. For our exploratory analysis, we want to examine data to try to inform the following questions about our model to make sure it can train properly:\n",
    "- What is the size of the unprocessed feature space?\n",
    "- How is our numerical data distributed?\n",
    "- Can we apply transformations or combinations of either the numerical or the categorical variables to have better control over the features prior to training them in our model?"
   ]
  },
  {
   "cell_type": "markdown",
   "metadata": {},
   "source": [
    "## EDA"
   ]
  },
  {
   "cell_type": "markdown",
   "metadata": {},
   "source": [
    "First we will read in our dataset and check the count to make sure it matches above"
   ]
  },
  {
   "cell_type": "code",
   "execution_count": 3,
   "metadata": {},
   "outputs": [],
   "source": [
    "train = spark.read.parquet('gs://w261_desa2/notebooks/data/train.parquet')"
   ]
  },
  {
   "cell_type": "code",
   "execution_count": 4,
   "metadata": {},
   "outputs": [
    {
     "data": {
      "text/plain": [
       "45840617"
      ]
     },
     "execution_count": 4,
     "metadata": {},
     "output_type": "execute_result"
    }
   ],
   "source": [
    "N = train.count()\n",
    "N"
   ]
  },
  {
   "cell_type": "markdown",
   "metadata": {},
   "source": [
    "From the `README` we know that the first column is the label, columns 2-13 are numerical columns and columns 14-39 are categorical, and everything is stored as a string. We will rename these columns so that we can distinguish between label, numerical data, and categorical data:"
   ]
  },
  {
   "cell_type": "code",
   "execution_count": 5,
   "metadata": {},
   "outputs": [],
   "source": [
    "def renameCols(df, trainingSet=True):\n",
    "    \n",
    "    # rename label column\n",
    "    df = df.withColumnRenamed('_c0', 'label')\n",
    "    numericalCols = [c for c in df.columns[1:14]]\n",
    "    categoricalCols = [c for c in df.columns[14:]]\n",
    "\n",
    "    # rename numerical columns\n",
    "    for i,c in enumerate(numericalCols):\n",
    "        newName = 'n' + str(i)\n",
    "        df = df.withColumnRenamed(c, newName)\n",
    "    \n",
    "    # rename categorical columns\n",
    "    for i,c in enumerate(categoricalCols):\n",
    "        newName = 'c' + str(i)\n",
    "        df = df.withColumnRenamed(c, newName)\n",
    "        \n",
    "    return df"
   ]
  },
  {
   "cell_type": "code",
   "execution_count": 6,
   "metadata": {},
   "outputs": [],
   "source": [
    "train = renameCols(train)"
   ]
  },
  {
   "cell_type": "code",
   "execution_count": 7,
   "metadata": {},
   "outputs": [
    {
     "name": "stdout",
     "output_type": "stream",
     "text": [
      "['label', 'n0', 'n1', 'n2', 'n3', 'n4', 'n5', 'n6', 'n7', 'n8', 'n9', 'n10', 'n11', 'n12', 'c0', 'c1', 'c2', 'c3', 'c4', 'c5', 'c6', 'c7', 'c8', 'c9', 'c10', 'c11', 'c12', 'c13', 'c14', 'c15', 'c16', 'c17', 'c18', 'c19', 'c20', 'c21', 'c22', 'c23', 'c24', 'c25']\n"
     ]
    }
   ],
   "source": [
    "print(train.columns)"
   ]
  },
  {
   "cell_type": "markdown",
   "metadata": {},
   "source": [
    "We want to cast the numerical columns as type `float` so that they will be ready for mathematical manipulation later on:"
   ]
  },
  {
   "cell_type": "code",
   "execution_count": 8,
   "metadata": {},
   "outputs": [],
   "source": [
    "def castNumericalAsFloat(df):\n",
    "    numericalCols = [c for c in df.columns if 'n' in c or 'label' in c]\n",
    "    for c in numericalCols:\n",
    "        df = df.withColumn(c, df[c].cast('float'))\n",
    "        \n",
    "    return df"
   ]
  },
  {
   "cell_type": "code",
   "execution_count": 9,
   "metadata": {},
   "outputs": [],
   "source": [
    "train = castNumericalAsFloat(train)"
   ]
  },
  {
   "cell_type": "code",
   "execution_count": 10,
   "metadata": {},
   "outputs": [
    {
     "name": "stdout",
     "output_type": "stream",
     "text": [
      "root\n",
      " |-- label: float (nullable = true)\n",
      " |-- n0: float (nullable = true)\n",
      " |-- n1: float (nullable = true)\n",
      " |-- n2: float (nullable = true)\n",
      " |-- n3: float (nullable = true)\n",
      " |-- n4: float (nullable = true)\n",
      " |-- n5: float (nullable = true)\n",
      " |-- n6: float (nullable = true)\n",
      " |-- n7: float (nullable = true)\n",
      " |-- n8: float (nullable = true)\n",
      " |-- n9: float (nullable = true)\n",
      " |-- n10: float (nullable = true)\n",
      " |-- n11: float (nullable = true)\n",
      " |-- n12: float (nullable = true)\n",
      " |-- c0: string (nullable = true)\n",
      " |-- c1: string (nullable = true)\n",
      " |-- c2: string (nullable = true)\n",
      " |-- c3: string (nullable = true)\n",
      " |-- c4: string (nullable = true)\n",
      " |-- c5: string (nullable = true)\n",
      " |-- c6: string (nullable = true)\n",
      " |-- c7: string (nullable = true)\n",
      " |-- c8: string (nullable = true)\n",
      " |-- c9: string (nullable = true)\n",
      " |-- c10: string (nullable = true)\n",
      " |-- c11: string (nullable = true)\n",
      " |-- c12: string (nullable = true)\n",
      " |-- c13: string (nullable = true)\n",
      " |-- c14: string (nullable = true)\n",
      " |-- c15: string (nullable = true)\n",
      " |-- c16: string (nullable = true)\n",
      " |-- c17: string (nullable = true)\n",
      " |-- c18: string (nullable = true)\n",
      " |-- c19: string (nullable = true)\n",
      " |-- c20: string (nullable = true)\n",
      " |-- c21: string (nullable = true)\n",
      " |-- c22: string (nullable = true)\n",
      " |-- c23: string (nullable = true)\n",
      " |-- c24: string (nullable = true)\n",
      " |-- c25: string (nullable = true)\n",
      "\n"
     ]
    }
   ],
   "source": [
    "train.printSchema()"
   ]
  },
  {
   "cell_type": "markdown",
   "metadata": {},
   "source": [
    "Let's examine the distribution of labels so that we account for a class imbalance. If one class is significantly more common in the train set than the other, we might have to use special techniques to help our model learn the minority class. "
   ]
  },
  {
   "cell_type": "code",
   "execution_count": 11,
   "metadata": {},
   "outputs": [],
   "source": [
    "labelCounts = train.groupBy('label').count().collect()"
   ]
  },
  {
   "cell_type": "code",
   "execution_count": 12,
   "metadata": {},
   "outputs": [
    {
     "name": "stdout",
     "output_type": "stream",
     "text": [
      "number of clicks:  11745438\n",
      "number of non-clicks:  34095179\n",
      "25.62% clicks, 74.38% non-clicks\n"
     ]
    }
   ],
   "source": [
    "print('number of clicks: ', labelCounts[0]['count'])\n",
    "print('number of non-clicks: ', labelCounts[1]['count'])\n",
    "print(\"{:.2f}% clicks, {:.2f}% non-clicks\".format((labelCounts[0]['count'] / N) * 100, (labelCounts[1]['count'] / N) * 100))"
   ]
  },
  {
   "cell_type": "markdown",
   "metadata": {},
   "source": [
    "## Examining numerical data"
   ]
  },
  {
   "cell_type": "markdown",
   "metadata": {},
   "source": [
    "We want to start by examining some basic statistics on the numerical data. This allows us to understand the number of missing values we are working with and get a sense of the distribution of each variable (which we will explore further later on in this section)."
   ]
  },
  {
   "cell_type": "code",
   "execution_count": 13,
   "metadata": {},
   "outputs": [
    {
     "name": "stdout",
     "output_type": "stream",
     "text": [
      "runtime (min):  1.4626620054244994\n"
     ]
    }
   ],
   "source": [
    "# full training set\n",
    "start = time.time()\n",
    "stats = train[train.columns[1:14]].describe()\n",
    "means = np.array(stats[stats['summary'] == 'mean'].collect())[0][1:]\n",
    "stdevs = np.array(stats[stats['summary'] == 'stddev'].collect())[0][1:]\n",
    "print('runtime (min): ', (time.time() - start) / 60)"
   ]
  },
  {
   "cell_type": "code",
   "execution_count": 14,
   "metadata": {},
   "outputs": [
    {
     "name": "stdout",
     "output_type": "stream",
     "text": [
      "-RECORD 0---------------------\n",
      " summary | count              \n",
      " n0      | 25047061           \n",
      " n1      | 45840617           \n",
      " n2      | 36001170           \n",
      " n3      | 35903248           \n",
      " n4      | 44657500           \n",
      " n5      | 35588289           \n",
      " n6      | 43857751           \n",
      " n7      | 45817844           \n",
      " n8      | 43857751           \n",
      " n9      | 25047061           \n",
      " n10     | 43857751           \n",
      " n11     | 10768965           \n",
      " n12     | 35903248           \n",
      "-RECORD 1---------------------\n",
      " summary | mean               \n",
      " n0      | 3.5024133170754044 \n",
      " n1      | 105.84841979766546 \n",
      " n2      | 26.913041020611274 \n",
      " n3      | 7.322680248873305  \n",
      " n4      | 18538.991664871523 \n",
      " n5      | 116.06185085211598 \n",
      " n6      | 16.333130032135028 \n",
      " n7      | 12.517042137556713 \n",
      " n8      | 106.1098234380509  \n",
      " n9      | 0.6175294977722137 \n",
      " n10     | 2.7328343170173044 \n",
      " n11     | 0.9910356287721244 \n",
      " n12     | 8.217461161174054  \n",
      "-RECORD 2---------------------\n",
      " summary | stddev             \n",
      " n0      | 9.429076407105091  \n",
      " n1      | 391.4578226870699  \n",
      " n2      | 397.9725830227334  \n",
      " n3      | 8.79323071264576   \n",
      " n4      | 69394.60184622322  \n",
      " n5      | 382.5664493712398  \n",
      " n6      | 66.04975524511696  \n",
      " n7      | 16.688884567787493 \n",
      " n8      | 220.28309398648054 \n",
      " n9      | 0.6840505553977008 \n",
      " n10     | 5.199070884811365  \n",
      " n11     | 5.597723872237185  \n",
      " n12     | 16.211932558173654 \n",
      "-RECORD 3---------------------\n",
      " summary | min                \n",
      " n0      | 0.0                \n",
      " n1      | -3.0               \n",
      " n2      | 0.0                \n",
      " n3      | 0.0                \n",
      " n4      | 0.0                \n",
      " n5      | 0.0                \n",
      " n6      | 0.0                \n",
      " n7      | 0.0                \n",
      " n8      | 0.0                \n",
      " n9      | 0.0                \n",
      " n10     | 0.0                \n",
      " n11     | 0.0                \n",
      " n12     | 0.0                \n",
      "-RECORD 4---------------------\n",
      " summary | max                \n",
      " n0      | 5775.0             \n",
      " n1      | 257675.0           \n",
      " n2      | 65535.0            \n",
      " n3      | 969.0              \n",
      " n4      | 2.3159456E7        \n",
      " n5      | 431037.0           \n",
      " n6      | 56311.0            \n",
      " n7      | 6047.0             \n",
      " n8      | 29019.0            \n",
      " n9      | 11.0               \n",
      " n10     | 231.0              \n",
      " n11     | 4008.0             \n",
      " n12     | 7393.0             \n",
      "\n"
     ]
    }
   ],
   "source": [
    "stats.show(vertical=True)"
   ]
  },
  {
   "cell_type": "markdown",
   "metadata": {},
   "source": [
    "We see that among the numerical columns, we have vastly differing ranges; while the minimum is 0 for most of the numerial columns, the maximums range from 11 to over 23 milion. Since we will be implementing gradient descent in our algorithm, these differing ranges indicate that we will want to apply some feature scaling, or standardization to the numerical columns so that the contours of our loss function become as uniform as possible. We also see that the standard deviations are quite small when compared to the maximum value. This indicates that our distributions are likely not normal and might have substantial skew in some cases. We will examine this more closely, but this would indicate that we may need to apply a transformation to the numerical data to remove the skewness and decrease the variability."
   ]
  },
  {
   "cell_type": "markdown",
   "metadata": {},
   "source": [
    "With such a large dataset, it is also important to check the sparsity of the dataset (how many missing values are we working with). This will inform our decisions of how to handle missing data during our feature engineering. We can infer this answer from the count data above, but for clarity we will calculate it explicitly."
   ]
  },
  {
   "cell_type": "code",
   "execution_count": 15,
   "metadata": {},
   "outputs": [
    {
     "name": "stdout",
     "output_type": "stream",
     "text": [
      "missing numeric values\n",
      "\n",
      "{'n0': 20793556,\n",
      " 'n1': 0,\n",
      " 'n10': 1982866,\n",
      " 'n11': 35071652,\n",
      " 'n12': 9937369,\n",
      " 'n2': 9839447,\n",
      " 'n3': 9937369,\n",
      " 'n4': 1183117,\n",
      " 'n5': 10252328,\n",
      " 'n6': 1982866,\n",
      " 'n7': 22773,\n",
      " 'n8': 1982866,\n",
      " 'n9': 20793556}\n"
     ]
    }
   ],
   "source": [
    "numericNans = {}\n",
    "for c in stats.columns[1:]:\n",
    "    numericNans[c] = N - int(stats.select(c).collect()[0][0])\n",
    "print('missing numeric values\\n')\n",
    "pprint(numericNans)"
   ]
  },
  {
   "cell_type": "markdown",
   "metadata": {},
   "source": [
    "We can see we have a large amount of missing values and the number of values each column is missing varies. Column `n1` is not missing any values, but column `n0` and `n9` are missing nearly half the data and column `n11` is missing over 75% of the total rows. Our logistic regression and factorization machine models will receive the features as a single numerical vector, so during the feature engineering, the missing numerical values will need to be converted to numerical values, likely 0's. "
   ]
  },
  {
   "cell_type": "markdown",
   "metadata": {},
   "source": [
    "Before we move on to examining the categorical data, we first want to dig into the numerical data a bit further. We will take a small sample to examine the data further."
   ]
  },
  {
   "cell_type": "code",
   "execution_count": 16,
   "metadata": {},
   "outputs": [
    {
     "data": {
      "text/plain": [
       "46277"
      ]
     },
     "execution_count": 16,
     "metadata": {},
     "output_type": "execute_result"
    }
   ],
   "source": [
    "s = train.sample(False, 0.001)\n",
    "s.count()"
   ]
  },
  {
   "cell_type": "code",
   "execution_count": 17,
   "metadata": {},
   "outputs": [],
   "source": [
    "df = s.toPandas()"
   ]
  },
  {
   "cell_type": "markdown",
   "metadata": {},
   "source": [
    "We want to examine if the presence of data for any of our variables already appears to be a strong indicator of clicks. This type of inspection can be a quick way to see if feature selection will be beneficial. We can look at the total number of counts per click for each numerical variable to understand whether or not the presence of these variables correlates to a higher than average click rate."
   ]
  },
  {
   "cell_type": "code",
   "execution_count": 18,
   "metadata": {},
   "outputs": [
    {
     "data": {
      "text/plain": [
       "Text(0,0.5,'Counts')"
      ]
     },
     "execution_count": 18,
     "metadata": {},
     "output_type": "execute_result"
    },
    {
     "data": {
      "image/png": "[encoded data removed]",
      "text/plain": [
       "<Figure size 720x720 with 1 Axes>"
      ]
     },
     "metadata": {},
     "output_type": "display_data"
    }
   ],
   "source": [
    "countByLabel = df.groupby(df.columns[0]).count()\n",
    "countByLabel.iloc[:,:13].transpose().plot(kind='bar', figsize=(10,10))\n",
    "plt.title('Total Counts per Label')\n",
    "plt.xlabel('Column')\n",
    "plt.ylabel('Counts')"
   ]
  },
  {
   "cell_type": "markdown",
   "metadata": {},
   "source": [
    "We don't see strong evidence for feature selection here. Most columns show roughly 65-75% of non-clicks which is right in line with the population distribution."
   ]
  },
  {
   "cell_type": "markdown",
   "metadata": {},
   "source": [
    "Since we have such a large feature space already, we want to determine if we can reduce the number of numerical columns. If certain numerical variables are correlated with each other, we might be able to combine these columns or simply drop one or the other. We will examine a correlation matrix to make this determination"
   ]
  },
  {
   "cell_type": "code",
   "execution_count": 19,
   "metadata": {},
   "outputs": [
    {
     "data": {
      "text/plain": [
       "<matplotlib.axes._subplots.AxesSubplot at 0x7efe79621518>"
      ]
     },
     "execution_count": 19,
     "metadata": {},
     "output_type": "execute_result"
    },
    {
     "data": {
      "image/png": "[encoded data removed]",
      "text/plain": [
       "<Figure size 1440x720 with 2 Axes>"
      ]
     },
     "metadata": {},
     "output_type": "display_data"
    }
   ],
   "source": [
    "corr = df.iloc[:,1:14].corr()\n",
    "mask = np.zeros_like(corr, dtype=np.bool)\n",
    "mask[np.triu_indices_from(mask)] = True\n",
    "f, ax = plt.subplots(figsize=(20, 10))\n",
    "cmap = sns.diverging_palette(220, 10, as_cmap=True)\n",
    "sns.heatmap(corr, mask=mask, cmap=cmap, square=True)"
   ]
  },
  {
   "cell_type": "markdown",
   "metadata": {},
   "source": [
    "We see that we have little to no correlation in our numeric variables. It appears that `n6` and `n10` are the most strongly positively correlated, but they only have a correlation coefficient of ~0.6. If we were going to be using this data for inference (as we might if we were designing the ad that we were trying to get clicks on) then we may consider keeping only one of these variables so as to avoid multicollinearity in our model. Since we only care about predictive power, we will leave these variables as they are in our model. "
   ]
  },
  {
   "cell_type": "markdown",
   "metadata": {},
   "source": [
    "The last thing we want to look at in our numerical columns is the distribution of values. We saw we had a wide range of values, with relatively small standard deviations in many of the numerical variables and this indicates that we might have considerable skew in our variables. We will examine the histograms each numerical variable"
   ]
  },
  {
   "cell_type": "code",
   "execution_count": 20,
   "metadata": {},
   "outputs": [],
   "source": [
    "def plotHistograms(df):\n",
    "    # set up the subplot figure\n",
    "    dim = np.ceil(np.sqrt(len(df.columns[1:14])))\n",
    "    fig = plt.figure(figsize=(6,4))\n",
    "    fig.subplots_adjust(left=0, right=2, bottom=0, top=2.5)\n",
    "    for i,c in enumerate(df.columns[1:14]):\n",
    "        # for each numerical variable, plot a histogram of non-missing values\n",
    "        ax = fig.add_subplot(dim, dim, i + 1)\n",
    "        ax.hist(df[c].dropna(), bins=50)\n",
    "        ax.set_title(df.columns[i + 1])"
   ]
  },
  {
   "cell_type": "code",
   "execution_count": 21,
   "metadata": {},
   "outputs": [
    {
     "data": {
      "image/png": "[encoded data removed]",
      "text/plain": [
       "<Figure size 432x288 with 13 Axes>"
      ]
     },
     "metadata": {},
     "output_type": "display_data"
    }
   ],
   "source": [
    "plotHistograms(df)"
   ]
  },
  {
   "cell_type": "markdown",
   "metadata": {},
   "source": [
    "We see from the histogram that we have pretty extreme skew in all our numeric variables. This indicates we may want to consider applying a log transform to reduce skew and variability in these variables"
   ]
  },
  {
   "cell_type": "code",
   "execution_count": 22,
   "metadata": {},
   "outputs": [],
   "source": [
    "def plotHistogramsWithLogTransformation(df):\n",
    "    # set up the subplots figure\n",
    "    dim = np.ceil(np.sqrt(len(df.columns[1:14])))\n",
    "    fig = plt.figure(figsize=(6,4))\n",
    "    fig.subplots_adjust(left=0, right=2, bottom=0, top=2.5)\n",
    "    for i, col in enumerate(df.columns[1:14]):\n",
    "        # add the subplot\n",
    "        ax = fig.add_subplot(dim, dim, i + 1)\n",
    "        \n",
    "        # replace the missing values with 0\n",
    "        c = df[col].copy()\n",
    "        c.fillna(0, inplace=True)\n",
    "        \n",
    "        # take natural log of nonzero values (to avoid -inf)\n",
    "        c[c != 0] = c[c != 0].apply(np.log)\n",
    "        \n",
    "        # plot histogram\n",
    "        ax.hist(c.dropna(), bins=50)\n",
    "        ax.set_title(df.columns[i + 1])"
   ]
  },
  {
   "cell_type": "code",
   "execution_count": 23,
   "metadata": {},
   "outputs": [
    {
     "data": {
      "image/png": "[encoded data removed]",
      "text/plain": [
       "<Figure size 432x288 with 13 Axes>"
      ]
     },
     "metadata": {},
     "output_type": "display_data"
    }
   ],
   "source": [
    "plotHistogramsWithLogTransformation(df)"
   ]
  },
  {
   "cell_type": "markdown",
   "metadata": {},
   "source": [
    "The log transformation clearly helps to make the distributions more closely approach normality, though each variable does still have a heavy amount of zeros present. We will want to apply a log transformation during our feature engineering phase to help reduce the variability of each parameter"
   ]
  },
  {
   "cell_type": "markdown",
   "metadata": {},
   "source": [
    "## Examine Categorical variables"
   ]
  },
  {
   "cell_type": "markdown",
   "metadata": {},
   "source": [
    "We can now start to examine the categorical data. In order to understand the size of our feature space, we need to understand the number of unique values for each categorical variable, since each unique value will become its own feature eventually. Let's look at the total counts, the number of missing values, and the number of distinct values in each category:"
   ]
  },
  {
   "cell_type": "code",
   "execution_count": 24,
   "metadata": {},
   "outputs": [],
   "source": [
    "categoricalCounts = train[train.columns[14:]].summary('count')"
   ]
  },
  {
   "cell_type": "code",
   "execution_count": 25,
   "metadata": {},
   "outputs": [
    {
     "name": "stdout",
     "output_type": "stream",
     "text": [
      "-RECORD 0-----------\n",
      " summary | count    \n",
      " c0      | 45840617 \n",
      " c1      | 45840617 \n",
      " c2      | 44281144 \n",
      " c3      | 44281144 \n",
      " c4      | 45840617 \n",
      " c5      | 40299992 \n",
      " c6      | 45840617 \n",
      " c7      | 45840617 \n",
      " c8      | 45840617 \n",
      " c9      | 45840617 \n",
      " c10     | 45840617 \n",
      " c11     | 44281144 \n",
      " c12     | 45840617 \n",
      " c13     | 45840617 \n",
      " c14     | 45840617 \n",
      " c15     | 44281144 \n",
      " c16     | 45840617 \n",
      " c17     | 45840617 \n",
      " c18     | 25667759 \n",
      " c19     | 25667759 \n",
      " c20     | 44281144 \n",
      " c21     | 10885544 \n",
      " c22     | 45840617 \n",
      " c23     | 44281144 \n",
      " c24     | 25667759 \n",
      " c25     | 25667759 \n",
      "\n"
     ]
    }
   ],
   "source": [
    "categoricalCounts.show(vertical=True)"
   ]
  },
  {
   "cell_type": "code",
   "execution_count": 26,
   "metadata": {},
   "outputs": [
    {
     "name": "stdout",
     "output_type": "stream",
     "text": [
      "missing categorical values\n",
      "\n",
      "{'c0': 0,\n",
      " 'c1': 0,\n",
      " 'c10': 0,\n",
      " 'c11': 1559473,\n",
      " 'c12': 0,\n",
      " 'c13': 0,\n",
      " 'c14': 0,\n",
      " 'c15': 1559473,\n",
      " 'c16': 0,\n",
      " 'c17': 0,\n",
      " 'c18': 20172858,\n",
      " 'c19': 20172858,\n",
      " 'c2': 1559473,\n",
      " 'c20': 1559473,\n",
      " 'c21': 34955073,\n",
      " 'c22': 0,\n",
      " 'c23': 1559473,\n",
      " 'c24': 20172858,\n",
      " 'c25': 20172858,\n",
      " 'c3': 1559473,\n",
      " 'c4': 0,\n",
      " 'c5': 5540625,\n",
      " 'c6': 0,\n",
      " 'c7': 0,\n",
      " 'c8': 0,\n",
      " 'c9': 0}\n"
     ]
    }
   ],
   "source": [
    "categoricalNulls = {}\n",
    "for c in categoricalCounts.columns[1:]:\n",
    "    categoricalNulls[c] = N - int(categoricalCounts.select(c).collect()[0][0])\n",
    "print('missing categorical values\\n')\n",
    "pprint(categoricalNulls)"
   ]
  },
  {
   "cell_type": "markdown",
   "metadata": {},
   "source": [
    "We see that many of our categorical columns are not missing any data, but some are missing huge amounts of data. Since we don't know what the categories mean semantically, we don't know if a missing value accurately represents the absence of a certain indicator, or if it's missing due to a logging failure and it actually should represent one of the existing values. \n",
    "\n",
    "Now we want to examine the total number of unique values in each category and our dataset as a whole:"
   ]
  },
  {
   "cell_type": "code",
   "execution_count": 27,
   "metadata": {},
   "outputs": [],
   "source": [
    "uniqueCounts = {}\n",
    "for c in train.columns[14:]:\n",
    "    count = train.agg(F.countDistinct(c).alias('c')).collect()[0]['c']\n",
    "    uniqueCounts[c] = count"
   ]
  },
  {
   "cell_type": "code",
   "execution_count": 28,
   "metadata": {},
   "outputs": [
    {
     "data": {
      "text/plain": [
       "{'c0': 1460,\n",
       " 'c1': 583,\n",
       " 'c2': 10131226,\n",
       " 'c3': 2202607,\n",
       " 'c4': 305,\n",
       " 'c5': 23,\n",
       " 'c6': 12517,\n",
       " 'c7': 633,\n",
       " 'c8': 3,\n",
       " 'c9': 93145,\n",
       " 'c10': 5683,\n",
       " 'c11': 8351592,\n",
       " 'c12': 3194,\n",
       " 'c13': 27,\n",
       " 'c14': 14992,\n",
       " 'c15': 5461305,\n",
       " 'c16': 10,\n",
       " 'c17': 5652,\n",
       " 'c18': 2172,\n",
       " 'c19': 3,\n",
       " 'c20': 7046546,\n",
       " 'c21': 17,\n",
       " 'c22': 15,\n",
       " 'c23': 286180,\n",
       " 'c24': 104,\n",
       " 'c25': 142571}"
      ]
     },
     "execution_count": 28,
     "metadata": {},
     "output_type": "execute_result"
    }
   ],
   "source": [
    "uniqueCounts"
   ]
  },
  {
   "cell_type": "code",
   "execution_count": 29,
   "metadata": {},
   "outputs": [
    {
     "name": "stdout",
     "output_type": "stream",
     "text": [
      "Total Size of Feature Space:  33762565\n"
     ]
    }
   ],
   "source": [
    "print('Total Size of Feature Space: ', np.sum(list(uniqueCounts.values())))"
   ]
  },
  {
   "cell_type": "markdown",
   "metadata": {},
   "source": [
    "With a dataset that has 45M rows, it doesn't make sense to try to build any model with a feature space of 33M. This is nearly the same size as the number of examples, so we doubt our ability to get fitting estimations of all 33M parameters. Additionally, the computational cost does not justify keeping this many unique features. We will need to perform some form of dimensionality reduction or feature selection. It will also benefit us to represent these variables in an \"adjacency-list-like\" format so as not to end up with long vectors of mostly zeros. We will take advantage of spark SQL's SparseVector representation."
   ]
  },
  {
   "cell_type": "markdown",
   "metadata": {},
   "source": [
    "The important takeaways from this EDA are as follows:\n",
    "- We want to apply a log transformation to the numerical columns to reduce skew and variability in these variables\n",
    "- We need to apply standardization to the numerical columns so that each variable exists in the same scale\n",
    "- Because we have to change the categorical features to sets of indicator features for our chosen algorithms, we will end up with a massive feature space that we need to reduce to manage the computational complexity of the problem\n",
    "- Even after reducing the feature space, we will want to use a sparse representation of the data to reduce memory usage\n",
    "\n",
    "We are now ready to apply these concepts during our feature engineering phase and then input our transformed dataset into our machine learning algorithm."
   ]
  },
  {
   "cell_type": "markdown",
   "metadata": {},
   "source": [
    "# 4. Algorithm Implementation  "
   ]
  },
  {
   "cell_type": "markdown",
   "metadata": {},
   "source": [
    "## 4a. Feature Engineering"
   ]
  },
  {
   "cell_type": "markdown",
   "metadata": {},
   "source": [
    "In addition to transforming and scaling the numerical columns, the main feature engineering challenge with this dataset is how to reduce the number of features from the number that would result if we naively one-hot encoded each categorical variable. We experimented with two distinct solutions to this problem:\n",
    "- Modulo-based hashing function: We drew inspiration from the writeup of one of the kaggle competition winners, who used a hashing function to reduce the number of categorial variables. For this implementation, we kept all 26 of the initial categorical features, but dropped the infrequent values (any that occurred fewer than 10 times) and then took the variables that still had very large numbers of categories remaining and hashed them to a smaller size (effectively randomly binning multiple values for that feature into a single dummy feature). This methodology is explained in more detail below.\n",
    "- Random forest feature selection: We also wondered if we could reduce the feature space by completely removing some features which don't have as much impact on the final predictions. We decided to try using feature importances from a random forest model in order to completely eliminate some of the categorical variables from the final training set. This also gave us a good excuse to learn how to use another model in the Spark ML package.\n",
    "\n",
    "Our best model was one of the ones that we trained using the modulo-based hashing function, so that is the version we describe in detail here. "
   ]
  },
  {
   "cell_type": "markdown",
   "metadata": {},
   "source": [
    "### Train/Test Split"
   ]
  },
  {
   "cell_type": "markdown",
   "metadata": {},
   "source": [
    "While the initial data came with a test set, that set did not have a label, presumably because it was used for Kaggle competition submissions. We need a training set that has a label in order to get evaluation metrics for how well our model generalizes to unseen data, so we will set aside a random sample of the training set as a test set. Since our dataset is so large, we chose to split our training and test set with a 90/10 split, so as to keep as much training data as possible, but still have a good size test set to work with. "
   ]
  },
  {
   "cell_type": "code",
   "execution_count": 32,
   "metadata": {},
   "outputs": [],
   "source": [
    "train, test = train.randomSplit([9.0, 1.0])"
   ]
  },
  {
   "cell_type": "code",
   "execution_count": 33,
   "metadata": {},
   "outputs": [
    {
     "name": "stdout",
     "output_type": "stream",
     "text": [
      "41252700 4587917\n",
      "runtime (min):  1.0768669366836547\n"
     ]
    }
   ],
   "source": [
    "start = time.time()\n",
    "print(train.count(), test.count())\n",
    "print('runtime (min): ', (time.time() - start) / 60)"
   ]
  },
  {
   "cell_type": "markdown",
   "metadata": {},
   "source": [
    "### Log transform numerical data"
   ]
  },
  {
   "cell_type": "markdown",
   "metadata": {},
   "source": [
    "From the EDA, we see that a log transform will likely be beneficial. In general, machine learning algorithms have a difficult time dealing with a wide range of values (high variance). To reduce variability in the numerical variables we apply a natural log transform to the numerical columns here."
   ]
  },
  {
   "cell_type": "code",
   "execution_count": 34,
   "metadata": {},
   "outputs": [],
   "source": [
    "def logTransformNumeric(df):\n",
    "    # apply log transformation to each numerical column\n",
    "    numericalCols = [c for c in df.columns if 'n' in c]\n",
    "    for i,c in enumerate(numericalCols):\n",
    "        df = df.withColumn(c, F.log(c))\n",
    "    \n",
    "    # fill NA values with 0's\n",
    "    df = df.na.fill(0, subset=df.columns[1:14])\n",
    "    \n",
    "    # cache the dataframe\n",
    "    df.cache()\n",
    "    \n",
    "    return df"
   ]
  },
  {
   "cell_type": "code",
   "execution_count": 35,
   "metadata": {},
   "outputs": [],
   "source": [
    "train = logTransformNumeric(train)\n",
    "test = logTransformNumeric(test)"
   ]
  },
  {
   "cell_type": "markdown",
   "metadata": {},
   "source": [
    "### Normalize numerical data (feature scaling)"
   ]
  },
  {
   "cell_type": "markdown",
   "metadata": {},
   "source": [
    "While feature scaling isn't strictly necessary for logistic regression, our homegrown function uses gradient descent where feature scaling is important. When we do not perform feature scaling, the contour of our cost function becomes steep and narrow which can either cause divergence during the gradient descent, or may require a very small learning rate causing lengthy training times. By applying feature scaling, the contours of the cost function are now more uniform and therefore we can increase our learning rate and arrive at the global minimum of the cost function much more quickly."
   ]
  },
  {
   "cell_type": "code",
   "execution_count": 36,
   "metadata": {},
   "outputs": [],
   "source": [
    "def normalizeNumeric(trainDf, testDf):\n",
    "    \n",
    "    # collect max and min values for variable normalization\n",
    "    numericalCols = [c for c in trainDf.columns if 'n' in c]\n",
    "    stats = trainDf[numericalCols].describe()\n",
    "    maxes = np.array(stats[stats['summary'] == 'max'].collect())[0][1:]\n",
    "    mins = np.array(stats[stats['summary'] == 'min'].collect())[0][1:]\n",
    "    maxes = [float(m) for m in maxes]\n",
    "    mins = [float(m) for m in mins]\n",
    "    \n",
    "    # normalize each numerical variable to within the range of 0-1\n",
    "    for i,c in enumerate(numericalCols):\n",
    "        trainDf = trainDf.withColumn(c, (trainDf[c] - mins[i]) / (maxes[i] - mins[i]))\n",
    "        testDf = testDf.withColumn(c, (testDf[c] - mins[i]) / (maxes[i] - mins[i]))\n",
    "    \n",
    "    # cache the dataframes\n",
    "    trainDf.cache()\n",
    "    testDf.cache()\n",
    "    \n",
    "    return trainDf, testDf"
   ]
  },
  {
   "cell_type": "code",
   "execution_count": 37,
   "metadata": {
    "scrolled": true
   },
   "outputs": [],
   "source": [
    "train, test = normalizeNumeric(train, test)"
   ]
  },
  {
   "cell_type": "markdown",
   "metadata": {},
   "source": [
    "### Categorical Feature Manipulation"
   ]
  },
  {
   "cell_type": "markdown",
   "metadata": {},
   "source": [
    "In this section, we take steps to reduce the 30 million features that we would get from naively one-hot-encoding this data. We took inspiration from the method used by one of the Kaggle competition winners: https://www.csie.ntu.edu.tw/~r01922136/kaggle-2014-criteo.pdf. First, we identify any value in each categorical column that occurs fewer than 10 or fewer times, and we replace all of those features with a dummy value of \"infreq.\" This prevents us from making features for categorical values that occur so rarely that they're unlikely to make a measurable difference in our final model. After removing infrequent values, we check whether the number of remaining categorical values for the column is greater than our modulo value (100,000 for our best model). If the number of values is greater, we use a hashing function to reduce the number of values to 100,000 max. We do this by first converting the hexadecimal representation to its decimal equivalent, then getting the 100,000 modulo value of the decimal. This has the effect of randomly combining a small group of features (that share a modulo value) into a single feature. We don't expect there to be any inherent relationship between categorical values that share a modulo value (although if we knew more about our data, it would be good to check and see if there are any patterns, or to use a method for combining variables that relies more on domain knowledge). "
   ]
  },
  {
   "cell_type": "code",
   "execution_count": 38,
   "metadata": {},
   "outputs": [],
   "source": [
    "def createFeatureVector(trainDf, testDf, n=10, modulo=100000):\n",
    "    '''Reduce the categorical feature space and generate a single \n",
    "    SparseVector representation of all features, numerical and categorical\n",
    "    '''\n",
    "    \n",
    "    # find the infrequent values\n",
    "    def findInfrequentValues(c):\n",
    "        '''collect all values in column c with frequency less than n'''\n",
    "        counts = trainDf.groupBy(c).count()\n",
    "        infrequentValues = counts.filter(counts['count'] <= n)\n",
    "        s = infrequentValues.agg(F.collect_set(c)).collect()[0][0]\n",
    "        return s\n",
    "\n",
    "    # replace the infrequent values\n",
    "    def replaceInfrequentValues(row_value):\n",
    "        '''group all infrequent values under universal label \"infreq\"'''\n",
    "        if row_value in infreq_values:\n",
    "            return \"infreq\"\n",
    "        else:\n",
    "            return row_value\n",
    "    \n",
    "    # create the udf object to replace the infrequent values\n",
    "    replace_infreq_udf = F.udf(replaceInfrequentValues)\n",
    "\n",
    "    # create hash function for binning categorical variables\n",
    "    def hashValues(row):\n",
    "        if row == \"infreq\":\n",
    "            return str(row)\n",
    "        elif row != None:\n",
    "            # return integer value of hex label, apply modulo (e.g. modulo 10000 keeps only the last 4 digits)\n",
    "            return str(int('0x' + row, 16) % modulo)\n",
    "        else:\n",
    "            return str(row)\n",
    "\n",
    "    # create udf object for hashing categorical features \n",
    "    hash_udf = F.udf(hashValues)\n",
    "\n",
    "    # hash all hex strings in both train and test\n",
    "    categoricalCols = [c for c in trainDf.columns if 'c' in c]\n",
    "    for c in categoricalCols:\n",
    "        print(\"eliminating infreqs/hashing column {}\".format(c))\n",
    "        infreq_values = findInfrequentValues(trainDf[c])\n",
    "        trainDf = trainDf.withColumn(c, replace_infreq_udf(trainDf[c]))\n",
    "        testDf = testDf.withColumn(c, replace_infreq_udf(testDf[c]))\n",
    "        unique_values = trainDf.agg(F.countDistinct(trainDf[c])).collect()[0][0]\n",
    "        if unique_values > modulo:\n",
    "            trainDf = trainDf.withColumn(c, hash_udf(trainDf[c]))\n",
    "            testDf = testDf.withColumn(c, hash_udf(testDf[c]))\n",
    "  \n",
    "    # index the hash values into numerical indices\n",
    "    for c in categoricalCols:\n",
    "        newCol = c + '_idx'\n",
    "        indexer = StringIndexer(inputCol=c, outputCol=newCol, handleInvalid='keep')\n",
    "        f = indexer.fit(trainDf)\n",
    "        trainDf = f.transform(trainDf)\n",
    "        testDf = f.transform(testDf)\n",
    "        \n",
    "    # One-hot encode the numerical indices\n",
    "    inputCols = [c for c in trainDf.columns if '_idx' in c]\n",
    "    outputCols = [c.strip('_idx') + '_OHE' for c in inputCols]\n",
    "    encoder = OneHotEncoderEstimator(inputCols=inputCols, outputCols=outputCols)\n",
    "    e = encoder.fit(trainDf)\n",
    "    trainDf = e.transform(trainDf)\n",
    "    testDf = e.transform(testDf)\n",
    "\n",
    "    # assemble all features into single SparseVector column\n",
    "    cols = [c for c in trainDf.columns if 'n' in c or 'OHE' in c]\n",
    "    v = VectorAssembler(inputCols=cols, outputCol=\"features\")\n",
    "    trainDf = v.transform(trainDf)\n",
    "    testDf = v.transform(testDf)\n",
    "    \n",
    "    # cache the dataframes\n",
    "    trainDf.cache()\n",
    "    testDf.cache()\n",
    "    \n",
    "    return trainDf, testDf"
   ]
  },
  {
   "cell_type": "code",
   "execution_count": 39,
   "metadata": {
    "scrolled": false
   },
   "outputs": [
    {
     "name": "stdout",
     "output_type": "stream",
     "text": [
      "eliminating infreqs/hashing column c0\n",
      "eliminating infreqs/hashing column c1\n",
      "eliminating infreqs/hashing column c2\n",
      "eliminating infreqs/hashing column c3\n",
      "eliminating infreqs/hashing column c4\n",
      "eliminating infreqs/hashing column c5\n",
      "eliminating infreqs/hashing column c6\n",
      "eliminating infreqs/hashing column c7\n",
      "eliminating infreqs/hashing column c8\n",
      "eliminating infreqs/hashing column c9\n",
      "eliminating infreqs/hashing column c10\n",
      "eliminating infreqs/hashing column c11\n",
      "eliminating infreqs/hashing column c12\n",
      "eliminating infreqs/hashing column c13\n",
      "eliminating infreqs/hashing column c14\n",
      "eliminating infreqs/hashing column c15\n",
      "eliminating infreqs/hashing column c16\n",
      "eliminating infreqs/hashing column c17\n",
      "eliminating infreqs/hashing column c18\n",
      "eliminating infreqs/hashing column c19\n",
      "eliminating infreqs/hashing column c20\n",
      "eliminating infreqs/hashing column c21\n",
      "eliminating infreqs/hashing column c22\n",
      "eliminating infreqs/hashing column c23\n",
      "eliminating infreqs/hashing column c24\n",
      "eliminating infreqs/hashing column c25\n",
      "runtime (min):  12.436593973636628\n"
     ]
    }
   ],
   "source": [
    "start = time.time()\n",
    "# create feature vector using modulo 100k\n",
    "train, test = createFeatureVector(train, test, modulo=100000)\n",
    "print('runtime (min): ', (time.time() - start) / 60)"
   ]
  },
  {
   "cell_type": "markdown",
   "metadata": {},
   "source": [
    "### Label Balancing"
   ]
  },
  {
   "cell_type": "markdown",
   "metadata": {},
   "source": [
    "We also experimented with rebalancing our data set to account for the imbalance of classes (3 times as many negative examples as positive examples). We did this by adding a column to the dataset which indicates a weight for the example to take on based on its label, then passing this column to the weightCol parameter in Spark LogisticRegression. This did not ultimately improve our accuracy, which makes sense; class imbalance solutions like this one are usually suggested when there is a more dramatic imbalance than the one in our data set. "
   ]
  },
  {
   "cell_type": "code",
   "execution_count": 40,
   "metadata": {},
   "outputs": [],
   "source": [
    "def balancesLabelWeights(df):\n",
    "    '''Create weight column to reduce label bias'''\n",
    "    \n",
    "    # determine the weight ratio\n",
    "    numNegatives = df.filter(df[\"label\"] == 0).count()\n",
    "    totalSetSize = df.count()\n",
    "    balancingRatio = (totalSetSize - numNegatives) / totalSetSize\n",
    "    \n",
    "    # assign weights to labels\n",
    "    df = df.withColumn(\"weightCol\", df[\"label\"])\n",
    "    df = df.replace(0, balancingRatio, subset=['weightCol'])\n",
    "    df = df.replace(1, 1-balancingRatio, subset=['weightCol'])\n",
    "    \n",
    "    # cache the dataframe\n",
    "    df = df.cache()\n",
    "    \n",
    "    return df"
   ]
  },
  {
   "cell_type": "code",
   "execution_count": 41,
   "metadata": {},
   "outputs": [],
   "source": [
    "trainProcessed = train.select('label','features')\n",
    "testProcessed = test.select('label','features')"
   ]
  },
  {
   "cell_type": "code",
   "execution_count": 43,
   "metadata": {},
   "outputs": [
    {
     "name": "stdout",
     "output_type": "stream",
     "text": [
      "runtime (min):  17.365208633740743\n"
     ]
    }
   ],
   "source": [
    "start = time.time()\n",
    "trainProcessed = balancesLabelWeights(trainProcessed)\n",
    "print('runtime (min): ', (time.time() - start) / 60)"
   ]
  },
  {
   "cell_type": "markdown",
   "metadata": {},
   "source": [
    "Below, we see the final form of our data set. We are left with three columns: `label` with the correct label, `weightCol` with the weighting value for the example based on the label, and `features`. `features` is a SparseVector of size 806,981. We see that this particular row has 1s for feature 156, 12535, and so on, and 0s in all other features. One thing to note is that we don't see any numerical data for this particular entry (we know this because the numerical features are the first 13 indices, and because we don't see any values in the vector that take on values other than a 1, which is most likely an indicator rather than a numerical value). This is due to a combination of some of our design choices. First and foremost, we chose to fill missing values in the numerical columns with 0. Secondly, the log function in Spark SQL returns 0 for negative values and 0 for 0. So we have increased the already large number of 0s in the numerical data with these transformations, but since we are using a sparse vector representation, the mathematical impact will be the same as if we ignored these values altogether."
   ]
  },
  {
   "cell_type": "code",
   "execution_count": 45,
   "metadata": {},
   "outputs": [
    {
     "data": {
      "text/plain": [
       "Row(label=0.0, features=SparseVector(806981, {156: 1.0, 12535: 1.0, 12753: 1.0, 19354: 1.0, 35037: 1.0, 133078: 1.0, 133481: 1.0, 136576: 1.0, 212102: 1.0, 313588: 1.0, 411679: 1.0, 411685: 1.0, 411703: 1.0, 411723: 1.0, 414082: 1.0, 512854: 1.0, 520086: 1.0, 521530: 1.0, 615070: 1.0, 706347: 1.0, 707394: 1.0}), weightCol=0.25621744990348816)"
      ]
     },
     "execution_count": 45,
     "metadata": {},
     "output_type": "execute_result"
    }
   ],
   "source": [
    "trainProcessed.head()"
   ]
  },
  {
   "cell_type": "code",
   "execution_count": 48,
   "metadata": {},
   "outputs": [],
   "source": [
    "trainProcessed.write.format('parquet').save('gs://w261_desa2/notebooks/data/trainProcessed.parquet')"
   ]
  },
  {
   "cell_type": "code",
   "execution_count": 49,
   "metadata": {},
   "outputs": [],
   "source": [
    "testProcessed.write.format('parquet').save('gs://w261_desa2/notebooks/data/testProcessed.parquet')"
   ]
  },
  {
   "cell_type": "markdown",
   "metadata": {},
   "source": [
    "## Random Forest Feature Selection Variation\n",
    "\n",
    "Our preprocessing steps for the random forest feature selection version were nearly identical to the steps above, except that instead of combining all preprocessed features to create the `features` column, we only included the features that had a feature importance of at least .01 in our random forest model (Details on the random forest model are in the appendix)."
   ]
  },
  {
   "cell_type": "code",
   "execution_count": 6,
   "metadata": {},
   "outputs": [],
   "source": [
    "rf_model = RandomForestClassificationModel.load('gs://emily-final-proj/notebooks/models/fivePercentFiveTreesModel')"
   ]
  },
  {
   "cell_type": "code",
   "execution_count": 7,
   "metadata": {
    "scrolled": true
   },
   "outputs": [
    {
     "data": {
      "text/plain": [
       "[('c2', 0.37676062360017537),\n",
       " ('c20', 0.09663676151042991),\n",
       " ('c14', 0.09136973603905837),\n",
       " ('c6', 0.07950226641728707),\n",
       " ('c10', 0.04098417073205544),\n",
       " ('n6', 0.03929470931942393),\n",
       " ('n9', 0.0366045614647021),\n",
       " ('c15', 0.03517185701992582),\n",
       " ('n0', 0.034813246500632354),\n",
       " ('c9', 0.027685971009288546),\n",
       " ('n4', 0.02722731973848628),\n",
       " ('c12', 0.02442215320084348),\n",
       " ('n10', 0.018569556138236104),\n",
       " ('n12', 0.01811727495539459),\n",
       " ('c3', 0.013937126651480877),\n",
       " ('n5', 0.007492989644761523),\n",
       " ('c23', 0.007458548346306418),\n",
       " ('c11', 0.005480094435187552),\n",
       " ('c16', 0.003262407594254),\n",
       " ('c17', 0.0031184742638533988),\n",
       " ('c1', 0.0027018038206150737),\n",
       " ('n3', 0.0026858177952641758),\n",
       " ('c25', 0.002172678466385636),\n",
       " ('n2', 0.0021079474383590945),\n",
       " ('c19', 0.0014545054575211757),\n",
       " ('n7', 0.0008669971809227661),\n",
       " ('c18', 0.00010040125914873607),\n",
       " ('n1', 0.0),\n",
       " ('n8', 0.0),\n",
       " ('n11', 0.0),\n",
       " ('c0', 0.0),\n",
       " ('c4', 0.0),\n",
       " ('c5', 0.0),\n",
       " ('c7', 0.0),\n",
       " ('c8', 0.0),\n",
       " ('c13', 0.0),\n",
       " ('c21', 0.0),\n",
       " ('c22', 0.0),\n",
       " ('c24', 0.0)]"
      ]
     },
     "execution_count": 7,
     "metadata": {},
     "output_type": "execute_result"
    }
   ],
   "source": [
    "featureImportanceArray = rf_model.featureImportances.toArray()\n",
    "feature_importance_dict = {}\n",
    "for idx, val in enumerate(featureImportanceArray):\n",
    "    feature_importance_dict[[c for c in train.columns if c != \"label\"][idx]] = val\n",
    "sorted(feature_importance_dict.items(), key=operator.itemgetter(1), reverse=True)"
   ]
  },
  {
   "cell_type": "code",
   "execution_count": 8,
   "metadata": {},
   "outputs": [],
   "source": [
    "cols_to_use = [col.replace(\"_indexed\", \"\") for col in feature_importance_dict if feature_importance_dict[col] > .01]"
   ]
  },
  {
   "cell_type": "code",
   "execution_count": 9,
   "metadata": {},
   "outputs": [
    {
     "name": "stdout",
     "output_type": "stream",
     "text": [
      "['n0', 'n4', 'n6', 'n9', 'n10', 'n12', 'c2', 'c3', 'c6', 'c9', 'c10', 'c12', 'c14', 'c15', 'c20']\n"
     ]
    }
   ],
   "source": [
    "print(cols_to_use)"
   ]
  },
  {
   "cell_type": "markdown",
   "metadata": {},
   "source": [
    "Using our >.01 decision criteria, we ended up preserving six out of 13 numeric columns and 9 out of 26 original categorical columns, for a total of 527,390 features after our feature reduction and one-hot-encoding steps. "
   ]
  },
  {
   "cell_type": "markdown",
   "metadata": {},
   "source": [
    "## 4b Implementation of Homegrown Model"
   ]
  },
  {
   "cell_type": "markdown",
   "metadata": {},
   "source": [
    "### Factorization machines using gradient descent"
   ]
  },
  {
   "cell_type": "markdown",
   "metadata": {},
   "source": [
    "Following is the implementation of the homegrown factorization machine model as detailed in the algorithm explanation section(2). The model was run on a small training set of around 4000 records and tested on a dataset of around 400 records. These training and test sets were processed with the same feature engineering as the full dataset. The feautures can be in the form of SparseVector, DenseVector or array."
   ]
  },
  {
   "cell_type": "markdown",
   "metadata": {},
   "source": [
    "We also implemented the homegrown version of standard logistic regression with first order independent variables and no interaction terms. The implementation can be found in the appendix."
   ]
  },
  {
   "cell_type": "code",
   "execution_count": 3,
   "metadata": {},
   "outputs": [],
   "source": [
    "# initialize learning rate, number of latent factors, mean, standard deviation\n",
    "learning_rate = 0.01\n",
    "num_latent_factors = 100\n",
    "# used for initializing the factorized parameters for interactions\n",
    "mean = 0\n",
    "# used for initializing the factorized parameters for interactions\n",
    "std = 0.01"
   ]
  },
  {
   "cell_type": "code",
   "execution_count": 4,
   "metadata": {},
   "outputs": [],
   "source": [
    "# initializing the regularization parameters\n",
    "# techincally these should come from cross validation\n",
    "reg_bias = 0.01\n",
    "reg_independent = 0.01\n",
    "reg_interaction = np.full(num_latent_factors, 0.01)"
   ]
  },
  {
   "cell_type": "code",
   "execution_count": 5,
   "metadata": {},
   "outputs": [],
   "source": [
    "def prediction_calculation(features, w0, W, V):\n",
    "    \"\"\"Performs class prediction calculations for the given set of features and weights\"\"\"\n",
    "    # dot product of independent features and weights\n",
    "    # appending the bias term as well\n",
    "    independent_features = np.append([1.0], features)\n",
    "    independent_weights = np.append([w0], W)\n",
    "    \n",
    "    # get combinations of features for the interaction terms with degree 2\n",
    "    total_interaction = 0.0\n",
    "    for subset in itertools.combinations(enumerate(features),2):\n",
    "        index1 = int(subset[0][0])\n",
    "        index2 = int(subset[1][0])\n",
    "        feature1 = float(subset[0][1])\n",
    "        feature2 = float(subset[1][1])\n",
    "        # dot product of v parameters and features\n",
    "        total_interaction += np.dot(V[index1],V[index2]) * feature1 * feature2\n",
    "    product = np.dot(independent_features,independent_weights) + total_interaction\n",
    "    h_x = 1.0/(1.0+math.exp(-product))\n",
    "    return h_x"
   ]
  },
  {
   "cell_type": "code",
   "execution_count": 9,
   "metadata": {},
   "outputs": [],
   "source": [
    "def get_params_features_for_vectors(features, W, V):\n",
    "    \"\"\"Handle the SparseVectors, DenseVectors or arrays of parameters and features to return the actual values to be used in the gradient calculations\"\"\"\n",
    "    # unpacking the sparse vector to get the respective weights for the features and using just the values present\n",
    "    if type(features) == SparseVector:\n",
    "        W_vec = W[features.indices]\n",
    "        V_vec = V[features.indices]\n",
    "        features_vec = features.values\n",
    "    else:\n",
    "        W_vec = W\n",
    "        V_vec = V\n",
    "        features_vec = features\n",
    "\n",
    "    return features_vec, W_vec, V_vec"
   ]
  },
  {
   "cell_type": "code",
   "execution_count": 6,
   "metadata": {},
   "outputs": [],
   "source": [
    "def get_parameter_gradients(data, w0, W, V, num_features, num_latent_factors):\n",
    "    \"\"\"Yields gradients for all the model parameters\"\"\"\n",
    "    y = data['label']\n",
    "    features_vec = data['features']\n",
    "    features, W_new, V_new = get_params_features_for_vectors(features_vec, W, V)\n",
    "    h_x = prediction_calculation(features, w0, W_new, V_new)\n",
    "    # converting the features vector representation to array to get the entire representation\n",
    "    features_array = features_vec.toArray()\n",
    "    \n",
    "    # calculating w0 gradients\n",
    "    w0_gradient = h_x - y\n",
    "    yield ('w0', [w0_gradient])\n",
    "    \n",
    "    # calculating W gradients\n",
    "    W_gradient = w0_gradient*features_array\n",
    "    yield ('W', [W_gradient])\n",
    "    \n",
    "    # calculating V gradients\n",
    "    # calculating the sum part of the differenciation of interaction parameters(xl*sum(vj,f * xj))\n",
    "    sum_v_features = np.zeros((num_features,num_latent_factors))\n",
    "    # executing sum(vj,f * xj) where j!= l (for all j features except l) in the expression xl*sum(vj,f * xj)\n",
    "    for i, feature in enumerate(features_array):\n",
    "        # if the feature is zero no need to compute the sum, we will have a vector of zeros for it\n",
    "        if feature != 0:\n",
    "            # handle the first and last elements\n",
    "            if i == 0:\n",
    "                sum_v_features[i] = np.dot(features_array[i+1:],V[i+1:,:])\n",
    "                continue\n",
    "            if i == num_features-1:\n",
    "                sum_v_features[i] = np.dot(features_array[:i],V[:i,:])\n",
    "                continue\n",
    "            sum_v_features[i] = np.dot(np.concatenate((features_array[:i], features_array[i+1:])),np.concatenate((V[:i,:], V[i+1:,:])))\n",
    "    # reshape the feature vector to be able to multiple each feature with it's sum of (vj,f*xj) to compute the expression\n",
    "    # xl*sum(vj,f * xj) where j!= l (for all j features except l)\n",
    "    feature_reshape = np.reshape(features_array, (num_features, 1))\n",
    "    # now multiply to get the entire V at once\n",
    "    differenciation_interaction = np.multiply(feature_reshape,sum_v_features)\n",
    "    V_gradient = w0_gradient*differenciation_interaction\n",
    "    yield ('V', [V_gradient])"
   ]
  },
  {
   "cell_type": "code",
   "execution_count": 7,
   "metadata": {},
   "outputs": [],
   "source": [
    "def get_log_sigmoid(data, w0, W, V):\n",
    "    \"\"\"Calculate the log of the prediction, used for calculating the loss\"\"\"\n",
    "    y = data['label']\n",
    "    features, W, V = get_params_features_for_vectors(data['features'], W, V)\n",
    "    h_x = prediction_calculation(features, w0, W, V)\n",
    "    \n",
    "    if int(y) == 1:\n",
    "        yield -np.log(h_x)\n",
    "    else:\n",
    "        yield -np.log(1-h_x)"
   ]
  },
  {
   "cell_type": "code",
   "execution_count": 8,
   "metadata": {},
   "outputs": [],
   "source": [
    "def get_log_loss(data_rdd, w0, W, V):\n",
    "    \"\"\"Calculating the log loss\"\"\"\n",
    "    loss = data_rdd.flatMap(lambda data: get_log_sigmoid(data, w0, W, V))\\\n",
    "                   .mean()\n",
    "    \n",
    "    return loss"
   ]
  },
  {
   "cell_type": "code",
   "execution_count": 15,
   "metadata": {},
   "outputs": [],
   "source": [
    "def fm_gd(train_rdd, validation_rdd, learning_rate, num_latent_factors, mean, std, reg_bias, reg_independent, reg_interaction, num_steps=10):    \n",
    "    \"\"\"Factorization machine model using gradient descent\"\"\"\n",
    "    \n",
    "    num_features = train_rdd.take(1)[0]['features'].size \n",
    "    print('num_features:',num_features)\n",
    "    \n",
    "    # initialize the model parameters\n",
    "    w0 = 0.0\n",
    "    W = np.zeros(num_features)\n",
    "    V = np.random.normal(mean, std, (num_features,num_latent_factors))\n",
    "    \n",
    "    num_features_b = sc.broadcast(num_features)\n",
    "    num_latent_factors_b = sc.broadcast(num_latent_factors)\n",
    "    \n",
    "    # initialize lists to track model performance\n",
    "    train_history, validation_history = [], []\n",
    "    \n",
    "    for i in range(num_steps):\n",
    "        # broadcast the model parameters\n",
    "        w0_b = sc.broadcast(w0)\n",
    "        W_b = sc.broadcast(W)\n",
    "        V_b = sc.broadcast(V)\n",
    "\n",
    "        # calculate all gradients for w0, W and V\n",
    "        all_gradients_rdd = train_rdd.flatMap(lambda x: get_parameter_gradients(x, w0_b.value, W_b.value, V_b.value, num_features_b.value, num_latent_factors_b.value))\\\n",
    "                                     .cache()\n",
    "        # perform w0 updates\n",
    "        w0_gradient = all_gradients_rdd.filter(lambda x: x[0] == 'w0')\\\n",
    "                                       .flatMap(lambda x: x[1])\\\n",
    "                                       .mean()\n",
    "        w0 -= learning_rate * (w0_gradient + 2 * reg_bias * w0)\n",
    "        \n",
    "        # perform W updates\n",
    "        W_gradient = all_gradients_rdd.filter(lambda x: x[0] == 'W')\\\n",
    "                                       .flatMap(lambda x: x[1])\\\n",
    "                                       .mean()\n",
    "        W -= learning_rate * (W_gradient + 2 * reg_independent * W)\n",
    "        \n",
    "        # perform V updates\n",
    "        V_gradient = all_gradients_rdd.filter(lambda x: x[0] == 'V')\\\n",
    "                                       .flatMap(lambda x: x[1])\\\n",
    "                                       .mean()\n",
    "        V -= learning_rate * (V_gradient + 2 * np.multiply(reg_interaction, V))\n",
    "        \n",
    "        # find train and validation loss at each iteration\n",
    "        training_loss = get_log_loss(train_rdd, w0, W, V)\n",
    "        validation_loss = get_log_loss(validation_rdd, w0, W, V)\n",
    "        \n",
    "        # keep track of validation/train loss for plotting\n",
    "        train_history.append(training_loss)\n",
    "        validation_history.append(validation_loss)\n",
    "        \n",
    "        \n",
    "    return w0, W, V, train_history, validation_history\n"
   ]
  },
  {
   "cell_type": "code",
   "execution_count": 11,
   "metadata": {},
   "outputs": [],
   "source": [
    "# train set\n",
    "train_df = spark.read.parquet('gs://w261_desa2/notebooks/data/toySampleTrain.parquet')"
   ]
  },
  {
   "cell_type": "code",
   "execution_count": 12,
   "metadata": {},
   "outputs": [],
   "source": [
    "# train, validation split set\n",
    "train_df, validation_df = train_df.randomSplit([.9, .1], 10)\n",
    "train_df = train_df.cache()\n",
    "validation_df = validation_df.cache()"
   ]
  },
  {
   "cell_type": "code",
   "execution_count": 13,
   "metadata": {},
   "outputs": [],
   "source": [
    "# create rdd from df\n",
    "train_rdd = train_df.rdd.cache()\n",
    "validation_rdd = validation_df.rdd.cache()"
   ]
  },
  {
   "cell_type": "code",
   "execution_count": 113,
   "metadata": {},
   "outputs": [
    {
     "name": "stdout",
     "output_type": "stream",
     "text": [
      "num_features: 24086\n",
      "... completed job in 2766.5750439167023 seconds.\n"
     ]
    }
   ],
   "source": [
    "start = time.time()\n",
    "w0, W, V, train_loss, validation_loss = fm_gd(train_rdd, validation_rdd, learning_rate, num_latent_factors, mean, std, reg_bias, reg_independent, reg_interaction, 10)\n",
    "print(f'... completed job in {time.time() - start} seconds.')"
   ]
  },
  {
   "cell_type": "code",
   "execution_count": 16,
   "metadata": {},
   "outputs": [],
   "source": [
    "# predict\n",
    "def predict_classes(data, w0, W, V):\n",
    "    features_vec = data['features']\n",
    "    features, W, V = get_params_features_for_vectors(features_vec, W, V)\n",
    "    h_x = prediction_calculation(features, w0, W, V)\n",
    "    if h_x >= 0.5:\n",
    "        if int(data['label']) == 1:\n",
    "            yield ('correct', 1)\n",
    "        else:\n",
    "            yield ('wrong', 1)\n",
    "    else:\n",
    "        if int(data['label']) == 0:\n",
    "            yield ('correct', 1)\n",
    "        else:\n",
    "            yield ('wrong', 1)"
   ]
  },
  {
   "cell_type": "code",
   "execution_count": 4,
   "metadata": {},
   "outputs": [],
   "source": [
    "# test set\n",
    "test_df = spark.read.parquet('gs://w261_desa2/notebooks/data/toySampleTest.parquet')\n",
    "test_rdd = test_df.rdd.cache()"
   ]
  },
  {
   "cell_type": "code",
   "execution_count": 108,
   "metadata": {},
   "outputs": [],
   "source": [
    "# get the predicted classes for the test set\n",
    "result = test_rdd.flatMap(lambda x: predict_classes(x, w0, W, V)).reduceByKey(lambda x,y: x + y).collect()"
   ]
  },
  {
   "cell_type": "code",
   "execution_count": 116,
   "metadata": {},
   "outputs": [
    {
     "data": {
      "text/plain": [
       "[('correct', 301), ('wrong', 126)]"
      ]
     },
     "execution_count": 116,
     "metadata": {},
     "output_type": "execute_result"
    }
   ],
   "source": [
    "result"
   ]
  },
  {
   "cell_type": "code",
   "execution_count": 119,
   "metadata": {},
   "outputs": [
    {
     "data": {
      "text/plain": [
       "0.7049180327868853"
      ]
     },
     "execution_count": 119,
     "metadata": {},
     "output_type": "execute_result"
    }
   ],
   "source": [
    "accuracy = result[0][1]/(result[1][1]+result[0][1])\n",
    "accuracy"
   ]
  },
  {
   "cell_type": "markdown",
   "metadata": {},
   "source": [
    "Test accuracy of 0.704 was achieved by training the homegrown factorization machine model for 10 iterations."
   ]
  },
  {
   "cell_type": "code",
   "execution_count": 26,
   "metadata": {},
   "outputs": [],
   "source": [
    "# plot error curves\n",
    "def plotErrorCurves(trainLoss, testLoss, title = None):\n",
    "    \"\"\"\n",
    "    Helper function for plotting.\n",
    "    Args: trainLoss (list of log loss) , testLoss (list of log loss)\n",
    "    \"\"\"\n",
    "    fig, ax = plt.subplots(1,1,figsize = (16,8))\n",
    "    x = list(range(len(trainLoss)))[1:]\n",
    "    ax.plot(x, trainLoss[1:], 'k--', label='Training Loss')\n",
    "    ax.plot(x, testLoss[1:], 'r--', label='Test Loss')\n",
    "    ax.legend(loc='upper right', fontsize='x-large')\n",
    "    plt.xlabel('Number of Iterations')\n",
    "    plt.ylabel('Log Loss error')\n",
    "    if title:\n",
    "        plt.title(title)\n",
    "    plt.show()"
   ]
  },
  {
   "cell_type": "markdown",
   "metadata": {},
   "source": [
    "**Following is a plot of training and validation loss during training on a small dataset of 849 records over 200 iterations**"
   ]
  },
  {
   "cell_type": "code",
   "execution_count": 17,
   "metadata": {},
   "outputs": [
    {
     "data": {
      "image/png": "[encoded data removed]",
      "text/plain": [
       "<Figure size 1152x576 with 1 Axes>"
      ]
     },
     "metadata": {
      "needs_background": "light"
     },
     "output_type": "display_data"
    }
   ],
   "source": [
    "plotErrorCurves(train_loss, validation_loss)"
   ]
  },
  {
   "cell_type": "markdown",
   "metadata": {},
   "source": [
    "## 4c Logistic Regression with Spark ML"
   ]
  },
  {
   "cell_type": "markdown",
   "metadata": {},
   "source": [
    "We now want to run the full dataset through a logistic regression model in Spark ML. We want to do this with and without the weight being applied to see if label balancing improves the performance"
   ]
  },
  {
   "cell_type": "code",
   "execution_count": 13,
   "metadata": {},
   "outputs": [],
   "source": [
    "train = spark.read.parquet('gs://w261_desa2/notebooks/data/trainProcessed.parquet')\n",
    "test = spark.read.parquet('gs://w261_desa2/notebooks/data/testProcessed.parquet')"
   ]
  },
  {
   "cell_type": "code",
   "execution_count": 4,
   "metadata": {},
   "outputs": [],
   "source": [
    "MAXITER = 30"
   ]
  },
  {
   "cell_type": "code",
   "execution_count": 50,
   "metadata": {},
   "outputs": [
    {
     "name": "stdout",
     "output_type": "stream",
     "text": [
      "ACCURACY TO BEAT (guessing 0 every time): \n",
      "74.37%\n"
     ]
    }
   ],
   "source": [
    "print('ACCURACY TO BEAT (guessing 0 every time): \\n{:.2f}%'.format(test.filter(test['label'] == 0).count() / test.count() * 100))"
   ]
  },
  {
   "cell_type": "markdown",
   "metadata": {},
   "source": [
    "### Model 1a --> modulo-based hashing with label balancing"
   ]
  },
  {
   "cell_type": "code",
   "execution_count": 5,
   "metadata": {},
   "outputs": [],
   "source": [
    "# with column weights\n",
    "lr = LogisticRegression(\n",
    "    featuresCol='features', \n",
    "    labelCol='label', \n",
    "    weightCol='weightCol',\n",
    "    family='binomial',\n",
    "    standardization=False,\n",
    "    maxIter=MAXITER\n",
    ")"
   ]
  },
  {
   "cell_type": "code",
   "execution_count": 6,
   "metadata": {},
   "outputs": [
    {
     "name": "stdout",
     "output_type": "stream",
     "text": [
      "runtime (min):  17.000190377235413\n"
     ]
    }
   ],
   "source": [
    "start = time.time()\n",
    "model = lr.fit(train)\n",
    "print('runtime (min): ', (time.time() - start) / 60)"
   ]
  },
  {
   "cell_type": "code",
   "execution_count": 7,
   "metadata": {},
   "outputs": [],
   "source": [
    "trainingSummary = model.summary\n",
    "history = trainingSummary.objectiveHistory"
   ]
  },
  {
   "cell_type": "code",
   "execution_count": 8,
   "metadata": {},
   "outputs": [
    {
     "data": {
      "text/plain": [
       "[<matplotlib.lines.Line2D at 0x7f759b0589e8>]"
      ]
     },
     "execution_count": 8,
     "metadata": {},
     "output_type": "execute_result"
    },
    {
     "data": {
      "image/png": "[encoded data removed]",
      "text/plain": [
       "<Figure size 432x288 with 1 Axes>"
      ]
     },
     "metadata": {
      "needs_background": "light"
     },
     "output_type": "display_data"
    }
   ],
   "source": [
    "plt.plot(history)"
   ]
  },
  {
   "cell_type": "code",
   "execution_count": null,
   "metadata": {},
   "outputs": [
    {
     "name": "stdout",
     "output_type": "stream",
     "text": [
      "MODEL METRICS ON TRAIN SET WITH LABEL WEIGHTS:\n",
      "\n",
      "Accuracy:  0.7266794415880657\n",
      "F-sore per label:  [0.797699258330019, 0.5788196060417692]\n",
      "Precision per label:  [0.887353030367926, 0.47822492671831046]\n",
      "Recall per label:  [0.7244994123463263, 0.7330079239998403]\n"
     ]
    }
   ],
   "source": [
    "print('MODEL METRICS ON TRAIN SET WITH LABEL WEIGHTS:\\n')\n",
    "print('Accuracy: ', trainingSummary.accuracy)\n",
    "print('F-score per label: ', trainingSummary.fMeasureByLabel())\n",
    "print('Precision per label: ', trainingSummary.precisionByLabel)\n",
    "print('Recall per label: ', trainingSummary.recallByLabel)"
   ]
  },
  {
   "cell_type": "code",
   "execution_count": 55,
   "metadata": {},
   "outputs": [],
   "source": [
    "testSummary = model.evaluate(test)"
   ]
  },
  {
   "cell_type": "code",
   "execution_count": 56,
   "metadata": {},
   "outputs": [
    {
     "name": "stdout",
     "output_type": "stream",
     "text": [
      "MODEL METRICS ON TEST SET WITH LABEL WEIGHTS:\n",
      "\n",
      "Accuracy:  0.713027938386854\n",
      "F-sore per label:  [0.7876523250435307, 0.5575341627890252]\n",
      "Precision per label:  [0.8758019387486833, 0.46087741620041894]\n",
      "Recall per label:  [0.7156245887845784, 0.7054923726968402]\n"
     ]
    }
   ],
   "source": [
    "print('MODEL METRICS ON TEST SET WITH LABEL WEIGHTS:\\n')\n",
    "print('Accuracy: ', testSummary.accuracy)\n",
    "print('F-score per label: ', testSummary.fMeasureByLabel())\n",
    "print('Precision per label: ', testSummary.precisionByLabel)\n",
    "print('Recall per label: ', testSummary.recallByLabel)"
   ]
  },
  {
   "cell_type": "code",
   "execution_count": 18,
   "metadata": {},
   "outputs": [
    {
     "name": "stdout",
     "output_type": "stream",
     "text": [
      "60.77% predicted clicks, 39.23% predicted non-clicks\n"
     ]
    }
   ],
   "source": [
    "predictions = model.transform(test)\n",
    "predCounts = predictions.groupBy('prediction').count().collect()\n",
    "N = predictions.count()\n",
    "print(\"{:.2f}% predicted non-clicks, {:.2f}% predicted clicks\".format((predCounts[0]['count'] / N) * 100, (predCounts[1]['count'] / N) * 100))"
   ]
  },
  {
   "cell_type": "code",
   "execution_count": 20,
   "metadata": {},
   "outputs": [],
   "source": [
    "model.save('gs://w261_desa2/notebooks/models/sparkLRModel_withColWeight')"
   ]
  },
  {
   "cell_type": "markdown",
   "metadata": {},
   "source": [
    "### Model 1b --> modulo-based hashing without label balancing"
   ]
  },
  {
   "cell_type": "code",
   "execution_count": 21,
   "metadata": {},
   "outputs": [],
   "source": [
    "lr = LogisticRegression(\n",
    "    featuresCol='features', \n",
    "    labelCol='label', \n",
    "#     weightCol='weightCol',\n",
    "    family='binomial',\n",
    "    standardization=False,\n",
    "    maxIter=MAXITER\n",
    ")"
   ]
  },
  {
   "cell_type": "code",
   "execution_count": 22,
   "metadata": {},
   "outputs": [
    {
     "name": "stdout",
     "output_type": "stream",
     "text": [
      "runtime (min):  11.495596583684286\n"
     ]
    }
   ],
   "source": [
    "start = time.time()\n",
    "model = lr.fit(train)\n",
    "print('runtime (min): ', (time.time() - start) / 60)"
   ]
  },
  {
   "cell_type": "code",
   "execution_count": 23,
   "metadata": {},
   "outputs": [],
   "source": [
    "trainingSummary = model.summary\n",
    "history = trainingSummary.objectiveHistory"
   ]
  },
  {
   "cell_type": "code",
   "execution_count": 24,
   "metadata": {},
   "outputs": [
    {
     "data": {
      "text/plain": [
       "[<matplotlib.lines.Line2D at 0x7f7598639908>]"
      ]
     },
     "execution_count": 24,
     "metadata": {},
     "output_type": "execute_result"
    },
    {
     "data": {
      "image/png": "[encoded data removed]",
      "text/plain": [
       "<Figure size 432x288 with 1 Axes>"
      ]
     },
     "metadata": {
      "needs_background": "light"
     },
     "output_type": "display_data"
    }
   ],
   "source": [
    "plt.plot(history)"
   ]
  },
  {
   "cell_type": "code",
   "execution_count": 20,
   "metadata": {},
   "outputs": [
    {
     "name": "stdout",
     "output_type": "stream",
     "text": [
      "MODEL METRICS ON TRAIN SET WITHOUT LABEL WEIGHTS:\n",
      "\n",
      "Accuracy:  0.7923913586262232\n",
      "F-sore per label:  [0.8698069127126281, 0.4878652273294674]\n",
      "Precision per label:  [0.8150855740016201, 0.662940272987901]\n",
      "Recall per label:  [0.9324045422099337, 0.38594223732036087]\n"
     ]
    }
   ],
   "source": [
    "print('MODEL METRICS ON TRAIN SET WITHOUT LABEL WEIGHTS:\\n')\n",
    "print('Accuracy: ', trainingSummary.accuracy)\n",
    "print('F-score per label: ', trainingSummary.fMeasureByLabel())\n",
    "print('Precision per label: ', trainingSummary.precisionByLabel)\n",
    "print('Recall per label: ', trainingSummary.recallByLabel)"
   ]
  },
  {
   "cell_type": "code",
   "execution_count": 52,
   "metadata": {},
   "outputs": [],
   "source": [
    "testSummary = model.evaluate(test)"
   ]
  },
  {
   "cell_type": "code",
   "execution_count": 53,
   "metadata": {},
   "outputs": [
    {
     "name": "stdout",
     "output_type": "stream",
     "text": [
      "MODEL METRICS ON TEST SET WITHOUT LABEL WEIGHTS:\n",
      "\n",
      "Accuracy:  0.7822519457086953\n",
      "F-sore per label:  [0.8634195945940403, 0.4632983558505803]\n",
      "Precision per label:  [0.809193028223063, 0.6289111042397157]\n",
      "Recall per label:  [0.9254359652781055, 0.3667271657186403]\n"
     ]
    }
   ],
   "source": [
    "print('MODEL METRICS ON TEST SET WITHOUT LABEL WEIGHTS:\\n')\n",
    "print('Accuracy: ', testSummary.accuracy)\n",
    "print('F-score per label: ', testSummary.fMeasureByLabel())\n",
    "print('Precision per label: ', testSummary.precisionByLabel)\n",
    "print('Recall per label: ', testSummary.recallByLabel)"
   ]
  },
  {
   "cell_type": "code",
   "execution_count": 32,
   "metadata": {},
   "outputs": [
    {
     "name": "stdout",
     "output_type": "stream",
     "text": [
      "85.06% predicted non-clicks, 14.94% predicted clicks\n"
     ]
    }
   ],
   "source": [
    "predictions = model.transform(test)\n",
    "predCounts = predictions.groupBy('prediction').count().collect()\n",
    "print(\"{:.2f}% predicted non-clicks, {:.2f}% predicted clicks\".format((predCounts[0]['count'] / N) * 100, (predCounts[1]['count'] / N) * 100))"
   ]
  },
  {
   "cell_type": "code",
   "execution_count": 31,
   "metadata": {},
   "outputs": [],
   "source": [
    "model.save('gs://w261_desa2/notebooks/models/sparkLRModel_noColWeight')"
   ]
  },
  {
   "cell_type": "markdown",
   "metadata": {},
   "source": [
    "### Model 2--> random forest feature selection approach"
   ]
  },
  {
   "cell_type": "markdown",
   "metadata": {},
   "source": [
    "Interestingly, though our random forest feature selection model did not beat our best model's test accuracy, it came pretty close with far fewer features:"
   ]
  },
  {
   "cell_type": "code",
   "execution_count": 20,
   "metadata": {},
   "outputs": [],
   "source": [
    "lr = LogisticRegression(\n",
    "    featuresCol='features', \n",
    "    labelCol='label', \n",
    "    #regParam=0.01, \n",
    "    family='binomial',\n",
    "    standardization=False,\n",
    "    maxIter=MAXITER)"
   ]
  },
  {
   "cell_type": "code",
   "execution_count": 21,
   "metadata": {},
   "outputs": [
    {
     "name": "stdout",
     "output_type": "stream",
     "text": [
      "runtime (min):  36.008772536118826\n"
     ]
    }
   ],
   "source": [
    "start = time.time()\n",
    "model = lr.fit(train)\n",
    "print('runtime (min): ', (time.time() - start) / 60)"
   ]
  },
  {
   "cell_type": "code",
   "execution_count": 22,
   "metadata": {},
   "outputs": [],
   "source": [
    "trainingSummary = model.summary\n",
    "history = trainingSummary.objectiveHistory"
   ]
  },
  {
   "cell_type": "code",
   "execution_count": 23,
   "metadata": {},
   "outputs": [
    {
     "data": {
      "text/plain": [
       "[<matplotlib.lines.Line2D at 0x7f81b4caaa20>]"
      ]
     },
     "execution_count": 23,
     "metadata": {},
     "output_type": "execute_result"
    },
    {
     "data": {
      "image/png": "[encoded data removed]",
      "text/plain": [
       "<Figure size 432x288 with 1 Axes>"
      ]
     },
     "metadata": {
      "needs_background": "light"
     },
     "output_type": "display_data"
    }
   ],
   "source": [
    "plt.plot(history)"
   ]
  },
  {
   "cell_type": "code",
   "execution_count": 24,
   "metadata": {},
   "outputs": [
    {
     "data": {
      "text/plain": [
       "0.7862077935147408"
      ]
     },
     "execution_count": 24,
     "metadata": {},
     "output_type": "execute_result"
    }
   ],
   "source": [
    "trainingSummary.accuracy"
   ]
  },
  {
   "cell_type": "code",
   "execution_count": 25,
   "metadata": {},
   "outputs": [],
   "source": [
    "testSummary = model.evaluate(test)"
   ]
  },
  {
   "cell_type": "code",
   "execution_count": 28,
   "metadata": {},
   "outputs": [
    {
     "name": "stdout",
     "output_type": "stream",
     "text": [
      "MODEL METRICS ON RANDOM FOREST FEATURE SELECTION METHOD:\n",
      "\n",
      "Accuracy:  0.7794698710628699\n",
      "F-score per label:  [0.8626136903706717, 0.4414375078068953]\n",
      "Precision per label:  [0.8035712883632612, 0.6294762062388676]\n",
      "Recall per label:  [0.9310204173859865, 0.3399013352762136]\n"
     ]
    }
   ],
   "source": [
    "print('MODEL METRICS ON RANDOM FOREST FEATURE SELECTION METHOD:\\n')\n",
    "print('Accuracy: ', testSummary.accuracy)\n",
    "print('F-score per label: ', testSummary.fMeasureByLabel())\n",
    "print('Precision per label: ', testSummary.precisionByLabel)\n",
    "print('Recall per label: ', testSummary.recallByLabel)"
   ]
  },
  {
   "cell_type": "markdown",
   "metadata": {},
   "source": [
    "## Algorithm Implementation Conclusions"
   ]
  },
  {
   "cell_type": "markdown",
   "metadata": {},
   "source": [
    "We tested our full dataset under a variety of conditions using different feature engineering methods to address the two distinct feature engineering solutions we considered in section **4a**. We experimented with a variety of techniques on a sample set including different modulo values, applying or not applying a log transform, grouping infrequent categorical features, and adding a label weight to address label bias. We experimented with hyperparameter tuning by tuning on a sample and applying the optimized hyperparameters to the full training set.  Doing so resulted in a slight increase of the accuracy from 0.7822519457086953 to 0.7823707360006731.  The optimal hyperparameters were $\\lambda = 0.001$ and $\\alpha = 0.0$; see Appendix for details. The three models shown in this section represent the performance of our two distinct feature engineering solutions. Models 1a and 1b represent the modulo-based hashing solution (with and without label balancing) and the model 2 represents the random forest feature selection.\n",
    "\n",
    "We clearly see the effect that adding in label weights has on models 1a and 1b when we look at the percentage of predicted clicks. The true percentage of clicks is roughly ~26%. We see that when we weight the labels based on population proportion we have actually weighted them too strongly and we end up over-predicting clicks at ~40%. If we remove the label weights, we end up under-predicting clicks at ~15%, yet our accuracy improves somewhat drastically. A good path for future exploration would be to attempt find a label weight middle ground which would balance the over/under predicting of clicks with the actual population proportion.\n",
    "\n",
    "Our three best performing models are shown above and represent the modulo-based hashing trick (1a, 1b), and the random forest feature selection (2). While the best model we trained from a performance perspective was the modulo-based hashing function with no label balancing we could argue that the parsimony of the random forest feature selection model is better, since it achieves a similar accuracy to the other models with about 65% of the features. If we had had more time, we might have tried more variations on this strategy - for instance, experimenting with the feature importance threshold we used to add features to the model, changing the preprocessing on the remaining features to preserve more of the raw data, or trying interaction terms. \n",
    "\n",
    "While overall we achieved similar performance results from both feature engineering techniques, from a scalability standpoint, the modulo-based hashing trick is the superior methodology. The massive feature space of this dataset causes the random forest feature selection to be a very expensive task even on a small sample of the full data, due to the large number of branches being created. Therefore, modulo-based hashing would likely be the method of feature engineering to move forward with for future exploration."
   ]
  },
  {
   "cell_type": "markdown",
   "metadata": {},
   "source": [
    "# 5. Application of Course Concepts "
   ]
  },
  {
   "cell_type": "markdown",
   "metadata": {},
   "source": [
    "**Bias/Variance Tradeoff**  \n",
    "While our group built our collective understanding of factorization machines, we discussed the selection of k, the number of latent features that the model will learn per data feature. We determined that we could use the bias/variance tradeoff in our process of understanding and selecting a value for k. A smaller value of k increases our model’s bias and decreases its’ variance; a smaller k means less ability to model complex patterns in the data, and with that, a greater likelihood of errors due to the model not capturing the true patterns in the data. A larger k means a much more flexible model that can learn more nuanced patterns, but also greater sensitivity to the specific data we train on. As a result, a model with a larger k will be sensitive to the particular sample of data we train on, and will be more likely to make errors from overfitting to patterns in the training set that don’t generalize to the problem in general. A larger k means adding more parameters to the model. We set k to 100 in the version of the factorization machine that we ran, which gave us 100 parameters per feature, in addition to the regular coefficient on each feature and the bias term. We can make similar observations about the bias/variance tradeoff as we change the number of features in our logistic regression model - the more features we have, the more errors come from the model's sensitivity to nuances in the training set (variances), whereas the fewer features we have, the more errors come from the model's inability to capture nuanced patterns (bias). \n",
    "\n",
    "**Sparse Data Representations**  \n",
    "Spark’s SparseVector data type is an extremely helpful feature that helps us represent feature-rich data sets in a compact way. When we use one-hot encoding to turn our categorical features into a set of dummy features, we end up with a vector that is as long as the number of separate categorical values we have. In this case, depending what kind of preprocessing we do, that means a vector that is anywhere from hundreds of thousands to millions of indices long. However, since only 39 of the new features should have a value in them, these new feature vectors are extremely sparse, with the vast majority of their entries being 0s. The SparseVector data type takes advantage of this sparsity; instead of storing the full vector of hundreds of thousands of 0s, it only stores the overall vector size and the indices of the non-zero elements. It’s a similar idea to the adjacency lists vs matrices we looked at for representing graphs earlier in the term; the sparse vector, like the adjacency list, only stores the data that has non-zero values, which allows for a compressed data representation that nonetheless conveys all the information needed for downstream operations. Spark’s OneHotEncoderEstimator method returns a SparseVector, as does the VectorAssembler and the LogisticRegression estimator we used was able to take in the SparseVector as input features; if we had had to use a denser representation of these features, the size of the data would have been far larger when we wrote it to parquet, and it would also take up more memory when running the logistic regression estimator on it.\n",
    "\n",
    "**Batch vs Stochastic Gradient Descent**  \n",
    "All of our homegrown models in this project were trained using gradient descent, where the model makes a series of updates to the parameter values, each time determining the size and direction of update to make by using the partial derivative of the cost function (in combination with the learning rate and a regularization term). Batch and stochastic gradient descent are two different methods for determining when to make the updates in the algorithm, and the choice comes with different tradeoffs. Stochastic gradient descent is generally preferred to batch since it usually converges faster. When updating the gradient based on just one example at a time, instead of waiting to get through all training examples to start updating, the model will converge faster, since it can start making updates and getting in the right neighborhood very quickly. The fluctuating nature of SGD might prevent it from getting to the true minimum as well as batch GD would, but it can get an approximation of the minimum much faster, and often that is good enough. From a scalability perspective, it is good that SGD converges faster, but also, it can’t be parallelized, since the training the model on row 2 requires that we have already run the model and performed the gradient update from row 1. Our homegrown implementation of logistic regression used batch gradient descent in order to take full advantage of the parallelization built into spark. Spark’s LogisticRegression implementation in the ML package uses L-BFGS, a different numerical optimization method that typically converges faster than gradient descent does. \n",
    "\n",
    "**Distributed Computing**  \n",
    "The homegrown factorization machine model with batch gradient descent implementation takes advantage of Spark's distributed computing framework (which is based on functional programming principles) and broadcasting. The implementation is an iterative process for which Spark works better than Hadoop, because in Hadoop the data at each iteration will have to be written to a file and read back in for use by the next iteration, and file i/o is time consuming.  Computing parameter gradients with respect to loss function is embarrassingly parallel. Each training example can be sent to a mapper to compute the partial gradients of the loss in parallel, since there is no communication required between the different tasks. The partial gradients can later be aggregated to calculate the mean. The model parameters are broadcasted to the worker nodes instead of passed as parameters to the function that calculates the gradients at every iteration. Passing as parameters is inefficient because that would result in maintaining model parameter copies for every record in the data being sent to a worker, and the number of records can be huge, especially with the interaction term factorized parameters."
   ]
  },
  {
   "cell_type": "markdown",
   "metadata": {},
   "source": [
    "# 6. Appendix"
   ]
  },
  {
   "cell_type": "markdown",
   "metadata": {},
   "source": [
    "## Random Forest for Feature Selection"
   ]
  },
  {
   "cell_type": "markdown",
   "metadata": {},
   "source": [
    "This was the code used to train a random forest and use the feature importances from that model to choose what features to include in a logistic regression model. This was very computationally expensive due to the number of potential splits in the categorical features, so we used a sample of the data (5%) and did the modulo hashing trick to the categorical features before running the random forest. Optimally, we would have used more data and done minimal preprocessing on the input features to get a less biased view of feature importance. "
   ]
  },
  {
   "cell_type": "code",
   "execution_count": null,
   "metadata": {},
   "outputs": [],
   "source": [
    "# vector assembler won't work if any values are null\n",
    "train = train.na.fill(0, subset=train.columns[1:14])\n",
    "test = test.na.fill(0, subset=test.columns[1:14])"
   ]
  },
  {
   "cell_type": "code",
   "execution_count": null,
   "metadata": {},
   "outputs": [],
   "source": [
    "# do the infrequent value dropping and modulo steps from the regular createFeatureVector process\n",
    "# (we will string index these features, but we won't need to one hot encode them)\n",
    "def createFeatureVectorForRF(trainDf, testDf, n=10, modulo=10000):\n",
    "    '''Reduce the categorical feature space for RF\n",
    "    '''\n",
    "    \n",
    "    # find the infrequent values\n",
    "    def findInfrequentValues(c):\n",
    "        '''collect all values in column c with frequency less than n'''\n",
    "        counts = trainDf.groupBy(c).count()\n",
    "        infrequentValues = counts.filter(counts['count'] <= n)\n",
    "        s = infrequentValues.agg(F.collect_set(c)).collect()[0][0]\n",
    "        return s\n",
    "\n",
    "    # replace the infrequent values\n",
    "    def replaceInfrequentValues(row_value):\n",
    "        '''group all infrequent values under universal label \"infreq\"'''\n",
    "        if row_value in infreq_values:\n",
    "            return \"infreq\"\n",
    "        else:\n",
    "            return row_value\n",
    "    \n",
    "    # create the udf object to replace the infrequent values\n",
    "    replace_infreq_udf = F.udf(replaceInfrequentValues)\n",
    "\n",
    "    # create hash function for binning categorical variables\n",
    "    def hashValues(row):\n",
    "        if row == \"infreq\":\n",
    "            return str(row)\n",
    "        elif row != None:\n",
    "            # return integer value of hex label, apply modulo (e.g. modulo 10000 keeps only the last 4 digits)\n",
    "            return str(int('0x' + row, 16) % modulo)\n",
    "        else:\n",
    "            return str(row)\n",
    "\n",
    "    # create udf object for hashing categorical features \n",
    "    hash_udf = F.udf(hashValues)\n",
    "\n",
    "    # hash all hex strings in both train and test\n",
    "    categoricalCols = [c for c in trainDf.columns if 'c' in c]\n",
    "    for c in categoricalCols:\n",
    "        print(\"eliminating infreqs/hashing column {}\".format(c))\n",
    "        infreq_values = findInfrequentValues(trainDf[c])\n",
    "        trainDf = trainDf.withColumn(c, replace_infreq_udf(trainDf[c]))\n",
    "        testDf = testDf.withColumn(c, replace_infreq_udf(testDf[c]))\n",
    "        unique_values = trainDf.agg(F.countDistinct(trainDf[c])).collect()[0][0]\n",
    "        if unique_values > modulo:\n",
    "            trainDf = trainDf.withColumn(c, hash_udf(trainDf[c]))\n",
    "            testDf = testDf.withColumn(c, hash_udf(testDf[c]))\n",
    "    return trainDf, testDf\n",
    "\n",
    "train, test = createFeatureVectorForRF(train, test)\n",
    "categorical_cols = [c for c in train.columns if 'c' in c or 'label' in c]\n",
    "indexed_cols = []\n",
    "for col in categorical_cols:\n",
    "    new_col_name = \"{}_indexed\".format(col)\n",
    "    vec_indexer = StringIndexer(inputCol=col, outputCol=new_col_name, handleInvalid='keep').fit(train)\n",
    "    train = vec_indexer.transform(train)\n",
    "    test = vec_indexer.transform(test)\n",
    "    indexed_cols.append(new_col_name)"
   ]
  },
  {
   "cell_type": "code",
   "execution_count": null,
   "metadata": {},
   "outputs": [],
   "source": [
    "cols_for_features = [c for c in train.columns if 'n' in c and c!=\"label_indexed\"]\n",
    "print(cols_for_features)\n",
    "assembler = VectorAssembler(inputCols=cols_for_features, outputCol=\"features\")\n",
    "newTrain = assembler.transform(train)\n",
    "newTest = assembler.transform(test)"
   ]
  },
  {
   "cell_type": "code",
   "execution_count": null,
   "metadata": {},
   "outputs": [],
   "source": [
    "# Train a RandomForest model.\n",
    "start_time = time.time()\n",
    "rf = RandomForestClassifier(labelCol=\"label_indexed\", featuresCol=\"features\", numTrees=5, maxBins=100000)\n",
    "fit_rf = rf.fit(newTrain)\n",
    "end_time = time.time()\n",
    "print(\"Total time taken = {}\".format(end_time - start_time))"
   ]
  },
  {
   "cell_type": "markdown",
   "metadata": {},
   "source": [
    "### Hyperparameter Tuning"
   ]
  },
  {
   "cell_type": "code",
   "execution_count": 237,
   "metadata": {},
   "outputs": [],
   "source": [
    "def metricsCalc(lp):\n",
    "    '''\n",
    "    Calculate binary classification metrics\n",
    "    '''\n",
    "    \n",
    "    trueP = lp.filter(lp[\"prediction\"] == 1.0).filter(lp[\"label\"] == lp[\"prediction\"]).count()\n",
    "    trueN = lp.filter(lp[\"prediction\"] == 0.0).filter(lp[\"label\"] == lp[\"prediction\"]).count()\n",
    "    falseP = lp.filter(lp[\"prediction\"] == 1.0).filter(lp[\"label\"] != lp[\"prediction\"]).count()\n",
    "    falseN = lp.filter(lp[\"prediction\"] == 0.0).filter(lp[\"label\"] != lp[\"prediction\"]).count()\n",
    "\n",
    "    # Calculate precision, recall, accuracy, and F1\n",
    "    precision = float(trueP)/(trueP + falseP) # aka specificity\n",
    "    recall = float(trueP)/(trueP + falseN)  # aka sensitivity\n",
    "    accuracy = float(trueP + trueN)/(trueP + trueN + falseP + falseN)\n",
    "    if trueP != 0:\n",
    "        f1 = 2 * (precision * recall) / (precision + recall)  # if trueP=0, then precision=0 and recall=0, so f1 doesn't work.\n",
    "    else:\n",
    "        f1 = 'TP=0 so cannot calc f1'\n",
    "\n",
    "    # prints\n",
    "    print('Number of records:', (trueP+falseP+trueN+falseN))\n",
    "    print(f'trueP\\t\\t{trueP}')\n",
    "    print(f'trueN\\t\\t{trueN}')\n",
    "    print(f'falseP\\t\\t{falseP}')\n",
    "    print(f'falseN\\t\\t{falseN}')\n",
    "    print(f'accuracy\\t{accuracy}')\n",
    "    print(f'precision\\t{precision}')\n",
    "    print(f'recall\\t\\t{recall}')\n",
    "    print(f'f1\\t\\t{f1}')"
   ]
  },
  {
   "cell_type": "code",
   "execution_count": 153,
   "metadata": {},
   "outputs": [
    {
     "name": "stdout",
     "output_type": "stream",
     "text": [
      "+-----+----------+--------------------+\n",
      "|label|prediction|         probability|\n",
      "+-----+----------+--------------------+\n",
      "|  0.0|       0.0|[0.75004694775605...|\n",
      "|  0.0|       0.0|[0.82726170576101...|\n",
      "|  0.0|       0.0|[0.82726170576101...|\n",
      "|  0.0|       0.0|[0.82726170576101...|\n",
      "|  0.0|       0.0|[0.82726170576101...|\n",
      "|  0.0|       0.0|[0.82726170576101...|\n",
      "|  0.0|       0.0|[0.81700622602457...|\n",
      "|  0.0|       0.0|[0.81700622602457...|\n",
      "|  0.0|       0.0|[0.76224960882026...|\n",
      "|  0.0|       0.0|[0.76224960882026...|\n",
      "+-----+----------+--------------------+\n",
      "only showing top 10 rows\n",
      "\n"
     ]
    }
   ],
   "source": [
    "# Logisitic Regression with Regularization and Cross Validation for Hyperparameter Tuning\n",
    "\n",
    "from pyspark.ml.tuning import CrossValidator, ParamGridBuilder \n",
    "\n",
    "lr_small_reg = LogisticRegression(featuresCol = 'features', labelCol = 'label', maxIter=10)\n",
    "\n",
    "paramGrid_lr = ParamGridBuilder() \\\n",
    "    .addGrid(lr_small_reg.regParam, [0.01, 0.1, 1.0]) \\\n",
    "    .addGrid(lr_small_reg.elasticNetParam, [0.5, 0.7, 0.9]) \\\n",
    "    .build()\n",
    "\n",
    "crossval_lr_small = CrossValidator(estimator=lr_small_reg,\n",
    "                             estimatorParamMaps=paramGrid_lr,\n",
    "                             evaluator=BinaryClassificationEvaluator(),\n",
    "                             numFolds=5)\n",
    "\n",
    "#fit model to training data\n",
    "lr_small_reg_model = crossval_lr_small.fit(small_sample_train)\n",
    "\n",
    "#Transform test data\n",
    "lr_small_reg_result = lr_small_reg_model.transform(small_sample_test)\n",
    "\n",
    "#view id, label, prediction and probability from result of modeling\n",
    "lr_small_reg_result.select('label', 'prediction', 'probability').show(10)\n"
   ]
  },
  {
   "cell_type": "code",
   "execution_count": 167,
   "metadata": {},
   "outputs": [
    {
     "name": "stdout",
     "output_type": "stream",
     "text": [
      "Best Hyperparameters for Small Sample dataset\n",
      "best regParam: LogisticRegression_4542b0fd3fd28f383cc3__regParam\n",
      "best elasticNetParam: LogisticRegression_4542b0fd3fd28f383cc3__elasticNetParam\n"
     ]
    }
   ],
   "source": [
    "print('Best Hyperparameters for Small Sample dataset')\n",
    "print(\"best regParam:\", lr_small_reg_model.bestModel.regParam)\n",
    "print(\"best elasticNetParam:\", lr_small_reg_model.bestModel.elasticNetParam)"
   ]
  },
  {
   "cell_type": "code",
   "execution_count": 175,
   "metadata": {},
   "outputs": [
    {
     "data": {
      "text/plain": [
       "{Param(parent='LogisticRegression_4542b0fd3fd28f383cc3', name='regParam', doc='regularization parameter (>= 0).'): 0.01,\n",
       " Param(parent='LogisticRegression_4542b0fd3fd28f383cc3', name='elasticNetParam', doc='the ElasticNet mixing parameter, in range [0, 1]. For alpha = 0, the penalty is an L2 penalty. For alpha = 1, it is an L1 penalty.'): 0.9}"
      ]
     },
     "execution_count": 175,
     "metadata": {},
     "output_type": "execute_result"
    }
   ],
   "source": [
    "lr_small_reg_model.getEstimatorParamMaps()[ np.argmax(lr_small_reg_model.avgMetrics) ]"
   ]
  },
  {
   "cell_type": "markdown",
   "metadata": {},
   "source": [
    "#### Best hyperparameters for small sample: regParam = 0.01; elasticNetParam = 0.9."
   ]
  },
  {
   "cell_type": "code",
   "execution_count": 217,
   "metadata": {},
   "outputs": [
    {
     "name": "stdout",
     "output_type": "stream",
     "text": [
      "intercept: -1.2090852455788703\n",
      "coefficients: [2.478052796049695,0.06401468125312675,-0.6580943688652904,0.04402230673054404,-0.3572683651957661,0.0,0.07014881268525996,0.0,-0.48191783947288547]\n"
     ]
    }
   ],
   "source": [
    "print('intercept:', lr_small_reg_model.bestModel.intercept)\n",
    "print('coefficients:', lr_small_reg_model.bestModel.coefficients)"
   ]
  },
  {
   "cell_type": "code",
   "execution_count": 156,
   "metadata": {},
   "outputs": [
    {
     "name": "stdout",
     "output_type": "stream",
     "text": [
      "Number of records: 10365\n",
      "trueP\t\t56\n",
      "trueN\t\t7641\n",
      "falseP\t\t44\n",
      "falseN\t\t2624\n",
      "accuracy\t0.7425952725518572\n",
      "precision\t0.56\n",
      "recall\t\t0.020895522388059702\n",
      "f1\t\t0.040287769784172665\n"
     ]
    }
   ],
   "source": [
    "lp_reg = lr_small_reg_result.select( \"label\", \"prediction\")\n",
    "metricsCalc(lp_reg)"
   ]
  },
  {
   "cell_type": "markdown",
   "metadata": {},
   "source": [
    "### Logistic Regression with first order independent variables and no interaction terms"
   ]
  },
  {
   "cell_type": "code",
   "execution_count": 35,
   "metadata": {},
   "outputs": [],
   "source": [
    "def prediction_calculation_independent(features, w0, W):\n",
    "    \"\"\"Performs class prediction calculations for the given set of features and weights\"\"\"\n",
    "    # dot product of independent features and weights\n",
    "    # appending the bias term as well\n",
    "    independent_features = np.append([1.0], features)\n",
    "    independent_weights = np.append([w0], W)\n",
    "    \n",
    "    product = np.dot(independent_features,independent_weights)\n",
    "    h_x = 1.0/(1.0+math.exp(-product))\n",
    "    return h_x"
   ]
  },
  {
   "cell_type": "code",
   "execution_count": 36,
   "metadata": {},
   "outputs": [],
   "source": [
    "def get_parameter_gradients_independent(data, w0, W):\n",
    "    \"\"\"Yields gradients for all the model parameters\"\"\"\n",
    "    y = data['label']\n",
    "    features_vec = data['features']\n",
    "    features, W_condensed = get_params_features_for_vectors_independent(features_vec, W)\n",
    "    h_x = prediction_calculation_independent(features, w0, W_condensed)\n",
    "    # converting the features vector representation to array to get the entire representation\n",
    "    features_array = features_vec.toArray()\n",
    "    augmented_features = np.append([1.0], features_array)\n",
    "    \n",
    "    # calculating W gradients\n",
    "    gradients = (h_x - y)*augmented_features\n",
    "    yield gradients"
   ]
  },
  {
   "cell_type": "code",
   "execution_count": 37,
   "metadata": {},
   "outputs": [],
   "source": [
    "def get_log_loss_independent(data_rdd, w0, W):\n",
    "    \"\"\"Calculating the log loss\"\"\"\n",
    "    # calculation the log loss\n",
    "    loss = data_rdd.flatMap(lambda data: get_log_sigmoid_independent(data, w0, W))\\\n",
    "                   .mean()\n",
    "    \n",
    "    return loss"
   ]
  },
  {
   "cell_type": "code",
   "execution_count": 38,
   "metadata": {},
   "outputs": [],
   "source": [
    "def get_log_sigmoid_independent(data, w0, W):\n",
    "    \"\"\"Calculate the log of the prediction, used for calculating the loss\"\"\"\n",
    "    y = data['label']\n",
    "    features, W = get_params_features_for_vectors_independent(data['features'], W)\n",
    "    h_x = prediction_calculation_independent(features, w0, W)\n",
    "   \n",
    "    if int(y) == 1:\n",
    "        yield -np.log(h_x)\n",
    "    else:\n",
    "        yield -np.log(1-h_x)"
   ]
  },
  {
   "cell_type": "code",
   "execution_count": 39,
   "metadata": {},
   "outputs": [],
   "source": [
    "def get_params_features_for_vectors_independent(features, W):\n",
    "    \"\"\"Handle the SparseVectors, DenseVectors or arrays of parameters and features to return the actual values to be used in the gradient calculations\"\"\"\n",
    "    # unpacking the sparse vector to get the respective weights for the features and using just the values present\n",
    "    if type(features) == SparseVector:\n",
    "        W_vec = W[features.indices]\n",
    "        features_vec = features.values\n",
    "    else:\n",
    "        W_vec = W\n",
    "        features_vec = features\n",
    "\n",
    "    return features_vec, W_vec"
   ]
  },
  {
   "cell_type": "code",
   "execution_count": 41,
   "metadata": {},
   "outputs": [],
   "source": [
    "def logistic_gd(train_rdd, validation_rdd, learning_rate=0.1, reg_type='ridge', reg_param=0.01, num_steps=20):    \n",
    "    \"\"\"Logistic regression model using gradient descent\"\"\"\n",
    "    \n",
    "    num_features = train_rdd.take(1)[0]['features'].size \n",
    "    print('num_features:',num_features)\n",
    "    \n",
    "    # initialize the model parameters\n",
    "    w0 = 0.0\n",
    "    W = np.zeros(num_features)\n",
    "    \n",
    "    # initialize lists to track model performance\n",
    "    train_history, validation_history = [], []\n",
    "    \n",
    "    for i in range(num_steps):\n",
    "        # broadcast the model parameters\n",
    "        w0_b = sc.broadcast(w0)\n",
    "        W_b = sc.broadcast(W)\n",
    "\n",
    "        # calculate all gradients for w0, W and V\n",
    "        gradients = train_rdd.flatMap(lambda x: get_parameter_gradients_independent(x,w0_b.value,W_b.value))\\\n",
    "                             .mean()\n",
    "        \n",
    "        if reg_type == 'ridge':\n",
    "             gradient_penalty = gradients[1:] + 2 * reg_param * W\n",
    "        if reg_type == 'lasso':\n",
    "             gradient_penalty = gradients[1:] + reg_param * np.sign(W)\n",
    "\n",
    "        w0 = w0 - learning_rate * gradients[0]\n",
    "        if reg_type == 'ridge' or reg_type == 'lasso':\n",
    "            W = W - learning_rate * gradient_penalty\n",
    "        else:\n",
    "            W = W - learning_rate * gradients[1:]\n",
    "        \n",
    "        # find train and validation loss at each iteration\n",
    "        training_loss = get_log_loss_independent(train_rdd, w0, W)\n",
    "        validation_loss = get_log_loss_independent(validation_rdd, w0, W)\n",
    "        \n",
    "        # keep track of validation/train loss for plotting\n",
    "        train_history.append(training_loss)\n",
    "        validation_history.append(validation_loss)\n",
    "        \n",
    "        \n",
    "    return w0, W, train_history, validation_history\n"
   ]
  },
  {
   "cell_type": "code",
   "execution_count": 42,
   "metadata": {},
   "outputs": [],
   "source": [
    "# train set\n",
    "train_df = spark.read.parquet('dac/toy/toySampleTrain.parquet')\n",
    "train_df, train_small_df, validation_df = train_df.randomSplit([.7, .2, .1], 10)\n",
    "train_df = train_df.cache()\n",
    "train_small_df = train_small_df.cache()\n",
    "validation_df = validation_df.cache()"
   ]
  },
  {
   "cell_type": "code",
   "execution_count": 43,
   "metadata": {},
   "outputs": [],
   "source": [
    "# create rdd from df\n",
    "train_rdd = train_df.rdd.cache()\n",
    "train_small_rdd = train_small_df.rdd.cache()\n",
    "validation_rdd = validation_df.rdd.cache()"
   ]
  },
  {
   "cell_type": "code",
   "execution_count": 44,
   "metadata": {},
   "outputs": [
    {
     "name": "stdout",
     "output_type": "stream",
     "text": [
      "num_features: 24086\n",
      "... completed job in 4.83094048500061 seconds.\n"
     ]
    }
   ],
   "source": [
    "start = time.time()\n",
    "w0_l, W_l, train_loss_l, validation_loss_l = logistic_gd(train_small_rdd, validation_rdd, num_steps=5)\n",
    "print(f'... completed job in {time.time() - start} seconds.')"
   ]
  },
  {
   "cell_type": "code",
   "execution_count": 51,
   "metadata": {},
   "outputs": [],
   "source": [
    "# predict\n",
    "def predict_classes_independent(data, w0, W):\n",
    "    features_vec = data['features']\n",
    "    features, W_condensed = get_params_features_for_vectors_independent(features_vec, W)\n",
    "    h_x = prediction_calculation_independent(features, w0, W_condensed)\n",
    "    \n",
    "    if h_x >= 0.5:\n",
    "        if int(data['label']) == 1:\n",
    "            yield ('correct', 1)\n",
    "        else:\n",
    "            yield ('wrong', 1)\n",
    "    else:\n",
    "        if int(data['label']) == 0:\n",
    "            yield ('correct', 1)\n",
    "        else:\n",
    "            yield ('wrong', 1)"
   ]
  },
  {
   "cell_type": "code",
   "execution_count": 52,
   "metadata": {},
   "outputs": [],
   "source": [
    "# test set\n",
    "test_df = spark.read.parquet('dac/toy/toySampleTest.parquet')\n",
    "test_rdd = test_df.rdd.cache()"
   ]
  },
  {
   "cell_type": "code",
   "execution_count": 53,
   "metadata": {},
   "outputs": [],
   "source": [
    "# get the predicted classes for the test set\n",
    "result = test_rdd.flatMap(lambda x: predict_classes_independent(x, w0_l, W_l)).reduceByKey(lambda x,y: x + y).collect()"
   ]
  },
  {
   "cell_type": "code",
   "execution_count": 54,
   "metadata": {},
   "outputs": [
    {
     "data": {
      "text/plain": [
       "[('wrong', 126), ('correct', 301)]"
      ]
     },
     "execution_count": 54,
     "metadata": {},
     "output_type": "execute_result"
    }
   ],
   "source": [
    "result"
   ]
  },
  {
   "cell_type": "code",
   "execution_count": 55,
   "metadata": {},
   "outputs": [
    {
     "data": {
      "text/plain": [
       "0.7049180327868853"
      ]
     },
     "execution_count": 55,
     "metadata": {},
     "output_type": "execute_result"
    }
   ],
   "source": [
    "accuracy = result[1][1]/(result[1][1]+result[0][1])\n",
    "accuracy"
   ]
  },
  {
   "cell_type": "markdown",
   "metadata": {},
   "source": [
    "#### Following is a plot of training and validation loss during training on a small dataset of 826 records over 100 iterations "
   ]
  },
  {
   "cell_type": "code",
   "execution_count": 29,
   "metadata": {},
   "outputs": [
    {
     "data": {
      "image/png": "[encoded data removed]",
      "text/plain": [
       "<Figure size 1152x576 with 1 Axes>"
      ]
     },
     "metadata": {
      "needs_background": "light"
     },
     "output_type": "display_data"
    }
   ],
   "source": [
    "plotErrorCurves(train_loss_l, validation_loss_l)"
   ]
  },
  {
   "cell_type": "code",
   "execution_count": null,
   "metadata": {},
   "outputs": [],
   "source": []
  },
  {
   "cell_type": "markdown",
   "metadata": {},
   "source": [
    "## Hyperparameter Tuning Logistic Regression in Spark ML Implementation"
   ]
  },
  {
   "cell_type": "markdown",
   "metadata": {},
   "source": [
    "### Run the Cross Validation Hyperparameter Tuning with the Training Sample data."
   ]
  },
  {
   "cell_type": "markdown",
   "metadata": {},
   "source": [
    "Note: A previous preliminary CV was run on the training sample data with ElasticNet parameters:  \n",
    "$\\lambda$ = 0.001, 0.01, 0.1, 1.0  \n",
    "$\\alpha$ = 0.001, 0.01, 0.1, 1.0 "
   ]
  },
  {
   "cell_type": "markdown",
   "metadata": {},
   "source": [
    "The run shown below was only run with 2 levels for each hyperparameter, since it was informed by the preliminary results, as noted above, along with the \"standard\" run that was done with default values ($\\lambda=0$ and $\\alpha=0$), which resulted in better accuracy relative to using the preliminary CV grid. Therefore, we did this run on the extreme low end of hyperparameters near zero to see if the bestModel picked hyperparameter values different than zero.  As shown below, it indeed picked $\\lambda$ = 0.001 and and $\\alpha$ = 0 for the best model.  "
   ]
  },
  {
   "cell_type": "code",
   "execution_count": 20,
   "metadata": {},
   "outputs": [
    {
     "data": {
      "text/plain": [
       "(['label', 'features', 'weightCol'], ['label', 'features'])"
      ]
     },
     "execution_count": 20,
     "metadata": {},
     "output_type": "execute_result"
    }
   ],
   "source": [
    "tpp = spark.read.parquet('gs://w261_desa2/notebooks/data/toySampleTrain.parquet')\n",
    "dpp = spark.read.parquet('gs://w261_desa2/notebooks/data/toySampleTest.parquet')\n",
    "tpp.columns, dpp.columns"
   ]
  },
  {
   "cell_type": "code",
   "execution_count": 7,
   "metadata": {},
   "outputs": [],
   "source": [
    "lr_sample_reg = LogisticRegression(\n",
    "    featuresCol = 'features', \n",
    "    labelCol = 'label', \n",
    "    maxIter=10, \n",
    "    standardization=False\n",
    ")\n",
    "\n",
    "'''\n",
    "lr_sample_reg = LogisticRegression(\n",
    "    featuresCol = 'features', \n",
    "    labelCol = 'label', \n",
    "    weightCol = 'weightCol', \n",
    "    maxIter=10, \n",
    "    standardization=False)\n",
    "'''\n",
    "paramGrid_lr = ParamGridBuilder() \\\n",
    "    .addGrid(lr_sample_reg.regParam, [0.000, 0.001]) \\\n",
    "    .addGrid(lr_sample_reg.elasticNetParam, [0.000, 0.001]) \\\n",
    "    .build()\n",
    "\n",
    "crossval_lr_sample = CrossValidator(\n",
    "    estimator=lr_sample_reg,\n",
    "    estimatorParamMaps=paramGrid_lr,\n",
    "    evaluator=BinaryClassificationEvaluator()\n",
    ")\n",
    "\n",
    "#fit model to training data\n",
    "lr_sample_reg_model = crossval_lr_sample.fit(tpp)"
   ]
  },
  {
   "cell_type": "code",
   "execution_count": 8,
   "metadata": {},
   "outputs": [
    {
     "name": "stdout",
     "output_type": "stream",
     "text": [
      "+-----+----------+--------------------+\n",
      "|label|prediction|         probability|\n",
      "+-----+----------+--------------------+\n",
      "|  0.0|       0.0|[0.91702852874526...|\n",
      "|  0.0|       0.0|[0.51818982131679...|\n",
      "|  0.0|       0.0|[0.85063532384838...|\n",
      "|  0.0|       0.0|[0.88003037171912...|\n",
      "|  0.0|       0.0|[0.65511546044695...|\n",
      "|  0.0|       0.0|[0.91582283648407...|\n",
      "|  0.0|       0.0|[0.84256585960662...|\n",
      "|  0.0|       0.0|[0.80445812139920...|\n",
      "|  0.0|       0.0|[0.62212235696704...|\n",
      "|  0.0|       0.0|[0.60589380037474...|\n",
      "+-----+----------+--------------------+\n",
      "only showing top 10 rows\n",
      "\n"
     ]
    }
   ],
   "source": [
    "#Transform test data\n",
    "lr_sample_reg_result = lr_sample_reg_model.transform(dpp)\n",
    "\n",
    "#view id, label, prediction and probability from result of modeling\n",
    "lr_sample_reg_result.select('label', 'prediction', 'probability').show(10)"
   ]
  },
  {
   "cell_type": "code",
   "execution_count": 25,
   "metadata": {},
   "outputs": [],
   "source": [
    "def metricsCalc(lp):\n",
    "    '''\n",
    "    Calculate binary classification metrics\n",
    "    '''\n",
    "    \n",
    "    trueP = lp.filter(lp[\"prediction\"] == 1.0).filter(lp[\"label\"] == lp[\"prediction\"]).count()\n",
    "    trueN = lp.filter(lp[\"prediction\"] == 0.0).filter(lp[\"label\"] == lp[\"prediction\"]).count()\n",
    "    falseP = lp.filter(lp[\"prediction\"] == 1.0).filter(lp[\"label\"] != lp[\"prediction\"]).count()\n",
    "    falseN = lp.filter(lp[\"prediction\"] == 0.0).filter(lp[\"label\"] != lp[\"prediction\"]).count()\n",
    "\n",
    "    # Calculate precision, recall, accuracy, and F1\n",
    "    precision = float(trueP)/(trueP + falseP) # aka specificity\n",
    "    recall = float(trueP)/(trueP + falseN)  # aka sensitivity\n",
    "    accuracy = float(trueP + trueN)/(trueP + trueN + falseP + falseN)\n",
    "    if trueP != 0:\n",
    "        f1 = 2 * (precision * recall) / (precision + recall)  # if trueP=0, then precision=0 and recall=0, so f1 doesn't work.\n",
    "    else:\n",
    "        f1 = 'TP=0 so cannot calc f1'\n",
    "\n",
    "    # prints\n",
    "    print('Number of records:', (trueP+falseP+trueN+falseN))\n",
    "    print(f'trueP\\t\\t{trueP}')\n",
    "    print(f'trueN\\t\\t{trueN}')\n",
    "    print(f'falseP\\t\\t{falseP}')\n",
    "    print(f'falseN\\t\\t{falseN}')\n",
    "    print(f'accuracy\\t{accuracy}')\n",
    "    print(f'precision\\t{precision}')\n",
    "    print(f'recall\\t\\t{recall}')\n",
    "    print(f'f1\\t\\t{f1}')"
   ]
  },
  {
   "cell_type": "code",
   "execution_count": 10,
   "metadata": {},
   "outputs": [
    {
     "name": "stdout",
     "output_type": "stream",
     "text": [
      "Number of records: 427\n",
      "trueP\t\t31\n",
      "trueN\t\t284\n",
      "falseP\t\t17\n",
      "falseN\t\t95\n",
      "accuracy\t0.7377049180327869\n",
      "precision\t0.6458333333333334\n",
      "recall\t\t0.24603174603174602\n",
      "f1\t\t0.3563218390804597\n"
     ]
    }
   ],
   "source": [
    "lp_reg = lr_sample_reg_result.select( \"label\", \"prediction\")\n",
    "metricsCalc(lp_reg)"
   ]
  },
  {
   "cell_type": "code",
   "execution_count": 11,
   "metadata": {},
   "outputs": [
    {
     "data": {
      "text/plain": [
       "{Param(parent='LogisticRegression_43bda9c3e9b32eb32bd4', name='regParam', doc='regularization parameter (>= 0).'): 0.001,\n",
       " Param(parent='LogisticRegression_43bda9c3e9b32eb32bd4', name='elasticNetParam', doc='the ElasticNet mixing parameter, in range [0, 1]. For alpha = 0, the penalty is an L2 penalty. For alpha = 1, it is an L1 penalty.'): 0.0}"
      ]
     },
     "execution_count": 11,
     "metadata": {},
     "output_type": "execute_result"
    }
   ],
   "source": [
    "lr_sample_reg_model.getEstimatorParamMaps()[ np.argmax(lr_sample_reg_model.avgMetrics) ]"
   ]
  },
  {
   "cell_type": "code",
   "execution_count": null,
   "metadata": {},
   "outputs": [],
   "source": [
    "#lr_sample_reg_model.save('gs://w261_desa2/notebooks/models/cvModel')"
   ]
  },
  {
   "cell_type": "markdown",
   "metadata": {},
   "source": [
    "##### RESULT of HT using sample data: accuracy = 0.74 with $\\lambda$ = 0.001 and $\\alpha$ = 0.0."
   ]
  },
  {
   "cell_type": "markdown",
   "metadata": {},
   "source": [
    "### Read full training and test data and apply Logistic Regression with Tuned Hyperparameters chosen above."
   ]
  },
  {
   "cell_type": "code",
   "execution_count": 13,
   "metadata": {},
   "outputs": [],
   "source": [
    "train = spark.read.parquet('gs://w261_desa2/notebooks/data/trainProcessed.parquet')\n",
    "test = spark.read.parquet('gs://w261_desa2/notebooks/data/testProcessed.parquet')"
   ]
  },
  {
   "cell_type": "code",
   "execution_count": 14,
   "metadata": {},
   "outputs": [
    {
     "data": {
      "text/plain": [
       "Row(label=0.0, features=SparseVector(806981, {156: 1.0, 12535: 1.0, 12753: 1.0, 19354: 1.0, 35037: 1.0, 133078: 1.0, 133481: 1.0, 136576: 1.0, 212102: 1.0, 313588: 1.0, 411679: 1.0, 411685: 1.0, 411703: 1.0, 411723: 1.0, 414082: 1.0, 512854: 1.0, 520086: 1.0, 521530: 1.0, 615070: 1.0, 706347: 1.0, 707394: 1.0}), weightCol=0.25621744990348816)"
      ]
     },
     "execution_count": 14,
     "metadata": {},
     "output_type": "execute_result"
    }
   ],
   "source": [
    "train.head()"
   ]
  },
  {
   "cell_type": "code",
   "execution_count": 15,
   "metadata": {},
   "outputs": [
    {
     "data": {
      "text/plain": [
       "Row(label=0.0, features=SparseVector(806981, {90: 1.0, 12535: 1.0, 12645: 1.0, 19396: 1.0, 114451: 1.0, 133077: 1.0, 133469: 1.0, 136576: 1.0, 211551: 1.0, 238784: 1.0, 350583: 1.0, 411679: 1.0, 411685: 1.0, 411697: 1.0, 411972: 1.0, 428999: 1.0, 512762: 1.0, 520084: 1.0, 521530: 1.0, 615070: 1.0, 706348: 1.0, 710127: 1.0}))"
      ]
     },
     "execution_count": 15,
     "metadata": {},
     "output_type": "execute_result"
    }
   ],
   "source": [
    "test.head()"
   ]
  },
  {
   "cell_type": "code",
   "execution_count": 225,
   "metadata": {},
   "outputs": [],
   "source": [
    "train.columns"
   ]
  },
  {
   "cell_type": "code",
   "execution_count": 17,
   "metadata": {},
   "outputs": [
    {
     "data": {
      "text/plain": [
       "41234939"
      ]
     },
     "execution_count": 17,
     "metadata": {},
     "output_type": "execute_result"
    }
   ],
   "source": [
    "train.distinct().count()"
   ]
  },
  {
   "cell_type": "code",
   "execution_count": 16,
   "metadata": {},
   "outputs": [
    {
     "data": {
      "text/plain": [
       "4587391"
      ]
     },
     "execution_count": 16,
     "metadata": {},
     "output_type": "execute_result"
    }
   ],
   "source": [
    "test.distinct().count()"
   ]
  },
  {
   "cell_type": "code",
   "execution_count": 229,
   "metadata": {},
   "outputs": [
    {
     "data": {
      "text/plain": [
       "\"lr = LogisticRegression(featuresCol = 'features', labelCol = 'label', maxIter=40)\\nlr_model = lr.fit(train)\\ntrainingSummary = lr_model.summary\\n\\nroc = trainingSummary.roc.toPandas()\\nplt.plot(roc['FPR'],roc['TPR'])\\nplt.ylabel('False Positive Rate')\\nplt.xlabel('True Positive Rate')\\nplt.title('ROC Curve')\\nplt.show()\\nprint('Training set ROC: ' + str(trainingSummary.areaUnderROC))\\n\""
      ]
     },
     "execution_count": 229,
     "metadata": {},
     "output_type": "execute_result"
    }
   ],
   "source": [
    "# Non-CV version\n",
    "\n",
    "lr = LogisticRegression(featuresCol = 'features', labelCol = 'label', maxIter=40)\n",
    "lr_model = lr.fit(train)\n",
    "trainingSummary = lr_model.summary\n",
    "\n",
    "roc = trainingSummary.roc.toPandas()\n",
    "plt.plot(roc['FPR'],roc['TPR'])\n",
    "plt.ylabel('False Positive Rate')\n",
    "plt.xlabel('True Positive Rate')\n",
    "plt.title('ROC Curve')\n",
    "plt.show()\n",
    "print('Training set ROC: ' + str(trainingSummary.areaUnderROC))"
   ]
  },
  {
   "cell_type": "code",
   "execution_count": 230,
   "metadata": {},
   "outputs": [],
   "source": [
    "objectiveHistory = trainingSummary.objectiveHistory\n",
    "plt.plot(objectiveHistory)"
   ]
  },
  {
   "cell_type": "code",
   "execution_count": 231,
   "metadata": {},
   "outputs": [],
   "source": [
    "objectiveHistory"
   ]
  },
  {
   "cell_type": "code",
   "execution_count": null,
   "metadata": {},
   "outputs": [],
   "source": [
    "# Non-CV run\n",
    "\n",
    "predictions_lr = lr_model.transform(test)\n",
    "evaluator = BinaryClassificationEvaluator()\n",
    "print(\"Test_SET (Area Under ROC): \" + str(evaluator.evaluate(predictions_lr, {evaluator.metricName: \"areaUnderROC\"})))"
   ]
  },
  {
   "cell_type": "code",
   "execution_count": null,
   "metadata": {},
   "outputs": [],
   "source": [
    "lp_full = predictions_lr.select( \"label\", \"prediction\")\n",
    "metricsCalc(lp_full)"
   ]
  },
  {
   "cell_type": "markdown",
   "metadata": {},
   "source": [
    "Run below with $\\lambda$ = 0.001 and $\\alpha$ = 0.0, based on the hyperparameter tuning above (unweighted) done on the sample data.  "
   ]
  },
  {
   "cell_type": "code",
   "execution_count": 18,
   "metadata": {},
   "outputs": [
    {
     "name": "stdout",
     "output_type": "stream",
     "text": [
      "+-----+----------+--------------------+\n",
      "|label|prediction|         probability|\n",
      "+-----+----------+--------------------+\n",
      "|  0.0|       0.0|[0.90175615546890...|\n",
      "|  0.0|       0.0|[0.74411407594441...|\n",
      "|  0.0|       0.0|[0.97631520901880...|\n",
      "|  0.0|       0.0|[0.97374281970219...|\n",
      "|  0.0|       1.0|[0.40851486911468...|\n",
      "|  0.0|       0.0|[0.71834811786216...|\n",
      "|  0.0|       0.0|[0.92212408812388...|\n",
      "|  0.0|       0.0|[0.95423178577135...|\n",
      "|  0.0|       0.0|[0.94699554388450...|\n",
      "|  0.0|       0.0|[0.68850688970982...|\n",
      "+-----+----------+--------------------+\n",
      "only showing top 10 rows\n",
      "\n"
     ]
    }
   ],
   "source": [
    "# Logisitic Regression with Regularization and Cross Validation for Hyperparameter Tuning\n",
    "\n",
    "from pyspark.ml.tuning import CrossValidator, ParamGridBuilder \n",
    "\n",
    "lr_reg = LogisticRegression(featuresCol = 'features', labelCol = 'label', maxIter=30)\n",
    "\n",
    "paramGrid_lr = ParamGridBuilder() \\\n",
    "    .addGrid(lr_reg.regParam, [0.001]) \\\n",
    "    .addGrid(lr_reg.elasticNetParam, [0.0]) \\\n",
    "    .build()\n",
    "\n",
    "crossval_lr = CrossValidator(estimator=lr_reg,\n",
    "                             estimatorParamMaps=paramGrid_lr,\n",
    "                             evaluator=BinaryClassificationEvaluator(),\n",
    "                             numFolds=5)\n",
    "\n",
    "#fit model to training data\n",
    "lr_reg_model = crossval_lr.fit(train)\n",
    "\n",
    "#Transform test data\n",
    "lr_reg_result = lr_reg_model.transform(test)\n",
    "\n",
    "#view id, label, prediction and probability from result of modeling\n",
    "lr_reg_result.select('label', 'prediction', 'probability').show(10)\n"
   ]
  },
  {
   "cell_type": "code",
   "execution_count": 19,
   "metadata": {},
   "outputs": [
    {
     "data": {
      "text/plain": [
       "{Param(parent='LogisticRegression_4d698991557597982245', name='regParam', doc='regularization parameter (>= 0).'): 0.001,\n",
       " Param(parent='LogisticRegression_4d698991557597982245', name='elasticNetParam', doc='the ElasticNet mixing parameter, in range [0, 1]. For alpha = 0, the penalty is an L2 penalty. For alpha = 1, it is an L1 penalty.'): 0.0}"
      ]
     },
     "execution_count": 19,
     "metadata": {},
     "output_type": "execute_result"
    }
   ],
   "source": [
    "lr_reg_model.getEstimatorParamMaps()[ np.argmax(lr_reg_model.avgMetrics) ]"
   ]
  },
  {
   "cell_type": "code",
   "execution_count": 39,
   "metadata": {},
   "outputs": [],
   "source": [
    "#print('intercept:', lr_reg_model.bestModel.intercept)\n",
    "#print('coefficients:', lr_reg_model.bestModel.coefficients)"
   ]
  },
  {
   "cell_type": "code",
   "execution_count": 21,
   "metadata": {},
   "outputs": [
    {
     "name": "stdout",
     "output_type": "stream",
     "text": [
      "Number of records: 4587917\n",
      "trueP\t\t429346\n",
      "trueN\t\t3160106\n",
      "falseP\t\t252035\n",
      "falseN\t\t746430\n",
      "accuracy\t0.7823707360006731\n",
      "precision\t0.63011149415672\n",
      "recall\t\t0.365159690281142\n",
      "f1\t\t0.4623690942661283\n"
     ]
    }
   ],
   "source": [
    "lp_reg = lr_reg_result.select( \"label\", \"prediction\")\n",
    "metricsCalc(lp_reg)"
   ]
  },
  {
   "cell_type": "code",
   "execution_count": 23,
   "metadata": {},
   "outputs": [],
   "source": [
    "lr_reg_model.save('gs://w261_desa2/notebooks/models/regFullModel_Steve')"
   ]
  },
  {
   "cell_type": "markdown",
   "metadata": {},
   "source": [
    "##### RESULT using optimal hyperparameters and full data: accuracy = 0.78237 with $\\lambda$ = 0.001 and $\\alpha$ = 0.0."
   ]
  },
  {
   "cell_type": "code",
   "execution_count": null,
   "metadata": {},
   "outputs": [],
   "source": []
  }
 ],
 "metadata": {
  "kernelspec": {
   "display_name": "Python 3",
   "language": "python",
   "name": "python3"
  },
  "language_info": {
   "codemirror_mode": {
    "name": "ipython",
    "version": 3
   },
   "file_extension": ".py",
   "mimetype": "text/x-python",
   "name": "python",
   "nbconvert_exporter": "python",
   "pygments_lexer": "ipython3",
   "version": "3.6.6"
  }
 },
 "nbformat": 4,
 "nbformat_minor": 2
}
