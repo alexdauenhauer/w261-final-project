{
 "cells": [
  {
   "cell_type": "markdown",
   "metadata": {},
   "source": [
    "# Final Project - Pre-Processing"
   ]
  },
  {
   "cell_type": "code",
   "execution_count": 1,
   "metadata": {},
   "outputs": [],
   "source": [
    "import re\n",
    "import ast\n",
    "import time\n",
    "import numpy as np\n",
    "import pandas as pd\n",
    "import matplotlib.pyplot as plt\n",
    "import pyspark.sql.functions as F\n",
    "from pyspark.sql import types, Row, Column\n",
    "from pyspark.ml.feature import OneHotEncoderEstimator, StringIndexer, VectorAssembler"
   ]
  },
  {
   "cell_type": "code",
   "execution_count": 2,
   "metadata": {},
   "outputs": [],
   "source": [
    "# start Spark Session\n",
    "from pyspark.sql import SparkSession\n",
    "app_name = \"finalProject\"\n",
    "master = \"local[*]\"\n",
    "spark = SparkSession\\\n",
    "        .builder\\\n",
    "        .appName(app_name)\\\n",
    "        .master(master)\\\n",
    "        .getOrCreate()\n",
    "sc = spark.sparkContext"
   ]
  },
  {
   "cell_type": "code",
   "execution_count": 3,
   "metadata": {},
   "outputs": [],
   "source": [
    "# read in raw text set and write to parquet\n",
    "# train = spark.read.option('header', 'false').csv('data/train.txt', sep='\\t')\n",
    "# train.write.format('parquet').save('data/train.parquet')"
   ]
  },
  {
   "cell_type": "code",
   "execution_count": 36,
   "metadata": {},
   "outputs": [],
   "source": [
    "# read in parqet\n",
    "train = spark.read.parquet('data/train.parquet')"
   ]
  },
  {
   "cell_type": "code",
   "execution_count": 37,
   "metadata": {},
   "outputs": [
    {
     "data": {
      "text/plain": [
       "['label',\n",
       " 'n0',\n",
       " 'n1',\n",
       " 'n2',\n",
       " 'n3',\n",
       " 'n4',\n",
       " 'n5',\n",
       " 'n6',\n",
       " 'n7',\n",
       " 'n8',\n",
       " 'n9',\n",
       " 'n10',\n",
       " 'n11',\n",
       " 'n12',\n",
       " 'c0',\n",
       " 'c1',\n",
       " 'c2',\n",
       " 'c3',\n",
       " 'c4',\n",
       " 'c5',\n",
       " 'c6',\n",
       " 'c7',\n",
       " 'c8',\n",
       " 'c9',\n",
       " 'c10',\n",
       " 'c11',\n",
       " 'c12',\n",
       " 'c13',\n",
       " 'c14',\n",
       " 'c15',\n",
       " 'c16',\n",
       " 'c17',\n",
       " 'c18',\n",
       " 'c19',\n",
       " 'c20',\n",
       " 'c21',\n",
       " 'c22',\n",
       " 'c23',\n",
       " 'c24',\n",
       " 'c25']"
      ]
     },
     "execution_count": 37,
     "metadata": {},
     "output_type": "execute_result"
    }
   ],
   "source": [
    "# rename label column\n",
    "train = train.withColumnRenamed('_c0', 'label')\n",
    "\n",
    "# remove underscores\n",
    "for c in train.columns[1:]:\n",
    "    train = train.withColumnRenamed(c, c.strip('_'))\n",
    "\n",
    "for i,c in enumerate(train.columns[1:14]):\n",
    "    newName = 'n' + str(i)\n",
    "    train = train.withColumnRenamed(c, newName)\n",
    "    \n",
    "for i,c in enumerate(train.columns[14:]):\n",
    "    newName = 'c' + str(i)\n",
    "    train = train.withColumnRenamed(c, newName)\n",
    "\n",
    "train.columns"
   ]
  },
  {
   "cell_type": "code",
   "execution_count": 38,
   "metadata": {},
   "outputs": [
    {
     "name": "stdout",
     "output_type": "stream",
     "text": [
      "root\n",
      " |-- label: float (nullable = true)\n",
      " |-- n0: float (nullable = true)\n",
      " |-- n1: float (nullable = true)\n",
      " |-- n2: float (nullable = true)\n",
      " |-- n3: float (nullable = true)\n",
      " |-- n4: float (nullable = true)\n",
      " |-- n5: float (nullable = true)\n",
      " |-- n6: float (nullable = true)\n",
      " |-- n7: float (nullable = true)\n",
      " |-- n8: float (nullable = true)\n",
      " |-- n9: float (nullable = true)\n",
      " |-- n10: float (nullable = true)\n",
      " |-- n11: float (nullable = true)\n",
      " |-- n12: float (nullable = true)\n",
      " |-- c0: string (nullable = true)\n",
      " |-- c1: string (nullable = true)\n",
      " |-- c2: string (nullable = true)\n",
      " |-- c3: string (nullable = true)\n",
      " |-- c4: string (nullable = true)\n",
      " |-- c5: string (nullable = true)\n",
      " |-- c6: string (nullable = true)\n",
      " |-- c7: string (nullable = true)\n",
      " |-- c8: string (nullable = true)\n",
      " |-- c9: string (nullable = true)\n",
      " |-- c10: string (nullable = true)\n",
      " |-- c11: string (nullable = true)\n",
      " |-- c12: string (nullable = true)\n",
      " |-- c13: string (nullable = true)\n",
      " |-- c14: string (nullable = true)\n",
      " |-- c15: string (nullable = true)\n",
      " |-- c16: string (nullable = true)\n",
      " |-- c17: string (nullable = true)\n",
      " |-- c18: string (nullable = true)\n",
      " |-- c19: string (nullable = true)\n",
      " |-- c20: string (nullable = true)\n",
      " |-- c21: string (nullable = true)\n",
      " |-- c22: string (nullable = true)\n",
      " |-- c23: string (nullable = true)\n",
      " |-- c24: string (nullable = true)\n",
      " |-- c25: string (nullable = true)\n",
      "\n"
     ]
    }
   ],
   "source": [
    "# cast numerical is float\n",
    "for c in train.columns[:14]:\n",
    "    train = train.withColumn(c, train[c].cast('float'))\n",
    "train.printSchema()"
   ]
  },
  {
   "cell_type": "code",
   "execution_count": 54,
   "metadata": {},
   "outputs": [
    {
     "data": {
      "text/plain": [
       "45848"
      ]
     },
     "execution_count": 54,
     "metadata": {},
     "output_type": "execute_result"
    }
   ],
   "source": [
    "# grab a sample\n",
    "s = train.sample(False, 0.001)\n",
    "s.count()"
   ]
  },
  {
   "cell_type": "code",
   "execution_count": 55,
   "metadata": {},
   "outputs": [
    {
     "data": {
      "text/plain": [
       "Row(label=0.0, n0=None, n1=12.0, n2=2.0, n3=7.0, n4=65252.0, n5=None, n6=None, n7=7.0, n8=None, n9=None, n10=None, n11=None, n12=7.0, c0='05db9164', c1='207b2d81', c2='80b25c0d', c3='8fa3275d', c4='25c83c98', c5='7e0ccccf', c6='800354a7', c7='1f89b562', c8='7cc72ec2', c9='668f09d5', c10='c851b930', c11='8e15c24e', c12='a98bc52f', c13='b28479f6', c14='3c767806', c15='8e2fc5b4', c16='07c540c4', c17='395856b0', c18='21ddcdc9', c19='b1252a9d', c20='09192c91', c21=None, c22='3a171ecb', c23='abd6caea', c24='001f3601', c25='aae032ad')"
      ]
     },
     "execution_count": 55,
     "metadata": {},
     "output_type": "execute_result"
    }
   ],
   "source": [
    "s.head()"
   ]
  },
  {
   "cell_type": "markdown",
   "metadata": {},
   "source": [
    "# Train/Test Split"
   ]
  },
  {
   "cell_type": "code",
   "execution_count": 56,
   "metadata": {},
   "outputs": [],
   "source": [
    "trainSample, testSample = s.randomSplit([1.0, 9.0], 666)\n",
    "trainSample = trainSample.cache()\n",
    "testSample = testSample.cache()"
   ]
  },
  {
   "cell_type": "code",
   "execution_count": 57,
   "metadata": {},
   "outputs": [
    {
     "data": {
      "text/plain": [
       "(4678, 41170)"
      ]
     },
     "execution_count": 57,
     "metadata": {},
     "output_type": "execute_result"
    }
   ],
   "source": [
    "trainSample.count(), testSample.count()"
   ]
  },
  {
   "cell_type": "markdown",
   "metadata": {},
   "source": [
    "# Normalize numerical data"
   ]
  },
  {
   "cell_type": "code",
   "execution_count": 58,
   "metadata": {},
   "outputs": [
    {
     "name": "stdout",
     "output_type": "stream",
     "text": [
      "CPU times: user 20 ms, sys: 20 ms, total: 40 ms\n",
      "Wall time: 2.04 s\n"
     ]
    }
   ],
   "source": [
    "%%time\n",
    "stats = trainSample[trainSample.columns[1:14]].describe()\n",
    "maxes = np.array(stats[stats['summary'] == 'max'].collect())[0][1:]\n",
    "mins = np.array(stats[stats['summary'] == 'min'].collect())[0][1:]\n",
    "maxes = [float(m) for m in maxes]\n",
    "mins = [float(m) for m in mins]"
   ]
  },
  {
   "cell_type": "code",
   "execution_count": 59,
   "metadata": {},
   "outputs": [],
   "source": [
    "# normalize columns\n",
    "for i,c in enumerate(trainSample.columns[1:14]):\n",
    "    trainSample = trainSample.withColumn(c, (trainSample[c] - mins[i]) / (maxes[i] - mins[i]))"
   ]
  },
  {
   "cell_type": "code",
   "execution_count": 60,
   "metadata": {},
   "outputs": [
    {
     "data": {
      "text/plain": [
       "Row(n0=None, n1=0.0, n2=0.00047080979284369113, n3=0.012658227848101266, n4=0.0045070462648655095, n5=0.01849537615596101, n6=0.0014814814814814814, n7=0.03768844221105527, n8=0.014874371859296482, n9=None, n10=0.022727272727272728, n11=None, n12=0.005154639175257732)"
      ]
     },
     "execution_count": 60,
     "metadata": {},
     "output_type": "execute_result"
    }
   ],
   "source": [
    "trainSample.select(trainSample.columns[1:14]).head()"
   ]
  },
  {
   "cell_type": "code",
   "execution_count": 61,
   "metadata": {},
   "outputs": [],
   "source": [
    "# need to decide on proper NA handling later on, for now filling with 0\n",
    "trainSample = trainSample.na.fill(0, subset=trainSample.columns[1:14])"
   ]
  },
  {
   "cell_type": "code",
   "execution_count": 62,
   "metadata": {},
   "outputs": [
    {
     "data": {
      "text/plain": [
       "Row(n0=0.0, n1=0.0, n2=0.00047080979284369113, n3=0.012658227848101266, n4=0.0045070462648655095, n5=0.01849537615596101, n6=0.0014814814814814814, n7=0.03768844221105527, n8=0.014874371859296482, n9=0.0, n10=0.022727272727272728, n11=0.0, n12=0.005154639175257732)"
      ]
     },
     "execution_count": 62,
     "metadata": {},
     "output_type": "execute_result"
    }
   ],
   "source": [
    "trainSample.select(trainSample.columns[1:14]).head()"
   ]
  },
  {
   "cell_type": "markdown",
   "metadata": {},
   "source": [
    "# Categorical manipulation"
   ]
  },
  {
   "cell_type": "code",
   "execution_count": 63,
   "metadata": {},
   "outputs": [],
   "source": [
    "# counts = trainSample.select(trainSample.columns[14:]).summary('count')"
   ]
  },
  {
   "cell_type": "code",
   "execution_count": 64,
   "metadata": {},
   "outputs": [],
   "source": [
    "# c = trainSample.groupBy('c0').count()\n",
    "# c.collect()[0]\n",
    "# # type(c)\n",
    "# # c = c.orderBy(c.count.desc()).collect()"
   ]
  },
  {
   "cell_type": "code",
   "execution_count": 65,
   "metadata": {},
   "outputs": [],
   "source": [
    "# def findInfrequentValues(c, n=10):\n",
    "#     # c is the column that we are operating on\n",
    "#     # \n",
    "#     counts = trainSample.groupBy(c).count()\n",
    "#     infrequentValues = counts.filter(counts['count'] <= n)\n",
    "#     s = infrequentValues.agg(F.collect_set(c)).collect()[0][0]\n",
    "#     return s"
   ]
  },
  {
   "cell_type": "code",
   "execution_count": 66,
   "metadata": {},
   "outputs": [],
   "source": [
    "# names = replaceInfrequentValues('c0')\n",
    "# type(names)"
   ]
  },
  {
   "cell_type": "code",
   "execution_count": 67,
   "metadata": {},
   "outputs": [],
   "source": [
    "# df = trainSample.withColumn('c0', F.when(trainSample['c0'] == names[0], '999').otherwise(trainSample['c0']))"
   ]
  },
  {
   "cell_type": "code",
   "execution_count": 68,
   "metadata": {},
   "outputs": [],
   "source": [
    "# df.select(df['c0'] == names[0]).collect()"
   ]
  },
  {
   "cell_type": "code",
   "execution_count": 69,
   "metadata": {},
   "outputs": [],
   "source": [
    "# names[0]"
   ]
  },
  {
   "cell_type": "code",
   "execution_count": 70,
   "metadata": {},
   "outputs": [],
   "source": [
    "# int('0x' + names[0], 16)"
   ]
  },
  {
   "cell_type": "code",
   "execution_count": 71,
   "metadata": {},
   "outputs": [],
   "source": [
    "# convert hex values to integers and modulo them\n",
    "def hashValues(row):\n",
    "    if row != None:\n",
    "        return str(int('0x' + row, 16) % 10000)\n",
    "    else:\n",
    "        return str(row)"
   ]
  },
  {
   "cell_type": "code",
   "execution_count": 72,
   "metadata": {},
   "outputs": [],
   "source": [
    "udf_object = F.udf(hashValues)"
   ]
  },
  {
   "cell_type": "code",
   "execution_count": 73,
   "metadata": {},
   "outputs": [
    {
     "data": {
      "text/plain": [
       "Row(c0='05db9164')"
      ]
     },
     "execution_count": 73,
     "metadata": {},
     "output_type": "execute_result"
    }
   ],
   "source": [
    "trainSample.select('c0').collect()[0]"
   ]
  },
  {
   "cell_type": "code",
   "execution_count": 74,
   "metadata": {},
   "outputs": [
    {
     "data": {
      "text/plain": [
       "Row(c0='5684')"
      ]
     },
     "execution_count": 74,
     "metadata": {},
     "output_type": "execute_result"
    }
   ],
   "source": [
    "trainSample.withColumn('c0', udf_object(trainSample['c0'])).select('c0').collect()[0]"
   ]
  },
  {
   "cell_type": "code",
   "execution_count": 75,
   "metadata": {},
   "outputs": [],
   "source": [
    "for c in trainSample.columns[14:]:\n",
    "#     newCol = 'new_' + c\n",
    "    trainSample = trainSample.withColumn(c, udf_object(trainSample[c]))\n",
    "trainSample = trainSample.cache()"
   ]
  },
  {
   "cell_type": "code",
   "execution_count": 76,
   "metadata": {},
   "outputs": [
    {
     "data": {
      "text/plain": [
       "Row(label=0.0, n0=0.0, n1=0.0, n2=0.00047080979284369113, n3=0.012658227848101266, n4=0.0045070462648655095, n5=0.01849537615596101, n6=0.0014814814814814814, n7=0.03768844221105527, n8=0.014874371859296482, n9=0.0, n10=0.022727272727272728, n11=0.0, n12=0.005154639175257732, c0='5684', c1='6336', c2='4612', c3='2489', c4='9704', c5='8079', c6='5781', c7='2565', c8='6944', c9='763', c10='4000', c11='4117', c12='9058', c13='2527', c14='5475', c15='460', c16='7684', c17='7627', c18='None', c19='None', c20='5567', c21='None', c22='8905', c23='9305', c24='None', c25='None')"
      ]
     },
     "execution_count": 76,
     "metadata": {},
     "output_type": "execute_result"
    }
   ],
   "source": [
    "trainSample.head()"
   ]
  },
  {
   "cell_type": "code",
   "execution_count": 77,
   "metadata": {},
   "outputs": [
    {
     "name": "stdout",
     "output_type": "stream",
     "text": [
      "CPU times: user 470 ms, sys: 280 ms, total: 750 ms\n",
      "Wall time: 12.1 s\n"
     ]
    }
   ],
   "source": [
    "%%time\n",
    "for c in trainSample.columns[14:]:\n",
    "    newCol = c + '_idx'\n",
    "    indexer = StringIndexer(inputCol=c, outputCol=newCol, handleInvalid='keep')\n",
    "    trainSample = indexer.fit(trainSample).transform(trainSample)\n",
    "trainSample = trainSample.cache()"
   ]
  },
  {
   "cell_type": "code",
   "execution_count": 78,
   "metadata": {},
   "outputs": [
    {
     "name": "stdout",
     "output_type": "stream",
     "text": [
      "+------+------+------+\n",
      "|c0_idx|c1_idx|c2_idx|\n",
      "+------+------+------+\n",
      "|   0.0|  13.0|   8.0|\n",
      "|   1.0|  37.0|   1.0|\n",
      "|   1.0|   0.0|1532.0|\n",
      "|  13.0|   2.0| 203.0|\n",
      "|   0.0|   4.0| 919.0|\n",
      "|   0.0|  11.0|   2.0|\n",
      "|   0.0|  40.0| 911.0|\n",
      "|   2.0| 126.0|2269.0|\n",
      "|  84.0|  21.0|1614.0|\n",
      "|   2.0|  26.0|1829.0|\n",
      "|   0.0|  21.0|2381.0|\n",
      "|   0.0|   0.0| 151.0|\n",
      "|   1.0|   0.0| 462.0|\n",
      "|   3.0|   6.0|   4.0|\n",
      "|   0.0|  14.0|  81.0|\n",
      "|   0.0|  22.0|  14.0|\n",
      "|   2.0|   9.0|  25.0|\n",
      "|   0.0|  23.0|   1.0|\n",
      "|   0.0|   4.0| 902.0|\n",
      "|   1.0|   1.0|  72.0|\n",
      "+------+------+------+\n",
      "only showing top 20 rows\n",
      "\n"
     ]
    }
   ],
   "source": [
    "trainSample.select(trainSample.columns[40:43]).show()"
   ]
  },
  {
   "cell_type": "code",
   "execution_count": 79,
   "metadata": {},
   "outputs": [],
   "source": [
    "cols = trainSample.columns[40:]\n",
    "outputCols = [c.strip('_idx') + '_OHE' for c in cols]\n",
    "encoder = OneHotEncoderEstimator(inputCols=cols, outputCols=outputCols)\n",
    "trainSample = encoder.fit(trainSample).transform(trainSample).cache()"
   ]
  },
  {
   "cell_type": "code",
   "execution_count": 80,
   "metadata": {},
   "outputs": [
    {
     "data": {
      "text/plain": [
       "Row(c0_idx=0.0, c1_idx=13.0, c2_idx=8.0, c3_idx=11.0, c4_idx=0.0, c5_idx=0.0, c6_idx=86.0, c7_idx=1.0, c8_idx=0.0, c9_idx=94.0, c10_idx=33.0, c11_idx=12.0, c12_idx=35.0, c13_idx=1.0, c14_idx=37.0, c15_idx=11.0, c16_idx=1.0, c17_idx=20.0, c18_idx=0.0, c19_idx=0.0, c20_idx=10.0, c21_idx=0.0, c22_idx=2.0, c23_idx=8.0, c24_idx=0.0, c25_idx=0.0, c19_OHE=SparseVector(4, {0: 1.0}), c6_OHE=SparseVector(1903, {86: 1.0}), c16_OHE=SparseVector(9, {1: 1.0}), c10_OHE=SparseVector(1347, {33: 1.0}), c14_OHE=SparseVector(1329, {37: 1.0}), c21_OHE=SparseVector(8, {0: 1.0}), c20_OHE=SparseVector(2465, {10: 1.0}), c4_OHE=SparseVector(49, {0: 1.0}), c12_OHE=SparseVector(1167, {35: 1.0}), c25_OHE=SparseVector(1116, {0: 1.0}), c5_OHE=SparseVector(8, {0: 1.0}), c15_OHE=SparseVector(2344, {11: 1.0}), c24_OHE=SparseVector(35, {0: 1.0}), c2_OHE=SparseVector(2646, {8: 1.0}), c8_OHE=SparseVector(3, {0: 1.0}), c22_OHE=SparseVector(13, {2: 1.0}), c13_OHE=SparseVector(22, {1: 1.0}), c1_OHE=SparseVector(330, {13: 1.0}), c11_OHE=SparseVector(2502, {12: 1.0}), c17_OHE=SparseVector(841, {20: 1.0}), c18_OHE=SparseVector(340, {0: 1.0}), c0_OHE=SparseVector(116, {0: 1.0}), c23_OHE=SparseVector(1477, {8: 1.0}), c9_OHE=SparseVector(1760, {94: 1.0}), c7_OHE=SparseVector(75, {1: 1.0}), c3_OHE=SparseVector(2086, {11: 1.0}))"
      ]
     },
     "execution_count": 80,
     "metadata": {},
     "output_type": "execute_result"
    }
   ],
   "source": [
    "trainSample.select(trainSample.columns[40:]).head()"
   ]
  },
  {
   "cell_type": "code",
   "execution_count": 81,
   "metadata": {},
   "outputs": [],
   "source": [
    "cols = [c for c in trainSample.columns if 'n' in c or 'OHE' in c]"
   ]
  },
  {
   "cell_type": "code",
   "execution_count": 82,
   "metadata": {},
   "outputs": [],
   "source": [
    "v = VectorAssembler(inputCols=cols, outputCol=\"features\")\n",
    "trainSample = v.transform(trainSample)"
   ]
  },
  {
   "cell_type": "code",
   "execution_count": 83,
   "metadata": {},
   "outputs": [
    {
     "data": {
      "text/plain": [
       "'features'"
      ]
     },
     "execution_count": 83,
     "metadata": {},
     "output_type": "execute_result"
    }
   ],
   "source": [
    "trainSample.columns[-1]"
   ]
  },
  {
   "cell_type": "code",
   "execution_count": 85,
   "metadata": {},
   "outputs": [
    {
     "data": {
      "text/plain": [
       "[Row(features=SparseVector(24008, {2: 0.0005, 3: 0.0127, 4: 0.0045, 5: 0.0185, 6: 0.0015, 7: 0.0377, 8: 0.0149, 10: 0.0227, 12: 0.0052, 13: 1.0, 103: 1.0, 1921: 1.0, 1962: 1.0, 3313: 1.0, 4605: 1.0, 4623: 1.0, 7078: 1.0, 7162: 1.0, 8294: 1.0, 9410: 1.0, 9429: 1.0, 11762: 1.0, 11805: 1.0, 14443: 1.0, 14448: 1.0, 14460: 1.0, 14494: 1.0, 14823: 1.0, 17333: 1.0, 18154: 1.0, 18494: 1.0, 18618: 1.0, 20181: 1.0, 21848: 1.0, 21933: 1.0})),\n",
       " Row(features=SparseVector(24008, {1: 0.0003, 4: 0.0024, 7: 0.0528, 8: 0.0072, 13: 1.0, 657: 1.0, 1925: 1.0, 3103: 1.0, 3827: 1.0, 4606: 1.0, 4614: 1.0, 7078: 1.0, 7613: 1.0, 8294: 1.0, 9410: 1.0, 9419: 1.0, 11762: 1.0, 11798: 1.0, 14443: 1.0, 14450: 1.0, 14460: 1.0, 14518: 1.0, 14812: 1.0, 17546: 1.0, 18154: 1.0, 18495: 1.0, 18612: 1.0, 20087: 1.0, 21847: 1.0, 21922: 1.0})),\n",
       " Row(features=SparseVector(24008, {1: 0.0003, 4: 0.0092, 6: 0.0133, 8: 0.0665, 10: 0.0341, 13: 1.0, 906: 1.0, 1924: 1.0, 3025: 1.0, 3925: 1.0, 4605: 1.0, 6041: 1.0, 7078: 1.0, 7476: 1.0, 8294: 1.0, 9412: 1.0, 10939: 1.0, 11762: 1.0, 13329: 1.0, 14443: 1.0, 14447: 1.0, 14459: 1.0, 14481: 1.0, 15441: 1.0, 17654: 1.0, 18154: 1.0, 18495: 1.0, 18987: 1.0, 20087: 1.0, 21847: 1.0, 22127: 1.0})),\n",
       " Row(features=SparseVector(24008, {1: 0.0003, 2: 0.0005, 3: 0.0253, 4: 0.0303, 5: 0.6121, 8: 0.1556, 12: 0.0103, 15: 1.0, 24: 1.0, 1920: 1.0, 1944: 1.0, 3311: 1.0, 4605: 1.0, 4970: 1.0, 7079: 1.0, 7138: 1.0, 8295: 1.0, 9410: 1.0, 9599: 1.0, 11766: 1.0, 12000: 1.0, 14443: 1.0, 14448: 1.0, 14468: 1.0, 14483: 1.0, 14988: 1.0, 17313: 1.0, 18344: 1.0, 18507: 1.0, 18610: 1.0, 20087: 1.0, 21847: 1.0, 22355: 1.0})),\n",
       " Row(features=SparseVector(24008, {1: 0.0003, 2: 0.0024, 4: 0.0188, 5: 0.0077, 6: 0.0007, 8: 0.0026, 10: 0.0114, 14: 1.0, 1695: 1.0, 1927: 1.0, 2611: 1.0, 3278: 1.0, 4605: 1.0, 5343: 1.0, 7079: 1.0, 7707: 1.0, 8710: 1.0, 9413: 1.0, 9837: 1.0, 11765: 1.0, 12716: 1.0, 14443: 1.0, 14446: 1.0, 14461: 1.0, 14485: 1.0, 16999: 1.0, 17314: 1.0, 18231: 1.0, 18494: 1.0, 19495: 1.0, 20395: 1.0, 21847: 1.0, 22113: 1.0}))]"
      ]
     },
     "execution_count": 85,
     "metadata": {},
     "output_type": "execute_result"
    }
   ],
   "source": [
    "trainSample.select('features').head(5)"
   ]
  },
  {
   "cell_type": "code",
   "execution_count": 86,
   "metadata": {},
   "outputs": [],
   "source": [
    "trainSample.write.format('parquet').save('data/trainSample.parquet')"
   ]
  },
  {
   "cell_type": "code",
   "execution_count": null,
   "metadata": {},
   "outputs": [],
   "source": []
  }
 ],
 "metadata": {
  "kernelspec": {
   "display_name": "Python 3",
   "language": "python",
   "name": "python3"
  },
  "language_info": {
   "codemirror_mode": {
    "name": "ipython",
    "version": 3
   },
   "file_extension": ".py",
   "mimetype": "text/x-python",
   "name": "python",
   "nbconvert_exporter": "python",
   "pygments_lexer": "ipython3",
   "version": "3.6.6"
  }
 },
 "nbformat": 4,
 "nbformat_minor": 2
}
