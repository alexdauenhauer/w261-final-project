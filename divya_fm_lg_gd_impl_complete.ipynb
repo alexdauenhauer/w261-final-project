{
 "cells": [
  {
   "cell_type": "code",
   "execution_count": 1,
   "metadata": {},
   "outputs": [],
   "source": [
    "import itertools\n",
    "import math\n",
    "import time\n",
    "import numpy as np\n",
    "import matplotlib.pyplot as plt\n",
    "from pyspark.sql import Row\n",
    "from pyspark.sql import SparkSession\n",
    "from pyspark.ml.linalg import SparseVector\n",
    "from pyspark.mllib.linalg import DenseVector\n",
    "from pyspark.ml.classification import LogisticRegression"
   ]
  },
  {
   "cell_type": "code",
   "execution_count": 2,
   "metadata": {},
   "outputs": [],
   "source": [
    "# create spark session\n",
    "app_name = \"final_notebook\"\n",
    "master = \"local[*]\"\n",
    "spark = SparkSession\\\n",
    "        .builder\\\n",
    "        .appName(app_name)\\\n",
    "        .master(master)\\\n",
    "        .getOrCreate()\n",
    "sc = spark.sparkContext"
   ]
  },
  {
   "cell_type": "code",
   "execution_count": 2,
   "metadata": {},
   "outputs": [
    {
     "data": {
      "text/html": [
       "\n",
       "            <div>\n",
       "                <p><b>SparkSession - hive</b></p>\n",
       "                \n",
       "        <div>\n",
       "            <p><b>SparkContext</b></p>\n",
       "\n",
       "            <p><a href=\"http://desa-cluster-dg-m.us-west1-b.c.w261-finalproject-236917.internal:4040\">Spark UI</a></p>\n",
       "\n",
       "            <dl>\n",
       "              <dt>Version</dt>\n",
       "                <dd><code>v2.3.1</code></dd>\n",
       "              <dt>Master</dt>\n",
       "                <dd><code>yarn</code></dd>\n",
       "              <dt>AppName</dt>\n",
       "                <dd><code>pyspark-shell</code></dd>\n",
       "            </dl>\n",
       "        </div>\n",
       "        \n",
       "            </div>\n",
       "        "
      ],
      "text/plain": [
       "<pyspark.sql.session.SparkSession at 0x7fd45c160e80>"
      ]
     },
     "execution_count": 2,
     "metadata": {},
     "output_type": "execute_result"
    }
   ],
   "source": [
    "spark"
   ]
  },
  {
   "cell_type": "code",
   "execution_count": 3,
   "metadata": {},
   "outputs": [],
   "source": [
    "sc = spark.sparkContext"
   ]
  },
  {
   "cell_type": "markdown",
   "metadata": {},
   "source": [
    "## Factorization machines using gradient descent"
   ]
  },
  {
   "cell_type": "markdown",
   "metadata": {},
   "source": [
    "#### The home grown factorization machine model was run on a small toy training set of around 4000 records and tested on a dataset of around 400 records."
   ]
  },
  {
   "cell_type": "code",
   "execution_count": 3,
   "metadata": {},
   "outputs": [],
   "source": [
    "# initialize learning rate, number of latent factors, mean, standard deviation\n",
    "learning_rate = 0.01\n",
    "num_latent_factors = 100\n",
    "# used for initializing the factorized parameters for interactions\n",
    "mean = 0\n",
    "# used for initializing the factorized parameters for interactions\n",
    "std = 0.01"
   ]
  },
  {
   "cell_type": "code",
   "execution_count": 4,
   "metadata": {},
   "outputs": [],
   "source": [
    "# initializing the regularization parameters\n",
    "# techincally these should come from cross validation\n",
    "reg_bias = 0.01\n",
    "reg_independent = 0.01\n",
    "reg_interaction = np.full(num_latent_factors, 0.01)"
   ]
  },
  {
   "cell_type": "code",
   "execution_count": 5,
   "metadata": {},
   "outputs": [],
   "source": [
    "def prediction_calculation(features, w0, W, V):\n",
    "    \"\"\"Performs class prediction calculations for the given set of features and weights\"\"\"\n",
    "    # dot product of independent features and weights\n",
    "    # appending the bias term as well\n",
    "    independent_features = np.append([1.0], features)\n",
    "    independent_weights = np.append([w0], W)\n",
    "    \n",
    "    # get combinations of features for the interaction terms with degree 2\n",
    "    total_interaction = 0.0\n",
    "    for subset in itertools.combinations(enumerate(features),2):\n",
    "        index1 = int(subset[0][0])\n",
    "        index2 = int(subset[1][0])\n",
    "        feature1 = float(subset[0][1])\n",
    "        feature2 = float(subset[1][1])\n",
    "        # dot product of v parameters and features\n",
    "        total_interaction += np.dot(V[index1],V[index2]) * feature1 * feature2\n",
    "    product = np.dot(independent_features,independent_weights) + total_interaction\n",
    "    h_x = 1.0/(1.0+math.exp(-product))\n",
    "    return h_x"
   ]
  },
  {
   "cell_type": "code",
   "execution_count": 6,
   "metadata": {},
   "outputs": [],
   "source": [
    "def get_parameter_gradients(data, w0, W, V, num_features, num_latent_factors):\n",
    "    \"\"\"Yields gradients for all the model parameters\"\"\"\n",
    "    y = data['label']\n",
    "    features_vec = data['features']\n",
    "    features, W, V = get_params_features_for_vectors(features_vec, W, V)\n",
    "    h_x = prediction_calculation(features, w0, W, V)\n",
    "    # converting the features vector representation to array to get the entire representation\n",
    "    features_array = features_vec.toArray()\n",
    "    \n",
    "    # calculating w0 gradients\n",
    "    w0_gradient = h_x - y\n",
    "    yield ('w0', [w0_gradient])\n",
    "    \n",
    "    # calculating W gradients\n",
    "    W_gradient = w0_gradient*features_array\n",
    "    yield ('W', [W_gradient])\n",
    "    \n",
    "    # calculating V gradients\n",
    "    # calculating the sum part of the differenciation of interaction parameters(xl*sum(vj,f * xj))\n",
    "    sum_v_features = np.zeros((num_features,num_latent_factors))\n",
    "    # executing sum(vj,f * xj) where j!= l (for all j features except l) in the expression xl*sum(vj,f * xj)\n",
    "    for i, feature in enumerate(features_array):\n",
    "        # if the feature is zero no need to compute the sum, we will have a vector of zeros for it\n",
    "        if feature != 0:\n",
    "            # handle the first and last elements\n",
    "            if i == 0:\n",
    "                sum_v_features[i] = np.dot(features[i+1:],V[i+1:,:])\n",
    "                continue\n",
    "            if i == num_features-1:\n",
    "                sum_v_features[i] = np.dot(features[:i],V[:i,:])\n",
    "                continue\n",
    "            sum_v_features[i] = np.dot(np.concatenate((features[:i], features[i+1:])),np.concatenate((V[:i,:], V[i+1:,:])))\n",
    "    # reshape the feature vector to be able to multiple each feature with it's sum of (vj,f*xj) to compute the expression\n",
    "    # xl*sum(vj,f * xj) where j!= l (for all j features except l)\n",
    "    feature_reshape = np.reshape(features_array, (num_features, 1))\n",
    "    # now multiply to get the entire V at once\n",
    "    differenciation_interaction = np.multiply(feature_reshape,sum_v_features)\n",
    "    V_gradient = w0_gradient*differenciation_interaction\n",
    "    yield ('V', [V_gradient])"
   ]
  },
  {
   "cell_type": "code",
   "execution_count": 7,
   "metadata": {},
   "outputs": [],
   "source": [
    "def get_log_sigmoid(data, w0, W, V):\n",
    "    \"\"\"Calculate the log of the prediction, used for calculating the loss\"\"\"\n",
    "    y = data['label']\n",
    "    features, W, V = get_params_features_for_vectors(data['features'], W, V)\n",
    "    h_x = prediction_calculation(features, w0, W, V)\n",
    "    \n",
    "    if int(y) == 1:\n",
    "        yield -np.log(h_x)\n",
    "    else:\n",
    "        yield -np.log(1-h_x)"
   ]
  },
  {
   "cell_type": "code",
   "execution_count": 8,
   "metadata": {},
   "outputs": [],
   "source": [
    "def get_log_loss(data_rdd, w0, W, V):\n",
    "    \"\"\"Calculating the log loss\"\"\"\n",
    "    loss = data_rdd.flatMap(lambda data: get_log_sigmoid(data, w0, W, V))\\\n",
    "                   .mean()\n",
    "    \n",
    "    return loss"
   ]
  },
  {
   "cell_type": "code",
   "execution_count": 9,
   "metadata": {},
   "outputs": [],
   "source": [
    "def get_params_features_for_vectors(features, W, V):\n",
    "    \"\"\"Handle the SparseVectors, DenseVectors or arrays of parameters and features to return the actual values to be used in the gradient calculations\"\"\"\n",
    "    # unpacking the sparse vector to get the respective weights for the features and using just the values present\n",
    "    if type(features) == SparseVector:\n",
    "        W_vec = W[features.indices]\n",
    "        V_vec = V[features.indices]\n",
    "        features_vec = features.values\n",
    "    else:\n",
    "        W_vec = W\n",
    "        V_vec = V\n",
    "        features_vec = features\n",
    "\n",
    "    return features_vec, W_vec, V_vec"
   ]
  },
  {
   "cell_type": "code",
   "execution_count": 15,
   "metadata": {},
   "outputs": [],
   "source": [
    "def fm_gd(train_rdd, validation_rdd, learning_rate, num_latent_factors, mean, std, reg_bias, reg_independent, reg_interaction, num_steps):    \n",
    "    \"\"\"Factorization machine model using gradient descent\"\"\"\n",
    "    \n",
    "    num_features = train_rdd.take(1)[0]['features'].size \n",
    "    print('num_features:',num_features)\n",
    "    \n",
    "    # initialize the model parameters\n",
    "    w0 = 0.0\n",
    "    W = np.zeros(num_features)\n",
    "    V = np.random.normal(mean, std, (num_features,num_latent_factors))\n",
    "    \n",
    "    num_features_b = sc.broadcast(num_features)\n",
    "    num_latent_factors_b = sc.broadcast(num_latent_factors)\n",
    "    \n",
    "    # initialize lists to track model performance\n",
    "    train_history, validation_history = [], []\n",
    "    \n",
    "    for i in range(num_steps):\n",
    "        # broadcast the model parameters\n",
    "        w0_b = sc.broadcast(w0)\n",
    "        W_b = sc.broadcast(W)\n",
    "        V_b = sc.broadcast(V)\n",
    "\n",
    "        # calculate all gradients for w0, W and V\n",
    "        all_gradients_rdd = train_rdd.flatMap(lambda x: get_parameter_gradients(x, w0_b.value, W_b.value, V_b.value, num_features_b.value, num_latent_factors_b.value))\\\n",
    "                                     .cache()\n",
    "        # perform w0 updates\n",
    "        w0_gradient = all_gradients_rdd.filter(lambda x: x[0] == 'w0')\\\n",
    "                                       .flatMap(lambda x: x[1])\\\n",
    "                                       .mean()\n",
    "        w0 -= learning_rate * (w0_gradient + 2 * reg_bias * w0)\n",
    "        \n",
    "        # perform W updates\n",
    "        W_gradient = all_gradients_rdd.filter(lambda x: x[0] == 'W')\\\n",
    "                                       .flatMap(lambda x: x[1])\\\n",
    "                                       .mean()\n",
    "        W -= learning_rate * (W_gradient + 2 * reg_independent * W)\n",
    "        \n",
    "        # perform V updates\n",
    "        V_gradient = all_gradients_rdd.filter(lambda x: x[0] == 'V')\\\n",
    "                                       .flatMap(lambda x: x[1])\\\n",
    "                                       .mean()\n",
    "        V -= learning_rate * (V_gradient + 2 * np.multiply(reg_interaction, V))\n",
    "        \n",
    "        # find train and validation loss at each iteration\n",
    "#         training_loss = get_log_loss(train_rdd, w0, W, V)\n",
    "#         validation_loss = get_log_loss(validation_rdd, w0, W, V)\n",
    "        \n",
    "#         # keep track of validation/train loss for plotting\n",
    "#         train_history.append(training_loss)\n",
    "#         validation_history.append(validation_loss)\n",
    "        \n",
    "        \n",
    "    return w0, W, V, train_history, validation_history\n"
   ]
  },
  {
   "cell_type": "code",
   "execution_count": 11,
   "metadata": {},
   "outputs": [],
   "source": [
    "# train set\n",
    "train_df = spark.read.parquet('gs://w261_desa2/notebooks/data/toySampleTrain.parquet')"
   ]
  },
  {
   "cell_type": "code",
   "execution_count": 12,
   "metadata": {},
   "outputs": [],
   "source": [
    "# train, validation split set\n",
    "train_df, validation_df = train_df.randomSplit([.9, .1], 10)\n",
    "train_df = train_df.cache()\n",
    "validation_df = validation_df.cache()"
   ]
  },
  {
   "cell_type": "code",
   "execution_count": 13,
   "metadata": {},
   "outputs": [],
   "source": [
    "# create rdd from df\n",
    "train_rdd = train_df.rdd.cache()\n",
    "validation_rdd = validation_df.rdd.cache()"
   ]
  },
  {
   "cell_type": "code",
   "execution_count": 113,
   "metadata": {},
   "outputs": [
    {
     "name": "stdout",
     "output_type": "stream",
     "text": [
      "num_features: 24086\n",
      "... completed job in 2766.5750439167023 seconds.\n"
     ]
    }
   ],
   "source": [
    "start = time.time()\n",
    "w0, W, V, train_loss, validation_loss = fm_gd(train_rdd, validation_rdd, learning_rate, num_latent_factors, mean, std, reg_bias, reg_independent, reg_interaction, 10)\n",
    "print(f'... completed job in {time.time() - start} seconds.')"
   ]
  },
  {
   "cell_type": "code",
   "execution_count": 16,
   "metadata": {},
   "outputs": [],
   "source": [
    "# predict\n",
    "def predict_classes(data, w0, W, V):\n",
    "    features_vec = data['features']\n",
    "    features, W, V = get_params_features_for_vectors(features_vec, W, V)\n",
    "    h_x = prediction_calculation(features, w0, W, V)\n",
    "    if h_x >= 0.5:\n",
    "        if int(data['label']) == 1:\n",
    "            yield ('correct', 1)\n",
    "        else:\n",
    "            yield ('wrong', 1)\n",
    "    else:\n",
    "        if int(data['label']) == 0:\n",
    "            yield ('correct', 1)\n",
    "        else:\n",
    "            yield ('wrong', 1)"
   ]
  },
  {
   "cell_type": "code",
   "execution_count": 4,
   "metadata": {},
   "outputs": [],
   "source": [
    "# test set\n",
    "test_df = spark.read.parquet('gs://w261_desa2/notebooks/data/toySampleTest.parquet')\n",
    "test_rdd = test_df.rdd.cache()"
   ]
  },
  {
   "cell_type": "code",
   "execution_count": 108,
   "metadata": {},
   "outputs": [],
   "source": [
    "# get the predicted classes for the test set\n",
    "result = test_rdd.flatMap(lambda x: predict_classes(x, w0, W, V)).reduceByKey(lambda x,y: x + y).collect()"
   ]
  },
  {
   "cell_type": "code",
   "execution_count": 116,
   "metadata": {},
   "outputs": [
    {
     "data": {
      "text/plain": [
       "[('correct', 301), ('wrong', 126)]"
      ]
     },
     "execution_count": 116,
     "metadata": {},
     "output_type": "execute_result"
    }
   ],
   "source": [
    "result"
   ]
  },
  {
   "cell_type": "code",
   "execution_count": 119,
   "metadata": {},
   "outputs": [
    {
     "data": {
      "text/plain": [
       "0.7049180327868853"
      ]
     },
     "execution_count": 119,
     "metadata": {},
     "output_type": "execute_result"
    }
   ],
   "source": [
    "accuracy = result[0][1]/(result[1][1]+result[0][1])\n",
    "accuracy"
   ]
  },
  {
   "cell_type": "code",
   "execution_count": 26,
   "metadata": {},
   "outputs": [],
   "source": [
    "# plot error curves\n",
    "def plotErrorCurves(trainLoss, testLoss, title = None):\n",
    "    \"\"\"\n",
    "    Helper function for plotting.\n",
    "    Args: trainLoss (list of log loss) , testLoss (list of log loss)\n",
    "    \"\"\"\n",
    "    fig, ax = plt.subplots(1,1,figsize = (16,8))\n",
    "    x = list(range(len(trainLoss)))[1:]\n",
    "    ax.plot(x, trainLoss[1:], 'k--', label='Training Loss')\n",
    "    ax.plot(x, testLoss[1:], 'r--', label='Test Loss')\n",
    "    ax.legend(loc='upper right', fontsize='x-large')\n",
    "    plt.xlabel('Number of Iterations')\n",
    "    plt.ylabel('Log Loss error')\n",
    "    if title:\n",
    "        plt.title(title)\n",
    "    plt.show()"
   ]
  },
  {
   "cell_type": "markdown",
   "metadata": {},
   "source": [
    "#### Following is a plot of training and validation loss during training on a small dataset of 849 records over 30 iterations"
   ]
  },
  {
   "cell_type": "code",
   "execution_count": 24,
   "metadata": {},
   "outputs": [
    {
     "data": {
      "image/png": "[encoded data removed]",
      "text/plain": [
       "<Figure size 1152x576 with 1 Axes>"
      ]
     },
     "metadata": {
      "needs_background": "light"
     },
     "output_type": "display_data"
    }
   ],
   "source": [
    "plotErrorCurves(train_loss, validation_loss)"
   ]
  },
  {
   "cell_type": "markdown",
   "metadata": {},
   "source": [
    "## Logistic Regression with just independent variables"
   ]
  },
  {
   "cell_type": "code",
   "execution_count": 35,
   "metadata": {},
   "outputs": [],
   "source": [
    "def prediction_calculation_independent(features, w0, W):\n",
    "    \"\"\"Performs class prediction calculations for the given set of features and weights\"\"\"\n",
    "    # dot product of independent features and weights\n",
    "    # appending the bias term as well\n",
    "    independent_features = np.append([1.0], features)\n",
    "    independent_weights = np.append([w0], W)\n",
    "    \n",
    "    product = np.dot(independent_features,independent_weights)\n",
    "    h_x = 1.0/(1.0+math.exp(-product))\n",
    "    return h_x"
   ]
  },
  {
   "cell_type": "code",
   "execution_count": 36,
   "metadata": {},
   "outputs": [],
   "source": [
    "def get_parameter_gradients_independent(data, w0, W):\n",
    "    \"\"\"Yields gradients for all the model parameters\"\"\"\n",
    "    y = data['label']\n",
    "    features_vec = data['features']\n",
    "    features, W_condensed = get_params_features_for_vectors_independent(features_vec, W)\n",
    "    h_x = prediction_calculation_independent(features, w0, W_condensed)\n",
    "    # converting the features vector representation to array to get the entire representation\n",
    "    features_array = features_vec.toArray()\n",
    "    augmented_features = np.append([1.0], features_array)\n",
    "    \n",
    "    # calculating W gradients\n",
    "    gradients = (h_x - y)*augmented_features\n",
    "    yield gradients"
   ]
  },
  {
   "cell_type": "code",
   "execution_count": 37,
   "metadata": {},
   "outputs": [],
   "source": [
    "def get_log_loss_independent(data_rdd, w0, W):\n",
    "    \"\"\"Calculating the log loss\"\"\"\n",
    "    # calculation the log loss\n",
    "    loss = data_rdd.flatMap(lambda data: get_log_sigmoid_independent(data, w0, W))\\\n",
    "                   .mean()\n",
    "    \n",
    "    return loss"
   ]
  },
  {
   "cell_type": "code",
   "execution_count": 38,
   "metadata": {},
   "outputs": [],
   "source": [
    "def get_log_sigmoid_independent(data, w0, W):\n",
    "    \"\"\"Calculate the log of the prediction, used for calculating the loss\"\"\"\n",
    "    y = data['label']\n",
    "    h_x = prediction_calculation_independent(data['features'], w0, W)\n",
    "   \n",
    "    if int(y) == 1:\n",
    "        yield -np.log(h_x)\n",
    "    else:\n",
    "        yield -np.log(1-h_x)"
   ]
  },
  {
   "cell_type": "code",
   "execution_count": 39,
   "metadata": {},
   "outputs": [],
   "source": [
    "def get_params_features_for_vectors_independent(features, W):\n",
    "    \"\"\"Handle the SparseVectors, DenseVectors or arrays of parameters and features to return the actual values to be used in the gradient calculations\"\"\"\n",
    "    # unpacking the sparse vector to get the respective weights for the features and using just the values present\n",
    "    if type(features) == SparseVector:\n",
    "        W_vec = W[features.indices]\n",
    "        features_vec = features.values\n",
    "    else:\n",
    "        W_vec = W\n",
    "        features_vec = features\n",
    "\n",
    "    return features_vec, W_vec"
   ]
  },
  {
   "cell_type": "code",
   "execution_count": 41,
   "metadata": {},
   "outputs": [],
   "source": [
    "def logistic_gd(train_rdd, validation_rdd, learning_rate=0.1, reg_type='ridge', reg_param=0.01, num_steps=20):    \n",
    "    \"\"\"Logistic regression model using gradient descent\"\"\"\n",
    "    \n",
    "    num_features = train_rdd.take(1)[0]['features'].size \n",
    "    print('num_features:',num_features)\n",
    "    \n",
    "    # initialize the model parameters\n",
    "    w0 = 0.0\n",
    "    W = np.zeros(num_features)\n",
    "    \n",
    "    # initialize lists to track model performance\n",
    "    train_history, validation_history = [], []\n",
    "    \n",
    "    for i in range(num_steps):\n",
    "        # broadcast the model parameters\n",
    "        w0_b = sc.broadcast(w0)\n",
    "        W_b = sc.broadcast(W)\n",
    "\n",
    "        # calculate all gradients for w0, W and V\n",
    "        gradients = train_rdd.flatMap(lambda x: get_parameter_gradients_independent(x,w0_b.value,W_b.value))\\\n",
    "                             .mean()\n",
    "        \n",
    "        if reg_type == 'ridge':\n",
    "             gradient_penalty = gradients[1:] + 2 * reg_param * W\n",
    "        if reg_type == 'lasso':\n",
    "             gradient_penalty = gradients[1:] + reg_param * np.sign(W)\n",
    "\n",
    "        w0 = w0 - learning_rate * gradients[0]\n",
    "        if reg_type == 'ridge' or reg_type == 'lasso':\n",
    "            W = W - learning_rate * gradient_penalty\n",
    "        else:\n",
    "            W = W - learning_rate * gradients[1:]\n",
    "        \n",
    "        # find train and validation loss at each iteration\n",
    "        training_loss = get_log_loss_independent(train_rdd, w0, W)\n",
    "        validation_loss = get_log_loss_independent(validation_rdd, w0, W)\n",
    "        \n",
    "        # keep track of validation/train loss for plotting\n",
    "        train_history.append(training_loss)\n",
    "        validation_history.append(validation_loss)\n",
    "        \n",
    "        \n",
    "    return w0, W, train_history, validation_history\n"
   ]
  },
  {
   "cell_type": "code",
   "execution_count": 42,
   "metadata": {},
   "outputs": [],
   "source": [
    "# train set\n",
    "train_df = spark.read.parquet('dac/toy/toySampleTrain.parquet')\n",
    "train_df, train_small_df, validation_df = train_df.randomSplit([.7, .2, .1], 10)\n",
    "train_df = train_df.cache()\n",
    "train_small_df = train_small_df.cache()\n",
    "validation_df = validation_df.cache()"
   ]
  },
  {
   "cell_type": "code",
   "execution_count": 43,
   "metadata": {},
   "outputs": [],
   "source": [
    "# create rdd from df\n",
    "train_rdd = train_df.rdd.cache()\n",
    "train_small_rdd = train_small_df.rdd.cache()\n",
    "validation_rdd = validation_df.rdd.cache()"
   ]
  },
  {
   "cell_type": "code",
   "execution_count": 44,
   "metadata": {},
   "outputs": [
    {
     "name": "stdout",
     "output_type": "stream",
     "text": [
      "num_features: 24086\n",
      "... completed job in 4.83094048500061 seconds.\n"
     ]
    }
   ],
   "source": [
    "start = time.time()\n",
    "w0_l, W_l, train_loss_l, validation_loss_l = logistic_gd(train_small_rdd, validation_rdd, num_steps=5)\n",
    "print(f'... completed job in {time.time() - start} seconds.')"
   ]
  },
  {
   "cell_type": "code",
   "execution_count": 51,
   "metadata": {},
   "outputs": [],
   "source": [
    "# predict\n",
    "def predict_classes_independent(data, w0, W):\n",
    "    features_vec = data['features']\n",
    "    features, W_condensed = get_params_features_for_vectors_independent(features_vec, W)\n",
    "    h_x = prediction_calculation_independent(features, w0, W_condensed)\n",
    "    \n",
    "    if h_x >= 0.5:\n",
    "        if int(data['label']) == 1:\n",
    "            yield ('correct', 1)\n",
    "        else:\n",
    "            yield ('wrong', 1)\n",
    "    else:\n",
    "        if int(data['label']) == 0:\n",
    "            yield ('correct', 1)\n",
    "        else:\n",
    "            yield ('wrong', 1)"
   ]
  },
  {
   "cell_type": "code",
   "execution_count": 52,
   "metadata": {},
   "outputs": [],
   "source": [
    "# test set\n",
    "test_df = spark.read.parquet('dac/toy/toySampleTest.parquet')\n",
    "test_rdd = test_df.rdd.cache()"
   ]
  },
  {
   "cell_type": "code",
   "execution_count": 53,
   "metadata": {},
   "outputs": [],
   "source": [
    "# get the predicted classes for the test set\n",
    "result = test_rdd.flatMap(lambda x: predict_classes_independent(x, w0_l, W_l)).reduceByKey(lambda x,y: x + y).collect()"
   ]
  },
  {
   "cell_type": "code",
   "execution_count": 54,
   "metadata": {},
   "outputs": [
    {
     "data": {
      "text/plain": [
       "[('wrong', 126), ('correct', 301)]"
      ]
     },
     "execution_count": 54,
     "metadata": {},
     "output_type": "execute_result"
    }
   ],
   "source": [
    "result"
   ]
  },
  {
   "cell_type": "code",
   "execution_count": 55,
   "metadata": {},
   "outputs": [
    {
     "data": {
      "text/plain": [
       "0.7049180327868853"
      ]
     },
     "execution_count": 55,
     "metadata": {},
     "output_type": "execute_result"
    }
   ],
   "source": [
    "accuracy = result[1][1]/(result[1][1]+result[0][1])\n",
    "accuracy"
   ]
  },
  {
   "cell_type": "markdown",
   "metadata": {},
   "source": [
    "#### Following is a plot of training and validation loss during training on a small dataset of 826 records over 5 iterations "
   ]
  },
  {
   "cell_type": "code",
   "execution_count": 27,
   "metadata": {},
   "outputs": [
    {
     "data": {
      "image/png": "[encoded data removed]",
      "text/plain": [
       "<Figure size 1152x576 with 1 Axes>"
      ]
     },
     "metadata": {},
     "output_type": "display_data"
    }
   ],
   "source": [
    "plotErrorCurves(train_loss_l, validation_loss_l)"
   ]
  }
 ],
 "metadata": {
  "kernelspec": {
   "display_name": "Python 3",
   "language": "python",
   "name": "python3"
  },
  "language_info": {
   "codemirror_mode": {
    "name": "ipython",
    "version": 3
   },
   "file_extension": ".py",
   "mimetype": "text/x-python",
   "name": "python",
   "nbconvert_exporter": "python",
   "pygments_lexer": "ipython3",
   "version": "3.6.6"
  }
 },
 "nbformat": 4,
 "nbformat_minor": 2
}
