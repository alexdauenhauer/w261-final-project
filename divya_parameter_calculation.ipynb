{
 "cells": [
  {
   "cell_type": "code",
   "execution_count": 3,
   "metadata": {},
   "outputs": [],
   "source": [
    "import numpy as np\n",
    "import math"
   ]
  },
  {
   "cell_type": "markdown",
   "metadata": {},
   "source": [
    "### Using equations described above to calculate w0, W and V for 1 iteration"
   ]
  },
  {
   "cell_type": "markdown",
   "metadata": {},
   "source": [
    "#### Sample toy set\n",
    "#### label  feature1  feature2  feature3  feature4(categorical)\n",
    "#### 0      1         1         5         0\n",
    "#### 1      2         3         4         1\n",
    "#### 0      4         10        11        1\n",
    "#### 1      1         1         5         0"
   ]
  },
  {
   "cell_type": "code",
   "execution_count": 4,
   "metadata": {},
   "outputs": [],
   "source": [
    "learning_rate = 0.01\n",
    "num_latent_factors = 2\n",
    "mean = 0\n",
    "std = 0.01\n",
    "reg_bias = 0.01\n",
    "reg_independent = 0.01\n",
    "reg_interaction = np.full(num_latent_factors, 0.01)"
   ]
  },
  {
   "cell_type": "code",
   "execution_count": 5,
   "metadata": {},
   "outputs": [],
   "source": [
    "w0 = 0.0\n",
    "W = np.zeros(4)\n",
    "V = np.random.normal(mean, std, (4,2))"
   ]
  },
  {
   "cell_type": "code",
   "execution_count": 6,
   "metadata": {},
   "outputs": [],
   "source": [
    "x1 = np.dot(V[0],V[1])*1 + np.dot(V[0],V[2])*5 + np.dot(V[0],V[3])*0 + np.dot(V[1],V[2])*5 + np.dot(V[1],V[3])*0 + np.dot(V[2],V[3])*0\n",
    "x2 = np.dot(V[0],V[1])*6 + np.dot(V[0],V[2])*8 + np.dot(V[0],V[3])*2 + np.dot(V[1],V[2])*12 + np.dot(V[1],V[3])*3 + np.dot(V[2],V[3])*4\n",
    "x3 = np.dot(V[0],V[1])*40 + np.dot(V[0],V[2])*44 + np.dot(V[0],V[3])*4 + np.dot(V[1],V[2])*110 + np.dot(V[1],V[3])*10 + np.dot(V[2],V[3])*11\n",
    "x4 = np.dot(V[0],V[1])*1 + np.dot(V[0],V[2])*5 + np.dot(V[0],V[3])*0 + np.dot(V[1],V[2])*5 + np.dot(V[1],V[3])*0 + np.dot(V[2],V[3])*0"
   ]
  },
  {
   "cell_type": "markdown",
   "metadata": {},
   "source": [
    "### First part of gradient equation"
   ]
  },
  {
   "cell_type": "code",
   "execution_count": 7,
   "metadata": {},
   "outputs": [],
   "source": [
    "gradient_part_1= (1.0/(1.0+math.exp(-0*x1))) - 0\n",
    "gradient_part_2= (1.0/(1.0+math.exp(-1*x2))) - 1\n",
    "gradient_part_3= (1.0/(1.0+math.exp(-0*x3))) - 0\n",
    "gradient_part_4= (1.0/(1.0+math.exp(-1*x4))) - 1"
   ]
  },
  {
   "cell_type": "markdown",
   "metadata": {},
   "source": [
    "### w0 gradient "
   ]
  },
  {
   "cell_type": "code",
   "execution_count": 10,
   "metadata": {},
   "outputs": [
    {
     "data": {
      "text/plain": [
       "-6.663834502987354e-05"
      ]
     },
     "execution_count": 10,
     "metadata": {},
     "output_type": "execute_result"
    }
   ],
   "source": [
    "w0_gradient = sum([gradient_part_1,gradient_part_2,gradient_part_3,gradient_part_4])/4\n",
    "w0_gradient"
   ]
  },
  {
   "cell_type": "markdown",
   "metadata": {},
   "source": [
    "### W gradient"
   ]
  },
  {
   "cell_type": "code",
   "execution_count": 11,
   "metadata": {},
   "outputs": [],
   "source": [
    "gradient1w= gradient_part_1*np.array([1,1,5,0])\n",
    "gradient2w= gradient_part_2*np.array([2,3,4,1])\n",
    "gradient3w= gradient_part_3*np.array([4,10,11,1])\n",
    "gradient4w= gradient_part_4*np.array([1,1,5,0])"
   ]
  },
  {
   "cell_type": "code",
   "execution_count": 12,
   "metadata": {},
   "outputs": [
    {
     "data": {
      "text/plain": [
       "array([ 2.49880857e-01,  8.74828353e-01,  8.74719313e-01, -5.25043691e-05])"
      ]
     },
     "execution_count": 12,
     "metadata": {},
     "output_type": "execute_result"
    }
   ],
   "source": [
    "W_gradient = sum([gradient1w,gradient2w,gradient3w,gradient4w])/4\n",
    "W_gradient "
   ]
  },
  {
   "cell_type": "markdown",
   "metadata": {},
   "source": [
    "### V gradient"
   ]
  },
  {
   "cell_type": "code",
   "execution_count": 13,
   "metadata": {},
   "outputs": [],
   "source": [
    "grad_part_11 = 1 * (np.multiply(V[1],1) + np.multiply(V[2],5) + np.multiply(V[3],0))\n",
    "grad_part_12 = 1 * (np.multiply(V[0],1) + np.multiply(V[2],5) + np.multiply(V[3],0))\n",
    "grad_part_13 = 5 * (np.multiply(V[1],1) + np.multiply(V[0],1) + np.multiply(V[3],0))\n",
    "grad_part_14 = 0 * (np.multiply(V[1],1) + np.multiply(V[2],5) + np.multiply(V[0],1))"
   ]
  },
  {
   "cell_type": "code",
   "execution_count": 14,
   "metadata": {},
   "outputs": [],
   "source": [
    "gradient1V= gradient_part_1*np.array([grad_part_11,grad_part_12,grad_part_13,grad_part_14])"
   ]
  },
  {
   "cell_type": "code",
   "execution_count": 15,
   "metadata": {},
   "outputs": [],
   "source": [
    "grad_part_21 = 2 * (np.multiply(V[1],3) + np.multiply(V[2],4) + np.multiply(V[3],1))\n",
    "grad_part_22 = 3 * (np.multiply(V[0],2) + np.multiply(V[2],4) + np.multiply(V[3],1))\n",
    "grad_part_23 = 4 * (np.multiply(V[1],3) + np.multiply(V[0],2) + np.multiply(V[3],1))\n",
    "grad_part_24 = 1 * (np.multiply(V[1],3) + np.multiply(V[2],4) + np.multiply(V[0],2))"
   ]
  },
  {
   "cell_type": "code",
   "execution_count": 16,
   "metadata": {},
   "outputs": [],
   "source": [
    "gradient2V= gradient_part_2*np.array([grad_part_21,grad_part_22,grad_part_23,grad_part_24])"
   ]
  },
  {
   "cell_type": "code",
   "execution_count": 17,
   "metadata": {},
   "outputs": [],
   "source": [
    "grad_part_31 = 4 * (np.multiply(V[1],10) + np.multiply(V[2],11) + np.multiply(V[3],1))\n",
    "grad_part_32 = 10 * (np.multiply(V[0],4) + np.multiply(V[2],11) + np.multiply(V[3],1))\n",
    "grad_part_33 = 11 * (np.multiply(V[1],10) + np.multiply(V[0],4) + np.multiply(V[3],1))\n",
    "grad_part_34 = 1 * (np.multiply(V[1],10) + np.multiply(V[2],11) + np.multiply(V[0],4))"
   ]
  },
  {
   "cell_type": "code",
   "execution_count": 18,
   "metadata": {},
   "outputs": [],
   "source": [
    "gradient3V= gradient_part_3*np.array([grad_part_31,grad_part_32,grad_part_33,grad_part_34])"
   ]
  },
  {
   "cell_type": "code",
   "execution_count": 19,
   "metadata": {},
   "outputs": [],
   "source": [
    "grad_part_41 = 1 * (np.multiply(V[1],1) + np.multiply(V[2],5) + np.multiply(V[3],0))\n",
    "grad_part_42 = 1 * (np.multiply(V[0],1) + np.multiply(V[2],5) + np.multiply(V[3],0))\n",
    "grad_part_43 = 5 * (np.multiply(V[1],1) + np.multiply(V[0],1) + np.multiply(V[3],0))\n",
    "grad_part_44 = 0 * (np.multiply(V[1],1) + np.multiply(V[2],5) + np.multiply(V[0],1))"
   ]
  },
  {
   "cell_type": "code",
   "execution_count": 20,
   "metadata": {},
   "outputs": [],
   "source": [
    "gradient4V= gradient_part_4*np.array([grad_part_41,grad_part_42,grad_part_43,grad_part_44])"
   ]
  },
  {
   "cell_type": "code",
   "execution_count": 24,
   "metadata": {},
   "outputs": [
    {
     "data": {
      "text/plain": [
       "array([[ 0.01323777, -0.03360293],\n",
       "       [-0.14321238, -0.06859905],\n",
       "       [ 0.12363136, -0.16737963],\n",
       "       [ 0.0022569 , -0.01137254]])"
      ]
     },
     "execution_count": 24,
     "metadata": {},
     "output_type": "execute_result"
    }
   ],
   "source": [
    "V_gradient = sum([gradient1V,gradient2V,gradient3V,gradient4V])/4\n",
    "V_gradient"
   ]
  },
  {
   "cell_type": "markdown",
   "metadata": {},
   "source": [
    "### parameter updates"
   ]
  },
  {
   "cell_type": "code",
   "execution_count": 25,
   "metadata": {},
   "outputs": [
    {
     "data": {
      "text/plain": [
       "6.663834502987354e-07"
      ]
     },
     "execution_count": 25,
     "metadata": {},
     "output_type": "execute_result"
    }
   ],
   "source": [
    "w0 = w0 - learning_rate * (w0_gradient + 2 * reg_bias * w0)\n",
    "w0"
   ]
  },
  {
   "cell_type": "code",
   "execution_count": 26,
   "metadata": {},
   "outputs": [
    {
     "data": {
      "text/plain": [
       "array([-2.49880857e-03, -8.74828353e-03, -8.74719313e-03,  5.25043691e-07])"
      ]
     },
     "execution_count": 26,
     "metadata": {},
     "output_type": "execute_result"
    }
   ],
   "source": [
    "W = W - learning_rate * (W_gradient + 2 * reg_independent * W)\n",
    "W"
   ]
  },
  {
   "cell_type": "code",
   "execution_count": 27,
   "metadata": {},
   "outputs": [
    {
     "data": {
      "text/plain": [
       "array([[-0.006133  , -0.01629556],\n",
       "       [ 0.01452971, -0.00729877],\n",
       "       [-0.01004112,  0.00141236],\n",
       "       [-0.01125931,  0.00616726]])"
      ]
     },
     "execution_count": 27,
     "metadata": {},
     "output_type": "execute_result"
    }
   ],
   "source": [
    "V = V - learning_rate * (V_gradient + 2 * np.multiply(reg_interaction, V))\n",
    "V"
   ]
  },
  {
   "cell_type": "code",
   "execution_count": null,
   "metadata": {},
   "outputs": [],
   "source": []
  }
 ],
 "metadata": {
  "kernelspec": {
   "display_name": "Python 3",
   "language": "python",
   "name": "python3"
  },
  "language_info": {
   "codemirror_mode": {
    "name": "ipython",
    "version": 3
   },
   "file_extension": ".py",
   "mimetype": "text/x-python",
   "name": "python",
   "nbconvert_exporter": "python",
   "pygments_lexer": "ipython3",
   "version": "3.6.6"
  }
 },
 "nbformat": 4,
 "nbformat_minor": 2
}
