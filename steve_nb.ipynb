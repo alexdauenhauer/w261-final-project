{
 "cells": [
  {
   "cell_type": "markdown",
   "metadata": {},
   "source": [
    "# Final Project - Steve's Notebook"
   ]
  },
  {
   "cell_type": "markdown",
   "metadata": {},
   "source": [
    "MIDS w261: Machine Learning at Scale | UC Berkeley School of Information | Spring 2019\n",
    "\n",
    "Final Project: Click Through Rate Prediction"
   ]
  },
  {
   "cell_type": "code",
   "execution_count": null,
   "metadata": {},
   "outputs": [],
   "source": []
  },
  {
   "cell_type": "markdown",
   "metadata": {},
   "source": [
    "## Algorithm Explanation"
   ]
  },
  {
   "cell_type": "markdown",
   "metadata": {},
   "source": [
    "Create your own toy example that matches the dataset provided and use this toy example to explain the math behind the algorithm that you will perform."
   ]
  },
  {
   "cell_type": "markdown",
   "metadata": {},
   "source": [
    "For this project, we have built a Factorization Machine algorithm from the ground up, and applied it to a small sample dataset.  For the full dataset, we have implemented a Logistic Regression algorithm utilizing Spark ML methods.\n",
    "\n",
    "The Factorization Machine algorithm that we built was based on two papers by Steffen Rendle:  \n",
    "1. Factorization Machines (Data Mining (ICDM), 2010 IEEE 10th International Conference on. (2010) 995–1000,  \n",
    "https://www.csie.ntu.edu.tw/~b97053/paper/Rendle2010FM.pdf), and  \n",
    "2. Factorization Machines with libFM (ACM Transactions on Intelligent Systems and Technology, Vol. 3, No. 3, Article 57, Publication date: May 2012., https://www.csie.ntu.edu.tw/~b97053/paper/Factorization%20Machines%20with%20libFM.pdf).  \n",
    "The second Rendle paper was particularly helpful for algorithm explanation, and we used \"Algorithm 1\" in that paper for intuition to guide implementation of our home-grown FM algorithm.\n",
    "\n",
    "Equation 1 shows the basic relationship between the predicted target variable $\\hat{y}$ and the independent variables in the second-order Factorization Machine model. \n",
    "\n",
    "\n",
    "\\begin{equation} \\tag{1}\n",
    "\\hat{y}(\\boldsymbol{x}) = w_0 + \\sum_{j=1}^{p}w_j x_j + \\sum_{j=1}^{p} \\sum_{j'=j+1}^{p}x_j x_j' \\sum_{f=1}^{k}v_{j,f} v_{j',f}  \n",
    "\\end{equation}\n",
    "\n",
    "where $\\boldsymbol{x} \\in \\mathbb{R} ^{p}$ is a feature vector with $p$ real-valued variables.  Here $k$ is the dimensionality of the factorization, also known as the number of latent factors, and the model parameters are \n",
    "\n",
    "\\begin{equation} \\tag{2}\n",
    "w_0 \\in \\mathbb{R}, \\space\\space\\space  \\boldsymbol{w} \\in \\mathbb{R}^p,  \\space\\space\\space  V \\in \\mathbb{R}^{p \\times k} \n",
    "\\end{equation}\n",
    "\n"
   ]
  },
  {
   "cell_type": "markdown",
   "metadata": {},
   "source": [
    "The first part of the FM model in eq. 1 is the same as a standard regression model, in that we have the bias $w_0$ and the linear terms $w_j x_j$.  The second part of the FM equation captures the second-order (pair-wise) interactions between the independent variables, $x_j x_{j'}$.  An important distinction here is that, in contrast to standard polynomial regression, the coefficients for the interaction terms are not independent parameters $w_{j,j'}$, but rather a factorized parameterization of $w_{j,j'} \\approx \\sum_{f=1}^{k}v_{j,f} v_{j',f}$, which is shown in the last summation summation in eq. 1.  This reflects the assumption that $w_{j,j'}$ can be approximated by low-rank matrices, where $k \\ll p$.  This allows FMs to estimate the interaction parameters reliabily, even in the presence of highly sparse data where standard models fail."
   ]
  },
  {
   "cell_type": "markdown",
   "metadata": {},
   "source": [
    "Our approach in the home-grown algorithm is to include all these terms in the model and to implement using batch gradient descent.  In contrast, standard Alternating Least Squares (ALS) algorithm uses only the interaction terms, without the linear terms.  Also, standard regression models often omit interaction terms.  The more ideal approach is to retain the linear terms and the interaction terms, as we have implemented for a small sample from our dataset.  Our current FM implementation has $O(n^2k)$ time complexity; a future enhancement could be undertaken to achieve a $O(nk)$ time complexity, as described in Rendle(2010).   "
   ]
  },
  {
   "cell_type": "markdown",
   "metadata": {},
   "source": [
    "Our training task is to find the optimal model parameters $\\Theta$ such that we minimize the sum of the losses over the observed data $S$, given the appropriate loss function $L$.  This takes the general form:\n",
    "\n",
    "\\begin{equation} \\tag{3}\n",
    "OptReg(S,\\lambda) = argmin_{\\theta} \\bigg( \\sum_{(\\boldsymbol{x},y)\\in S}L(\\hat{y}(\\boldsymbol{x}|\\Theta,y) + Reg_{\\lambda_{\\theta}} \\bigg) \n",
    "\\end{equation}\n",
    "\n",
    "where $Reg$ contains the regularization penalty.  \n",
    "\n",
    "In the home-grown algorithm, we use $L_2$ regularization (where $\\lambda_{\\theta}$ is the regularization strength):\n",
    "\n",
    "\\begin{equation} \\tag{4}\n",
    "Reg_{L_2} = \\sum_{\\theta \\in \\Theta} \\lambda_{\\theta} \\theta^2   \n",
    "\\end{equation}\n"
   ]
  },
  {
   "cell_type": "markdown",
   "metadata": {},
   "source": [
    "With this binary classification problem, with $y \\in$ {0,1}, we leverage Andrew Ng's treatment (https://www.youtube.com/watch?v=TTdcc21Ko9A&feature=youtu.be) of the log loss function, $L$:\n",
    "\n",
    "\\begin{equation} \\tag{5}\n",
    "L(\\theta) = - \\frac{1}{m} \\sum_{i=1}^{m} \\bigg( y^{(i)} log \\space h_{\\theta}(x^{(i)}) + (1-y^{(i)}) log \\big( 1-h_{\\theta}(x^{(i)}) \\big)  \\bigg), \n",
    "\\end{equation}\n",
    "\n",
    "(which is algebrically simplified in the algorithm for $y^{(i)}=0$ and $y^{(i)}=1$) where $m$ is the number of training examples, and $h_{\\theta}(x)$ is the sigmoid function when using logistic regression,\n",
    "\n",
    "\\begin{equation} \\tag{6}\n",
    "h_{\\theta}(x) = \\frac{1}{1 + \\exp({-\\theta^{T} x})} \n",
    "\\end{equation}"
   ]
  },
  {
   "cell_type": "markdown",
   "metadata": {},
   "source": [
    "For the home-grown model, we use full-batch gradient descent applied to the convex loss function $L$ to converge on the global minimum in model parameter space.  The gradient is computed:\n",
    "\n",
    "\\begin{equation} \\tag{7}\n",
    "\\frac{\\partial}{\\partial \\theta_j} L(\\theta) = - \\frac{1}{m} \\sum_{i=1}^{m} \\big( h_{\\theta}(x^{(i)}) - y^{(i)} \\big) \\frac{\\partial \\hat{y}(x)}{\\partial \\theta}\n",
    "\\end{equation}\n",
    "\n",
    "where  \n",
    "\n",
    "\\begin{equation} \\tag{8}\n",
    " \\frac {\\partial \\hat{y}(\\boldsymbol{x})} {\\partial \\theta} = \n",
    "  \\begin{cases} \n",
    "   1,      & \\text{if } \\theta \\text{ is } w_0 \\\\\n",
    "   x_l,      & \\text{if } \\theta \\text{ is } w_l \\\\\n",
    "   x_l\\sum_{j\\neq l} v_{j,f}x_j,  & \\text{if } \\theta \\text{ is } v_{l,f} \n",
    "  \\end{cases}\n",
    "\\end{equation}\n"
   ]
  },
  {
   "cell_type": "markdown",
   "metadata": {},
   "source": [
    "We then repeat the gradient descent updates until the stopping condition is met:\n",
    "\n",
    "\\begin{equation} \\tag{9}\n",
    "\\theta_{j} \\longleftarrow \\theta_j - \\eta \\bigg( \\frac{\\partial}{\\partial \\theta_j} L(\\theta) + 2 \\lambda_{\\theta} \\theta \\bigg)\n",
    "\\end{equation}\n",
    "\n",
    "where $\\eta$ is the learning rate.  \n",
    "\n",
    "For the home-grown model, we use $\\eta = 0.01$ and 100 latent factors ($k=100$).  We initialize the model parameters $w_0$ and $\\boldsymbol{w}$ to 0.0, and $V$ to a random normal distribution with mean = 0 and std = 0.01.   We iterate for a specified number of training iterations (default = 10). "
   ]
  },
  {
   "cell_type": "markdown",
   "metadata": {},
   "source": [
    "For the Spark ML Logistic Regression model, ElasticNet Regularization (https://spark.apache.org/docs/1.5.2/ml-linear-methods.html) was used, which is a combination of $L_1$ and $L_2$ regularization:\n",
    "\n",
    "\\begin{equation} \\tag{10}\n",
    "Reg_{EN} = \\alpha \\big( \\lambda \\| \\boldsymbol{w} \\|_1 \\big) + (1 - \\alpha) \\space \\big( \\frac{\\lambda}{2} \\| \\boldsymbol{w} \\|_{2}^{2} \\big)  \n",
    "\\end{equation}\n",
    "\n",
    "where $\\alpha \\in [0,1]$ and $ \\lambda \\geq 0$.  \n",
    " \n",
    "For the Spark ML logistic regression, we use the LogisticRegression() method for the model, and tune the regularization strength $\\lambda$ and ElasticNet parameter $\\alpha$ hyperparameters using the CrossValidator() method.  We use Accuracy as the binary classification performance metric in the tuning. We tuned using a sample of the training data, then apply the optimal hyperparameters to the full dataset.    \n"
   ]
  },
  {
   "cell_type": "markdown",
   "metadata": {},
   "source": [
    "References for binary classification:  \n",
    "https://www.youtube.com/watch?v=TTdcc21Ko9A&feature=youtu.be  \n",
    "https://spark.apache.org/docs/1.5.2/ml-linear-methods.html  "
   ]
  },
  {
   "cell_type": "code",
   "execution_count": null,
   "metadata": {},
   "outputs": [],
   "source": []
  },
  {
   "cell_type": "code",
   "execution_count": null,
   "metadata": {},
   "outputs": [],
   "source": []
  },
  {
   "cell_type": "code",
   "execution_count": null,
   "metadata": {},
   "outputs": [],
   "source": []
  },
  {
   "cell_type": "markdown",
   "metadata": {},
   "source": [
    "## Code"
   ]
  },
  {
   "cell_type": "markdown",
   "metadata": {},
   "source": [
    "Helpful references:  \n",
    "https://github.com/elsyifa/Classification-Pyspark  \n",
    "https://docs.databricks.com/spark/latest/mllib/binary-classification-mllib-pipelines.html  \n",
    "https://medium.com/@_moazzemhossain/machine-learning-cheat-sheets-for-ml-engineers-data-scientist-d44a43f65979  "
   ]
  },
  {
   "cell_type": "code",
   "execution_count": 1,
   "metadata": {},
   "outputs": [],
   "source": [
    "import re\n",
    "import ast\n",
    "import time\n",
    "import numpy as np\n",
    "import pandas as pd\n",
    "import matplotlib.pyplot as plt\n",
    "import pyspark.sql.functions as F\n",
    "from pyspark.sql import types"
   ]
  },
  {
   "cell_type": "code",
   "execution_count": 2,
   "metadata": {},
   "outputs": [],
   "source": [
    "# start Spark Session\n",
    "from pyspark.sql import SparkSession\n",
    "app_name = \"finalProject\"\n",
    "master = \"local[*]\"\n",
    "spark = SparkSession\\\n",
    "        .builder\\\n",
    "        .appName(app_name)\\\n",
    "        .master(master)\\\n",
    "        .getOrCreate()\n",
    "sc = spark.sparkContext"
   ]
  },
  {
   "cell_type": "markdown",
   "metadata": {},
   "source": [
    "##### Download data from the source.  "
   ]
  },
  {
   "cell_type": "code",
   "execution_count": 21,
   "metadata": {},
   "outputs": [],
   "source": [
    "### Create data directory and download data from the source: http://labs.criteo.com/2014/09/kaggle-contest-dataset-now-available-academic-use/\n",
    "#https://s3-eu-west-1.amazonaws.com/kaggle-display-advertising-challenge-dataset/dac.tar.gz "
   ]
  },
  {
   "cell_type": "code",
   "execution_count": 4,
   "metadata": {},
   "outputs": [
    {
     "name": "stdout",
     "output_type": "stream",
     "text": [
      "45840617 data/train.txt\n"
     ]
    }
   ],
   "source": [
    "!wc -l data/train.txt"
   ]
  },
  {
   "cell_type": "code",
   "execution_count": 5,
   "metadata": {},
   "outputs": [
    {
     "name": "stdout",
     "output_type": "stream",
     "text": [
      "6042135 data/test.txt\n"
     ]
    }
   ],
   "source": [
    "!wc -l data/test.txt"
   ]
  },
  {
   "cell_type": "code",
   "execution_count": null,
   "metadata": {},
   "outputs": [],
   "source": []
  },
  {
   "cell_type": "markdown",
   "metadata": {},
   "source": [
    "## Read in small sample and apply Logistic Regression"
   ]
  },
  {
   "cell_type": "code",
   "execution_count": 42,
   "metadata": {},
   "outputs": [],
   "source": [
    "small_sample_train = spark.read.parquet('data/smallTrainSample.parquet')"
   ]
  },
  {
   "cell_type": "code",
   "execution_count": 178,
   "metadata": {},
   "outputs": [
    {
     "data": {
      "text/plain": [
       "Row(label=0.0, n0=0.0, n1=0.0001595405232929164, n2=0.0, c8='8418', c19='None', c8_idx=1.0, c19_idx=0.0, c8_OHE=SparseVector(2, {1: 1.0}), c19_OHE=SparseVector(4, {0: 1.0}), features=SparseVector(9, {1: 0.0002, 4: 1.0, 5: 1.0}))"
      ]
     },
     "execution_count": 178,
     "metadata": {},
     "output_type": "execute_result"
    }
   ],
   "source": [
    "small_sample_train.head()"
   ]
  },
  {
   "cell_type": "code",
   "execution_count": 44,
   "metadata": {},
   "outputs": [],
   "source": [
    "from pyspark.ml.classification import LogisticRegression"
   ]
  },
  {
   "cell_type": "code",
   "execution_count": 179,
   "metadata": {},
   "outputs": [],
   "source": [
    "lr_small = LogisticRegression(featuresCol = 'features', labelCol = 'label', maxIter=10)\n",
    "lr_small_model = lr_small.fit(small_sample_train)"
   ]
  },
  {
   "cell_type": "code",
   "execution_count": 47,
   "metadata": {},
   "outputs": [],
   "source": [
    "trainingSummary_small = lr_small_model.summary"
   ]
  },
  {
   "cell_type": "code",
   "execution_count": 50,
   "metadata": {},
   "outputs": [
    {
     "data": {
      "image/png": "[encoded data removed]",
      "text/plain": [
       "<Figure size 432x288 with 1 Axes>"
      ]
     },
     "metadata": {},
     "output_type": "display_data"
    },
    {
     "name": "stdout",
     "output_type": "stream",
     "text": [
      "Training set ROC: 0.6418060064935066\n"
     ]
    }
   ],
   "source": [
    "roc = trainingSummary_small.roc.toPandas()\n",
    "plt.plot(roc['FPR'],roc['TPR'])\n",
    "plt.ylabel('False Positive Rate')\n",
    "plt.xlabel('True Positive Rate')\n",
    "plt.title('ROC Curve')\n",
    "plt.show()\n",
    "print('Training set ROC: ' + str(trainingSummary_small.areaUnderROC))"
   ]
  },
  {
   "cell_type": "code",
   "execution_count": 133,
   "metadata": {},
   "outputs": [],
   "source": [
    "objectiveHistory = trainingSummary_small.objectiveHistory"
   ]
  },
  {
   "cell_type": "code",
   "execution_count": 134,
   "metadata": {},
   "outputs": [
    {
     "data": {
      "text/plain": [
       "[0.5450611331247501,\n",
       " 0.537565676579473,\n",
       " 0.5304127789669243,\n",
       " 0.5282731281354065,\n",
       " 0.5281851892167337,\n",
       " 0.5281285054262518,\n",
       " 0.5281036067941927,\n",
       " 0.5280990332504583,\n",
       " 0.5280982040098371,\n",
       " 0.528098125623702,\n",
       " 0.5280981244932045]"
      ]
     },
     "execution_count": 134,
     "metadata": {},
     "output_type": "execute_result"
    }
   ],
   "source": [
    "objectiveHistory"
   ]
  },
  {
   "cell_type": "code",
   "execution_count": 136,
   "metadata": {},
   "outputs": [
    {
     "data": {
      "text/plain": [
       "[<matplotlib.lines.Line2D at 0x7fa9726b88d0>]"
      ]
     },
     "execution_count": 136,
     "metadata": {},
     "output_type": "execute_result"
    },
    {
     "data": {
      "image/png": "[encoded data removed]",
      "text/plain": [
       "<Figure size 432x288 with 1 Axes>"
      ]
     },
     "metadata": {},
     "output_type": "display_data"
    }
   ],
   "source": [
    "plt.plot(objectiveHistory)"
   ]
  },
  {
   "cell_type": "code",
   "execution_count": null,
   "metadata": {},
   "outputs": [],
   "source": []
  },
  {
   "cell_type": "code",
   "execution_count": 51,
   "metadata": {},
   "outputs": [],
   "source": [
    "# Read in small test set\n",
    "small_sample_test = spark.read.parquet('data/smallTestSample.parquet')"
   ]
  },
  {
   "cell_type": "code",
   "execution_count": 52,
   "metadata": {},
   "outputs": [
    {
     "data": {
      "text/plain": [
       "Row(label=0.0, n0=0.0, n1=0.0, n2=0.006, c8='6944', c19='3834', c8_idx=0.0, c19_idx=1.0, c8_OHE=SparseVector(2, {0: 1.0}), c19_OHE=SparseVector(4, {1: 1.0}), features=SparseVector(9, {2: 0.006, 3: 1.0, 6: 1.0}))"
      ]
     },
     "execution_count": 52,
     "metadata": {},
     "output_type": "execute_result"
    }
   ],
   "source": [
    "small_sample_test.head()"
   ]
  },
  {
   "cell_type": "code",
   "execution_count": 53,
   "metadata": {},
   "outputs": [
    {
     "name": "stdout",
     "output_type": "stream",
     "text": [
      "Test_SET (Area Under ROC): 0.6077074937608637\n"
     ]
    }
   ],
   "source": [
    "from pyspark.ml.evaluation import BinaryClassificationEvaluator\n",
    "\n",
    "predictions_lr_small = lr_small_model.transform(small_sample_test)\n",
    "evaluator = BinaryClassificationEvaluator()\n",
    "print(\"Test_SET (Area Under ROC): \" + str(evaluator.evaluate(predictions_lr_small, {evaluator.metricName: \"areaUnderROC\"})))"
   ]
  },
  {
   "cell_type": "code",
   "execution_count": 142,
   "metadata": {},
   "outputs": [
    {
     "name": "stdout",
     "output_type": "stream",
     "text": [
      "test set Accuracy: 0.742498794018331\n"
     ]
    }
   ],
   "source": [
    "from pyspark.ml.evaluation import MulticlassClassificationEvaluator\n",
    "\n",
    "lr_eval2 = MulticlassClassificationEvaluator()\n",
    "print(\"test set Accuracy:\", str(lr_eval2.evaluate(predictions_lr_small, {lr_eval2.metricName: \"accuracy\"}))  )"
   ]
  },
  {
   "cell_type": "code",
   "execution_count": 143,
   "metadata": {},
   "outputs": [
    {
     "data": {
      "text/plain": [
       "[Param(parent='MulticlassClassificationEvaluator_4ff9a10c9236f9d8e0b1', name='labelCol', doc='label column name.'),\n",
       " Param(parent='MulticlassClassificationEvaluator_4ff9a10c9236f9d8e0b1', name='metricName', doc='metric name in evaluation (f1|weightedPrecision|weightedRecall|accuracy)'),\n",
       " Param(parent='MulticlassClassificationEvaluator_4ff9a10c9236f9d8e0b1', name='predictionCol', doc='prediction column name.')]"
      ]
     },
     "execution_count": 143,
     "metadata": {},
     "output_type": "execute_result"
    }
   ],
   "source": [
    "lr_eval2.params"
   ]
  },
  {
   "cell_type": "code",
   "execution_count": 148,
   "metadata": {},
   "outputs": [
    {
     "name": "stdout",
     "output_type": "stream",
     "text": [
      "test set Precision??: 0.6925564115693119\n",
      "test set Recall??: 0.742498794018331\n",
      "test set f1??: 0.6440633582469697\n"
     ]
    }
   ],
   "source": [
    "print(\"test set Precision??:\", str(lr_eval2.evaluate(predictions_lr_small, {lr_eval2.metricName: \"weightedPrecision\"}))  )\n",
    "print(\"test set Recall??:\", str(lr_eval2.evaluate(predictions_lr_small, {lr_eval2.metricName: \"weightedRecall\"}))  )\n",
    "print(\"test set f1??:\", str(lr_eval2.evaluate(predictions_lr_small, {lr_eval2.metricName: \"f1\"}))  )"
   ]
  },
  {
   "cell_type": "code",
   "execution_count": 97,
   "metadata": {},
   "outputs": [
    {
     "data": {
      "text/plain": [
       "[Param(parent='BinaryClassificationEvaluator_477a89b94c65ffbe023e', name='labelCol', doc='label column name.'),\n",
       " Param(parent='BinaryClassificationEvaluator_477a89b94c65ffbe023e', name='metricName', doc='metric name in evaluation (areaUnderROC|areaUnderPR)'),\n",
       " Param(parent='BinaryClassificationEvaluator_477a89b94c65ffbe023e', name='rawPredictionCol', doc='raw prediction (a.k.a. confidence) column name.')]"
      ]
     },
     "execution_count": 97,
     "metadata": {},
     "output_type": "execute_result"
    }
   ],
   "source": [
    "evaluator.params"
   ]
  },
  {
   "cell_type": "code",
   "execution_count": 61,
   "metadata": {},
   "outputs": [
    {
     "name": "stdout",
     "output_type": "stream",
     "text": [
      "count total: 10365\n"
     ]
    }
   ],
   "source": [
    "counttotal = predictions_lr_small.count()\n",
    "print('count total:', counttotal)"
   ]
  },
  {
   "cell_type": "code",
   "execution_count": 238,
   "metadata": {},
   "outputs": [],
   "source": [
    "lp = predictions_lr_small.select( \"label\", \"prediction\")"
   ]
  },
  {
   "cell_type": "code",
   "execution_count": 72,
   "metadata": {},
   "outputs": [
    {
     "name": "stdout",
     "output_type": "stream",
     "text": [
      "correct: 7696\n"
     ]
    }
   ],
   "source": [
    "correct = lp.filter(lp[\"label\"] == lp[\"prediction\"]).count()\n",
    "print('correct:', correct)"
   ]
  },
  {
   "cell_type": "code",
   "execution_count": 70,
   "metadata": {},
   "outputs": [
    {
     "name": "stdout",
     "output_type": "stream",
     "text": [
      "accuracy: 0.742498794018331\n"
     ]
    }
   ],
   "source": [
    "print('accuracy:', correct/float(counttotal))"
   ]
  },
  {
   "cell_type": "code",
   "execution_count": 237,
   "metadata": {},
   "outputs": [],
   "source": [
    "def metricsCalc(lp):\n",
    "    '''\n",
    "    Calculate binary classification metrics\n",
    "    '''\n",
    "    \n",
    "    trueP = lp.filter(lp[\"prediction\"] == 1.0).filter(lp[\"label\"] == lp[\"prediction\"]).count()\n",
    "    trueN = lp.filter(lp[\"prediction\"] == 0.0).filter(lp[\"label\"] == lp[\"prediction\"]).count()\n",
    "    falseP = lp.filter(lp[\"prediction\"] == 1.0).filter(lp[\"label\"] != lp[\"prediction\"]).count()\n",
    "    falseN = lp.filter(lp[\"prediction\"] == 0.0).filter(lp[\"label\"] != lp[\"prediction\"]).count()\n",
    "\n",
    "    # Calculate precision, recall, accuracy, and F1\n",
    "    precision = float(trueP)/(trueP + falseP) # aka specificity\n",
    "    recall = float(trueP)/(trueP + falseN)  # aka sensitivity\n",
    "    accuracy = float(trueP + trueN)/(trueP + trueN + falseP + falseN)\n",
    "    if trueP != 0:\n",
    "        f1 = 2 * (precision * recall) / (precision + recall)  # if trueP=0, then precision=0 and recall=0, so f1 doesn't work.\n",
    "    else:\n",
    "        f1 = 'TP=0 so cannot calc f1'\n",
    "\n",
    "    # prints\n",
    "    print('Number of records:', (trueP+falseP+trueN+falseN))\n",
    "    print(f'trueP\\t\\t{trueP}')\n",
    "    print(f'trueN\\t\\t{trueN}')\n",
    "    print(f'falseP\\t\\t{falseP}')\n",
    "    print(f'falseN\\t\\t{falseN}')\n",
    "    print(f'accuracy\\t{accuracy}')\n",
    "    print(f'precision\\t{precision}')\n",
    "    print(f'recall\\t\\t{recall}')\n",
    "    print(f'f1\\t\\t{f1}')"
   ]
  },
  {
   "cell_type": "code",
   "execution_count": 239,
   "metadata": {},
   "outputs": [
    {
     "name": "stdout",
     "output_type": "stream",
     "text": [
      "Number of records: 10365\n",
      "trueP\t\t71\n",
      "trueN\t\t7625\n",
      "falseP\t\t60\n",
      "falseN\t\t2609\n",
      "accuracy\t0.742498794018331\n",
      "precision\t0.5419847328244275\n",
      "recall\t\t0.026492537313432835\n",
      "f1\t\t0.050515830665243684\n"
     ]
    }
   ],
   "source": [
    "lp_small = predictions_lr_small.select( \"label\", \"prediction\")\n",
    "metricsCalc(lp_small)"
   ]
  },
  {
   "cell_type": "code",
   "execution_count": 110,
   "metadata": {},
   "outputs": [
    {
     "data": {
      "text/plain": [
       "'label'"
      ]
     },
     "execution_count": 110,
     "metadata": {},
     "output_type": "execute_result"
    }
   ],
   "source": [
    "trainingSummary_small.labelCol"
   ]
  },
  {
   "cell_type": "code",
   "execution_count": 111,
   "metadata": {},
   "outputs": [
    {
     "data": {
      "text/plain": [
       "'probability'"
      ]
     },
     "execution_count": 111,
     "metadata": {},
     "output_type": "execute_result"
    }
   ],
   "source": [
    "trainingSummary_small.probabilityCol"
   ]
  },
  {
   "cell_type": "code",
   "execution_count": 127,
   "metadata": {},
   "outputs": [],
   "source": [
    "l_all = predictions_lr_small.select( \"label\", \"probability\", \"prediction\")"
   ]
  },
  {
   "cell_type": "code",
   "execution_count": 128,
   "metadata": {},
   "outputs": [
    {
     "name": "stdout",
     "output_type": "stream",
     "text": [
      "+-----+--------------------+----------+\n",
      "|label|         probability|prediction|\n",
      "+-----+--------------------+----------+\n",
      "|  0.0|[0.72835492125822...|       0.0|\n",
      "|  0.0|[0.85613433044258...|       0.0|\n",
      "|  0.0|[0.85613433044258...|       0.0|\n",
      "|  0.0|[0.85613433044258...|       0.0|\n",
      "|  0.0|[0.85613433044258...|       0.0|\n",
      "|  0.0|[0.85613433044258...|       0.0|\n",
      "|  0.0|[0.83191078863056...|       0.0|\n",
      "|  0.0|[0.83191078863056...|       0.0|\n",
      "|  0.0|[0.75988364274687...|       0.0|\n",
      "|  0.0|[0.75988364274687...|       0.0|\n",
      "|  0.0|[0.75988364274687...|       0.0|\n",
      "|  0.0|[0.75988364274687...|       0.0|\n",
      "|  0.0|[0.75988364274687...|       0.0|\n",
      "|  0.0|[0.75988364274687...|       0.0|\n",
      "|  0.0|[0.72466576308662...|       0.0|\n",
      "|  0.0|[0.72466576308662...|       0.0|\n",
      "|  0.0|[0.76344505299742...|       0.0|\n",
      "|  0.0|[0.85638677270010...|       0.0|\n",
      "|  0.0|[0.85671346801646...|       0.0|\n",
      "|  0.0|[0.91908787911567...|       0.0|\n",
      "+-----+--------------------+----------+\n",
      "only showing top 20 rows\n",
      "\n"
     ]
    }
   ],
   "source": [
    "l_all.show()"
   ]
  },
  {
   "cell_type": "code",
   "execution_count": 129,
   "metadata": {},
   "outputs": [
    {
     "data": {
      "text/plain": [
       "Row(label=0.0, probability=DenseVector([0.7284, 0.2716]), prediction=0.0)"
      ]
     },
     "execution_count": 129,
     "metadata": {},
     "output_type": "execute_result"
    }
   ],
   "source": [
    "l_all.head()"
   ]
  },
  {
   "cell_type": "code",
   "execution_count": 130,
   "metadata": {},
   "outputs": [],
   "source": [
    "l_pos = l_all.filter(l_all['prediction']==1.0)"
   ]
  },
  {
   "cell_type": "code",
   "execution_count": 131,
   "metadata": {},
   "outputs": [
    {
     "name": "stdout",
     "output_type": "stream",
     "text": [
      "+-----+--------------------+----------+\n",
      "|label|         probability|prediction|\n",
      "+-----+--------------------+----------+\n",
      "|  0.0|[0.44621554094092...|       1.0|\n",
      "|  0.0|[0.24772169653926...|       1.0|\n",
      "|  0.0|[0.19063332156566...|       1.0|\n",
      "|  1.0|[0.45309698836657...|       1.0|\n",
      "|  1.0|[0.19039937972810...|       1.0|\n",
      "|  1.0|[0.00194481278906...|       1.0|\n",
      "|  1.0|[1.14196272400034...|       1.0|\n",
      "|  0.0|[0.19737483092537...|       1.0|\n",
      "|  1.0|[0.47917578826940...|       1.0|\n",
      "|  1.0|[0.49959284605317...|       1.0|\n",
      "|  1.0|[0.21280156310072...|       1.0|\n",
      "|  0.0|[0.49792602431280...|       1.0|\n",
      "|  0.0|[0.42104827076934...|       1.0|\n",
      "|  0.0|[0.40536553221745...|       1.0|\n",
      "|  0.0|[0.39138954435492...|       1.0|\n",
      "|  0.0|[0.27318312628595...|       1.0|\n",
      "|  0.0|[0.19603620545852...|       1.0|\n",
      "|  1.0|[0.46583281417288...|       1.0|\n",
      "|  1.0|[0.41195922161647...|       1.0|\n",
      "|  0.0|[0.47897508566274...|       1.0|\n",
      "+-----+--------------------+----------+\n",
      "only showing top 20 rows\n",
      "\n"
     ]
    }
   ],
   "source": [
    "l_pos.show()"
   ]
  },
  {
   "cell_type": "code",
   "execution_count": 132,
   "metadata": {},
   "outputs": [
    {
     "data": {
      "text/plain": [
       "Row(label=0.0, probability=DenseVector([0.4462, 0.5538]), prediction=1.0)"
      ]
     },
     "execution_count": 132,
     "metadata": {},
     "output_type": "execute_result"
    }
   ],
   "source": [
    "l_pos.head()"
   ]
  },
  {
   "cell_type": "code",
   "execution_count": 90,
   "metadata": {},
   "outputs": [],
   "source": [
    "# Log loss\n",
    "\n",
    "def logloss(true_label, predicted_prob):\n",
    "  \n",
    "    epsilon = 10^(-15)\n",
    "    predicted_prob = max(min(predicted_prob, 1-epsilon), epsilon)\n",
    "    \n",
    "    if true_label == 1:\n",
    "        return -log(predicted_prob)\n",
    "    else:\n",
    "        return -log(1 - predicted_prob)"
   ]
  },
  {
   "cell_type": "code",
   "execution_count": 109,
   "metadata": {},
   "outputs": [
    {
     "data": {
      "text/plain": [
       "<pyspark.ml.classification.BinaryLogisticRegressionTrainingSummary at 0x7fa9729c2ef0>"
      ]
     },
     "execution_count": 109,
     "metadata": {},
     "output_type": "execute_result"
    }
   ],
   "source": [
    "trainingSummary_small\n",
    "#print(trainingSummary_small)"
   ]
  },
  {
   "cell_type": "code",
   "execution_count": 101,
   "metadata": {},
   "outputs": [
    {
     "name": "stdout",
     "output_type": "stream",
     "text": [
      "intercept: -1.2282349801739665\n",
      "coefficients: [2.8687282487666583,0.6751681978279879,-3.0766032897750923,0.050258493422503256,-0.5812470924213744,0.025827077895429925,0.21014400455738527,0.006208130249914411,-0.5960309219171409]\n"
     ]
    }
   ],
   "source": [
    "# feature importance\n",
    "\n",
    "# https://spark.apache.org/docs/2.2.0/ml-classification-regression.html\n",
    "\n",
    "print('intercept:', lr_small_model.intercept)\n",
    "print('coefficients:', lr_small_model.coefficients)\n"
   ]
  },
  {
   "cell_type": "code",
   "execution_count": 157,
   "metadata": {},
   "outputs": [
    {
     "data": {
      "text/plain": [
       "['label',\n",
       " 'n0',\n",
       " 'n1',\n",
       " 'n2',\n",
       " 'c8',\n",
       " 'c19',\n",
       " 'c8_idx',\n",
       " 'c19_idx',\n",
       " 'c8_OHE',\n",
       " 'c19_OHE',\n",
       " 'features']"
      ]
     },
     "execution_count": 157,
     "metadata": {},
     "output_type": "execute_result"
    }
   ],
   "source": [
    "small_sample_train.columns"
   ]
  },
  {
   "cell_type": "markdown",
   "metadata": {},
   "source": [
    "#### regularization and cross validation"
   ]
  },
  {
   "cell_type": "code",
   "execution_count": 153,
   "metadata": {},
   "outputs": [
    {
     "name": "stdout",
     "output_type": "stream",
     "text": [
      "+-----+----------+--------------------+\n",
      "|label|prediction|         probability|\n",
      "+-----+----------+--------------------+\n",
      "|  0.0|       0.0|[0.75004694775605...|\n",
      "|  0.0|       0.0|[0.82726170576101...|\n",
      "|  0.0|       0.0|[0.82726170576101...|\n",
      "|  0.0|       0.0|[0.82726170576101...|\n",
      "|  0.0|       0.0|[0.82726170576101...|\n",
      "|  0.0|       0.0|[0.82726170576101...|\n",
      "|  0.0|       0.0|[0.81700622602457...|\n",
      "|  0.0|       0.0|[0.81700622602457...|\n",
      "|  0.0|       0.0|[0.76224960882026...|\n",
      "|  0.0|       0.0|[0.76224960882026...|\n",
      "+-----+----------+--------------------+\n",
      "only showing top 10 rows\n",
      "\n"
     ]
    }
   ],
   "source": [
    "# Logisitic Regression with Regularization and Cross Validation for Hyperparameter Tuning\n",
    "\n",
    "from pyspark.ml.tuning import CrossValidator, ParamGridBuilder \n",
    "\n",
    "lr_small_reg = LogisticRegression(featuresCol = 'features', labelCol = 'label', maxIter=10)\n",
    "\n",
    "paramGrid_lr = ParamGridBuilder() \\\n",
    "    .addGrid(lr_small_reg.regParam, [0.01, 0.1, 1.0]) \\\n",
    "    .addGrid(lr_small_reg.elasticNetParam, [0.5, 0.7, 0.9]) \\\n",
    "    .build()\n",
    "\n",
    "crossval_lr_small = CrossValidator(estimator=lr_small_reg,\n",
    "                             estimatorParamMaps=paramGrid_lr,\n",
    "                             evaluator=BinaryClassificationEvaluator(),\n",
    "                             numFolds=5)\n",
    "\n",
    "#fit model to training data\n",
    "lr_small_reg_model = crossval_lr_small.fit(small_sample_train)\n",
    "\n",
    "#Transform test data\n",
    "lr_small_reg_result = lr_small_reg_model.transform(small_sample_test)\n",
    "\n",
    "#view id, label, prediction and probability from result of modeling\n",
    "lr_small_reg_result.select('label', 'prediction', 'probability').show(10)\n"
   ]
  },
  {
   "cell_type": "code",
   "execution_count": 167,
   "metadata": {},
   "outputs": [
    {
     "name": "stdout",
     "output_type": "stream",
     "text": [
      "Best Hyperparameters for Small Sample dataset\n",
      "best regParam: LogisticRegression_4542b0fd3fd28f383cc3__regParam\n",
      "best elasticNetParam: LogisticRegression_4542b0fd3fd28f383cc3__elasticNetParam\n"
     ]
    }
   ],
   "source": [
    "print('Best Hyperparameters for Small Sample dataset')\n",
    "print(\"best regParam:\", lr_small_reg_model.bestModel.regParam)\n",
    "print(\"best elasticNetParam:\", lr_small_reg_model.bestModel.elasticNetParam)"
   ]
  },
  {
   "cell_type": "code",
   "execution_count": 236,
   "metadata": {},
   "outputs": [],
   "source": [
    "#lr_small_reg_model.getEstimatorParamMaps()"
   ]
  },
  {
   "cell_type": "code",
   "execution_count": 175,
   "metadata": {},
   "outputs": [
    {
     "data": {
      "text/plain": [
       "{Param(parent='LogisticRegression_4542b0fd3fd28f383cc3', name='regParam', doc='regularization parameter (>= 0).'): 0.01,\n",
       " Param(parent='LogisticRegression_4542b0fd3fd28f383cc3', name='elasticNetParam', doc='the ElasticNet mixing parameter, in range [0, 1]. For alpha = 0, the penalty is an L2 penalty. For alpha = 1, it is an L1 penalty.'): 0.9}"
      ]
     },
     "execution_count": 175,
     "metadata": {},
     "output_type": "execute_result"
    }
   ],
   "source": [
    "lr_small_reg_model.getEstimatorParamMaps()[ np.argmax(lr_small_reg_model.avgMetrics) ]"
   ]
  },
  {
   "cell_type": "markdown",
   "metadata": {},
   "source": [
    "#### Best hyperparameters for small sample: regParam = 0.01; elasticNetParam = 0.9."
   ]
  },
  {
   "cell_type": "code",
   "execution_count": 217,
   "metadata": {},
   "outputs": [
    {
     "name": "stdout",
     "output_type": "stream",
     "text": [
      "intercept: -1.2090852455788703\n",
      "coefficients: [2.478052796049695,0.06401468125312675,-0.6580943688652904,0.04402230673054404,-0.3572683651957661,0.0,0.07014881268525996,0.0,-0.48191783947288547]\n"
     ]
    }
   ],
   "source": [
    "print('intercept:', lr_small_reg_model.bestModel.intercept)\n",
    "print('coefficients:', lr_small_reg_model.bestModel.coefficients)"
   ]
  },
  {
   "cell_type": "code",
   "execution_count": 156,
   "metadata": {},
   "outputs": [
    {
     "name": "stdout",
     "output_type": "stream",
     "text": [
      "Number of records: 10365\n",
      "trueP\t\t56\n",
      "trueN\t\t7641\n",
      "falseP\t\t44\n",
      "falseN\t\t2624\n",
      "accuracy\t0.7425952725518572\n",
      "precision\t0.56\n",
      "recall\t\t0.020895522388059702\n",
      "f1\t\t0.040287769784172665\n"
     ]
    }
   ],
   "source": [
    "lp_reg = lr_small_reg_result.select( \"label\", \"prediction\")\n",
    "metricsCalc(lp_reg)"
   ]
  },
  {
   "cell_type": "code",
   "execution_count": null,
   "metadata": {},
   "outputs": [],
   "source": []
  },
  {
   "cell_type": "code",
   "execution_count": null,
   "metadata": {},
   "outputs": [],
   "source": []
  },
  {
   "cell_type": "code",
   "execution_count": null,
   "metadata": {},
   "outputs": [],
   "source": []
  },
  {
   "cell_type": "code",
   "execution_count": null,
   "metadata": {},
   "outputs": [],
   "source": []
  },
  {
   "cell_type": "markdown",
   "metadata": {},
   "source": [
    "## Read in (medium) sample and apply Logistic Regression"
   ]
  },
  {
   "cell_type": "code",
   "execution_count": 196,
   "metadata": {},
   "outputs": [],
   "source": [
    "### NOTE: Per Alex, train and test are reversed, so read them in reverse order.\n",
    "sample_train = spark.read.parquet('data/testSample.parquet')\n",
    "sample_test = spark.read.parquet('data/trainSample.parquet')"
   ]
  },
  {
   "cell_type": "code",
   "execution_count": 184,
   "metadata": {},
   "outputs": [
    {
     "data": {
      "text/plain": [
       "Row(label=0.0, n0=0.0, n1=0.0, n2=0.00016070711128967456, n3=0.03424657534246575, n4=0.0025729368529526933, n5=0.0, n6=0.0, n7=0.017241379310344827, n8=0.0016054227613271496, n9=0.0, n10=0.0, n11=0.0, n12=0.016778523489932886, c0='5684', c1='8609', c2='9077', c3='6365', c4='4903', c5='2646', c6='2630', c7='84', c8='6944', c9='8539', c10='5511', c11='1635', c12='6300', c13='2527', c14='5306', c15='7065', c16='4857', c17='2077', c18='None', c19='None', c20='2164', c21='None', c22='4324', c23='1592', c24='None', c25='None', c0_idx=0.0, c1_idx=222.0, c2_idx=2612.0, c3_idx=6.0, c4_idx=1.0, c5_idx=1.0, c6_idx=1128.0, c7_idx=0.0, c8_idx=0.0, c9_idx=0.0, c10_idx=1061.0, c11_idx=1297.0, c12_idx=1076.0, c13_idx=1.0, c14_idx=1333.0, c15_idx=556.0, c16_idx=4.0, c17_idx=844.0, c18_idx=0.0, c19_idx=0.0, c20_idx=260.0, c21_idx=0.0, c22_idx=4.0, c23_idx=2.0, c24_idx=0.0, c25_idx=0.0, c19_OHE=SparseVector(4, {0: 1.0}), c6_OHE=SparseVector(1950, {1128: 1.0}), c16_OHE=SparseVector(10, {4: 1.0}), c10_OHE=SparseVector(1376, {1061: 1.0}), c14_OHE=SparseVector(1333, {}), c21_OHE=SparseVector(8, {0: 1.0}), c20_OHE=SparseVector(2464, {260: 1.0}), c4_OHE=SparseVector(43, {1: 1.0}), c12_OHE=SparseVector(1223, {1076: 1.0}), c25_OHE=SparseVector(1092, {0: 1.0}), c5_OHE=SparseVector(7, {1: 1.0}), c15_OHE=SparseVector(2370, {556: 1.0}), c24_OHE=SparseVector(36, {0: 1.0}), c2_OHE=SparseVector(2612, {}), c8_OHE=SparseVector(3, {0: 1.0}), c22_OHE=SparseVector(13, {4: 1.0}), c13_OHE=SparseVector(23, {1: 1.0}), c1_OHE=SparseVector(329, {222: 1.0}), c11_OHE=SparseVector(2506, {1297: 1.0}), c17_OHE=SparseVector(844, {}), c18_OHE=SparseVector(339, {0: 1.0}), c0_OHE=SparseVector(112, {0: 1.0}), c23_OHE=SparseVector(1457, {2: 1.0}), c9_OHE=SparseVector(1778, {0: 1.0}), c7_OHE=SparseVector(72, {0: 1.0}), c3_OHE=SparseVector(2118, {6: 1.0}), features=SparseVector(24135, {2: 0.0002, 3: 0.0342, 4: 0.0026, 7: 0.0172, 8: 0.0016, 12: 0.0168, 13: 1.0, 1145: 1.0, 1971: 1.0, 3038: 1.0, 4686: 1.0, 4954: 1.0, 7159: 1.0, 8277: 1.0, 8424: 1.0, 9517: 1.0, 10079: 1.0, 11893: 1.0, 14541: 1.0, 14548: 1.0, 14558: 1.0, 14802: 1.0, 16206: 1.0, 18259: 1.0, 18598: 1.0, 18712: 1.0, 20167: 1.0, 21945: 1.0, 22023: 1.0}))"
      ]
     },
     "execution_count": 184,
     "metadata": {},
     "output_type": "execute_result"
    }
   ],
   "source": [
    "sample_train.head()"
   ]
  },
  {
   "cell_type": "code",
   "execution_count": 186,
   "metadata": {},
   "outputs": [
    {
     "data": {
      "text/plain": [
       "Row(label=0.0, n0=0.0, n1=0.0001520912547528517, n2=0.0, n3=0.0, n4=0.0, n5=0.0, n6=0.0, n7=0.0, n8=0.0, n9=0.0, n10=0.0, n11=0.0, n12=0.0, c0='5684', c1='8017', c2='1044', c3='5785', c4='9704', c5='8079', c6='288', c7='84', c8='6944', c9='8539', c10='7424', c11='677', c12='9161', c13='2527', c14='8664', c15='7351', c16='2577', c17='7987', c18='None', c19='None', c20='8589', c21='None', c22='4324', c23='5834', c24='None', c25='None', c0_idx=0.0, c1_idx=0.0, c2_idx=533.0, c3_idx=131.0, c4_idx=0.0, c5_idx=0.0, c6_idx=431.0, c7_idx=0.0, c8_idx=0.0, c9_idx=0.0, c10_idx=203.0, c11_idx=502.0, c12_idx=330.0, c13_idx=1.0, c14_idx=587.0, c15_idx=190.0, c16_idx=8.0, c17_idx=393.0, c18_idx=0.0, c19_idx=0.0, c20_idx=442.0, c21_idx=0.0, c22_idx=4.0, c23_idx=219.0, c24_idx=0.0, c25_idx=0.0, c19_OHE=SparseVector(4, {0: 1.0}), c6_OHE=SparseVector(1950, {431: 1.0}), c16_OHE=SparseVector(10, {8: 1.0}), c10_OHE=SparseVector(1376, {203: 1.0}), c14_OHE=SparseVector(1333, {587: 1.0}), c21_OHE=SparseVector(8, {0: 1.0}), c20_OHE=SparseVector(2464, {442: 1.0}), c4_OHE=SparseVector(43, {0: 1.0}), c12_OHE=SparseVector(1223, {330: 1.0}), c25_OHE=SparseVector(1092, {0: 1.0}), c5_OHE=SparseVector(7, {0: 1.0}), c15_OHE=SparseVector(2370, {190: 1.0}), c24_OHE=SparseVector(36, {0: 1.0}), c2_OHE=SparseVector(2612, {533: 1.0}), c8_OHE=SparseVector(3, {0: 1.0}), c22_OHE=SparseVector(13, {4: 1.0}), c13_OHE=SparseVector(23, {1: 1.0}), c1_OHE=SparseVector(329, {0: 1.0}), c11_OHE=SparseVector(2506, {502: 1.0}), c17_OHE=SparseVector(844, {393: 1.0}), c18_OHE=SparseVector(339, {0: 1.0}), c0_OHE=SparseVector(112, {0: 1.0}), c23_OHE=SparseVector(1457, {219: 1.0}), c9_OHE=SparseVector(1778, {0: 1.0}), c7_OHE=SparseVector(72, {0: 1.0}), c3_OHE=SparseVector(2118, {131: 1.0}), features=SparseVector(24135, {1: 0.0002, 13: 1.0, 448: 1.0, 1975: 1.0, 2180: 1.0, 3940: 1.0, 4686: 1.0, 5136: 1.0, 7158: 1.0, 7531: 1.0, 8424: 1.0, 9516: 1.0, 9713: 1.0, 11893: 1.0, 12462: 1.0, 14541: 1.0, 14548: 1.0, 14558: 1.0, 14580: 1.0, 15411: 1.0, 17808: 1.0, 18259: 1.0, 18598: 1.0, 18929: 1.0, 20167: 1.0, 21945: 1.0, 22148: 1.0}))"
      ]
     },
     "execution_count": 186,
     "metadata": {},
     "output_type": "execute_result"
    }
   ],
   "source": [
    "sample_test.head()"
   ]
  },
  {
   "cell_type": "code",
   "execution_count": 188,
   "metadata": {},
   "outputs": [
    {
     "data": {
      "text/plain": [
       "['label',\n",
       " 'n0',\n",
       " 'n1',\n",
       " 'n2',\n",
       " 'n3',\n",
       " 'n4',\n",
       " 'n5',\n",
       " 'n6',\n",
       " 'n7',\n",
       " 'n8',\n",
       " 'n9',\n",
       " 'n10',\n",
       " 'n11',\n",
       " 'n12',\n",
       " 'c0',\n",
       " 'c1',\n",
       " 'c2',\n",
       " 'c3',\n",
       " 'c4',\n",
       " 'c5',\n",
       " 'c6',\n",
       " 'c7',\n",
       " 'c8',\n",
       " 'c9',\n",
       " 'c10',\n",
       " 'c11',\n",
       " 'c12',\n",
       " 'c13',\n",
       " 'c14',\n",
       " 'c15',\n",
       " 'c16',\n",
       " 'c17',\n",
       " 'c18',\n",
       " 'c19',\n",
       " 'c20',\n",
       " 'c21',\n",
       " 'c22',\n",
       " 'c23',\n",
       " 'c24',\n",
       " 'c25',\n",
       " 'c0_idx',\n",
       " 'c1_idx',\n",
       " 'c2_idx',\n",
       " 'c3_idx',\n",
       " 'c4_idx',\n",
       " 'c5_idx',\n",
       " 'c6_idx',\n",
       " 'c7_idx',\n",
       " 'c8_idx',\n",
       " 'c9_idx',\n",
       " 'c10_idx',\n",
       " 'c11_idx',\n",
       " 'c12_idx',\n",
       " 'c13_idx',\n",
       " 'c14_idx',\n",
       " 'c15_idx',\n",
       " 'c16_idx',\n",
       " 'c17_idx',\n",
       " 'c18_idx',\n",
       " 'c19_idx',\n",
       " 'c20_idx',\n",
       " 'c21_idx',\n",
       " 'c22_idx',\n",
       " 'c23_idx',\n",
       " 'c24_idx',\n",
       " 'c25_idx',\n",
       " 'c19_OHE',\n",
       " 'c6_OHE',\n",
       " 'c16_OHE',\n",
       " 'c10_OHE',\n",
       " 'c14_OHE',\n",
       " 'c21_OHE',\n",
       " 'c20_OHE',\n",
       " 'c4_OHE',\n",
       " 'c12_OHE',\n",
       " 'c25_OHE',\n",
       " 'c5_OHE',\n",
       " 'c15_OHE',\n",
       " 'c24_OHE',\n",
       " 'c2_OHE',\n",
       " 'c8_OHE',\n",
       " 'c22_OHE',\n",
       " 'c13_OHE',\n",
       " 'c1_OHE',\n",
       " 'c11_OHE',\n",
       " 'c17_OHE',\n",
       " 'c18_OHE',\n",
       " 'c0_OHE',\n",
       " 'c23_OHE',\n",
       " 'c9_OHE',\n",
       " 'c7_OHE',\n",
       " 'c3_OHE',\n",
       " 'features']"
      ]
     },
     "execution_count": 188,
     "metadata": {},
     "output_type": "execute_result"
    }
   ],
   "source": [
    "sample_train.columns"
   ]
  },
  {
   "cell_type": "code",
   "execution_count": 190,
   "metadata": {},
   "outputs": [
    {
     "data": {
      "text/plain": [
       "41332"
      ]
     },
     "execution_count": 190,
     "metadata": {},
     "output_type": "execute_result"
    }
   ],
   "source": [
    "sample_train.distinct().count()"
   ]
  },
  {
   "cell_type": "code",
   "execution_count": 191,
   "metadata": {},
   "outputs": [
    {
     "data": {
      "text/plain": [
       "4693"
      ]
     },
     "execution_count": 191,
     "metadata": {},
     "output_type": "execute_result"
    }
   ],
   "source": [
    "sample_test.distinct().count()"
   ]
  },
  {
   "cell_type": "code",
   "execution_count": 245,
   "metadata": {},
   "outputs": [
    {
     "data": {
      "image/png": "[encoded data removed]",
      "text/plain": [
       "<Figure size 432x288 with 1 Axes>"
      ]
     },
     "metadata": {},
     "output_type": "display_data"
    },
    {
     "name": "stdout",
     "output_type": "stream",
     "text": [
      "Training set ROC: 0.9693825545925725\n"
     ]
    }
   ],
   "source": [
    "lr_sample = LogisticRegression(featuresCol = 'features', labelCol = 'label', maxIter=80, standardization=False)\n",
    "lr_sample_model = lr_sample.fit(sample_train)\n",
    "trainingSummary_sample = lr_sample_model.summary\n",
    "\n",
    "roc = trainingSummary_sample.roc.toPandas()\n",
    "plt.plot(roc['FPR'],roc['TPR'])\n",
    "plt.ylabel('False Positive Rate')\n",
    "plt.xlabel('True Positive Rate')\n",
    "plt.title('ROC Curve')\n",
    "plt.show()\n",
    "print('Training set ROC: ' + str(trainingSummary_sample.areaUnderROC))"
   ]
  },
  {
   "cell_type": "code",
   "execution_count": null,
   "metadata": {},
   "outputs": [],
   "source": []
  },
  {
   "cell_type": "code",
   "execution_count": 246,
   "metadata": {},
   "outputs": [
    {
     "data": {
      "text/plain": [
       "[<matplotlib.lines.Line2D at 0x7fa97022e9b0>]"
      ]
     },
     "execution_count": 246,
     "metadata": {},
     "output_type": "execute_result"
    },
    {
     "data": {
      "image/png": "[encoded data removed]",
      "text/plain": [
       "<Figure size 432x288 with 1 Axes>"
      ]
     },
     "metadata": {},
     "output_type": "display_data"
    }
   ],
   "source": [
    "objectiveHistory = trainingSummary_sample.objectiveHistory\n",
    "plt.plot(objectiveHistory)"
   ]
  },
  {
   "cell_type": "code",
   "execution_count": 244,
   "metadata": {},
   "outputs": [
    {
     "data": {
      "text/plain": [
       "[0.5670952164187563,\n",
       " 0.5472669883925428,\n",
       " 0.4617428672903857,\n",
       " 0.41391146682897784,\n",
       " 0.38942525754145335,\n",
       " 0.36864472392015873,\n",
       " 0.35279969416858153,\n",
       " 0.3103149373156345,\n",
       " 0.2950978727421059,\n",
       " 0.2745285320079837,\n",
       " 0.2672807888880707,\n",
       " 0.2616469059907713,\n",
       " 0.24993549967773623,\n",
       " 0.2496756111951745,\n",
       " 0.24126130637246967,\n",
       " 0.2385883262374011,\n",
       " 0.23578360543850788,\n",
       " 0.23145938690586962,\n",
       " 0.2290067624430102,\n",
       " 0.22747080420531432,\n",
       " 0.22336849193942454,\n",
       " 0.22091403019932607,\n",
       " 0.2182262136809893,\n",
       " 0.21627427465379828,\n",
       " 0.21460359923523903,\n",
       " 0.21281114123480405,\n",
       " 0.21120506092005287,\n",
       " 0.20988146622360299,\n",
       " 0.20862727803194728,\n",
       " 0.20803525570428924,\n",
       " 0.2064939440644126,\n",
       " 0.20588673653054712,\n",
       " 0.2051249814907131,\n",
       " 0.20400414133451789,\n",
       " 0.20299987632082273,\n",
       " 0.20211842362797697,\n",
       " 0.2012907136569904,\n",
       " 0.2004796414305319,\n",
       " 0.19991141134930043,\n",
       " 0.1991333713955443,\n",
       " 0.19868775203718278]"
      ]
     },
     "execution_count": 244,
     "metadata": {},
     "output_type": "execute_result"
    }
   ],
   "source": [
    "objectiveHistory"
   ]
  },
  {
   "cell_type": "code",
   "execution_count": 247,
   "metadata": {},
   "outputs": [
    {
     "data": {
      "text/plain": [
       "0.9161182618794155"
      ]
     },
     "execution_count": 247,
     "metadata": {},
     "output_type": "execute_result"
    }
   ],
   "source": [
    "lr_sample_model.summary.accuracy  # training set only"
   ]
  },
  {
   "cell_type": "code",
   "execution_count": 251,
   "metadata": {},
   "outputs": [],
   "source": [
    "#test_acc = lr_sample_model.evaluate(sample_test)\n",
    "#test_acc.summary.accuracy"
   ]
  },
  {
   "cell_type": "code",
   "execution_count": 252,
   "metadata": {},
   "outputs": [
    {
     "name": "stdout",
     "output_type": "stream",
     "text": [
      "Test_SET (Area Under ROC): 0.6077074937608642\n"
     ]
    }
   ],
   "source": [
    "predictions_lr_sample = lr_sample_model.transform(sample_test)\n",
    "evaluator = BinaryClassificationEvaluator()\n",
    "print(\"Test_SET (Area Under ROC): \" + str(evaluator.evaluate(predictions_lr_small, {evaluator.metricName: \"areaUnderROC\"})))"
   ]
  },
  {
   "cell_type": "code",
   "execution_count": 253,
   "metadata": {},
   "outputs": [
    {
     "name": "stdout",
     "output_type": "stream",
     "text": [
      "Number of records: 4693\n",
      "trueP\t\t380\n",
      "trueN\t\t2747\n",
      "falseP\t\t767\n",
      "falseN\t\t799\n",
      "accuracy\t0.6663115278073727\n",
      "precision\t0.33129904097646035\n",
      "recall\t\t0.32230703986429177\n",
      "f1\t\t0.32674118658641443\n"
     ]
    }
   ],
   "source": [
    "lp_sample = predictions_lr_sample.select( \"label\", \"prediction\")\n",
    "metricsCalc(lp_sample)"
   ]
  },
  {
   "cell_type": "code",
   "execution_count": null,
   "metadata": {},
   "outputs": [],
   "source": []
  },
  {
   "cell_type": "code",
   "execution_count": 268,
   "metadata": {},
   "outputs": [
    {
     "name": "stdout",
     "output_type": "stream",
     "text": [
      "+-----+----------+--------------------+\n",
      "|label|prediction|         probability|\n",
      "+-----+----------+--------------------+\n",
      "|  0.0|       0.0|[0.86182412973191...|\n",
      "|  0.0|       0.0|[0.78449407076323...|\n",
      "|  0.0|       0.0|[0.67555008560766...|\n",
      "|  0.0|       0.0|[0.80438435996795...|\n",
      "|  0.0|       0.0|[0.92632968790738...|\n",
      "|  0.0|       0.0|[0.90937962858943...|\n",
      "|  0.0|       0.0|[0.77013535164624...|\n",
      "|  0.0|       0.0|[0.52975579836242...|\n",
      "|  0.0|       0.0|[0.70986154871933...|\n",
      "|  0.0|       0.0|[0.79394201615931...|\n",
      "+-----+----------+--------------------+\n",
      "only showing top 10 rows\n",
      "\n"
     ]
    }
   ],
   "source": [
    "# Logisitic Regression with Regularization and Cross Validation for Hyperparameter Tuning\n",
    "\n",
    "from pyspark.ml.tuning import CrossValidator, ParamGridBuilder \n",
    "\n",
    "#lr_sample_reg = LogisticRegression(featuresCol = 'features', labelCol = 'label', maxIter=80, standardization=False)\n",
    "lr_sample_reg = LogisticRegression(featuresCol = 'features', labelCol = 'label', maxIter=80)\n",
    "\n",
    "paramGrid_lr = ParamGridBuilder() \\\n",
    "    .addGrid(lr_sample_reg.regParam, [0.001, 0.01, 0.03]) \\\n",
    "    .addGrid(lr_sample_reg.elasticNetParam, [0.3, 0.5, 0.7]) \\\n",
    "    .build()\n",
    "\n",
    "crossval_lr_sample = CrossValidator(estimator=lr_sample_reg,\n",
    "                             estimatorParamMaps=paramGrid_lr,\n",
    "                             evaluator=BinaryClassificationEvaluator(),\n",
    "                             numFolds=5)\n",
    "\n",
    "#fit model to training data\n",
    "lr_sample_reg_model = crossval_lr_sample.fit(sample_train)\n",
    "\n",
    "#Transform test data\n",
    "lr_sample_reg_result = lr_sample_reg_model.transform(sample_test)\n",
    "\n",
    "#view id, label, prediction and probability from result of modeling\n",
    "lr_sample_reg_result.select('label', 'prediction', 'probability').show(10)"
   ]
  },
  {
   "cell_type": "code",
   "execution_count": 269,
   "metadata": {},
   "outputs": [
    {
     "data": {
      "text/plain": [
       "{Param(parent='LogisticRegression_4507bad8e0079acae182', name='regParam', doc='regularization parameter (>= 0).'): 0.01,\n",
       " Param(parent='LogisticRegression_4507bad8e0079acae182', name='elasticNetParam', doc='the ElasticNet mixing parameter, in range [0, 1]. For alpha = 0, the penalty is an L2 penalty. For alpha = 1, it is an L1 penalty.'): 0.5}"
      ]
     },
     "execution_count": 269,
     "metadata": {},
     "output_type": "execute_result"
    }
   ],
   "source": [
    "lr_sample_reg_model.getEstimatorParamMaps()[ np.argmax(lr_sample_reg_model.avgMetrics) ]"
   ]
  },
  {
   "cell_type": "code",
   "execution_count": 270,
   "metadata": {},
   "outputs": [
    {
     "name": "stdout",
     "output_type": "stream",
     "text": [
      "intercept: -1.242008689485966\n",
      "coefficients: (24135,[1,3,4,5,7,9,10,12,14,15,16,20,24,33,37,43,56,58,74,80,84,87,122,146,147,159,204,208,278,286,294,304,339,363,404,417,433,462,485,512,614,652,720,745,820,996,1008,1139,1180,1181,1203,1410,1487,1517,1593,1720,1779,1850,1928,1967,1969,1971,1972,1974,1975,1978,1990,1991,2009,2010,2026,2029,2033,2036,2049,2054,2069,2076,2091,2124,2149,2164,2214,2247,2296,2325,2359,2377,2398,2489,2494,2503,2513,2554,2601,2646,2654,2806,2856,2872,2911,2960,3094,3151,3179,3220,3241,3336,3355,3360,3367,3377,3379,3380,3381,3382,3424,3431,3449,3461,3465,3492,3494,3510,3530,3550,3633,3663,3685,3719,3740,3754,3783,3797,3818,3819,3847,3858,3862,3876,3902,3935,3944,3958,4024,4027,4030,4249,4251,4363,4448,4467,4473,4523,4686,4687,4702,4704,4705,4706,4708,4757,4800,4809,4888,5120,5124,5157,5170,5258,5316,5385,5410,5566,5719,5721,5777,5939,5949,6001,6201,6301,6421,6496,6526,6624,6653,6660,6710,6797,6828,6854,6855,6967,7006,7045,7080,7213,7217,7220,7222,7225,7227,7229,7231,7240,7255,7258,7272,7273,7277,7292,7304,7306,7309,7330,7334,7346,7379,7400,7456,7513,7519,7521,7550,7554,7556,7640,7652,7682,7691,7759,7787,7799,7803,7942,7973,7997,8160,8201,8205,8212,8213,8285,8288,8359,8379,8393,8426,8427,8430,8441,8452,8464,8475,8479,8501,8525,8526,8527,8528,8557,8564,8585,8608,8665,8678,8700,8708,8721,8826,8836,8913,8928,9037,9073,9203,9258,9264,9331,9346,9466,9490,9509,9520,9521,9531,9534,9686,9744,9850,9914,9916,9931,9939,9993,10084,10109,10156,10171,10177,10214,10215,10262,10296,10503,10511,10582,10698,10824,10974,11188,11222,11471,11820,11894,11906,11925,11934,11936,11954,11985,11998,12072,12073,12102,12137,12176,12216,12544,12563,12604,12770,13120,13136,13142,13259,13275,13292,13401,13423,13440,13454,13623,13842,13921,14048,14119,14166,14267,14382,14398,14408,14428,14541,14542,14544,14545,14546,14548,14552,14557,14560,14561,14562,14563,14565,14576,14580,14582,14593,14594,14598,14601,14603,14606,14607,14615,14645,14682,14688,14689,14690,14723,14725,14731,14738,14792,14871,14918,14946,14984,15045,15066,15170,15223,15235,15295,15299,15338,15433,15459,15700,15742,15764,15828,15875,15887,15911,15975,16031,16037,16079,16111,16112,16195,16312,16453,16516,16698,16768,16887,16917,17087,17143,17153,17182,17208,17354,17423,17436,17447,17450,17471,17488,17497,17502,17520,17532,17563,17565,17574,17577,17600,17619,17625,17628,17669,17800,17806,17814,17833,17847,18019,18062,18208,18257,18260,18266,18300,18313,18458,18540,18558,18622,18715,18718,18720,18739,18750,18779,18788,18795,18804,18821,18840,18895,18909,18924,18927,19000,19027,19078,19104,19353,19448,19461,19510,19539,19643,19647,19718,19801,19852,19901,19914,19968,20169,20174,20175,20208,20262,20281,20333,20334,20340,20351,20417,20418,20587,20597,20616,20645,20669,20738,20752,20878,21043,21061,21112,21125,21264,21270,21435,21460,21612,21699,21767,21821,21842,21897,21964,21969,22018,22022,22050,22052,22055,22072,22086,22096,22121,22130,22178,22197,22224,22245,22256,22499,22599,23014,23046,23086,23117,23133,23256,23364,23438,23517,23531,23734,23748,23922,23980,24028,24071],[0.6608949875826369,-1.4463023581352858,-2.1181284384298262,-1.621398881371207,-0.6865828281075718,2.0193394031294827,2.4143440876624256,-3.0338457600107196,0.03686989868706007,-0.15274388593930793,-0.05508361529858702,0.014572005396448696,0.530061849010453,-0.0631106067749868,4.724974214307782e-05,0.020178644471660328,0.12256449250459629,0.0885625521009711,-0.49527730548454185,0.6535482472490902,0.0005860586606765688,0.15839684580918129,0.020198705432406254,0.15757394837351144,0.02848418592423223,0.04548117631849016,0.08891103756142472,0.11555157126438559,0.07824665673304068,0.1268832917689635,0.07911014824790062,0.022914547384137073,0.1046572055760084,0.17423924625997816,0.5902500590196423,0.2435704845073127,0.4307402811826791,0.04848187994350899,0.33107337656691943,-0.0040064266710914094,0.24316962393934008,0.3690651065444853,-0.013636476439123406,-0.19603857733901658,0.14567441547850546,0.7476744003577753,0.1494487787439284,0.12211352753938447,0.36956159412982476,0.4782527685264081,0.04556445556077689,0.27161000525266044,0.5685916246777233,0.09128494149300126,0.15565126581997907,0.009603443613446049,0.48779832786379995,0.15847207180579173,0.25794041825857006,0.3000386107987643,-0.0903376401323774,-0.3606578704220985,-0.324242194963917,0.07133453285178577,-0.37079682251597323,-0.013227059432435614,0.057320260304065604,0.049491906421862186,0.09305286841838449,0.41604824046643124,0.9429574896258714,0.3083911103814955,0.46927222389371126,0.18095472018387251,0.002952174102588555,-0.19550726054592965,0.23543273851056443,0.21147168422460966,0.020198705432406254,0.2174177105290239,0.352822087662562,0.5512671332536522,0.08762109329737207,1.1951661729447922,-0.0005044441737124521,0.07999432155658186,0.3486500475181413,-0.024591917764767882,0.051128875887879996,0.7149248087884736,0.12719546838151474,0.4296326122078673,0.5428983018549147,0.45381570346837635,0.18969325847078203,0.18518549928415437,-0.013636476439123406,0.015622520800529479,0.5679024743349856,0.5094980709554925,0.3053641401768524,0.049243152195607126,0.11348030128414677,0.1607483157781552,-0.03772125527509522,0.3702770296770517,0.45614090969513815,0.6150905518161756,-0.0913860122412568,-0.02072121408427192,-0.1521178364952172,-0.14750615991669982,-0.09357614840626616,0.10046658331923032,0.09632193558999476,0.03713399920104738,0.08380800103075144,0.018408642077402636,0.37256850222064986,0.10274827313109709,0.39817201271932373,-0.03599658430785664,0.0575864355019916,0.12223538189246895,0.24804372121158683,0.0450113424447207,0.036149741261838834,0.026872745853490754,0.24479753777157584,0.08968343730550327,0.2864269785038395,0.009868412163422165,0.3107017153061202,0.24075411870477995,0.05570185060103715,0.3689837504637849,0.013343523996874903,0.16806158613796937,0.06981118102179715,0.4467773524161916,0.2518610620036646,-0.07740072482229074,0.5867357168694598,0.14177214991465928,0.2695065935507624,0.2896034539837612,0.9481682963415142,0.26344670140039095,0.5613244833048433,-0.10076586038296367,1.0552885522952438,0.28411985201363493,0.639218812820987,0.12404809412730924,-0.011300421128632145,0.06410374446749931,0.10178073977683827,-0.1869937754703296,-0.07458179270973066,-0.10993964529415412,0.0845116844459962,-0.20552060157233837,0.08710755089819121,0.01798275094107978,0.3811925243379269,0.18366576242304053,0.18294595575067174,0.7761959670104127,0.8941913752057377,0.2490358032218867,1.3620141358504874,0.09636370273029457,0.25778687111966175,0.30242740465645807,0.566465321943968,0.30555712843670635,0.25811755273226206,0.14357906480736973,0.29522977793496763,0.1729483878961847,0.4597754590612852,0.056310958430189,0.4921788536174637,0.20838827240140384,0.17767827290074437,0.04489307403669624,0.2909161474574383,0.29160017373025454,0.5768483007047029,0.5152817115437637,-0.022068371193147553,0.16664967327103256,0.001580144972271103,0.3280116122109531,0.14046032302483802,0.5495127931991214,0.37776845786203916,0.4684547158900848,0.530061849010453,-0.13404215483410017,-0.044854706645398354,0.3930380949038537,0.29870015117690496,0.3765451599051304,0.02853090835874064,0.024841871325288825,0.3083911103814955,0.07564831101799675,-0.15969069618906265,0.18095472018387251,0.002952174102588555,-0.19550726054592965,0.21147168422460966,0.05015479949551621,0.2557039336978129,0.16071677590653277,0.04504641585516745,0.020198705432406254,0.352822087662562,0.051182101707347695,0.406847022709045,-0.0005044441737124521,0.3486500475181413,0.022914547384137073,0.42731742358768937,-0.024591917764767882,0.051128875887879996,0.27811509692646547,0.18969325847078203,0.04042127552247694,-0.013636476439123406,0.12719546838151474,0.4296326122078673,0.18518549928415437,0.4264449003999552,0.5094980709554925,0.15611669890947868,0.06651121860039672,0.45614090969513815,-0.01936988423031462,0.49862347885361336,0.049243152195607126,0.22392391421083635,0.11348030128414677,0.14449894796534027,-0.03772125527509522,0.1607483157781552,0.015622520800529479,0.3643135101822234,0.032539603916834636,-0.17952249786212635,-0.0004434541636347965,-0.17153240020548016,-0.26933782175912463,0.33373055705814497,2.050486579212758,0.07608725942128886,1.0835675569289307,0.289339521654,-0.06202411213512191,-0.10082543040705597,0.24874721399043434,-0.09662786287358831,0.2534859294318558,0.2389474948454132,0.244110483161063,0.4467773524161916,0.24564941801773799,0.14151708607332725,0.6839860787066261,0.6685721069249145,0.330353560917859,0.17315234803848897,0.06168076952471347,0.6632875914809867,0.7095132945228342,0.12011437838598832,0.12377404156847412,0.1814122596818343,0.23841734145665877,0.23892000340676972,0.00500344514543206,0.7009468473415645,-0.08746992679520735,0.3143774115894571,-0.0768898851755448,0.01598312343707898,-0.166486951782727,0.055030909641105595,0.4895414047523373,0.4315249827811995,1.115747650571158,0.23036106158729266,0.0424967563778403,0.49516108747671217,0.02352680146628835,0.21069510775137784,0.1861891064320925,0.3873214082380641,0.237751347401346,0.17566202016818996,0.38573375546642574,0.2624816210726824,0.8428024111866659,0.6802573509643581,0.3873267003398449,0.352818489527275,0.6627558025949475,0.38004300684285464,0.9093193896127139,0.02479940383744683,1.1209233121799045,0.7648380511958737,0.11587436961811994,0.09702377144064188,-0.08795646908512798,0.2618977407644728,0.5346006930225228,-0.03883948519327986,-0.038155478809906655,-0.08349872167131193,0.14808874405249456,-0.29140474427086427,0.12467526022161582,0.5235008149112699,0.1554712936836595,0.8910360662472016,0.6411580214176005,0.2870670736311973,0.1644891783059789,0.2506844934681691,0.1027743198623838,0.8088363441148045,0.06544455806942023,0.2410332389191868,0.4381198963052828,0.1034689496817963,0.33775453421948076,0.461306635895633,0.4903735131984261,0.45238711785728125,0.3059850546310996,0.8150469833753913,0.24738458224555707,0.21784542026762652,0.321103828515264,0.947560085239671,0.052819973733318745,0.14165476793541654,-0.23457271105443336,1.1930063152637638,0.4338737776097559,0.30722864818273654,0.18497586744982034,0.005974329263862036,-0.3232198468034689,0.025249081084605208,-0.047306237854944234,0.1145281801164634,-0.4208815238036991,-0.0520415124244708,-0.1463654983456115,0.515840888039654,-0.05424006234314643,0.34621864330958124,-0.8841966941002541,-0.6287625833452724,0.13770308739082088,0.2083886833109463,-0.02966834415214622,0.2187677373386526,-0.1323666851292434,-4.599730101550087e-05,0.1765311463305239,-0.011322463139892951,-0.03953569200277183,0.008264829865602166,-0.34619417882999126,0.20440984998867545,0.4780844781767792,-0.2256996557580366,0.5797413361573566,0.3043013658315573,-0.012264856834736167,0.029676910586558476,-0.0729327096948511,0.259127732676729,-0.034122486814996376,0.01901335219676853,-0.16488851881568184,0.21672380664863639,-0.003191712444749981,0.013604279086216215,0.5696881163642037,0.2812971643025568,1.4275683490129543,-0.11619517565528026,0.07947252726924249,1.0774516767095652,0.27154709220410955,0.3886691988565997,0.1220945499663426,0.2040045285780262,0.4640714383064226,0.981915787208868,0.15329290837867046,0.15806429575756334,0.14018183327642886,0.7048135456421538,0.5816018767037386,0.8444680212302359,0.15281840096518765,0.5326523320472153,0.4046283434025651,0.22904644188134865,0.33539183118594124,0.5627248829133578,0.13056280779588111,0.4601070847793515,0.20301700452398244,0.07186468930759346,0.044185937391223964,0.5905157503340162,0.17802260950619025,0.3918834737608185,0.32341445031006216,0.01789170996675619,1.0490886579243306,-0.04635175162944199,-0.06164408336080294,0.008264829865602166,0.29476860781879044,0.10046658331923032,-0.12410124516421106,0.20440984998867545,-0.015608758066674713,0.024722701056954125,0.3116081506058118,0.11892417643286185,-0.10491361985324404,1.2903229073775935,-0.12958165325961749,-0.09346943890620023,0.04137995852085053,0.029676910586558476,-0.04496278094120049,0.18300480734083266,0.03227774363907463,0.7214662895682725,0.14177214991465928,0.04130644114653692,0.9481682963415142,-0.034122486814996376,0.06840418947774815,0.8014548407960348,0.26344670140039095,0.01901335219676853,-0.042499073114521155,0.3615127689154254,0.2118365525450716,0.35053524089253774,0.1428624850560594,0.34450954604624623,0.6757118524597449,-0.04264286461586657,-0.18771866355224495,0.07019052944592231,0.09426876901562734,0.007007987220723168,-0.15647566730647608,0.12098867097600653,0.08217177398704348,0.20578722495748583,0.18869552725165092,0.4286394890333336,0.40647385391635876,0.212128757984345,-0.09662786287358831,-0.49590425115418324,0.04591844385637133,-0.2226065853338656,0.6439161356881554,0.3830924691835359,0.10688062532206964,0.4652213304872324,0.011448747863058136,0.7486482465796882,0.4981452439392086,0.08750576473731606,0.3724978383265737,0.3265534480656797,0.5413280783243163,0.00500344514543206,0.0434364345804853,0.8709445070369132,0.06840418947774815,0.11947153561654636,-0.0064483843590293095,-0.031024969594676682,-0.06135798878383552,0.4145868788110456,0.30798782879392134,0.12295292120941775,0.7761307964109344,0.020195626120967734,0.129401413376642,0.16283295224191335,0.3392034004387399,0.2100874130797042,0.3306577926036369,0.00822288288826706,0.030126116509623723,-0.0374329016526907,0.009978207201495235,0.00850640448572019,0.5168015291385227,0.8368936297670022,0.12594903868456267,0.39724665155721034,0.21503633063265476,0.12100134427268477,0.30971162319205614,0.44420765385240013,0.02580736815480215,-0.3814557919058827,0.18638847324826482,0.09332108738316591,0.8522196797495459,0.3488806057608149,0.434156903932199,0.4432679538100233,0.059909746605860736,0.020766680254633005,-0.07410137655314374,0.3646833602107855,-0.11463925570415534,0.2694164490636879,0.03217698875232152,0.14579958243195953,0.2095369973777146,0.27845248394949623,0.004018380599191803,0.30462605251886643,-0.0670202049896256,0.136398376425079,0.13072188049707395,0.2242912102060225,-0.03905410865817207,0.019590594161416897,0.1752295014521571,0.19557612591579196,0.5897378077494282,0.47729849269249225,0.4933661198639164,0.6126168390542529,0.1207754352890094,0.16179320769893568,0.20339542631176466,0.050780045631861254,0.18710509460182922,0.29728534029182685,0.2706506818695194,0.33132773968889806,0.037151494532808624,-0.12453359982415078,0.459798018723221])\n"
     ]
    }
   ],
   "source": [
    "print('intercept:', lr_sample_reg_model.bestModel.intercept)\n",
    "print('coefficients:', lr_sample_reg_model.bestModel.coefficients)"
   ]
  },
  {
   "cell_type": "code",
   "execution_count": 271,
   "metadata": {},
   "outputs": [
    {
     "name": "stdout",
     "output_type": "stream",
     "text": [
      "Number of records: 4693\n",
      "trueP\t\t138\n",
      "trueN\t\t3412\n",
      "falseP\t\t102\n",
      "falseN\t\t1041\n",
      "accuracy\t0.7564457702961858\n",
      "precision\t0.575\n",
      "recall\t\t0.11704834605597965\n",
      "f1\t\t0.1945031712473573\n"
     ]
    }
   ],
   "source": [
    "lp_reg_sample = lr_sample_reg_result.select( \"label\", \"prediction\")\n",
    "metricsCalc(lp_reg_sample)"
   ]
  },
  {
   "cell_type": "code",
   "execution_count": null,
   "metadata": {},
   "outputs": [],
   "source": []
  },
  {
   "cell_type": "code",
   "execution_count": null,
   "metadata": {},
   "outputs": [],
   "source": []
  },
  {
   "cell_type": "code",
   "execution_count": null,
   "metadata": {},
   "outputs": [],
   "source": []
  },
  {
   "cell_type": "code",
   "execution_count": null,
   "metadata": {},
   "outputs": [],
   "source": []
  },
  {
   "cell_type": "markdown",
   "metadata": {},
   "source": [
    "## Read full training and test data and apply Logistic Regression"
   ]
  },
  {
   "cell_type": "code",
   "execution_count": 196,
   "metadata": {},
   "outputs": [],
   "source": [
    "train = spark.read.parquet('data/train.parquet')\n",
    "test = spark.read.parquet('data/test.parquet')"
   ]
  },
  {
   "cell_type": "code",
   "execution_count": 223,
   "metadata": {},
   "outputs": [],
   "source": [
    "train.head()"
   ]
  },
  {
   "cell_type": "code",
   "execution_count": 224,
   "metadata": {},
   "outputs": [],
   "source": [
    "test.head()"
   ]
  },
  {
   "cell_type": "code",
   "execution_count": 225,
   "metadata": {},
   "outputs": [],
   "source": [
    "train.columns"
   ]
  },
  {
   "cell_type": "code",
   "execution_count": 226,
   "metadata": {},
   "outputs": [],
   "source": [
    "train.distinct().count()"
   ]
  },
  {
   "cell_type": "code",
   "execution_count": 227,
   "metadata": {},
   "outputs": [],
   "source": [
    "test.distinct().count()"
   ]
  },
  {
   "cell_type": "code",
   "execution_count": 229,
   "metadata": {},
   "outputs": [
    {
     "data": {
      "text/plain": [
       "\"lr = LogisticRegression(featuresCol = 'features', labelCol = 'label', maxIter=40)\\nlr_model = lr.fit(train)\\ntrainingSummary = lr_model.summary\\n\\nroc = trainingSummary.roc.toPandas()\\nplt.plot(roc['FPR'],roc['TPR'])\\nplt.ylabel('False Positive Rate')\\nplt.xlabel('True Positive Rate')\\nplt.title('ROC Curve')\\nplt.show()\\nprint('Training set ROC: ' + str(trainingSummary.areaUnderROC))\\n\""
      ]
     },
     "execution_count": 229,
     "metadata": {},
     "output_type": "execute_result"
    }
   ],
   "source": [
    "# Non-CV version\n",
    "\n",
    "lr = LogisticRegression(featuresCol = 'features', labelCol = 'label', maxIter=40)\n",
    "lr_model = lr.fit(train)\n",
    "trainingSummary = lr_model.summary\n",
    "\n",
    "roc = trainingSummary.roc.toPandas()\n",
    "plt.plot(roc['FPR'],roc['TPR'])\n",
    "plt.ylabel('False Positive Rate')\n",
    "plt.xlabel('True Positive Rate')\n",
    "plt.title('ROC Curve')\n",
    "plt.show()\n",
    "print('Training set ROC: ' + str(trainingSummary.areaUnderROC))"
   ]
  },
  {
   "cell_type": "code",
   "execution_count": 230,
   "metadata": {},
   "outputs": [],
   "source": [
    "objectiveHistory = trainingSummary.objectiveHistory\n",
    "plt.plot(objectiveHistory)"
   ]
  },
  {
   "cell_type": "code",
   "execution_count": 231,
   "metadata": {},
   "outputs": [],
   "source": [
    "objectiveHistory"
   ]
  },
  {
   "cell_type": "code",
   "execution_count": null,
   "metadata": {},
   "outputs": [],
   "source": [
    "# Non-CV run\n",
    "\n",
    "predictions_lr = lr_model.transform(test)\n",
    "evaluator = BinaryClassificationEvaluator()\n",
    "print(\"Test_SET (Area Under ROC): \" + str(evaluator.evaluate(predictions_lr, {evaluator.metricName: \"areaUnderROC\"})))"
   ]
  },
  {
   "cell_type": "code",
   "execution_count": null,
   "metadata": {},
   "outputs": [],
   "source": [
    "lp_full = predictions_lr.select( \"label\", \"prediction\")\n",
    "metricsCalc(lp_full)"
   ]
  },
  {
   "cell_type": "code",
   "execution_count": null,
   "metadata": {},
   "outputs": [],
   "source": []
  },
  {
   "cell_type": "code",
   "execution_count": 232,
   "metadata": {},
   "outputs": [
    {
     "data": {
      "text/plain": [
       "\"\\nfrom pyspark.ml.tuning import CrossValidator, ParamGridBuilder \\n\\nlr_reg = LogisticRegression(featuresCol = 'features', labelCol = 'label', maxIter=30)\\n\\nparamGrid_lr = ParamGridBuilder()     .addGrid(lr_reg.regParam, [0.01, 0.1, 1.0])     .addGrid(lr_reg.elasticNetParam, [0.5, 0.7, 0.9])     .build()\\n\\ncrossval_lr = CrossValidator(estimator=lr_reg,\\n                             estimatorParamMaps=paramGrid_lr,\\n                             evaluator=BinaryClassificationEvaluator(),\\n                             numFolds=5)\\n\\n#fit model to training data\\nlr_reg_model = crossval_lr.fit(train)\\n\\n#Transform test data\\nlr_reg_result = lr_reg_model.transform(test)\\n\\n#view id, label, prediction and probability from result of modeling\\nlr_reg_result.select('label', 'prediction', 'probability').show(10)\\n\""
      ]
     },
     "execution_count": 232,
     "metadata": {},
     "output_type": "execute_result"
    }
   ],
   "source": [
    "# Logisitic Regression with Regularization and Cross Validation for Hyperparameter Tuning\n",
    "\n",
    "from pyspark.ml.tuning import CrossValidator, ParamGridBuilder \n",
    "\n",
    "lr_reg = LogisticRegression(featuresCol = 'features', labelCol = 'label', maxIter=30)\n",
    "\n",
    "paramGrid_lr = ParamGridBuilder() \\\n",
    "    .addGrid(lr_reg.regParam, [0.001, 0.01, 0.1]) \\\n",
    "    .addGrid(lr_reg.elasticNetParam, [0.3, 0.5, 0.7]) \\\n",
    "    .build()\n",
    "\n",
    "crossval_lr = CrossValidator(estimator=lr_reg,\n",
    "                             estimatorParamMaps=paramGrid_lr,\n",
    "                             evaluator=BinaryClassificationEvaluator(),\n",
    "                             numFolds=5)\n",
    "\n",
    "#fit model to training data\n",
    "lr_reg_model = crossval_lr.fit(train)\n",
    "\n",
    "#Transform test data\n",
    "lr_reg_result = lr_reg_model.transform(test)\n",
    "\n",
    "#view id, label, prediction and probability from result of modeling\n",
    "lr_reg_result.select('label', 'prediction', 'probability').show(10)\n"
   ]
  },
  {
   "cell_type": "code",
   "execution_count": 233,
   "metadata": {},
   "outputs": [],
   "source": [
    "lr_reg_model.getEstimatorParamMaps()[ np.argmax(lr_reg_model.avgMetrics) ]"
   ]
  },
  {
   "cell_type": "code",
   "execution_count": 234,
   "metadata": {},
   "outputs": [],
   "source": [
    "print('intercept:', lr_reg_model.bestModel.intercept)\n",
    "print('coefficients:', lr_reg_model.bestModel.coefficients)"
   ]
  },
  {
   "cell_type": "code",
   "execution_count": 235,
   "metadata": {},
   "outputs": [],
   "source": [
    "lp_reg = lr_reg_result.select( \"label\", \"prediction\")\n",
    "metricsCalc(lp_reg)"
   ]
  },
  {
   "cell_type": "code",
   "execution_count": null,
   "metadata": {},
   "outputs": [],
   "source": []
  },
  {
   "cell_type": "code",
   "execution_count": null,
   "metadata": {},
   "outputs": [],
   "source": []
  },
  {
   "cell_type": "code",
   "execution_count": null,
   "metadata": {},
   "outputs": [],
   "source": []
  }
 ],
 "metadata": {
  "kernelspec": {
   "display_name": "Python 3",
   "language": "python",
   "name": "python3"
  },
  "language_info": {
   "codemirror_mode": {
    "name": "ipython",
    "version": 3
   },
   "file_extension": ".py",
   "mimetype": "text/x-python",
   "name": "python",
   "nbconvert_exporter": "python",
   "pygments_lexer": "ipython3",
   "version": "3.6.6"
  }
 },
 "nbformat": 4,
 "nbformat_minor": 2
}
