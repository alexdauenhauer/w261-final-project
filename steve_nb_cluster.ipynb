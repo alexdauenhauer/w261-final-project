{
 "cells": [
  {
   "cell_type": "markdown",
   "metadata": {},
   "source": [
    "# Final Project - Steve's Notebook"
   ]
  },
  {
   "cell_type": "markdown",
   "metadata": {},
   "source": [
    "MIDS w261: Machine Learning at Scale | UC Berkeley School of Information | Spring 2019\n",
    "\n",
    "Final Project: Click Through Rate Prediction"
   ]
  },
  {
   "cell_type": "markdown",
   "metadata": {},
   "source": [
    "Helpful references:  \n",
    "https://github.com/elsyifa/Classification-Pyspark  \n",
    "https://docs.databricks.com/spark/latest/mllib/binary-classification-mllib-pipelines.html  \n",
    "https://medium.com/@_moazzemhossain/machine-learning-cheat-sheets-for-ml-engineers-data-scientist-d44a43f65979  "
   ]
  },
  {
   "cell_type": "code",
   "execution_count": 33,
   "metadata": {},
   "outputs": [
    {
     "data": {
      "text/html": [
       "\n",
       "            <div>\n",
       "                <p><b>SparkSession - hive</b></p>\n",
       "                \n",
       "        <div>\n",
       "            <p><b>SparkContext</b></p>\n",
       "\n",
       "            <p><a href=\"http://desa-cluster-m.us-west1-b.c.w261-finalproject-236917.internal:4040\">Spark UI</a></p>\n",
       "\n",
       "            <dl>\n",
       "              <dt>Version</dt>\n",
       "                <dd><code>v2.3.1</code></dd>\n",
       "              <dt>Master</dt>\n",
       "                <dd><code>yarn</code></dd>\n",
       "              <dt>AppName</dt>\n",
       "                <dd><code>pyspark-shell</code></dd>\n",
       "            </dl>\n",
       "        </div>\n",
       "        \n",
       "            </div>\n",
       "        "
      ],
      "text/plain": [
       "<pyspark.sql.session.SparkSession at 0x7fafbc022ef0>"
      ]
     },
     "execution_count": 33,
     "metadata": {},
     "output_type": "execute_result"
    }
   ],
   "source": [
    "spark   # use this on cluster"
   ]
  },
  {
   "cell_type": "code",
   "execution_count": 34,
   "metadata": {},
   "outputs": [],
   "source": [
    "sc = spark.sparkContext   # use this on the cluster"
   ]
  },
  {
   "cell_type": "code",
   "execution_count": 35,
   "metadata": {},
   "outputs": [],
   "source": [
    "import re\n",
    "import ast\n",
    "import time\n",
    "import numpy as np\n",
    "import pandas as pd\n",
    "import matplotlib.pyplot as plt\n",
    "import pyspark.sql.functions as F\n",
    "from pyspark.sql import types"
   ]
  },
  {
   "cell_type": "code",
   "execution_count": 36,
   "metadata": {},
   "outputs": [],
   "source": [
    "\n",
    "from pyspark.sql import types, Row, Column\n",
    "from pyspark.ml.feature import OneHotEncoderEstimator, StringIndexer, VectorAssembler\n",
    "from pyspark.ml import Pipeline\n",
    "from pyspark.ml.classification import LogisticRegression, LogisticRegressionModel, RandomForestClassifier\n",
    "from pyspark.ml.tuning import CrossValidator, ParamGridBuilder\n",
    "from pyspark.ml.evaluation import BinaryClassificationEvaluator"
   ]
  },
  {
   "cell_type": "code",
   "execution_count": 2,
   "metadata": {},
   "outputs": [],
   "source": [
    "# start Spark Session\n",
    "'''\n",
    "from pyspark.sql import SparkSession\n",
    "app_name = \"finalProject\"\n",
    "master = \"local[*]\"\n",
    "spark = SparkSession\\\n",
    "        .builder\\\n",
    "        .appName(app_name)\\\n",
    "        .master(master)\\\n",
    "        .getOrCreate()\n",
    "sc = spark.sparkContext\n",
    "'''"
   ]
  },
  {
   "cell_type": "markdown",
   "metadata": {},
   "source": [
    "##### Download data from the source.  "
   ]
  },
  {
   "cell_type": "code",
   "execution_count": 21,
   "metadata": {},
   "outputs": [],
   "source": [
    "### Create data directory and download data from the source: http://labs.criteo.com/2014/09/kaggle-contest-dataset-now-available-academic-use/\n",
    "#https://s3-eu-west-1.amazonaws.com/kaggle-display-advertising-challenge-dataset/dac.tar.gz "
   ]
  },
  {
   "cell_type": "code",
   "execution_count": 4,
   "metadata": {},
   "outputs": [
    {
     "name": "stdout",
     "output_type": "stream",
     "text": [
      "45840617 data/train.txt\n"
     ]
    }
   ],
   "source": [
    "!wc -l data/train.txt"
   ]
  },
  {
   "cell_type": "code",
   "execution_count": 5,
   "metadata": {},
   "outputs": [
    {
     "name": "stdout",
     "output_type": "stream",
     "text": [
      "6042135 data/test.txt\n"
     ]
    }
   ],
   "source": [
    "!wc -l data/test.txt"
   ]
  },
  {
   "cell_type": "code",
   "execution_count": null,
   "metadata": {},
   "outputs": [],
   "source": []
  },
  {
   "cell_type": "markdown",
   "metadata": {},
   "source": [
    "## Read in small sample and apply Logistic Regression"
   ]
  },
  {
   "cell_type": "code",
   "execution_count": 42,
   "metadata": {},
   "outputs": [],
   "source": [
    "small_sample_train = spark.read.parquet('data/smallTrainSample.parquet')"
   ]
  },
  {
   "cell_type": "code",
   "execution_count": 178,
   "metadata": {},
   "outputs": [
    {
     "data": {
      "text/plain": [
       "Row(label=0.0, n0=0.0, n1=0.0001595405232929164, n2=0.0, c8='8418', c19='None', c8_idx=1.0, c19_idx=0.0, c8_OHE=SparseVector(2, {1: 1.0}), c19_OHE=SparseVector(4, {0: 1.0}), features=SparseVector(9, {1: 0.0002, 4: 1.0, 5: 1.0}))"
      ]
     },
     "execution_count": 178,
     "metadata": {},
     "output_type": "execute_result"
    }
   ],
   "source": [
    "small_sample_train.head()"
   ]
  },
  {
   "cell_type": "code",
   "execution_count": 44,
   "metadata": {},
   "outputs": [],
   "source": [
    "from pyspark.ml.classification import LogisticRegression"
   ]
  },
  {
   "cell_type": "code",
   "execution_count": 179,
   "metadata": {},
   "outputs": [],
   "source": [
    "lr_small = LogisticRegression(featuresCol = 'features', labelCol = 'label', maxIter=10)\n",
    "lr_small_model = lr_small.fit(small_sample_train)"
   ]
  },
  {
   "cell_type": "code",
   "execution_count": 47,
   "metadata": {},
   "outputs": [],
   "source": [
    "trainingSummary_small = lr_small_model.summary"
   ]
  },
  {
   "cell_type": "code",
   "execution_count": 50,
   "metadata": {},
   "outputs": [
    {
     "data": {
      "image/png": "[encoded data removed]",
      "text/plain": [
       "<Figure size 432x288 with 1 Axes>"
      ]
     },
     "metadata": {},
     "output_type": "display_data"
    },
    {
     "name": "stdout",
     "output_type": "stream",
     "text": [
      "Training set ROC: 0.6418060064935066\n"
     ]
    }
   ],
   "source": [
    "roc = trainingSummary_small.roc.toPandas()\n",
    "plt.plot(roc['FPR'],roc['TPR'])\n",
    "plt.ylabel('False Positive Rate')\n",
    "plt.xlabel('True Positive Rate')\n",
    "plt.title('ROC Curve')\n",
    "plt.show()\n",
    "print('Training set ROC: ' + str(trainingSummary_small.areaUnderROC))"
   ]
  },
  {
   "cell_type": "code",
   "execution_count": 133,
   "metadata": {},
   "outputs": [],
   "source": [
    "objectiveHistory = trainingSummary_small.objectiveHistory"
   ]
  },
  {
   "cell_type": "code",
   "execution_count": 134,
   "metadata": {},
   "outputs": [
    {
     "data": {
      "text/plain": [
       "[0.5450611331247501,\n",
       " 0.537565676579473,\n",
       " 0.5304127789669243,\n",
       " 0.5282731281354065,\n",
       " 0.5281851892167337,\n",
       " 0.5281285054262518,\n",
       " 0.5281036067941927,\n",
       " 0.5280990332504583,\n",
       " 0.5280982040098371,\n",
       " 0.528098125623702,\n",
       " 0.5280981244932045]"
      ]
     },
     "execution_count": 134,
     "metadata": {},
     "output_type": "execute_result"
    }
   ],
   "source": [
    "objectiveHistory"
   ]
  },
  {
   "cell_type": "code",
   "execution_count": 136,
   "metadata": {},
   "outputs": [
    {
     "data": {
      "text/plain": [
       "[<matplotlib.lines.Line2D at 0x7fa9726b88d0>]"
      ]
     },
     "execution_count": 136,
     "metadata": {},
     "output_type": "execute_result"
    },
    {
     "data": {
      "image/png": "[encoded data removed]",
      "text/plain": [
       "<Figure size 432x288 with 1 Axes>"
      ]
     },
     "metadata": {},
     "output_type": "display_data"
    }
   ],
   "source": [
    "plt.plot(objectiveHistory)"
   ]
  },
  {
   "cell_type": "code",
   "execution_count": null,
   "metadata": {},
   "outputs": [],
   "source": []
  },
  {
   "cell_type": "code",
   "execution_count": 51,
   "metadata": {},
   "outputs": [],
   "source": [
    "# Read in small test set\n",
    "small_sample_test = spark.read.parquet('data/smallTestSample.parquet')"
   ]
  },
  {
   "cell_type": "code",
   "execution_count": 52,
   "metadata": {},
   "outputs": [
    {
     "data": {
      "text/plain": [
       "Row(label=0.0, n0=0.0, n1=0.0, n2=0.006, c8='6944', c19='3834', c8_idx=0.0, c19_idx=1.0, c8_OHE=SparseVector(2, {0: 1.0}), c19_OHE=SparseVector(4, {1: 1.0}), features=SparseVector(9, {2: 0.006, 3: 1.0, 6: 1.0}))"
      ]
     },
     "execution_count": 52,
     "metadata": {},
     "output_type": "execute_result"
    }
   ],
   "source": [
    "small_sample_test.head()"
   ]
  },
  {
   "cell_type": "code",
   "execution_count": 53,
   "metadata": {},
   "outputs": [
    {
     "name": "stdout",
     "output_type": "stream",
     "text": [
      "Test_SET (Area Under ROC): 0.6077074937608637\n"
     ]
    }
   ],
   "source": [
    "from pyspark.ml.evaluation import BinaryClassificationEvaluator\n",
    "\n",
    "predictions_lr_small = lr_small_model.transform(small_sample_test)\n",
    "evaluator = BinaryClassificationEvaluator()\n",
    "print(\"Test_SET (Area Under ROC): \" + str(evaluator.evaluate(predictions_lr_small, {evaluator.metricName: \"areaUnderROC\"})))"
   ]
  },
  {
   "cell_type": "code",
   "execution_count": 142,
   "metadata": {},
   "outputs": [
    {
     "name": "stdout",
     "output_type": "stream",
     "text": [
      "test set Accuracy: 0.742498794018331\n"
     ]
    }
   ],
   "source": [
    "from pyspark.ml.evaluation import MulticlassClassificationEvaluator\n",
    "\n",
    "lr_eval2 = MulticlassClassificationEvaluator()\n",
    "print(\"test set Accuracy:\", str(lr_eval2.evaluate(predictions_lr_small, {lr_eval2.metricName: \"accuracy\"}))  )"
   ]
  },
  {
   "cell_type": "code",
   "execution_count": 143,
   "metadata": {},
   "outputs": [
    {
     "data": {
      "text/plain": [
       "[Param(parent='MulticlassClassificationEvaluator_4ff9a10c9236f9d8e0b1', name='labelCol', doc='label column name.'),\n",
       " Param(parent='MulticlassClassificationEvaluator_4ff9a10c9236f9d8e0b1', name='metricName', doc='metric name in evaluation (f1|weightedPrecision|weightedRecall|accuracy)'),\n",
       " Param(parent='MulticlassClassificationEvaluator_4ff9a10c9236f9d8e0b1', name='predictionCol', doc='prediction column name.')]"
      ]
     },
     "execution_count": 143,
     "metadata": {},
     "output_type": "execute_result"
    }
   ],
   "source": [
    "lr_eval2.params"
   ]
  },
  {
   "cell_type": "code",
   "execution_count": 148,
   "metadata": {},
   "outputs": [
    {
     "name": "stdout",
     "output_type": "stream",
     "text": [
      "test set Precision??: 0.6925564115693119\n",
      "test set Recall??: 0.742498794018331\n",
      "test set f1??: 0.6440633582469697\n"
     ]
    }
   ],
   "source": [
    "print(\"test set Precision??:\", str(lr_eval2.evaluate(predictions_lr_small, {lr_eval2.metricName: \"weightedPrecision\"}))  )\n",
    "print(\"test set Recall??:\", str(lr_eval2.evaluate(predictions_lr_small, {lr_eval2.metricName: \"weightedRecall\"}))  )\n",
    "print(\"test set f1??:\", str(lr_eval2.evaluate(predictions_lr_small, {lr_eval2.metricName: \"f1\"}))  )"
   ]
  },
  {
   "cell_type": "code",
   "execution_count": 97,
   "metadata": {},
   "outputs": [
    {
     "data": {
      "text/plain": [
       "[Param(parent='BinaryClassificationEvaluator_477a89b94c65ffbe023e', name='labelCol', doc='label column name.'),\n",
       " Param(parent='BinaryClassificationEvaluator_477a89b94c65ffbe023e', name='metricName', doc='metric name in evaluation (areaUnderROC|areaUnderPR)'),\n",
       " Param(parent='BinaryClassificationEvaluator_477a89b94c65ffbe023e', name='rawPredictionCol', doc='raw prediction (a.k.a. confidence) column name.')]"
      ]
     },
     "execution_count": 97,
     "metadata": {},
     "output_type": "execute_result"
    }
   ],
   "source": [
    "evaluator.params"
   ]
  },
  {
   "cell_type": "code",
   "execution_count": 61,
   "metadata": {},
   "outputs": [
    {
     "name": "stdout",
     "output_type": "stream",
     "text": [
      "count total: 10365\n"
     ]
    }
   ],
   "source": [
    "counttotal = predictions_lr_small.count()\n",
    "print('count total:', counttotal)"
   ]
  },
  {
   "cell_type": "code",
   "execution_count": 238,
   "metadata": {},
   "outputs": [],
   "source": [
    "lp = predictions_lr_small.select( \"label\", \"prediction\")"
   ]
  },
  {
   "cell_type": "code",
   "execution_count": 72,
   "metadata": {},
   "outputs": [
    {
     "name": "stdout",
     "output_type": "stream",
     "text": [
      "correct: 7696\n"
     ]
    }
   ],
   "source": [
    "correct = lp.filter(lp[\"label\"] == lp[\"prediction\"]).count()\n",
    "print('correct:', correct)"
   ]
  },
  {
   "cell_type": "code",
   "execution_count": 70,
   "metadata": {},
   "outputs": [
    {
     "name": "stdout",
     "output_type": "stream",
     "text": [
      "accuracy: 0.742498794018331\n"
     ]
    }
   ],
   "source": [
    "print('accuracy:', correct/float(counttotal))"
   ]
  },
  {
   "cell_type": "code",
   "execution_count": 237,
   "metadata": {},
   "outputs": [],
   "source": [
    "def metricsCalc(lp):\n",
    "    '''\n",
    "    Calculate binary classification metrics\n",
    "    '''\n",
    "    \n",
    "    trueP = lp.filter(lp[\"prediction\"] == 1.0).filter(lp[\"label\"] == lp[\"prediction\"]).count()\n",
    "    trueN = lp.filter(lp[\"prediction\"] == 0.0).filter(lp[\"label\"] == lp[\"prediction\"]).count()\n",
    "    falseP = lp.filter(lp[\"prediction\"] == 1.0).filter(lp[\"label\"] != lp[\"prediction\"]).count()\n",
    "    falseN = lp.filter(lp[\"prediction\"] == 0.0).filter(lp[\"label\"] != lp[\"prediction\"]).count()\n",
    "\n",
    "    # Calculate precision, recall, accuracy, and F1\n",
    "    precision = float(trueP)/(trueP + falseP) # aka specificity\n",
    "    recall = float(trueP)/(trueP + falseN)  # aka sensitivity\n",
    "    accuracy = float(trueP + trueN)/(trueP + trueN + falseP + falseN)\n",
    "    if trueP != 0:\n",
    "        f1 = 2 * (precision * recall) / (precision + recall)  # if trueP=0, then precision=0 and recall=0, so f1 doesn't work.\n",
    "    else:\n",
    "        f1 = 'TP=0 so cannot calc f1'\n",
    "\n",
    "    # prints\n",
    "    print('Number of records:', (trueP+falseP+trueN+falseN))\n",
    "    print(f'trueP\\t\\t{trueP}')\n",
    "    print(f'trueN\\t\\t{trueN}')\n",
    "    print(f'falseP\\t\\t{falseP}')\n",
    "    print(f'falseN\\t\\t{falseN}')\n",
    "    print(f'accuracy\\t{accuracy}')\n",
    "    print(f'precision\\t{precision}')\n",
    "    print(f'recall\\t\\t{recall}')\n",
    "    print(f'f1\\t\\t{f1}')"
   ]
  },
  {
   "cell_type": "code",
   "execution_count": 239,
   "metadata": {},
   "outputs": [
    {
     "name": "stdout",
     "output_type": "stream",
     "text": [
      "Number of records: 10365\n",
      "trueP\t\t71\n",
      "trueN\t\t7625\n",
      "falseP\t\t60\n",
      "falseN\t\t2609\n",
      "accuracy\t0.742498794018331\n",
      "precision\t0.5419847328244275\n",
      "recall\t\t0.026492537313432835\n",
      "f1\t\t0.050515830665243684\n"
     ]
    }
   ],
   "source": [
    "lp_small = predictions_lr_small.select( \"label\", \"prediction\")\n",
    "metricsCalc(lp_small)"
   ]
  },
  {
   "cell_type": "code",
   "execution_count": 110,
   "metadata": {},
   "outputs": [
    {
     "data": {
      "text/plain": [
       "'label'"
      ]
     },
     "execution_count": 110,
     "metadata": {},
     "output_type": "execute_result"
    }
   ],
   "source": [
    "trainingSummary_small.labelCol"
   ]
  },
  {
   "cell_type": "code",
   "execution_count": 111,
   "metadata": {},
   "outputs": [
    {
     "data": {
      "text/plain": [
       "'probability'"
      ]
     },
     "execution_count": 111,
     "metadata": {},
     "output_type": "execute_result"
    }
   ],
   "source": [
    "trainingSummary_small.probabilityCol"
   ]
  },
  {
   "cell_type": "code",
   "execution_count": 127,
   "metadata": {},
   "outputs": [],
   "source": [
    "l_all = predictions_lr_small.select( \"label\", \"probability\", \"prediction\")"
   ]
  },
  {
   "cell_type": "code",
   "execution_count": 128,
   "metadata": {},
   "outputs": [
    {
     "name": "stdout",
     "output_type": "stream",
     "text": [
      "+-----+--------------------+----------+\n",
      "|label|         probability|prediction|\n",
      "+-----+--------------------+----------+\n",
      "|  0.0|[0.72835492125822...|       0.0|\n",
      "|  0.0|[0.85613433044258...|       0.0|\n",
      "|  0.0|[0.85613433044258...|       0.0|\n",
      "|  0.0|[0.85613433044258...|       0.0|\n",
      "|  0.0|[0.85613433044258...|       0.0|\n",
      "|  0.0|[0.85613433044258...|       0.0|\n",
      "|  0.0|[0.83191078863056...|       0.0|\n",
      "|  0.0|[0.83191078863056...|       0.0|\n",
      "|  0.0|[0.75988364274687...|       0.0|\n",
      "|  0.0|[0.75988364274687...|       0.0|\n",
      "|  0.0|[0.75988364274687...|       0.0|\n",
      "|  0.0|[0.75988364274687...|       0.0|\n",
      "|  0.0|[0.75988364274687...|       0.0|\n",
      "|  0.0|[0.75988364274687...|       0.0|\n",
      "|  0.0|[0.72466576308662...|       0.0|\n",
      "|  0.0|[0.72466576308662...|       0.0|\n",
      "|  0.0|[0.76344505299742...|       0.0|\n",
      "|  0.0|[0.85638677270010...|       0.0|\n",
      "|  0.0|[0.85671346801646...|       0.0|\n",
      "|  0.0|[0.91908787911567...|       0.0|\n",
      "+-----+--------------------+----------+\n",
      "only showing top 20 rows\n",
      "\n"
     ]
    }
   ],
   "source": [
    "l_all.show()"
   ]
  },
  {
   "cell_type": "code",
   "execution_count": 129,
   "metadata": {},
   "outputs": [
    {
     "data": {
      "text/plain": [
       "Row(label=0.0, probability=DenseVector([0.7284, 0.2716]), prediction=0.0)"
      ]
     },
     "execution_count": 129,
     "metadata": {},
     "output_type": "execute_result"
    }
   ],
   "source": [
    "l_all.head()"
   ]
  },
  {
   "cell_type": "code",
   "execution_count": 130,
   "metadata": {},
   "outputs": [],
   "source": [
    "l_pos = l_all.filter(l_all['prediction']==1.0)"
   ]
  },
  {
   "cell_type": "code",
   "execution_count": 131,
   "metadata": {},
   "outputs": [
    {
     "name": "stdout",
     "output_type": "stream",
     "text": [
      "+-----+--------------------+----------+\n",
      "|label|         probability|prediction|\n",
      "+-----+--------------------+----------+\n",
      "|  0.0|[0.44621554094092...|       1.0|\n",
      "|  0.0|[0.24772169653926...|       1.0|\n",
      "|  0.0|[0.19063332156566...|       1.0|\n",
      "|  1.0|[0.45309698836657...|       1.0|\n",
      "|  1.0|[0.19039937972810...|       1.0|\n",
      "|  1.0|[0.00194481278906...|       1.0|\n",
      "|  1.0|[1.14196272400034...|       1.0|\n",
      "|  0.0|[0.19737483092537...|       1.0|\n",
      "|  1.0|[0.47917578826940...|       1.0|\n",
      "|  1.0|[0.49959284605317...|       1.0|\n",
      "|  1.0|[0.21280156310072...|       1.0|\n",
      "|  0.0|[0.49792602431280...|       1.0|\n",
      "|  0.0|[0.42104827076934...|       1.0|\n",
      "|  0.0|[0.40536553221745...|       1.0|\n",
      "|  0.0|[0.39138954435492...|       1.0|\n",
      "|  0.0|[0.27318312628595...|       1.0|\n",
      "|  0.0|[0.19603620545852...|       1.0|\n",
      "|  1.0|[0.46583281417288...|       1.0|\n",
      "|  1.0|[0.41195922161647...|       1.0|\n",
      "|  0.0|[0.47897508566274...|       1.0|\n",
      "+-----+--------------------+----------+\n",
      "only showing top 20 rows\n",
      "\n"
     ]
    }
   ],
   "source": [
    "l_pos.show()"
   ]
  },
  {
   "cell_type": "code",
   "execution_count": 132,
   "metadata": {},
   "outputs": [
    {
     "data": {
      "text/plain": [
       "Row(label=0.0, probability=DenseVector([0.4462, 0.5538]), prediction=1.0)"
      ]
     },
     "execution_count": 132,
     "metadata": {},
     "output_type": "execute_result"
    }
   ],
   "source": [
    "l_pos.head()"
   ]
  },
  {
   "cell_type": "code",
   "execution_count": null,
   "metadata": {},
   "outputs": [],
   "source": []
  },
  {
   "cell_type": "code",
   "execution_count": 90,
   "metadata": {},
   "outputs": [],
   "source": [
    "# Log loss\n",
    "\n",
    "def logloss(true_label, predicted_prob):\n",
    "  \n",
    "    epsilon = 10^(-15)\n",
    "    predicted_prob = max(min(predicted_prob, 1-epsilon), epsilon)\n",
    "    \n",
    "    if true_label == 1:\n",
    "        return -log(predicted_prob)\n",
    "    else:\n",
    "        return -log(1 - predicted_prob)"
   ]
  },
  {
   "cell_type": "code",
   "execution_count": 109,
   "metadata": {},
   "outputs": [
    {
     "data": {
      "text/plain": [
       "<pyspark.ml.classification.BinaryLogisticRegressionTrainingSummary at 0x7fa9729c2ef0>"
      ]
     },
     "execution_count": 109,
     "metadata": {},
     "output_type": "execute_result"
    }
   ],
   "source": [
    "trainingSummary_small\n",
    "#print(trainingSummary_small)"
   ]
  },
  {
   "cell_type": "code",
   "execution_count": 101,
   "metadata": {},
   "outputs": [
    {
     "name": "stdout",
     "output_type": "stream",
     "text": [
      "intercept: -1.2282349801739665\n",
      "coefficients: [2.8687282487666583,0.6751681978279879,-3.0766032897750923,0.050258493422503256,-0.5812470924213744,0.025827077895429925,0.21014400455738527,0.006208130249914411,-0.5960309219171409]\n"
     ]
    }
   ],
   "source": [
    "# feature importance\n",
    "\n",
    "# https://spark.apache.org/docs/2.2.0/ml-classification-regression.html\n",
    "\n",
    "print('intercept:', lr_small_model.intercept)\n",
    "print('coefficients:', lr_small_model.coefficients)\n"
   ]
  },
  {
   "cell_type": "code",
   "execution_count": 157,
   "metadata": {},
   "outputs": [
    {
     "data": {
      "text/plain": [
       "['label',\n",
       " 'n0',\n",
       " 'n1',\n",
       " 'n2',\n",
       " 'c8',\n",
       " 'c19',\n",
       " 'c8_idx',\n",
       " 'c19_idx',\n",
       " 'c8_OHE',\n",
       " 'c19_OHE',\n",
       " 'features']"
      ]
     },
     "execution_count": 157,
     "metadata": {},
     "output_type": "execute_result"
    }
   ],
   "source": [
    "small_sample_train.columns"
   ]
  },
  {
   "cell_type": "markdown",
   "metadata": {},
   "source": [
    "#### regularization and cross validation"
   ]
  },
  {
   "cell_type": "code",
   "execution_count": 153,
   "metadata": {},
   "outputs": [
    {
     "name": "stdout",
     "output_type": "stream",
     "text": [
      "+-----+----------+--------------------+\n",
      "|label|prediction|         probability|\n",
      "+-----+----------+--------------------+\n",
      "|  0.0|       0.0|[0.75004694775605...|\n",
      "|  0.0|       0.0|[0.82726170576101...|\n",
      "|  0.0|       0.0|[0.82726170576101...|\n",
      "|  0.0|       0.0|[0.82726170576101...|\n",
      "|  0.0|       0.0|[0.82726170576101...|\n",
      "|  0.0|       0.0|[0.82726170576101...|\n",
      "|  0.0|       0.0|[0.81700622602457...|\n",
      "|  0.0|       0.0|[0.81700622602457...|\n",
      "|  0.0|       0.0|[0.76224960882026...|\n",
      "|  0.0|       0.0|[0.76224960882026...|\n",
      "+-----+----------+--------------------+\n",
      "only showing top 10 rows\n",
      "\n"
     ]
    }
   ],
   "source": [
    "# Logisitic Regression with Regularization and Cross Validation for Hyperparameter Tuning\n",
    "\n",
    "from pyspark.ml.tuning import CrossValidator, ParamGridBuilder \n",
    "\n",
    "lr_small_reg = LogisticRegression(featuresCol = 'features', labelCol = 'label', maxIter=10)\n",
    "\n",
    "paramGrid_lr = ParamGridBuilder() \\\n",
    "    .addGrid(lr_small_reg.regParam, [0.01, 0.1, 1.0]) \\\n",
    "    .addGrid(lr_small_reg.elasticNetParam, [0.5, 0.7, 0.9]) \\\n",
    "    .build()\n",
    "\n",
    "crossval_lr_small = CrossValidator(estimator=lr_small_reg,\n",
    "                             estimatorParamMaps=paramGrid_lr,\n",
    "                             evaluator=BinaryClassificationEvaluator(),\n",
    "                             numFolds=5)\n",
    "\n",
    "#fit model to training data\n",
    "lr_small_reg_model = crossval_lr_small.fit(small_sample_train)\n",
    "\n",
    "#Transform test data\n",
    "lr_small_reg_result = lr_small_reg_model.transform(small_sample_test)\n",
    "\n",
    "#view id, label, prediction and probability from result of modeling\n",
    "lr_small_reg_result.select('label', 'prediction', 'probability').show(10)\n"
   ]
  },
  {
   "cell_type": "code",
   "execution_count": 167,
   "metadata": {},
   "outputs": [
    {
     "name": "stdout",
     "output_type": "stream",
     "text": [
      "Best Hyperparameters for Small Sample dataset\n",
      "best regParam: LogisticRegression_4542b0fd3fd28f383cc3__regParam\n",
      "best elasticNetParam: LogisticRegression_4542b0fd3fd28f383cc3__elasticNetParam\n"
     ]
    }
   ],
   "source": [
    "print('Best Hyperparameters for Small Sample dataset')\n",
    "print(\"best regParam:\", lr_small_reg_model.bestModel.regParam)\n",
    "print(\"best elasticNetParam:\", lr_small_reg_model.bestModel.elasticNetParam)"
   ]
  },
  {
   "cell_type": "code",
   "execution_count": 236,
   "metadata": {},
   "outputs": [],
   "source": [
    "#lr_small_reg_model.getEstimatorParamMaps()"
   ]
  },
  {
   "cell_type": "code",
   "execution_count": 175,
   "metadata": {},
   "outputs": [
    {
     "data": {
      "text/plain": [
       "{Param(parent='LogisticRegression_4542b0fd3fd28f383cc3', name='regParam', doc='regularization parameter (>= 0).'): 0.01,\n",
       " Param(parent='LogisticRegression_4542b0fd3fd28f383cc3', name='elasticNetParam', doc='the ElasticNet mixing parameter, in range [0, 1]. For alpha = 0, the penalty is an L2 penalty. For alpha = 1, it is an L1 penalty.'): 0.9}"
      ]
     },
     "execution_count": 175,
     "metadata": {},
     "output_type": "execute_result"
    }
   ],
   "source": [
    "lr_small_reg_model.getEstimatorParamMaps()[ np.argmax(lr_small_reg_model.avgMetrics) ]"
   ]
  },
  {
   "cell_type": "markdown",
   "metadata": {},
   "source": [
    "#### Best hyperparameters for small sample: regParam = 0.01; elasticNetParam = 0.9."
   ]
  },
  {
   "cell_type": "code",
   "execution_count": 217,
   "metadata": {},
   "outputs": [
    {
     "name": "stdout",
     "output_type": "stream",
     "text": [
      "intercept: -1.2090852455788703\n",
      "coefficients: [2.478052796049695,0.06401468125312675,-0.6580943688652904,0.04402230673054404,-0.3572683651957661,0.0,0.07014881268525996,0.0,-0.48191783947288547]\n"
     ]
    }
   ],
   "source": [
    "print('intercept:', lr_small_reg_model.bestModel.intercept)\n",
    "print('coefficients:', lr_small_reg_model.bestModel.coefficients)"
   ]
  },
  {
   "cell_type": "code",
   "execution_count": 156,
   "metadata": {},
   "outputs": [
    {
     "name": "stdout",
     "output_type": "stream",
     "text": [
      "Number of records: 10365\n",
      "trueP\t\t56\n",
      "trueN\t\t7641\n",
      "falseP\t\t44\n",
      "falseN\t\t2624\n",
      "accuracy\t0.7425952725518572\n",
      "precision\t0.56\n",
      "recall\t\t0.020895522388059702\n",
      "f1\t\t0.040287769784172665\n"
     ]
    }
   ],
   "source": [
    "lp_reg = lr_small_reg_result.select( \"label\", \"prediction\")\n",
    "metricsCalc(lp_reg)"
   ]
  },
  {
   "cell_type": "code",
   "execution_count": null,
   "metadata": {},
   "outputs": [],
   "source": []
  },
  {
   "cell_type": "code",
   "execution_count": null,
   "metadata": {},
   "outputs": [],
   "source": []
  },
  {
   "cell_type": "code",
   "execution_count": null,
   "metadata": {},
   "outputs": [],
   "source": []
  },
  {
   "cell_type": "code",
   "execution_count": null,
   "metadata": {},
   "outputs": [],
   "source": []
  },
  {
   "cell_type": "markdown",
   "metadata": {},
   "source": [
    "## Read in (medium) sample and apply Logistic Regression"
   ]
  },
  {
   "cell_type": "code",
   "execution_count": 196,
   "metadata": {},
   "outputs": [],
   "source": [
    "### NOTE: Per Alex, train and test are reversed, so read them in reverse order.\n",
    "sample_train = spark.read.parquet('data/testSample.parquet')\n",
    "sample_test = spark.read.parquet('data/trainSample.parquet')"
   ]
  },
  {
   "cell_type": "code",
   "execution_count": 184,
   "metadata": {},
   "outputs": [
    {
     "data": {
      "text/plain": [
       "Row(label=0.0, n0=0.0, n1=0.0, n2=0.00016070711128967456, n3=0.03424657534246575, n4=0.0025729368529526933, n5=0.0, n6=0.0, n7=0.017241379310344827, n8=0.0016054227613271496, n9=0.0, n10=0.0, n11=0.0, n12=0.016778523489932886, c0='5684', c1='8609', c2='9077', c3='6365', c4='4903', c5='2646', c6='2630', c7='84', c8='6944', c9='8539', c10='5511', c11='1635', c12='6300', c13='2527', c14='5306', c15='7065', c16='4857', c17='2077', c18='None', c19='None', c20='2164', c21='None', c22='4324', c23='1592', c24='None', c25='None', c0_idx=0.0, c1_idx=222.0, c2_idx=2612.0, c3_idx=6.0, c4_idx=1.0, c5_idx=1.0, c6_idx=1128.0, c7_idx=0.0, c8_idx=0.0, c9_idx=0.0, c10_idx=1061.0, c11_idx=1297.0, c12_idx=1076.0, c13_idx=1.0, c14_idx=1333.0, c15_idx=556.0, c16_idx=4.0, c17_idx=844.0, c18_idx=0.0, c19_idx=0.0, c20_idx=260.0, c21_idx=0.0, c22_idx=4.0, c23_idx=2.0, c24_idx=0.0, c25_idx=0.0, c19_OHE=SparseVector(4, {0: 1.0}), c6_OHE=SparseVector(1950, {1128: 1.0}), c16_OHE=SparseVector(10, {4: 1.0}), c10_OHE=SparseVector(1376, {1061: 1.0}), c14_OHE=SparseVector(1333, {}), c21_OHE=SparseVector(8, {0: 1.0}), c20_OHE=SparseVector(2464, {260: 1.0}), c4_OHE=SparseVector(43, {1: 1.0}), c12_OHE=SparseVector(1223, {1076: 1.0}), c25_OHE=SparseVector(1092, {0: 1.0}), c5_OHE=SparseVector(7, {1: 1.0}), c15_OHE=SparseVector(2370, {556: 1.0}), c24_OHE=SparseVector(36, {0: 1.0}), c2_OHE=SparseVector(2612, {}), c8_OHE=SparseVector(3, {0: 1.0}), c22_OHE=SparseVector(13, {4: 1.0}), c13_OHE=SparseVector(23, {1: 1.0}), c1_OHE=SparseVector(329, {222: 1.0}), c11_OHE=SparseVector(2506, {1297: 1.0}), c17_OHE=SparseVector(844, {}), c18_OHE=SparseVector(339, {0: 1.0}), c0_OHE=SparseVector(112, {0: 1.0}), c23_OHE=SparseVector(1457, {2: 1.0}), c9_OHE=SparseVector(1778, {0: 1.0}), c7_OHE=SparseVector(72, {0: 1.0}), c3_OHE=SparseVector(2118, {6: 1.0}), features=SparseVector(24135, {2: 0.0002, 3: 0.0342, 4: 0.0026, 7: 0.0172, 8: 0.0016, 12: 0.0168, 13: 1.0, 1145: 1.0, 1971: 1.0, 3038: 1.0, 4686: 1.0, 4954: 1.0, 7159: 1.0, 8277: 1.0, 8424: 1.0, 9517: 1.0, 10079: 1.0, 11893: 1.0, 14541: 1.0, 14548: 1.0, 14558: 1.0, 14802: 1.0, 16206: 1.0, 18259: 1.0, 18598: 1.0, 18712: 1.0, 20167: 1.0, 21945: 1.0, 22023: 1.0}))"
      ]
     },
     "execution_count": 184,
     "metadata": {},
     "output_type": "execute_result"
    }
   ],
   "source": [
    "sample_train.head()"
   ]
  },
  {
   "cell_type": "code",
   "execution_count": 186,
   "metadata": {},
   "outputs": [
    {
     "data": {
      "text/plain": [
       "Row(label=0.0, n0=0.0, n1=0.0001520912547528517, n2=0.0, n3=0.0, n4=0.0, n5=0.0, n6=0.0, n7=0.0, n8=0.0, n9=0.0, n10=0.0, n11=0.0, n12=0.0, c0='5684', c1='8017', c2='1044', c3='5785', c4='9704', c5='8079', c6='288', c7='84', c8='6944', c9='8539', c10='7424', c11='677', c12='9161', c13='2527', c14='8664', c15='7351', c16='2577', c17='7987', c18='None', c19='None', c20='8589', c21='None', c22='4324', c23='5834', c24='None', c25='None', c0_idx=0.0, c1_idx=0.0, c2_idx=533.0, c3_idx=131.0, c4_idx=0.0, c5_idx=0.0, c6_idx=431.0, c7_idx=0.0, c8_idx=0.0, c9_idx=0.0, c10_idx=203.0, c11_idx=502.0, c12_idx=330.0, c13_idx=1.0, c14_idx=587.0, c15_idx=190.0, c16_idx=8.0, c17_idx=393.0, c18_idx=0.0, c19_idx=0.0, c20_idx=442.0, c21_idx=0.0, c22_idx=4.0, c23_idx=219.0, c24_idx=0.0, c25_idx=0.0, c19_OHE=SparseVector(4, {0: 1.0}), c6_OHE=SparseVector(1950, {431: 1.0}), c16_OHE=SparseVector(10, {8: 1.0}), c10_OHE=SparseVector(1376, {203: 1.0}), c14_OHE=SparseVector(1333, {587: 1.0}), c21_OHE=SparseVector(8, {0: 1.0}), c20_OHE=SparseVector(2464, {442: 1.0}), c4_OHE=SparseVector(43, {0: 1.0}), c12_OHE=SparseVector(1223, {330: 1.0}), c25_OHE=SparseVector(1092, {0: 1.0}), c5_OHE=SparseVector(7, {0: 1.0}), c15_OHE=SparseVector(2370, {190: 1.0}), c24_OHE=SparseVector(36, {0: 1.0}), c2_OHE=SparseVector(2612, {533: 1.0}), c8_OHE=SparseVector(3, {0: 1.0}), c22_OHE=SparseVector(13, {4: 1.0}), c13_OHE=SparseVector(23, {1: 1.0}), c1_OHE=SparseVector(329, {0: 1.0}), c11_OHE=SparseVector(2506, {502: 1.0}), c17_OHE=SparseVector(844, {393: 1.0}), c18_OHE=SparseVector(339, {0: 1.0}), c0_OHE=SparseVector(112, {0: 1.0}), c23_OHE=SparseVector(1457, {219: 1.0}), c9_OHE=SparseVector(1778, {0: 1.0}), c7_OHE=SparseVector(72, {0: 1.0}), c3_OHE=SparseVector(2118, {131: 1.0}), features=SparseVector(24135, {1: 0.0002, 13: 1.0, 448: 1.0, 1975: 1.0, 2180: 1.0, 3940: 1.0, 4686: 1.0, 5136: 1.0, 7158: 1.0, 7531: 1.0, 8424: 1.0, 9516: 1.0, 9713: 1.0, 11893: 1.0, 12462: 1.0, 14541: 1.0, 14548: 1.0, 14558: 1.0, 14580: 1.0, 15411: 1.0, 17808: 1.0, 18259: 1.0, 18598: 1.0, 18929: 1.0, 20167: 1.0, 21945: 1.0, 22148: 1.0}))"
      ]
     },
     "execution_count": 186,
     "metadata": {},
     "output_type": "execute_result"
    }
   ],
   "source": [
    "sample_test.head()"
   ]
  },
  {
   "cell_type": "code",
   "execution_count": 188,
   "metadata": {},
   "outputs": [
    {
     "data": {
      "text/plain": [
       "['label',\n",
       " 'n0',\n",
       " 'n1',\n",
       " 'n2',\n",
       " 'n3',\n",
       " 'n4',\n",
       " 'n5',\n",
       " 'n6',\n",
       " 'n7',\n",
       " 'n8',\n",
       " 'n9',\n",
       " 'n10',\n",
       " 'n11',\n",
       " 'n12',\n",
       " 'c0',\n",
       " 'c1',\n",
       " 'c2',\n",
       " 'c3',\n",
       " 'c4',\n",
       " 'c5',\n",
       " 'c6',\n",
       " 'c7',\n",
       " 'c8',\n",
       " 'c9',\n",
       " 'c10',\n",
       " 'c11',\n",
       " 'c12',\n",
       " 'c13',\n",
       " 'c14',\n",
       " 'c15',\n",
       " 'c16',\n",
       " 'c17',\n",
       " 'c18',\n",
       " 'c19',\n",
       " 'c20',\n",
       " 'c21',\n",
       " 'c22',\n",
       " 'c23',\n",
       " 'c24',\n",
       " 'c25',\n",
       " 'c0_idx',\n",
       " 'c1_idx',\n",
       " 'c2_idx',\n",
       " 'c3_idx',\n",
       " 'c4_idx',\n",
       " 'c5_idx',\n",
       " 'c6_idx',\n",
       " 'c7_idx',\n",
       " 'c8_idx',\n",
       " 'c9_idx',\n",
       " 'c10_idx',\n",
       " 'c11_idx',\n",
       " 'c12_idx',\n",
       " 'c13_idx',\n",
       " 'c14_idx',\n",
       " 'c15_idx',\n",
       " 'c16_idx',\n",
       " 'c17_idx',\n",
       " 'c18_idx',\n",
       " 'c19_idx',\n",
       " 'c20_idx',\n",
       " 'c21_idx',\n",
       " 'c22_idx',\n",
       " 'c23_idx',\n",
       " 'c24_idx',\n",
       " 'c25_idx',\n",
       " 'c19_OHE',\n",
       " 'c6_OHE',\n",
       " 'c16_OHE',\n",
       " 'c10_OHE',\n",
       " 'c14_OHE',\n",
       " 'c21_OHE',\n",
       " 'c20_OHE',\n",
       " 'c4_OHE',\n",
       " 'c12_OHE',\n",
       " 'c25_OHE',\n",
       " 'c5_OHE',\n",
       " 'c15_OHE',\n",
       " 'c24_OHE',\n",
       " 'c2_OHE',\n",
       " 'c8_OHE',\n",
       " 'c22_OHE',\n",
       " 'c13_OHE',\n",
       " 'c1_OHE',\n",
       " 'c11_OHE',\n",
       " 'c17_OHE',\n",
       " 'c18_OHE',\n",
       " 'c0_OHE',\n",
       " 'c23_OHE',\n",
       " 'c9_OHE',\n",
       " 'c7_OHE',\n",
       " 'c3_OHE',\n",
       " 'features']"
      ]
     },
     "execution_count": 188,
     "metadata": {},
     "output_type": "execute_result"
    }
   ],
   "source": [
    "sample_train.columns"
   ]
  },
  {
   "cell_type": "code",
   "execution_count": 190,
   "metadata": {},
   "outputs": [
    {
     "data": {
      "text/plain": [
       "41332"
      ]
     },
     "execution_count": 190,
     "metadata": {},
     "output_type": "execute_result"
    }
   ],
   "source": [
    "sample_train.distinct().count()"
   ]
  },
  {
   "cell_type": "code",
   "execution_count": 191,
   "metadata": {},
   "outputs": [
    {
     "data": {
      "text/plain": [
       "4693"
      ]
     },
     "execution_count": 191,
     "metadata": {},
     "output_type": "execute_result"
    }
   ],
   "source": [
    "sample_test.distinct().count()"
   ]
  },
  {
   "cell_type": "code",
   "execution_count": 212,
   "metadata": {},
   "outputs": [
    {
     "data": {
      "image/png": "[encoded data removed]",
      "text/plain": [
       "<Figure size 432x288 with 1 Axes>"
      ]
     },
     "metadata": {},
     "output_type": "display_data"
    },
    {
     "name": "stdout",
     "output_type": "stream",
     "text": [
      "Training set ROC: 0.9659274470736187\n"
     ]
    }
   ],
   "source": [
    "lr_sample = LogisticRegression(featuresCol = 'features', labelCol = 'label', maxIter=40)\n",
    "lr_sample_model = lr_sample.fit(sample_train)\n",
    "trainingSummary_sample = lr_sample_model.summary\n",
    "\n",
    "roc = trainingSummary_sample.roc.toPandas()\n",
    "plt.plot(roc['FPR'],roc['TPR'])\n",
    "plt.ylabel('False Positive Rate')\n",
    "plt.xlabel('True Positive Rate')\n",
    "plt.title('ROC Curve')\n",
    "plt.show()\n",
    "print('Training set ROC: ' + str(trainingSummary_sample.areaUnderROC))"
   ]
  },
  {
   "cell_type": "code",
   "execution_count": null,
   "metadata": {},
   "outputs": [],
   "source": []
  },
  {
   "cell_type": "code",
   "execution_count": 213,
   "metadata": {},
   "outputs": [
    {
     "data": {
      "text/plain": [
       "[<matplotlib.lines.Line2D at 0x7fa9582f6d68>]"
      ]
     },
     "execution_count": 213,
     "metadata": {},
     "output_type": "execute_result"
    },
    {
     "data": {
      "image/png": "[encoded data removed]",
      "text/plain": [
       "<Figure size 432x288 with 1 Axes>"
      ]
     },
     "metadata": {},
     "output_type": "display_data"
    }
   ],
   "source": [
    "objectiveHistory = trainingSummary_sample.objectiveHistory\n",
    "plt.plot(objectiveHistory)"
   ]
  },
  {
   "cell_type": "code",
   "execution_count": 214,
   "metadata": {},
   "outputs": [
    {
     "data": {
      "text/plain": [
       "[0.5670952164187564,\n",
       " 0.5472669883925428,\n",
       " 0.4617428672903857,\n",
       " 0.41391146682897784,\n",
       " 0.3894252575414534,\n",
       " 0.36864472392015885,\n",
       " 0.3527996941685815,\n",
       " 0.3103149373156346,\n",
       " 0.29509787274210597,\n",
       " 0.2745285320079838,\n",
       " 0.26728078888807066,\n",
       " 0.26164690599077134,\n",
       " 0.2499354996777363,\n",
       " 0.2496756111951745,\n",
       " 0.24126130637246973,\n",
       " 0.2385883262374011,\n",
       " 0.23578360543850788,\n",
       " 0.23145938690586956,\n",
       " 0.22900676244301033,\n",
       " 0.22747080420531432,\n",
       " 0.22336849193942454,\n",
       " 0.22091403019932615,\n",
       " 0.21822621368098943,\n",
       " 0.2162742746537983,\n",
       " 0.21460359923523903,\n",
       " 0.21281114123480416,\n",
       " 0.21120506092005295,\n",
       " 0.20988146622360296,\n",
       " 0.2086272780319473,\n",
       " 0.20803525570428882,\n",
       " 0.20649394406441238,\n",
       " 0.20588673653054698,\n",
       " 0.20512498149071307,\n",
       " 0.20400414133451783,\n",
       " 0.20299987632082245,\n",
       " 0.20211842362797688,\n",
       " 0.20129071365699017,\n",
       " 0.20047964143053176,\n",
       " 0.1999114113493004,\n",
       " 0.1991333713955442,\n",
       " 0.19868775203718336]"
      ]
     },
     "execution_count": 214,
     "metadata": {},
     "output_type": "execute_result"
    }
   ],
   "source": [
    "objectiveHistory"
   ]
  },
  {
   "cell_type": "code",
   "execution_count": 240,
   "metadata": {},
   "outputs": [
    {
     "name": "stdout",
     "output_type": "stream",
     "text": [
      "Test_SET (Area Under ROC): 0.607707493760864\n"
     ]
    }
   ],
   "source": [
    "predictions_lr_sample = lr_sample_model.transform(sample_test)\n",
    "evaluator = BinaryClassificationEvaluator()\n",
    "print(\"Test_SET (Area Under ROC): \" + str(evaluator.evaluate(predictions_lr_small, {evaluator.metricName: \"areaUnderROC\"})))"
   ]
  },
  {
   "cell_type": "code",
   "execution_count": 241,
   "metadata": {},
   "outputs": [
    {
     "name": "stdout",
     "output_type": "stream",
     "text": [
      "Number of records: 4693\n",
      "trueP\t\t389\n",
      "trueN\t\t2748\n",
      "falseP\t\t766\n",
      "falseN\t\t790\n",
      "accuracy\t0.6684423609631366\n",
      "precision\t0.3367965367965368\n",
      "recall\t\t0.3299406276505513\n",
      "f1\t\t0.33333333333333337\n"
     ]
    }
   ],
   "source": [
    "lp_sample = predictions_lr_sample.select( \"label\", \"prediction\")\n",
    "metricsCalc(lp_sample)"
   ]
  },
  {
   "cell_type": "code",
   "execution_count": null,
   "metadata": {},
   "outputs": [],
   "source": []
  },
  {
   "cell_type": "code",
   "execution_count": 215,
   "metadata": {},
   "outputs": [
    {
     "name": "stdout",
     "output_type": "stream",
     "text": [
      "+-----+----------+--------------------+\n",
      "|label|prediction|         probability|\n",
      "+-----+----------+--------------------+\n",
      "|  0.0|       0.0|[0.86093309956908...|\n",
      "|  0.0|       0.0|[0.78624045929843...|\n",
      "|  0.0|       0.0|[0.66340766179395...|\n",
      "|  0.0|       0.0|[0.80415387400538...|\n",
      "|  0.0|       0.0|[0.92500406685746...|\n",
      "|  0.0|       0.0|[0.91047920559785...|\n",
      "|  0.0|       0.0|[0.77019355657222...|\n",
      "|  0.0|       0.0|[0.53178235268030...|\n",
      "|  0.0|       0.0|[0.71548453041274...|\n",
      "|  0.0|       0.0|[0.79824553733723...|\n",
      "+-----+----------+--------------------+\n",
      "only showing top 10 rows\n",
      "\n"
     ]
    }
   ],
   "source": [
    "# Logisitic Regression with Regularization and Cross Validation for Hyperparameter Tuning\n",
    "\n",
    "from pyspark.ml.tuning import CrossValidator, ParamGridBuilder \n",
    "\n",
    "lr_sample_reg = LogisticRegression(featuresCol = 'features', labelCol = 'label', maxIter=30)\n",
    "\n",
    "paramGrid_lr = ParamGridBuilder() \\\n",
    "    .addGrid(lr_sample_reg.regParam, [0.01, 0.1, 1.0]) \\\n",
    "    .addGrid(lr_sample_reg.elasticNetParam, [0.5, 0.7, 0.9]) \\\n",
    "    .build()\n",
    "\n",
    "crossval_lr_sample = CrossValidator(estimator=lr_sample_reg,\n",
    "                             estimatorParamMaps=paramGrid_lr,\n",
    "                             evaluator=BinaryClassificationEvaluator(),\n",
    "                             numFolds=5)\n",
    "\n",
    "#fit model to training data\n",
    "lr_sample_reg_model = crossval_lr_sample.fit(sample_train)\n",
    "\n",
    "#Transform test data\n",
    "lr_sample_reg_result = lr_sample_reg_model.transform(sample_test)\n",
    "\n",
    "#view id, label, prediction and probability from result of modeling\n",
    "lr_sample_reg_result.select('label', 'prediction', 'probability').show(10)"
   ]
  },
  {
   "cell_type": "code",
   "execution_count": 219,
   "metadata": {},
   "outputs": [
    {
     "data": {
      "text/plain": [
       "{Param(parent='LogisticRegression_4acc8b7ebc1be08bad7b', name='regParam', doc='regularization parameter (>= 0).'): 0.01,\n",
       " Param(parent='LogisticRegression_4acc8b7ebc1be08bad7b', name='elasticNetParam', doc='the ElasticNet mixing parameter, in range [0, 1]. For alpha = 0, the penalty is an L2 penalty. For alpha = 1, it is an L1 penalty.'): 0.5}"
      ]
     },
     "execution_count": 219,
     "metadata": {},
     "output_type": "execute_result"
    }
   ],
   "source": [
    "lr_sample_reg_model.getEstimatorParamMaps()[ np.argmax(lr_sample_reg_model.avgMetrics) ]"
   ]
  },
  {
   "cell_type": "code",
   "execution_count": 38,
   "metadata": {},
   "outputs": [],
   "source": [
    "#print('intercept:', lr_sample_reg_model.bestModel.intercept)\n",
    "#print('coefficients:', lr_sample_reg_model.bestModel.coefficients)"
   ]
  },
  {
   "cell_type": "code",
   "execution_count": 222,
   "metadata": {},
   "outputs": [
    {
     "name": "stdout",
     "output_type": "stream",
     "text": [
      "Number of records: 4693\n",
      "trueP\t\t136\n",
      "trueN\t\t3412\n",
      "falseP\t\t102\n",
      "falseN\t\t1043\n",
      "accuracy\t0.7560196036650331\n",
      "precision\t0.5714285714285714\n",
      "recall\t\t0.11535199321458864\n",
      "f1\t\t0.19195483415666903\n"
     ]
    }
   ],
   "source": [
    "lp_reg_sample = lr_sample_reg_result.select( \"label\", \"prediction\")\n",
    "metricsCalc(lp_reg_sample)"
   ]
  },
  {
   "cell_type": "code",
   "execution_count": null,
   "metadata": {},
   "outputs": [],
   "source": []
  },
  {
   "cell_type": "markdown",
   "metadata": {},
   "source": [
    "### Read in the cvModel that Alex generated"
   ]
  },
  {
   "cell_type": "code",
   "execution_count": 9,
   "metadata": {},
   "outputs": [],
   "source": [
    "from pyspark.ml.tuning import CrossValidatorModel\n",
    "cvModel = CrossValidatorModel.load('gs://w261_desa2/notebooks/models/cvModel')"
   ]
  },
  {
   "cell_type": "markdown",
   "metadata": {},
   "source": [
    "Note: This CV was run with ElasticNet parameters:  \n",
    "$\\lambda$ = 0.001, 0.01, 0.1, 1.0  \n",
    "$\\alpha$ = 0.001, 0.01, 0.1, 1.0 "
   ]
  },
  {
   "cell_type": "code",
   "execution_count": 10,
   "metadata": {},
   "outputs": [
    {
     "data": {
      "text/plain": [
       "LogisticRegression_43c78fe3323594615080"
      ]
     },
     "execution_count": 10,
     "metadata": {},
     "output_type": "execute_result"
    }
   ],
   "source": [
    "cvModel.bestModel"
   ]
  },
  {
   "cell_type": "code",
   "execution_count": 13,
   "metadata": {},
   "outputs": [
    {
     "data": {
      "text/plain": [
       "-1.0679078036687992"
      ]
     },
     "execution_count": 13,
     "metadata": {},
     "output_type": "execute_result"
    }
   ],
   "source": [
    "cvModel.bestModel.intercept"
   ]
  },
  {
   "cell_type": "code",
   "execution_count": 37,
   "metadata": {},
   "outputs": [],
   "source": [
    "#cvModel.bestModel.coefficients"
   ]
  },
  {
   "cell_type": "code",
   "execution_count": 15,
   "metadata": {},
   "outputs": [
    {
     "data": {
      "text/plain": [
       "[{Param(parent='LogisticRegression_43c78fe3323594615080', name='regParam', doc='regularization parameter (>= 0).'): 0.001,\n",
       "  Param(parent='LogisticRegression_43c78fe3323594615080', name='elasticNetParam', doc='the ElasticNet mixing parameter, in range [0, 1]. For alpha = 0, the penalty is an L2 penalty. For alpha = 1, it is an L1 penalty.'): 0.001},\n",
       " {Param(parent='LogisticRegression_43c78fe3323594615080', name='regParam', doc='regularization parameter (>= 0).'): 0.001,\n",
       "  Param(parent='LogisticRegression_43c78fe3323594615080', name='elasticNetParam', doc='the ElasticNet mixing parameter, in range [0, 1]. For alpha = 0, the penalty is an L2 penalty. For alpha = 1, it is an L1 penalty.'): 0.01},\n",
       " {Param(parent='LogisticRegression_43c78fe3323594615080', name='regParam', doc='regularization parameter (>= 0).'): 0.001,\n",
       "  Param(parent='LogisticRegression_43c78fe3323594615080', name='elasticNetParam', doc='the ElasticNet mixing parameter, in range [0, 1]. For alpha = 0, the penalty is an L2 penalty. For alpha = 1, it is an L1 penalty.'): 0.1},\n",
       " {Param(parent='LogisticRegression_43c78fe3323594615080', name='regParam', doc='regularization parameter (>= 0).'): 0.001,\n",
       "  Param(parent='LogisticRegression_43c78fe3323594615080', name='elasticNetParam', doc='the ElasticNet mixing parameter, in range [0, 1]. For alpha = 0, the penalty is an L2 penalty. For alpha = 1, it is an L1 penalty.'): 1.0},\n",
       " {Param(parent='LogisticRegression_43c78fe3323594615080', name='regParam', doc='regularization parameter (>= 0).'): 0.01,\n",
       "  Param(parent='LogisticRegression_43c78fe3323594615080', name='elasticNetParam', doc='the ElasticNet mixing parameter, in range [0, 1]. For alpha = 0, the penalty is an L2 penalty. For alpha = 1, it is an L1 penalty.'): 0.001},\n",
       " {Param(parent='LogisticRegression_43c78fe3323594615080', name='regParam', doc='regularization parameter (>= 0).'): 0.01,\n",
       "  Param(parent='LogisticRegression_43c78fe3323594615080', name='elasticNetParam', doc='the ElasticNet mixing parameter, in range [0, 1]. For alpha = 0, the penalty is an L2 penalty. For alpha = 1, it is an L1 penalty.'): 0.01},\n",
       " {Param(parent='LogisticRegression_43c78fe3323594615080', name='regParam', doc='regularization parameter (>= 0).'): 0.01,\n",
       "  Param(parent='LogisticRegression_43c78fe3323594615080', name='elasticNetParam', doc='the ElasticNet mixing parameter, in range [0, 1]. For alpha = 0, the penalty is an L2 penalty. For alpha = 1, it is an L1 penalty.'): 0.1},\n",
       " {Param(parent='LogisticRegression_43c78fe3323594615080', name='regParam', doc='regularization parameter (>= 0).'): 0.01,\n",
       "  Param(parent='LogisticRegression_43c78fe3323594615080', name='elasticNetParam', doc='the ElasticNet mixing parameter, in range [0, 1]. For alpha = 0, the penalty is an L2 penalty. For alpha = 1, it is an L1 penalty.'): 1.0},\n",
       " {Param(parent='LogisticRegression_43c78fe3323594615080', name='regParam', doc='regularization parameter (>= 0).'): 0.1,\n",
       "  Param(parent='LogisticRegression_43c78fe3323594615080', name='elasticNetParam', doc='the ElasticNet mixing parameter, in range [0, 1]. For alpha = 0, the penalty is an L2 penalty. For alpha = 1, it is an L1 penalty.'): 0.001},\n",
       " {Param(parent='LogisticRegression_43c78fe3323594615080', name='regParam', doc='regularization parameter (>= 0).'): 0.1,\n",
       "  Param(parent='LogisticRegression_43c78fe3323594615080', name='elasticNetParam', doc='the ElasticNet mixing parameter, in range [0, 1]. For alpha = 0, the penalty is an L2 penalty. For alpha = 1, it is an L1 penalty.'): 0.01},\n",
       " {Param(parent='LogisticRegression_43c78fe3323594615080', name='regParam', doc='regularization parameter (>= 0).'): 0.1,\n",
       "  Param(parent='LogisticRegression_43c78fe3323594615080', name='elasticNetParam', doc='the ElasticNet mixing parameter, in range [0, 1]. For alpha = 0, the penalty is an L2 penalty. For alpha = 1, it is an L1 penalty.'): 0.1},\n",
       " {Param(parent='LogisticRegression_43c78fe3323594615080', name='regParam', doc='regularization parameter (>= 0).'): 0.1,\n",
       "  Param(parent='LogisticRegression_43c78fe3323594615080', name='elasticNetParam', doc='the ElasticNet mixing parameter, in range [0, 1]. For alpha = 0, the penalty is an L2 penalty. For alpha = 1, it is an L1 penalty.'): 1.0},\n",
       " {Param(parent='LogisticRegression_43c78fe3323594615080', name='regParam', doc='regularization parameter (>= 0).'): 1.0,\n",
       "  Param(parent='LogisticRegression_43c78fe3323594615080', name='elasticNetParam', doc='the ElasticNet mixing parameter, in range [0, 1]. For alpha = 0, the penalty is an L2 penalty. For alpha = 1, it is an L1 penalty.'): 0.001},\n",
       " {Param(parent='LogisticRegression_43c78fe3323594615080', name='regParam', doc='regularization parameter (>= 0).'): 1.0,\n",
       "  Param(parent='LogisticRegression_43c78fe3323594615080', name='elasticNetParam', doc='the ElasticNet mixing parameter, in range [0, 1]. For alpha = 0, the penalty is an L2 penalty. For alpha = 1, it is an L1 penalty.'): 0.01},\n",
       " {Param(parent='LogisticRegression_43c78fe3323594615080', name='regParam', doc='regularization parameter (>= 0).'): 1.0,\n",
       "  Param(parent='LogisticRegression_43c78fe3323594615080', name='elasticNetParam', doc='the ElasticNet mixing parameter, in range [0, 1]. For alpha = 0, the penalty is an L2 penalty. For alpha = 1, it is an L1 penalty.'): 0.1},\n",
       " {Param(parent='LogisticRegression_43c78fe3323594615080', name='regParam', doc='regularization parameter (>= 0).'): 1.0,\n",
       "  Param(parent='LogisticRegression_43c78fe3323594615080', name='elasticNetParam', doc='the ElasticNet mixing parameter, in range [0, 1]. For alpha = 0, the penalty is an L2 penalty. For alpha = 1, it is an L1 penalty.'): 1.0}]"
      ]
     },
     "execution_count": 15,
     "metadata": {},
     "output_type": "execute_result"
    }
   ],
   "source": [
    "cvModel.getEstimatorParamMaps()"
   ]
  },
  {
   "cell_type": "code",
   "execution_count": null,
   "metadata": {},
   "outputs": [],
   "source": []
  },
  {
   "cell_type": "code",
   "execution_count": 18,
   "metadata": {},
   "outputs": [],
   "source": [
    "#cvModel.getNumFolds()\n",
    "#cvModel.bestModel()"
   ]
  },
  {
   "cell_type": "code",
   "execution_count": 12,
   "metadata": {},
   "outputs": [
    {
     "data": {
      "text/plain": [
       "[]"
      ]
     },
     "execution_count": 12,
     "metadata": {},
     "output_type": "execute_result"
    }
   ],
   "source": [
    "cvModel.avgMetrics"
   ]
  },
  {
   "cell_type": "code",
   "execution_count": 19,
   "metadata": {},
   "outputs": [],
   "source": [
    "#cvModel.getEstimatorParamMaps()[ np.argmax(cvModel.avgMetrics) ]"
   ]
  },
  {
   "cell_type": "code",
   "execution_count": null,
   "metadata": {},
   "outputs": [],
   "source": []
  },
  {
   "cell_type": "markdown",
   "metadata": {},
   "source": [
    "### Run the CV that Alex ran (from PreProcesing_Emily_Copy)"
   ]
  },
  {
   "cell_type": "markdown",
   "metadata": {},
   "source": [
    "Note, this was only run with 2 levels for each hyperparameter, since it was informed by the results from the above cvModel run that Alex observed gave worse accuracy relative to the default values, which are 0.0, 0.0.  Therefore, we did this run on the extreme low end near zero to see if the bestModel picked hyperparameter values different than zero.  As shown below, it indeed picked $\\lambda$ = 0.001 for the best result.  "
   ]
  },
  {
   "cell_type": "code",
   "execution_count": 20,
   "metadata": {},
   "outputs": [
    {
     "data": {
      "text/plain": [
       "(['label', 'features', 'weightCol'], ['label', 'features'])"
      ]
     },
     "execution_count": 20,
     "metadata": {},
     "output_type": "execute_result"
    }
   ],
   "source": [
    "tpp = spark.read.parquet('gs://w261_desa2/notebooks/data/toySampleTrain.parquet')\n",
    "dpp = spark.read.parquet('gs://w261_desa2/notebooks/data/toySampleTest.parquet')\n",
    "tpp.columns, dpp.columns"
   ]
  },
  {
   "cell_type": "code",
   "execution_count": 7,
   "metadata": {},
   "outputs": [],
   "source": [
    "lr_sample_reg = LogisticRegression(\n",
    "    featuresCol = 'features', \n",
    "    labelCol = 'label', \n",
    "    maxIter=10, \n",
    "    standardization=False\n",
    ")\n",
    "\n",
    "'''\n",
    "lr_sample_reg = LogisticRegression(\n",
    "    featuresCol = 'features', \n",
    "    labelCol = 'label', \n",
    "    weightCol = 'weightCol', \n",
    "    maxIter=10, \n",
    "    standardization=False)\n",
    "'''\n",
    "paramGrid_lr = ParamGridBuilder() \\\n",
    "    .addGrid(lr_sample_reg.regParam, [0.000, 0.001]) \\\n",
    "    .addGrid(lr_sample_reg.elasticNetParam, [0.000, 0.001]) \\\n",
    "    .build()\n",
    "\n",
    "crossval_lr_sample = CrossValidator(\n",
    "    estimator=lr_sample_reg,\n",
    "    estimatorParamMaps=paramGrid_lr,\n",
    "    evaluator=BinaryClassificationEvaluator()\n",
    ")\n",
    "\n",
    "#fit model to training data\n",
    "lr_sample_reg_model = crossval_lr_sample.fit(tpp)"
   ]
  },
  {
   "cell_type": "code",
   "execution_count": 8,
   "metadata": {},
   "outputs": [
    {
     "name": "stdout",
     "output_type": "stream",
     "text": [
      "+-----+----------+--------------------+\n",
      "|label|prediction|         probability|\n",
      "+-----+----------+--------------------+\n",
      "|  0.0|       0.0|[0.91702852874526...|\n",
      "|  0.0|       0.0|[0.51818982131679...|\n",
      "|  0.0|       0.0|[0.85063532384838...|\n",
      "|  0.0|       0.0|[0.88003037171912...|\n",
      "|  0.0|       0.0|[0.65511546044695...|\n",
      "|  0.0|       0.0|[0.91582283648407...|\n",
      "|  0.0|       0.0|[0.84256585960662...|\n",
      "|  0.0|       0.0|[0.80445812139920...|\n",
      "|  0.0|       0.0|[0.62212235696704...|\n",
      "|  0.0|       0.0|[0.60589380037474...|\n",
      "+-----+----------+--------------------+\n",
      "only showing top 10 rows\n",
      "\n"
     ]
    }
   ],
   "source": [
    "#Transform test data\n",
    "lr_sample_reg_result = lr_sample_reg_model.transform(dpp)\n",
    "\n",
    "#view id, label, prediction and probability from result of modeling\n",
    "lr_sample_reg_result.select('label', 'prediction', 'probability').show(10)"
   ]
  },
  {
   "cell_type": "code",
   "execution_count": 25,
   "metadata": {},
   "outputs": [],
   "source": [
    "def metricsCalc(lp):\n",
    "    '''\n",
    "    Calculate binary classification metrics\n",
    "    '''\n",
    "    \n",
    "    trueP = lp.filter(lp[\"prediction\"] == 1.0).filter(lp[\"label\"] == lp[\"prediction\"]).count()\n",
    "    trueN = lp.filter(lp[\"prediction\"] == 0.0).filter(lp[\"label\"] == lp[\"prediction\"]).count()\n",
    "    falseP = lp.filter(lp[\"prediction\"] == 1.0).filter(lp[\"label\"] != lp[\"prediction\"]).count()\n",
    "    falseN = lp.filter(lp[\"prediction\"] == 0.0).filter(lp[\"label\"] != lp[\"prediction\"]).count()\n",
    "\n",
    "    # Calculate precision, recall, accuracy, and F1\n",
    "    precision = float(trueP)/(trueP + falseP) # aka specificity\n",
    "    recall = float(trueP)/(trueP + falseN)  # aka sensitivity\n",
    "    accuracy = float(trueP + trueN)/(trueP + trueN + falseP + falseN)\n",
    "    if trueP != 0:\n",
    "        f1 = 2 * (precision * recall) / (precision + recall)  # if trueP=0, then precision=0 and recall=0, so f1 doesn't work.\n",
    "    else:\n",
    "        f1 = 'TP=0 so cannot calc f1'\n",
    "\n",
    "    # prints\n",
    "    print('Number of records:', (trueP+falseP+trueN+falseN))\n",
    "    print(f'trueP\\t\\t{trueP}')\n",
    "    print(f'trueN\\t\\t{trueN}')\n",
    "    print(f'falseP\\t\\t{falseP}')\n",
    "    print(f'falseN\\t\\t{falseN}')\n",
    "    print(f'accuracy\\t{accuracy}')\n",
    "    print(f'precision\\t{precision}')\n",
    "    print(f'recall\\t\\t{recall}')\n",
    "    print(f'f1\\t\\t{f1}')"
   ]
  },
  {
   "cell_type": "code",
   "execution_count": 10,
   "metadata": {},
   "outputs": [
    {
     "name": "stdout",
     "output_type": "stream",
     "text": [
      "Number of records: 427\n",
      "trueP\t\t31\n",
      "trueN\t\t284\n",
      "falseP\t\t17\n",
      "falseN\t\t95\n",
      "accuracy\t0.7377049180327869\n",
      "precision\t0.6458333333333334\n",
      "recall\t\t0.24603174603174602\n",
      "f1\t\t0.3563218390804597\n"
     ]
    }
   ],
   "source": [
    "lp_reg = lr_sample_reg_result.select( \"label\", \"prediction\")\n",
    "metricsCalc(lp_reg)"
   ]
  },
  {
   "cell_type": "code",
   "execution_count": 11,
   "metadata": {},
   "outputs": [
    {
     "data": {
      "text/plain": [
       "{Param(parent='LogisticRegression_43bda9c3e9b32eb32bd4', name='regParam', doc='regularization parameter (>= 0).'): 0.001,\n",
       " Param(parent='LogisticRegression_43bda9c3e9b32eb32bd4', name='elasticNetParam', doc='the ElasticNet mixing parameter, in range [0, 1]. For alpha = 0, the penalty is an L2 penalty. For alpha = 1, it is an L1 penalty.'): 0.0}"
      ]
     },
     "execution_count": 11,
     "metadata": {},
     "output_type": "execute_result"
    }
   ],
   "source": [
    "lr_sample_reg_model.getEstimatorParamMaps()[ np.argmax(lr_sample_reg_model.avgMetrics) ]"
   ]
  },
  {
   "cell_type": "code",
   "execution_count": null,
   "metadata": {},
   "outputs": [],
   "source": [
    "#lr_sample_reg_model.save('gs://w261_desa2/notebooks/models/cvModel')"
   ]
  },
  {
   "cell_type": "markdown",
   "metadata": {},
   "source": [
    "##### RESULT of CV: accuracy = 0.74 with \\lambda = 0.001 and \\alpha = 0.0."
   ]
  },
  {
   "cell_type": "code",
   "execution_count": null,
   "metadata": {},
   "outputs": [],
   "source": []
  },
  {
   "cell_type": "markdown",
   "metadata": {},
   "source": [
    "### Run CV on sample with weighted LR"
   ]
  },
  {
   "cell_type": "code",
   "execution_count": 28,
   "metadata": {},
   "outputs": [],
   "source": [
    "'''\n",
    "lr_sample_reg = LogisticRegression(\n",
    "    featuresCol = 'features', \n",
    "    labelCol = 'label', \n",
    "    maxIter=10, \n",
    "    standardization=False\n",
    ")\n",
    "'''\n",
    "#'''\n",
    "lr_sample_reg = LogisticRegression(\n",
    "    featuresCol = 'features', \n",
    "    labelCol = 'label', \n",
    "    weightCol = 'weightCol', \n",
    "    maxIter=10, \n",
    "    standardization=False\n",
    ")\n",
    "#'''\n",
    "paramGrid_lr = ParamGridBuilder() \\\n",
    "    .addGrid(lr_sample_reg.regParam, [0.000, 0.001, 0.01, 0.05]) \\\n",
    "    .addGrid(lr_sample_reg.elasticNetParam, [0.000, 0.001, 0.01, 0.05]) \\\n",
    "    .build()\n",
    "\n",
    "crossval_lr_sample = CrossValidator(\n",
    "    estimator=lr_sample_reg,\n",
    "    estimatorParamMaps=paramGrid_lr,\n",
    "    evaluator=BinaryClassificationEvaluator()\n",
    ")\n",
    "\n",
    "#fit model to training data\n",
    "lr_sample_reg_model_wts = crossval_lr_sample.fit(tpp)"
   ]
  },
  {
   "cell_type": "code",
   "execution_count": 29,
   "metadata": {},
   "outputs": [
    {
     "name": "stdout",
     "output_type": "stream",
     "text": [
      "+-----+----------+--------------------+\n",
      "|label|prediction|         probability|\n",
      "+-----+----------+--------------------+\n",
      "|  0.0|       0.0|[0.64951054587606...|\n",
      "|  0.0|       1.0|[0.42566883351059...|\n",
      "|  0.0|       0.0|[0.55886062859781...|\n",
      "|  0.0|       0.0|[0.75881015995436...|\n",
      "|  0.0|       1.0|[0.44812584622292...|\n",
      "|  0.0|       0.0|[0.69826355395568...|\n",
      "|  0.0|       0.0|[0.56111108710034...|\n",
      "|  0.0|       0.0|[0.65383961250815...|\n",
      "|  0.0|       1.0|[0.41599436180322...|\n",
      "|  0.0|       1.0|[0.44284726077542...|\n",
      "+-----+----------+--------------------+\n",
      "only showing top 10 rows\n",
      "\n"
     ]
    }
   ],
   "source": [
    "#Transform test data\n",
    "lr_sample_reg_result_wts = lr_sample_reg_model_wts.transform(dpp)\n",
    "\n",
    "#view id, label, prediction and probability from result of modeling\n",
    "lr_sample_reg_result_wts.select('label', 'prediction', 'probability').show(10)"
   ]
  },
  {
   "cell_type": "code",
   "execution_count": 30,
   "metadata": {},
   "outputs": [
    {
     "name": "stdout",
     "output_type": "stream",
     "text": [
      "Number of records: 427\n",
      "trueP\t\t79\n",
      "trueN\t\t209\n",
      "falseP\t\t92\n",
      "falseN\t\t47\n",
      "accuracy\t0.6744730679156908\n",
      "precision\t0.4619883040935672\n",
      "recall\t\t0.626984126984127\n",
      "f1\t\t0.5319865319865319\n"
     ]
    }
   ],
   "source": [
    "lp_reg = lr_sample_reg_result_wts.select( \"label\", \"prediction\")\n",
    "metricsCalc(lp_reg)"
   ]
  },
  {
   "cell_type": "markdown",
   "metadata": {},
   "source": [
    "Obviously, the weighted results are not as good as the unweighted."
   ]
  },
  {
   "cell_type": "code",
   "execution_count": 31,
   "metadata": {},
   "outputs": [
    {
     "data": {
      "text/plain": [
       "{Param(parent='LogisticRegression_41799a9058d23352c589', name='regParam', doc='regularization parameter (>= 0).'): 0.01,\n",
       " Param(parent='LogisticRegression_41799a9058d23352c589', name='elasticNetParam', doc='the ElasticNet mixing parameter, in range [0, 1]. For alpha = 0, the penalty is an L2 penalty. For alpha = 1, it is an L1 penalty.'): 0.001}"
      ]
     },
     "execution_count": 31,
     "metadata": {},
     "output_type": "execute_result"
    }
   ],
   "source": [
    "lr_sample_reg_model_wts.getEstimatorParamMaps()[ np.argmax(lr_sample_reg_model_wts.avgMetrics) ]"
   ]
  },
  {
   "cell_type": "code",
   "execution_count": null,
   "metadata": {},
   "outputs": [],
   "source": []
  },
  {
   "cell_type": "code",
   "execution_count": null,
   "metadata": {},
   "outputs": [],
   "source": []
  },
  {
   "cell_type": "code",
   "execution_count": null,
   "metadata": {},
   "outputs": [],
   "source": []
  },
  {
   "cell_type": "markdown",
   "metadata": {},
   "source": [
    "## Read full training and test data and apply Logistic Regression"
   ]
  },
  {
   "cell_type": "code",
   "execution_count": 13,
   "metadata": {},
   "outputs": [],
   "source": [
    "train = spark.read.parquet('gs://w261_desa2/notebooks/data/trainProcessed.parquet')\n",
    "test = spark.read.parquet('gs://w261_desa2/notebooks/data/testProcessed.parquet')"
   ]
  },
  {
   "cell_type": "code",
   "execution_count": 14,
   "metadata": {},
   "outputs": [
    {
     "data": {
      "text/plain": [
       "Row(label=0.0, features=SparseVector(806981, {156: 1.0, 12535: 1.0, 12753: 1.0, 19354: 1.0, 35037: 1.0, 133078: 1.0, 133481: 1.0, 136576: 1.0, 212102: 1.0, 313588: 1.0, 411679: 1.0, 411685: 1.0, 411703: 1.0, 411723: 1.0, 414082: 1.0, 512854: 1.0, 520086: 1.0, 521530: 1.0, 615070: 1.0, 706347: 1.0, 707394: 1.0}), weightCol=0.25621744990348816)"
      ]
     },
     "execution_count": 14,
     "metadata": {},
     "output_type": "execute_result"
    }
   ],
   "source": [
    "train.head()"
   ]
  },
  {
   "cell_type": "code",
   "execution_count": 15,
   "metadata": {},
   "outputs": [
    {
     "data": {
      "text/plain": [
       "Row(label=0.0, features=SparseVector(806981, {90: 1.0, 12535: 1.0, 12645: 1.0, 19396: 1.0, 114451: 1.0, 133077: 1.0, 133469: 1.0, 136576: 1.0, 211551: 1.0, 238784: 1.0, 350583: 1.0, 411679: 1.0, 411685: 1.0, 411697: 1.0, 411972: 1.0, 428999: 1.0, 512762: 1.0, 520084: 1.0, 521530: 1.0, 615070: 1.0, 706348: 1.0, 710127: 1.0}))"
      ]
     },
     "execution_count": 15,
     "metadata": {},
     "output_type": "execute_result"
    }
   ],
   "source": [
    "test.head()"
   ]
  },
  {
   "cell_type": "code",
   "execution_count": 225,
   "metadata": {},
   "outputs": [],
   "source": [
    "train.columns"
   ]
  },
  {
   "cell_type": "code",
   "execution_count": 17,
   "metadata": {},
   "outputs": [
    {
     "data": {
      "text/plain": [
       "41234939"
      ]
     },
     "execution_count": 17,
     "metadata": {},
     "output_type": "execute_result"
    }
   ],
   "source": [
    "train.distinct().count()"
   ]
  },
  {
   "cell_type": "code",
   "execution_count": 16,
   "metadata": {},
   "outputs": [
    {
     "data": {
      "text/plain": [
       "4587391"
      ]
     },
     "execution_count": 16,
     "metadata": {},
     "output_type": "execute_result"
    }
   ],
   "source": [
    "test.distinct().count()"
   ]
  },
  {
   "cell_type": "code",
   "execution_count": 229,
   "metadata": {},
   "outputs": [
    {
     "data": {
      "text/plain": [
       "\"lr = LogisticRegression(featuresCol = 'features', labelCol = 'label', maxIter=40)\\nlr_model = lr.fit(train)\\ntrainingSummary = lr_model.summary\\n\\nroc = trainingSummary.roc.toPandas()\\nplt.plot(roc['FPR'],roc['TPR'])\\nplt.ylabel('False Positive Rate')\\nplt.xlabel('True Positive Rate')\\nplt.title('ROC Curve')\\nplt.show()\\nprint('Training set ROC: ' + str(trainingSummary.areaUnderROC))\\n\""
      ]
     },
     "execution_count": 229,
     "metadata": {},
     "output_type": "execute_result"
    }
   ],
   "source": [
    "# Non-CV version\n",
    "\n",
    "lr = LogisticRegression(featuresCol = 'features', labelCol = 'label', maxIter=40)\n",
    "lr_model = lr.fit(train)\n",
    "trainingSummary = lr_model.summary\n",
    "\n",
    "roc = trainingSummary.roc.toPandas()\n",
    "plt.plot(roc['FPR'],roc['TPR'])\n",
    "plt.ylabel('False Positive Rate')\n",
    "plt.xlabel('True Positive Rate')\n",
    "plt.title('ROC Curve')\n",
    "plt.show()\n",
    "print('Training set ROC: ' + str(trainingSummary.areaUnderROC))"
   ]
  },
  {
   "cell_type": "code",
   "execution_count": 230,
   "metadata": {},
   "outputs": [],
   "source": [
    "objectiveHistory = trainingSummary.objectiveHistory\n",
    "plt.plot(objectiveHistory)"
   ]
  },
  {
   "cell_type": "code",
   "execution_count": 231,
   "metadata": {},
   "outputs": [],
   "source": [
    "objectiveHistory"
   ]
  },
  {
   "cell_type": "code",
   "execution_count": null,
   "metadata": {},
   "outputs": [],
   "source": [
    "# Non-CV run\n",
    "\n",
    "predictions_lr = lr_model.transform(test)\n",
    "evaluator = BinaryClassificationEvaluator()\n",
    "print(\"Test_SET (Area Under ROC): \" + str(evaluator.evaluate(predictions_lr, {evaluator.metricName: \"areaUnderROC\"})))"
   ]
  },
  {
   "cell_type": "code",
   "execution_count": null,
   "metadata": {},
   "outputs": [],
   "source": [
    "lp_full = predictions_lr.select( \"label\", \"prediction\")\n",
    "metricsCalc(lp_full)"
   ]
  },
  {
   "cell_type": "markdown",
   "metadata": {},
   "source": [
    "Run below with $\\lambda$ = 0.001 and $\\alpha$ = 0.0, based on the hyperparameter tuning above (unweighted) done on the sample data.  "
   ]
  },
  {
   "cell_type": "code",
   "execution_count": 18,
   "metadata": {},
   "outputs": [
    {
     "name": "stdout",
     "output_type": "stream",
     "text": [
      "+-----+----------+--------------------+\n",
      "|label|prediction|         probability|\n",
      "+-----+----------+--------------------+\n",
      "|  0.0|       0.0|[0.90175615546890...|\n",
      "|  0.0|       0.0|[0.74411407594441...|\n",
      "|  0.0|       0.0|[0.97631520901880...|\n",
      "|  0.0|       0.0|[0.97374281970219...|\n",
      "|  0.0|       1.0|[0.40851486911468...|\n",
      "|  0.0|       0.0|[0.71834811786216...|\n",
      "|  0.0|       0.0|[0.92212408812388...|\n",
      "|  0.0|       0.0|[0.95423178577135...|\n",
      "|  0.0|       0.0|[0.94699554388450...|\n",
      "|  0.0|       0.0|[0.68850688970982...|\n",
      "+-----+----------+--------------------+\n",
      "only showing top 10 rows\n",
      "\n"
     ]
    }
   ],
   "source": [
    "# Logisitic Regression with Regularization and Cross Validation for Hyperparameter Tuning\n",
    "\n",
    "from pyspark.ml.tuning import CrossValidator, ParamGridBuilder \n",
    "\n",
    "lr_reg = LogisticRegression(featuresCol = 'features', labelCol = 'label', maxIter=30)\n",
    "\n",
    "paramGrid_lr = ParamGridBuilder() \\\n",
    "    .addGrid(lr_reg.regParam, [0.001]) \\\n",
    "    .addGrid(lr_reg.elasticNetParam, [0.0]) \\\n",
    "    .build()\n",
    "\n",
    "crossval_lr = CrossValidator(estimator=lr_reg,\n",
    "                             estimatorParamMaps=paramGrid_lr,\n",
    "                             evaluator=BinaryClassificationEvaluator(),\n",
    "                             numFolds=5)\n",
    "\n",
    "#fit model to training data\n",
    "lr_reg_model = crossval_lr.fit(train)\n",
    "\n",
    "#Transform test data\n",
    "lr_reg_result = lr_reg_model.transform(test)\n",
    "\n",
    "#view id, label, prediction and probability from result of modeling\n",
    "lr_reg_result.select('label', 'prediction', 'probability').show(10)\n"
   ]
  },
  {
   "cell_type": "code",
   "execution_count": 19,
   "metadata": {},
   "outputs": [
    {
     "data": {
      "text/plain": [
       "{Param(parent='LogisticRegression_4d698991557597982245', name='regParam', doc='regularization parameter (>= 0).'): 0.001,\n",
       " Param(parent='LogisticRegression_4d698991557597982245', name='elasticNetParam', doc='the ElasticNet mixing parameter, in range [0, 1]. For alpha = 0, the penalty is an L2 penalty. For alpha = 1, it is an L1 penalty.'): 0.0}"
      ]
     },
     "execution_count": 19,
     "metadata": {},
     "output_type": "execute_result"
    }
   ],
   "source": [
    "lr_reg_model.getEstimatorParamMaps()[ np.argmax(lr_reg_model.avgMetrics) ]"
   ]
  },
  {
   "cell_type": "code",
   "execution_count": 39,
   "metadata": {},
   "outputs": [],
   "source": [
    "#print('intercept:', lr_reg_model.bestModel.intercept)\n",
    "#print('coefficients:', lr_reg_model.bestModel.coefficients)"
   ]
  },
  {
   "cell_type": "code",
   "execution_count": 21,
   "metadata": {},
   "outputs": [
    {
     "name": "stdout",
     "output_type": "stream",
     "text": [
      "Number of records: 4587917\n",
      "trueP\t\t429346\n",
      "trueN\t\t3160106\n",
      "falseP\t\t252035\n",
      "falseN\t\t746430\n",
      "accuracy\t0.7823707360006731\n",
      "precision\t0.63011149415672\n",
      "recall\t\t0.365159690281142\n",
      "f1\t\t0.4623690942661283\n"
     ]
    }
   ],
   "source": [
    "lp_reg = lr_reg_result.select( \"label\", \"prediction\")\n",
    "metricsCalc(lp_reg)"
   ]
  },
  {
   "cell_type": "code",
   "execution_count": 23,
   "metadata": {},
   "outputs": [],
   "source": [
    "lr_reg_model.save('gs://w261_desa2/notebooks/models/regFullModel_Steve')"
   ]
  },
  {
   "cell_type": "code",
   "execution_count": null,
   "metadata": {},
   "outputs": [],
   "source": []
  },
  {
   "cell_type": "code",
   "execution_count": null,
   "metadata": {},
   "outputs": [],
   "source": []
  }
 ],
 "metadata": {
  "kernelspec": {
   "display_name": "PySpark",
   "language": "python",
   "name": "pyspark"
  },
  "language_info": {
   "codemirror_mode": {
    "name": "ipython",
    "version": 3
   },
   "file_extension": ".py",
   "mimetype": "text/x-python",
   "name": "python",
   "nbconvert_exporter": "python",
   "pygments_lexer": "ipython3",
   "version": "3.6.5"
  }
 },
 "nbformat": 4,
 "nbformat_minor": 2
}